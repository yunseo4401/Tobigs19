{
  "nbformat": 4,
  "nbformat_minor": 0,
  "metadata": {
    "colab": {
      "provenance": []
    },
    "kernelspec": {
      "name": "python3",
      "display_name": "Python 3"
    },
    "language_info": {
      "name": "python"
    }
  },
  "cells": [
    {
      "cell_type": "markdown",
      "source": [
        "#데이터불러오기 전체 정보 확인 "
      ],
      "metadata": {
        "id": "qus0VzmJ8CTR"
      }
    },
    {
      "cell_type": "code",
      "source": [
        "import pandas as pd\n",
        "import numpy as np\n",
        "\n",
        "from google.colab import drive\n",
        "drive.mount('/content/drive')\n"
      ],
      "metadata": {
        "colab": {
          "base_uri": "https://localhost:8080/"
        },
        "id": "hgKCBC4fI587",
        "outputId": "863d984d-853e-4958-be59-ce97bab2d0d1"
      },
      "execution_count": 194,
      "outputs": [
        {
          "output_type": "stream",
          "name": "stdout",
          "text": [
            "Drive already mounted at /content/drive; to attempt to forcibly remount, call drive.mount(\"/content/drive\", force_remount=True).\n"
          ]
        }
      ]
    },
    {
      "cell_type": "code",
      "source": [
        "data=pd.read_csv('/content/drive/MyDrive/HR-Em-At.csv',encoding='cp949')"
      ],
      "metadata": {
        "id": "vi8TECtEJh2p"
      },
      "execution_count": 195,
      "outputs": []
    },
    {
      "cell_type": "code",
      "source": [
        "data"
      ],
      "metadata": {
        "colab": {
          "base_uri": "https://localhost:8080/",
          "height": 661
        },
        "id": "EF6sdwatKbqD",
        "outputId": "3623c9a2-713e-4916-c7ea-f5d27d4cad83"
      },
      "execution_count": 196,
      "outputs": [
        {
          "output_type": "execute_result",
          "data": {
            "text/plain": [
              "      癤풞ge Attrition     BusinessTravel  DailyRate              Department  \\\n",
              "0       41       Yes      Travel_Rarely       1102                   Sales   \n",
              "1       49        No  Travel_Frequently        279  Research & Development   \n",
              "2       37       Yes      Travel_Rarely       1373  Research & Development   \n",
              "3       33        No  Travel_Frequently       1392  Research & Development   \n",
              "4       27        No      Travel_Rarely        591  Research & Development   \n",
              "...    ...       ...                ...        ...                     ...   \n",
              "1465    36        No  Travel_Frequently        884  Research & Development   \n",
              "1466    39        No      Travel_Rarely        613  Research & Development   \n",
              "1467    27        No      Travel_Rarely        155  Research & Development   \n",
              "1468    49        No  Travel_Frequently       1023                   Sales   \n",
              "1469    34        No      Travel_Rarely        628  Research & Development   \n",
              "\n",
              "      DistanceFromHome  Education EducationField  EmployeeCount  \\\n",
              "0                    1          2  Life Sciences              1   \n",
              "1                    8          1  Life Sciences              1   \n",
              "2                    2          2          Other              1   \n",
              "3                    3          4  Life Sciences              1   \n",
              "4                    2          1        Medical              1   \n",
              "...                ...        ...            ...            ...   \n",
              "1465                23          2        Medical              1   \n",
              "1466                 6          1        Medical              1   \n",
              "1467                 4          3  Life Sciences              1   \n",
              "1468                 2          3        Medical              1   \n",
              "1469                 8          3        Medical              1   \n",
              "\n",
              "      EmployeeNumber  ...  RelationshipSatisfaction StandardHours  \\\n",
              "0                  1  ...                         1            80   \n",
              "1                  2  ...                         4            80   \n",
              "2                  4  ...                         2            80   \n",
              "3                  5  ...                         3            80   \n",
              "4                  7  ...                         4            80   \n",
              "...              ...  ...                       ...           ...   \n",
              "1465            2061  ...                         3            80   \n",
              "1466            2062  ...                         1            80   \n",
              "1467            2064  ...                         2            80   \n",
              "1468            2065  ...                         4            80   \n",
              "1469            2068  ...                         1            80   \n",
              "\n",
              "      StockOptionLevel  TotalWorkingYears  TrainingTimesLastYear  \\\n",
              "0                    0                  8                      0   \n",
              "1                    1                 10                      3   \n",
              "2                    0                  7                      3   \n",
              "3                    0                  8                      3   \n",
              "4                    1                  6                      3   \n",
              "...                ...                ...                    ...   \n",
              "1465                 1                 17                      3   \n",
              "1466                 1                  9                      5   \n",
              "1467                 1                  6                      0   \n",
              "1468                 0                 17                      3   \n",
              "1469                 0                  6                      3   \n",
              "\n",
              "     WorkLifeBalance  YearsAtCompany YearsInCurrentRole  \\\n",
              "0                  1               6                  4   \n",
              "1                  3              10                  7   \n",
              "2                  3               0                  0   \n",
              "3                  3               8                  7   \n",
              "4                  3               2                  2   \n",
              "...              ...             ...                ...   \n",
              "1465               3               5                  2   \n",
              "1466               3               7                  7   \n",
              "1467               3               6                  2   \n",
              "1468               2               9                  6   \n",
              "1469               4               4                  3   \n",
              "\n",
              "      YearsSinceLastPromotion  YearsWithCurrManager  \n",
              "0                           0                     5  \n",
              "1                           1                     7  \n",
              "2                           0                     0  \n",
              "3                           3                     0  \n",
              "4                           2                     2  \n",
              "...                       ...                   ...  \n",
              "1465                        0                     3  \n",
              "1466                        1                     7  \n",
              "1467                        0                     3  \n",
              "1468                        0                     8  \n",
              "1469                        1                     2  \n",
              "\n",
              "[1470 rows x 35 columns]"
            ],
            "text/html": [
              "\n",
              "  <div id=\"df-ff31f924-69e3-4d78-be47-9dd25cf5c2c6\">\n",
              "    <div class=\"colab-df-container\">\n",
              "      <div>\n",
              "<style scoped>\n",
              "    .dataframe tbody tr th:only-of-type {\n",
              "        vertical-align: middle;\n",
              "    }\n",
              "\n",
              "    .dataframe tbody tr th {\n",
              "        vertical-align: top;\n",
              "    }\n",
              "\n",
              "    .dataframe thead th {\n",
              "        text-align: right;\n",
              "    }\n",
              "</style>\n",
              "<table border=\"1\" class=\"dataframe\">\n",
              "  <thead>\n",
              "    <tr style=\"text-align: right;\">\n",
              "      <th></th>\n",
              "      <th>癤풞ge</th>\n",
              "      <th>Attrition</th>\n",
              "      <th>BusinessTravel</th>\n",
              "      <th>DailyRate</th>\n",
              "      <th>Department</th>\n",
              "      <th>DistanceFromHome</th>\n",
              "      <th>Education</th>\n",
              "      <th>EducationField</th>\n",
              "      <th>EmployeeCount</th>\n",
              "      <th>EmployeeNumber</th>\n",
              "      <th>...</th>\n",
              "      <th>RelationshipSatisfaction</th>\n",
              "      <th>StandardHours</th>\n",
              "      <th>StockOptionLevel</th>\n",
              "      <th>TotalWorkingYears</th>\n",
              "      <th>TrainingTimesLastYear</th>\n",
              "      <th>WorkLifeBalance</th>\n",
              "      <th>YearsAtCompany</th>\n",
              "      <th>YearsInCurrentRole</th>\n",
              "      <th>YearsSinceLastPromotion</th>\n",
              "      <th>YearsWithCurrManager</th>\n",
              "    </tr>\n",
              "  </thead>\n",
              "  <tbody>\n",
              "    <tr>\n",
              "      <th>0</th>\n",
              "      <td>41</td>\n",
              "      <td>Yes</td>\n",
              "      <td>Travel_Rarely</td>\n",
              "      <td>1102</td>\n",
              "      <td>Sales</td>\n",
              "      <td>1</td>\n",
              "      <td>2</td>\n",
              "      <td>Life Sciences</td>\n",
              "      <td>1</td>\n",
              "      <td>1</td>\n",
              "      <td>...</td>\n",
              "      <td>1</td>\n",
              "      <td>80</td>\n",
              "      <td>0</td>\n",
              "      <td>8</td>\n",
              "      <td>0</td>\n",
              "      <td>1</td>\n",
              "      <td>6</td>\n",
              "      <td>4</td>\n",
              "      <td>0</td>\n",
              "      <td>5</td>\n",
              "    </tr>\n",
              "    <tr>\n",
              "      <th>1</th>\n",
              "      <td>49</td>\n",
              "      <td>No</td>\n",
              "      <td>Travel_Frequently</td>\n",
              "      <td>279</td>\n",
              "      <td>Research &amp; Development</td>\n",
              "      <td>8</td>\n",
              "      <td>1</td>\n",
              "      <td>Life Sciences</td>\n",
              "      <td>1</td>\n",
              "      <td>2</td>\n",
              "      <td>...</td>\n",
              "      <td>4</td>\n",
              "      <td>80</td>\n",
              "      <td>1</td>\n",
              "      <td>10</td>\n",
              "      <td>3</td>\n",
              "      <td>3</td>\n",
              "      <td>10</td>\n",
              "      <td>7</td>\n",
              "      <td>1</td>\n",
              "      <td>7</td>\n",
              "    </tr>\n",
              "    <tr>\n",
              "      <th>2</th>\n",
              "      <td>37</td>\n",
              "      <td>Yes</td>\n",
              "      <td>Travel_Rarely</td>\n",
              "      <td>1373</td>\n",
              "      <td>Research &amp; Development</td>\n",
              "      <td>2</td>\n",
              "      <td>2</td>\n",
              "      <td>Other</td>\n",
              "      <td>1</td>\n",
              "      <td>4</td>\n",
              "      <td>...</td>\n",
              "      <td>2</td>\n",
              "      <td>80</td>\n",
              "      <td>0</td>\n",
              "      <td>7</td>\n",
              "      <td>3</td>\n",
              "      <td>3</td>\n",
              "      <td>0</td>\n",
              "      <td>0</td>\n",
              "      <td>0</td>\n",
              "      <td>0</td>\n",
              "    </tr>\n",
              "    <tr>\n",
              "      <th>3</th>\n",
              "      <td>33</td>\n",
              "      <td>No</td>\n",
              "      <td>Travel_Frequently</td>\n",
              "      <td>1392</td>\n",
              "      <td>Research &amp; Development</td>\n",
              "      <td>3</td>\n",
              "      <td>4</td>\n",
              "      <td>Life Sciences</td>\n",
              "      <td>1</td>\n",
              "      <td>5</td>\n",
              "      <td>...</td>\n",
              "      <td>3</td>\n",
              "      <td>80</td>\n",
              "      <td>0</td>\n",
              "      <td>8</td>\n",
              "      <td>3</td>\n",
              "      <td>3</td>\n",
              "      <td>8</td>\n",
              "      <td>7</td>\n",
              "      <td>3</td>\n",
              "      <td>0</td>\n",
              "    </tr>\n",
              "    <tr>\n",
              "      <th>4</th>\n",
              "      <td>27</td>\n",
              "      <td>No</td>\n",
              "      <td>Travel_Rarely</td>\n",
              "      <td>591</td>\n",
              "      <td>Research &amp; Development</td>\n",
              "      <td>2</td>\n",
              "      <td>1</td>\n",
              "      <td>Medical</td>\n",
              "      <td>1</td>\n",
              "      <td>7</td>\n",
              "      <td>...</td>\n",
              "      <td>4</td>\n",
              "      <td>80</td>\n",
              "      <td>1</td>\n",
              "      <td>6</td>\n",
              "      <td>3</td>\n",
              "      <td>3</td>\n",
              "      <td>2</td>\n",
              "      <td>2</td>\n",
              "      <td>2</td>\n",
              "      <td>2</td>\n",
              "    </tr>\n",
              "    <tr>\n",
              "      <th>...</th>\n",
              "      <td>...</td>\n",
              "      <td>...</td>\n",
              "      <td>...</td>\n",
              "      <td>...</td>\n",
              "      <td>...</td>\n",
              "      <td>...</td>\n",
              "      <td>...</td>\n",
              "      <td>...</td>\n",
              "      <td>...</td>\n",
              "      <td>...</td>\n",
              "      <td>...</td>\n",
              "      <td>...</td>\n",
              "      <td>...</td>\n",
              "      <td>...</td>\n",
              "      <td>...</td>\n",
              "      <td>...</td>\n",
              "      <td>...</td>\n",
              "      <td>...</td>\n",
              "      <td>...</td>\n",
              "      <td>...</td>\n",
              "      <td>...</td>\n",
              "    </tr>\n",
              "    <tr>\n",
              "      <th>1465</th>\n",
              "      <td>36</td>\n",
              "      <td>No</td>\n",
              "      <td>Travel_Frequently</td>\n",
              "      <td>884</td>\n",
              "      <td>Research &amp; Development</td>\n",
              "      <td>23</td>\n",
              "      <td>2</td>\n",
              "      <td>Medical</td>\n",
              "      <td>1</td>\n",
              "      <td>2061</td>\n",
              "      <td>...</td>\n",
              "      <td>3</td>\n",
              "      <td>80</td>\n",
              "      <td>1</td>\n",
              "      <td>17</td>\n",
              "      <td>3</td>\n",
              "      <td>3</td>\n",
              "      <td>5</td>\n",
              "      <td>2</td>\n",
              "      <td>0</td>\n",
              "      <td>3</td>\n",
              "    </tr>\n",
              "    <tr>\n",
              "      <th>1466</th>\n",
              "      <td>39</td>\n",
              "      <td>No</td>\n",
              "      <td>Travel_Rarely</td>\n",
              "      <td>613</td>\n",
              "      <td>Research &amp; Development</td>\n",
              "      <td>6</td>\n",
              "      <td>1</td>\n",
              "      <td>Medical</td>\n",
              "      <td>1</td>\n",
              "      <td>2062</td>\n",
              "      <td>...</td>\n",
              "      <td>1</td>\n",
              "      <td>80</td>\n",
              "      <td>1</td>\n",
              "      <td>9</td>\n",
              "      <td>5</td>\n",
              "      <td>3</td>\n",
              "      <td>7</td>\n",
              "      <td>7</td>\n",
              "      <td>1</td>\n",
              "      <td>7</td>\n",
              "    </tr>\n",
              "    <tr>\n",
              "      <th>1467</th>\n",
              "      <td>27</td>\n",
              "      <td>No</td>\n",
              "      <td>Travel_Rarely</td>\n",
              "      <td>155</td>\n",
              "      <td>Research &amp; Development</td>\n",
              "      <td>4</td>\n",
              "      <td>3</td>\n",
              "      <td>Life Sciences</td>\n",
              "      <td>1</td>\n",
              "      <td>2064</td>\n",
              "      <td>...</td>\n",
              "      <td>2</td>\n",
              "      <td>80</td>\n",
              "      <td>1</td>\n",
              "      <td>6</td>\n",
              "      <td>0</td>\n",
              "      <td>3</td>\n",
              "      <td>6</td>\n",
              "      <td>2</td>\n",
              "      <td>0</td>\n",
              "      <td>3</td>\n",
              "    </tr>\n",
              "    <tr>\n",
              "      <th>1468</th>\n",
              "      <td>49</td>\n",
              "      <td>No</td>\n",
              "      <td>Travel_Frequently</td>\n",
              "      <td>1023</td>\n",
              "      <td>Sales</td>\n",
              "      <td>2</td>\n",
              "      <td>3</td>\n",
              "      <td>Medical</td>\n",
              "      <td>1</td>\n",
              "      <td>2065</td>\n",
              "      <td>...</td>\n",
              "      <td>4</td>\n",
              "      <td>80</td>\n",
              "      <td>0</td>\n",
              "      <td>17</td>\n",
              "      <td>3</td>\n",
              "      <td>2</td>\n",
              "      <td>9</td>\n",
              "      <td>6</td>\n",
              "      <td>0</td>\n",
              "      <td>8</td>\n",
              "    </tr>\n",
              "    <tr>\n",
              "      <th>1469</th>\n",
              "      <td>34</td>\n",
              "      <td>No</td>\n",
              "      <td>Travel_Rarely</td>\n",
              "      <td>628</td>\n",
              "      <td>Research &amp; Development</td>\n",
              "      <td>8</td>\n",
              "      <td>3</td>\n",
              "      <td>Medical</td>\n",
              "      <td>1</td>\n",
              "      <td>2068</td>\n",
              "      <td>...</td>\n",
              "      <td>1</td>\n",
              "      <td>80</td>\n",
              "      <td>0</td>\n",
              "      <td>6</td>\n",
              "      <td>3</td>\n",
              "      <td>4</td>\n",
              "      <td>4</td>\n",
              "      <td>3</td>\n",
              "      <td>1</td>\n",
              "      <td>2</td>\n",
              "    </tr>\n",
              "  </tbody>\n",
              "</table>\n",
              "<p>1470 rows × 35 columns</p>\n",
              "</div>\n",
              "      <button class=\"colab-df-convert\" onclick=\"convertToInteractive('df-ff31f924-69e3-4d78-be47-9dd25cf5c2c6')\"\n",
              "              title=\"Convert this dataframe to an interactive table.\"\n",
              "              style=\"display:none;\">\n",
              "        \n",
              "  <svg xmlns=\"http://www.w3.org/2000/svg\" height=\"24px\"viewBox=\"0 0 24 24\"\n",
              "       width=\"24px\">\n",
              "    <path d=\"M0 0h24v24H0V0z\" fill=\"none\"/>\n",
              "    <path d=\"M18.56 5.44l.94 2.06.94-2.06 2.06-.94-2.06-.94-.94-2.06-.94 2.06-2.06.94zm-11 1L8.5 8.5l.94-2.06 2.06-.94-2.06-.94L8.5 2.5l-.94 2.06-2.06.94zm10 10l.94 2.06.94-2.06 2.06-.94-2.06-.94-.94-2.06-.94 2.06-2.06.94z\"/><path d=\"M17.41 7.96l-1.37-1.37c-.4-.4-.92-.59-1.43-.59-.52 0-1.04.2-1.43.59L10.3 9.45l-7.72 7.72c-.78.78-.78 2.05 0 2.83L4 21.41c.39.39.9.59 1.41.59.51 0 1.02-.2 1.41-.59l7.78-7.78 2.81-2.81c.8-.78.8-2.07 0-2.86zM5.41 20L4 18.59l7.72-7.72 1.47 1.35L5.41 20z\"/>\n",
              "  </svg>\n",
              "      </button>\n",
              "      \n",
              "  <style>\n",
              "    .colab-df-container {\n",
              "      display:flex;\n",
              "      flex-wrap:wrap;\n",
              "      gap: 12px;\n",
              "    }\n",
              "\n",
              "    .colab-df-convert {\n",
              "      background-color: #E8F0FE;\n",
              "      border: none;\n",
              "      border-radius: 50%;\n",
              "      cursor: pointer;\n",
              "      display: none;\n",
              "      fill: #1967D2;\n",
              "      height: 32px;\n",
              "      padding: 0 0 0 0;\n",
              "      width: 32px;\n",
              "    }\n",
              "\n",
              "    .colab-df-convert:hover {\n",
              "      background-color: #E2EBFA;\n",
              "      box-shadow: 0px 1px 2px rgba(60, 64, 67, 0.3), 0px 1px 3px 1px rgba(60, 64, 67, 0.15);\n",
              "      fill: #174EA6;\n",
              "    }\n",
              "\n",
              "    [theme=dark] .colab-df-convert {\n",
              "      background-color: #3B4455;\n",
              "      fill: #D2E3FC;\n",
              "    }\n",
              "\n",
              "    [theme=dark] .colab-df-convert:hover {\n",
              "      background-color: #434B5C;\n",
              "      box-shadow: 0px 1px 3px 1px rgba(0, 0, 0, 0.15);\n",
              "      filter: drop-shadow(0px 1px 2px rgba(0, 0, 0, 0.3));\n",
              "      fill: #FFFFFF;\n",
              "    }\n",
              "  </style>\n",
              "\n",
              "      <script>\n",
              "        const buttonEl =\n",
              "          document.querySelector('#df-ff31f924-69e3-4d78-be47-9dd25cf5c2c6 button.colab-df-convert');\n",
              "        buttonEl.style.display =\n",
              "          google.colab.kernel.accessAllowed ? 'block' : 'none';\n",
              "\n",
              "        async function convertToInteractive(key) {\n",
              "          const element = document.querySelector('#df-ff31f924-69e3-4d78-be47-9dd25cf5c2c6');\n",
              "          const dataTable =\n",
              "            await google.colab.kernel.invokeFunction('convertToInteractive',\n",
              "                                                     [key], {});\n",
              "          if (!dataTable) return;\n",
              "\n",
              "          const docLinkHtml = 'Like what you see? Visit the ' +\n",
              "            '<a target=\"_blank\" href=https://colab.research.google.com/notebooks/data_table.ipynb>data table notebook</a>'\n",
              "            + ' to learn more about interactive tables.';\n",
              "          element.innerHTML = '';\n",
              "          dataTable['output_type'] = 'display_data';\n",
              "          await google.colab.output.renderOutput(dataTable, element);\n",
              "          const docLink = document.createElement('div');\n",
              "          docLink.innerHTML = docLinkHtml;\n",
              "          element.appendChild(docLink);\n",
              "        }\n",
              "      </script>\n",
              "    </div>\n",
              "  </div>\n",
              "  "
            ]
          },
          "metadata": {},
          "execution_count": 196
        }
      ]
    },
    {
      "cell_type": "code",
      "source": [
        "data.info()\n",
        "#age열 이름이 이상하게 나와서 열이름 변경해주자 "
      ],
      "metadata": {
        "colab": {
          "base_uri": "https://localhost:8080/"
        },
        "id": "y_-t7MRHKlVJ",
        "outputId": "78b4e818-05cb-4f6b-b5c0-c17e781a2022"
      },
      "execution_count": 197,
      "outputs": [
        {
          "output_type": "stream",
          "name": "stdout",
          "text": [
            "<class 'pandas.core.frame.DataFrame'>\n",
            "RangeIndex: 1470 entries, 0 to 1469\n",
            "Data columns (total 35 columns):\n",
            " #   Column                    Non-Null Count  Dtype \n",
            "---  ------                    --------------  ----- \n",
            " 0   癤풞ge                      1470 non-null   int64 \n",
            " 1   Attrition                 1470 non-null   object\n",
            " 2   BusinessTravel            1470 non-null   object\n",
            " 3   DailyRate                 1470 non-null   int64 \n",
            " 4   Department                1470 non-null   object\n",
            " 5   DistanceFromHome          1470 non-null   int64 \n",
            " 6   Education                 1470 non-null   int64 \n",
            " 7   EducationField            1470 non-null   object\n",
            " 8   EmployeeCount             1470 non-null   int64 \n",
            " 9   EmployeeNumber            1470 non-null   int64 \n",
            " 10  EnvironmentSatisfaction   1470 non-null   int64 \n",
            " 11  Gender                    1470 non-null   object\n",
            " 12  HourlyRate                1470 non-null   int64 \n",
            " 13  JobInvolvement            1470 non-null   int64 \n",
            " 14  JobLevel                  1470 non-null   int64 \n",
            " 15  JobRole                   1470 non-null   object\n",
            " 16  JobSatisfaction           1470 non-null   int64 \n",
            " 17  MaritalStatus             1470 non-null   object\n",
            " 18  MonthlyIncome             1470 non-null   int64 \n",
            " 19  MonthlyRate               1470 non-null   int64 \n",
            " 20  NumCompaniesWorked        1470 non-null   int64 \n",
            " 21  Over18                    1470 non-null   object\n",
            " 22  OverTime                  1470 non-null   object\n",
            " 23  PercentSalaryHike         1470 non-null   int64 \n",
            " 24  PerformanceRating         1470 non-null   int64 \n",
            " 25  RelationshipSatisfaction  1470 non-null   int64 \n",
            " 26  StandardHours             1470 non-null   int64 \n",
            " 27  StockOptionLevel          1470 non-null   int64 \n",
            " 28  TotalWorkingYears         1470 non-null   int64 \n",
            " 29  TrainingTimesLastYear     1470 non-null   int64 \n",
            " 30  WorkLifeBalance           1470 non-null   int64 \n",
            " 31  YearsAtCompany            1470 non-null   int64 \n",
            " 32  YearsInCurrentRole        1470 non-null   int64 \n",
            " 33  YearsSinceLastPromotion   1470 non-null   int64 \n",
            " 34  YearsWithCurrManager      1470 non-null   int64 \n",
            "dtypes: int64(26), object(9)\n",
            "memory usage: 402.1+ KB\n"
          ]
        }
      ]
    },
    {
      "cell_type": "code",
      "source": [
        "data=data.rename(columns={'癤풞ge':'Age'})"
      ],
      "metadata": {
        "id": "i3u1brC8Ko3E"
      },
      "execution_count": 198,
      "outputs": []
    },
    {
      "cell_type": "code",
      "source": [
        "data.info()\n",
        "#이산형 변수 26개, 문자형 9개 \n"
      ],
      "metadata": {
        "colab": {
          "base_uri": "https://localhost:8080/"
        },
        "id": "Z-Za41ENLTph",
        "outputId": "5fbeec7b-b119-4f4a-e98e-c4515fbc892f"
      },
      "execution_count": 199,
      "outputs": [
        {
          "output_type": "stream",
          "name": "stdout",
          "text": [
            "<class 'pandas.core.frame.DataFrame'>\n",
            "RangeIndex: 1470 entries, 0 to 1469\n",
            "Data columns (total 35 columns):\n",
            " #   Column                    Non-Null Count  Dtype \n",
            "---  ------                    --------------  ----- \n",
            " 0   Age                       1470 non-null   int64 \n",
            " 1   Attrition                 1470 non-null   object\n",
            " 2   BusinessTravel            1470 non-null   object\n",
            " 3   DailyRate                 1470 non-null   int64 \n",
            " 4   Department                1470 non-null   object\n",
            " 5   DistanceFromHome          1470 non-null   int64 \n",
            " 6   Education                 1470 non-null   int64 \n",
            " 7   EducationField            1470 non-null   object\n",
            " 8   EmployeeCount             1470 non-null   int64 \n",
            " 9   EmployeeNumber            1470 non-null   int64 \n",
            " 10  EnvironmentSatisfaction   1470 non-null   int64 \n",
            " 11  Gender                    1470 non-null   object\n",
            " 12  HourlyRate                1470 non-null   int64 \n",
            " 13  JobInvolvement            1470 non-null   int64 \n",
            " 14  JobLevel                  1470 non-null   int64 \n",
            " 15  JobRole                   1470 non-null   object\n",
            " 16  JobSatisfaction           1470 non-null   int64 \n",
            " 17  MaritalStatus             1470 non-null   object\n",
            " 18  MonthlyIncome             1470 non-null   int64 \n",
            " 19  MonthlyRate               1470 non-null   int64 \n",
            " 20  NumCompaniesWorked        1470 non-null   int64 \n",
            " 21  Over18                    1470 non-null   object\n",
            " 22  OverTime                  1470 non-null   object\n",
            " 23  PercentSalaryHike         1470 non-null   int64 \n",
            " 24  PerformanceRating         1470 non-null   int64 \n",
            " 25  RelationshipSatisfaction  1470 non-null   int64 \n",
            " 26  StandardHours             1470 non-null   int64 \n",
            " 27  StockOptionLevel          1470 non-null   int64 \n",
            " 28  TotalWorkingYears         1470 non-null   int64 \n",
            " 29  TrainingTimesLastYear     1470 non-null   int64 \n",
            " 30  WorkLifeBalance           1470 non-null   int64 \n",
            " 31  YearsAtCompany            1470 non-null   int64 \n",
            " 32  YearsInCurrentRole        1470 non-null   int64 \n",
            " 33  YearsSinceLastPromotion   1470 non-null   int64 \n",
            " 34  YearsWithCurrManager      1470 non-null   int64 \n",
            "dtypes: int64(26), object(9)\n",
            "memory usage: 402.1+ KB\n"
          ]
        }
      ]
    },
    {
      "cell_type": "code",
      "source": [
        "data.isna().sum()\n",
        "#결측치는 없음 "
      ],
      "metadata": {
        "colab": {
          "base_uri": "https://localhost:8080/"
        },
        "id": "RI9h4fzfM6go",
        "outputId": "29df0357-f42b-426e-eee5-564a431e4d81"
      },
      "execution_count": 200,
      "outputs": [
        {
          "output_type": "execute_result",
          "data": {
            "text/plain": [
              "Age                         0\n",
              "Attrition                   0\n",
              "BusinessTravel              0\n",
              "DailyRate                   0\n",
              "Department                  0\n",
              "DistanceFromHome            0\n",
              "Education                   0\n",
              "EducationField              0\n",
              "EmployeeCount               0\n",
              "EmployeeNumber              0\n",
              "EnvironmentSatisfaction     0\n",
              "Gender                      0\n",
              "HourlyRate                  0\n",
              "JobInvolvement              0\n",
              "JobLevel                    0\n",
              "JobRole                     0\n",
              "JobSatisfaction             0\n",
              "MaritalStatus               0\n",
              "MonthlyIncome               0\n",
              "MonthlyRate                 0\n",
              "NumCompaniesWorked          0\n",
              "Over18                      0\n",
              "OverTime                    0\n",
              "PercentSalaryHike           0\n",
              "PerformanceRating           0\n",
              "RelationshipSatisfaction    0\n",
              "StandardHours               0\n",
              "StockOptionLevel            0\n",
              "TotalWorkingYears           0\n",
              "TrainingTimesLastYear       0\n",
              "WorkLifeBalance             0\n",
              "YearsAtCompany              0\n",
              "YearsInCurrentRole          0\n",
              "YearsSinceLastPromotion     0\n",
              "YearsWithCurrManager        0\n",
              "dtype: int64"
            ]
          },
          "metadata": {},
          "execution_count": 200
        }
      ]
    },
    {
      "cell_type": "markdown",
      "source": [
        "#1)나이 변수 히스토그램 이상치확인 "
      ],
      "metadata": {
        "id": "shZcBwBT8IBu"
      }
    },
    {
      "cell_type": "code",
      "source": [
        "data['Age'].value_counts() #최소 18세, 최대 59세 \n",
        "import matplotlib.pyplot as plt \n",
        "plt.hist('Age',bins=9,range=(15,60),color='purple',data=data) #15~60세 간격 5씩 히스토그램 \n",
        "#특별한 이상치는 보이지 않음 (세자리이상..또는 한자리수 )"
      ],
      "metadata": {
        "colab": {
          "base_uri": "https://localhost:8080/",
          "height": 319
        },
        "id": "e9qo3RF6NbgV",
        "outputId": "8b7ec3f9-f8cf-4bed-be25-2aef0564a517"
      },
      "execution_count": 201,
      "outputs": [
        {
          "output_type": "execute_result",
          "data": {
            "text/plain": [
              "(array([ 17.,  80., 229., 325., 297., 208., 141., 104.,  69.]),\n",
              " array([15., 20., 25., 30., 35., 40., 45., 50., 55., 60.]),\n",
              " <a list of 9 Patch objects>)"
            ]
          },
          "metadata": {},
          "execution_count": 201
        },
        {
          "output_type": "display_data",
          "data": {
            "text/plain": [
              "<Figure size 432x288 with 1 Axes>"
            ],
            "image/png": "[encoded data removed]"
          },
          "metadata": {
            "needs_background": "light"
          }
        }
      ]
    },
    {
      "cell_type": "markdown",
      "source": [
        "#2)출장빈도에 따른 퇴직여부 막대그래프 "
      ],
      "metadata": {
        "id": "HHp45sBY8MCF"
      }
    },
    {
      "cell_type": "code",
      "source": [
        "data1=data.loc[:,['Attrition','BusinessTravel']]\n",
        "data1['BusinessTravel'].value_counts()"
      ],
      "metadata": {
        "colab": {
          "base_uri": "https://localhost:8080/"
        },
        "id": "0WMkJTh31kTY",
        "outputId": "3aa65de2-cfe9-4a9e-ca40-39b28ebd7c4b"
      },
      "execution_count": 202,
      "outputs": [
        {
          "output_type": "execute_result",
          "data": {
            "text/plain": [
              "Travel_Rarely        1043\n",
              "Travel_Frequently     277\n",
              "Non-Travel            150\n",
              "Name: BusinessTravel, dtype: int64"
            ]
          },
          "metadata": {},
          "execution_count": 202
        }
      ]
    },
    {
      "cell_type": "code",
      "source": [
        "#퇴직여부 (Yes/No)를 범주마다 확인할 수 있는 데이터프레임으로 바꾸어주는 함수생성 \n",
        "\n",
        "def makedf(data_make,column,want_list):\n",
        "  final_df = pd.DataFrame() #빈데이터프레임 생성 \n",
        "  for i in want_list:\n",
        "    datamake=data_make[(data[column]==i)]\n",
        "    datayn=datamake['Attrition'].value_counts()\n",
        "    datayn=datayn.to_frame()\n",
        "    datayn=datayn.rename(columns={'Attrition':i})\n",
        "    datayn=datayn.transpose()\n",
        "    final_df=pd.concat([final_df,datayn],axis=0) #다 합하기 \n",
        "  return final_df\n",
        "final_df=makedf(data1,'BusinessTravel',['Travel_Frequently','Non-Travel','Travel_Rarely'])\n",
        "print(final_df)\n"
      ],
      "metadata": {
        "colab": {
          "base_uri": "https://localhost:8080/"
        },
        "id": "cObouOPEazxB",
        "outputId": "5490697c-61ad-4d04-f4ed-848789592cfa"
      },
      "execution_count": 203,
      "outputs": [
        {
          "output_type": "stream",
          "name": "stdout",
          "text": [
            "                    No  Yes\n",
            "Travel_Frequently  208   69\n",
            "Non-Travel         138   12\n",
            "Travel_Rarely      887  156\n"
          ]
        }
      ]
    },
    {
      "cell_type": "code",
      "source": [
        "fig,ax=plt.subplots(figsize=(12,6))\n",
        "bar_width=0.25\n",
        "index=np.arange(3)\n",
        "b1=plt.bar(index,final_df['Yes'],bar_width,alpha=0.4,color='red',label='Yes')\n",
        "b2=plt.bar(index+bar_width,final_df['No'],bar_width,alpha=0.4,color='green',label='No')\n",
        "plt.xticks(np.arange(bar_width,3+bar_width,1),['frequently','none','rarely'])\n",
        "plt.xlabel('BusinessTravel',size=13)\n",
        "plt.ylabel('Attrition',size=13)\n",
        "plt.legend()\n",
        "plt.show()\n",
        "#출장의 빈도에 상관없이 퇴직을을 하는사람보다는 퇴직을 하지 않는 사람이 많음을 확인가능 \n",
        "#각 범주당 전체인원 \n",
        "#Travel_Rarely        1043\n",
        "#Travel_Frequently     277\n",
        "#Non-Travel            150  을 고려하였을 때 \n",
        "#출장을 자주 가는 경우 다른 범주에 비해 Yes의 비율이 좀더 높은 것을 확인 할 수 있다. (실제수치로 확인완료)"
      ],
      "metadata": {
        "colab": {
          "base_uri": "https://localhost:8080/",
          "height": 391
        },
        "id": "bYMbLaWwdHzw",
        "outputId": "fd10ca30-7ec6-4f1c-c0b5-4bb305d080c6"
      },
      "execution_count": 204,
      "outputs": [
        {
          "output_type": "display_data",
          "data": {
            "text/plain": [
              "<Figure size 864x432 with 1 Axes>"
            ],
            "image/png": "[encoded data removed]"
          },
          "metadata": {
            "needs_background": "light"
          }
        }
      ]
    },
    {
      "cell_type": "markdown",
      "source": [
        "#3)성별에 따른 퇴직여부 막대그래프 "
      ],
      "metadata": {
        "id": "Z-i3MK9c8PV-"
      }
    },
    {
      "cell_type": "code",
      "source": [
        "data['Gender'].value_counts() #성별 이상치없음 \n",
        "data2=data.loc[:,['Gender','Attrition']]\n",
        "final_df=makedf(data2,'Gender',['Male','Female'])\n",
        "print(final_df)\n",
        "\n",
        "fig,ax=plt.subplots(figsize=(9,6))\n",
        "bar_width=0.25\n",
        "index=np.arange(2)\n",
        "b1=plt.bar(index,final_df['Yes'],bar_width,alpha=0.4,color='red',label='Yes')\n",
        "b2=plt.bar(index+bar_width,final_df['No'],bar_width,alpha=0.4,color='green',label='No')\n",
        "plt.xticks(np.arange(bar_width,2+bar_width,1),['Male','Female'])\n",
        "plt.xlabel('Gender',size=13)\n",
        "plt.ylabel('Attrition',size=13)\n",
        "plt.legend()\n",
        "plt.show()\n",
        "\n",
        "#남자와 여자의 전체수가 크게 차이나지 않았음을 생각하면 성별에 따른 퇴직여부는 크게 상관이 없는 것으로 판단 "
      ],
      "metadata": {
        "colab": {
          "base_uri": "https://localhost:8080/",
          "height": 445
        },
        "id": "4hO0X6fqh6Ea",
        "outputId": "ebf6609a-13c1-41ee-d976-14eb2ecaf9f8"
      },
      "execution_count": 205,
      "outputs": [
        {
          "output_type": "stream",
          "name": "stdout",
          "text": [
            "         No  Yes\n",
            "Male    732  150\n",
            "Female  501   87\n"
          ]
        },
        {
          "output_type": "display_data",
          "data": {
            "text/plain": [
              "<Figure size 648x432 with 1 Axes>"
            ],
            "image/png": "[encoded data removed]"
          },
          "metadata": {
            "needs_background": "light"
          }
        }
      ]
    },
    {
      "cell_type": "markdown",
      "source": [
        "#4)직업만족도와 퇴직여부 막대그래프 "
      ],
      "metadata": {
        "id": "KiygWVCs8TXV"
      }
    },
    {
      "cell_type": "code",
      "source": [
        "data['JobSatisfaction'].value_counts() #직업만족도 "
      ],
      "metadata": {
        "colab": {
          "base_uri": "https://localhost:8080/"
        },
        "id": "HZ274Pnjodhu",
        "outputId": "8b5ba0a8-7f6b-41f4-9e80-cfc5b135a345"
      },
      "execution_count": 206,
      "outputs": [
        {
          "output_type": "execute_result",
          "data": {
            "text/plain": [
              "4    459\n",
              "3    442\n",
              "1    289\n",
              "2    280\n",
              "Name: JobSatisfaction, dtype: int64"
            ]
          },
          "metadata": {},
          "execution_count": 206
        }
      ]
    },
    {
      "cell_type": "code",
      "source": [
        "data3=data.loc[:,['JobSatisfaction','Attrition']]\n",
        "final_df=makedf(data3,'JobSatisfaction',[1,2,3,4])\n",
        "print(final_df)\n",
        "\n",
        "\n",
        "fig,ax=plt.subplots(figsize=(9,6))\n",
        "bar_width=0.25\n",
        "index=np.arange(4)\n",
        "b1=plt.bar(index,final_df['Yes'],bar_width,alpha=0.4,color='red',label='Yes')\n",
        "b2=plt.bar(index+bar_width,final_df['No'],bar_width,alpha=0.4,color='green',label='No')\n",
        "plt.xticks(np.arange(bar_width,4+bar_width,1),['score1','score2','score3','score4'])\n",
        "plt.xlabel('JobSatisfaction',size=13)\n",
        "plt.ylabel('Attrition',size=13)\n",
        "plt.legend()\n",
        "plt.show()\n",
        "#만족도 1,2 와 만족도 3,4는 전체수에서 약 2배씩 차이가 났는데, \n",
        "#퇴직을 하지 않는 사람은 약 2배씩 차이가 나지만, 퇴직을 하는 사람의 수는 거의 변함이 없는 것을 통해 \n",
        "#만족도가 1,2일 경우 퇴직을 더 많이 함을 알수 있다.  "
      ],
      "metadata": {
        "id": "ZSEEjeiZSC9N",
        "colab": {
          "base_uri": "https://localhost:8080/",
          "height": 482
        },
        "outputId": "c2c504e5-b45b-4bd9-f5b2-b83f8e920678"
      },
      "execution_count": 207,
      "outputs": [
        {
          "output_type": "stream",
          "name": "stdout",
          "text": [
            "    No  Yes\n",
            "1  223   66\n",
            "2  234   46\n",
            "3  369   73\n",
            "4  407   52\n"
          ]
        },
        {
          "output_type": "display_data",
          "data": {
            "text/plain": [
              "<Figure size 648x432 with 1 Axes>"
            ],
            "image/png": "[encoded data removed]"
          },
          "metadata": {
            "needs_background": "light"
          }
        }
      ]
    },
    {
      "cell_type": "markdown",
      "source": [
        "#5)업무성과 변수 (PerformanceRating)"
      ],
      "metadata": {
        "id": "SpURh34C8YAc"
      }
    },
    {
      "cell_type": "code",
      "source": [
        "data['PerformanceRating'].value_counts()\n",
        "#업무성과는 3,4로만 구분되어 유의미한 인사이트 도출하지 못할 것으로 판단 EDA진행 X\n",
        "#또한 3,4,중에서도 3에 몰려있음 "
      ],
      "metadata": {
        "colab": {
          "base_uri": "https://localhost:8080/"
        },
        "id": "2zjrAvcapCDC",
        "outputId": "6493cac5-8eea-4f00-ddf8-b89d9d67f32a"
      },
      "execution_count": 208,
      "outputs": [
        {
          "output_type": "execute_result",
          "data": {
            "text/plain": [
              "3    1244\n",
              "4     226\n",
              "Name: PerformanceRating, dtype: int64"
            ]
          },
          "metadata": {},
          "execution_count": 208
        }
      ]
    },
    {
      "cell_type": "markdown",
      "source": [
        "#6) 급여의 증가분 백분율과 회사근속연수 산점도 그래프 "
      ],
      "metadata": {
        "id": "3x00L31F8dIe"
      }
    },
    {
      "cell_type": "code",
      "source": [
        "#관련이 있다고 예상되는 두 수치형 변수를 골라 산점도를 그려보다 \n",
        "data['PercentSalaryHike'].value_counts()\n",
        "#급여의 증가분 백분율...\n",
        "#11~25까지 분포 "
      ],
      "metadata": {
        "colab": {
          "base_uri": "https://localhost:8080/"
        },
        "id": "IqO7xuwxphC8",
        "outputId": "efe86de6-5f2a-456a-f04d-3158222efb01"
      },
      "execution_count": 209,
      "outputs": [
        {
          "output_type": "execute_result",
          "data": {
            "text/plain": [
              "11    210\n",
              "13    209\n",
              "14    201\n",
              "12    198\n",
              "15    101\n",
              "18     89\n",
              "17     82\n",
              "16     78\n",
              "19     76\n",
              "22     56\n",
              "20     55\n",
              "21     48\n",
              "23     28\n",
              "24     21\n",
              "25     18\n",
              "Name: PercentSalaryHike, dtype: int64"
            ]
          },
          "metadata": {},
          "execution_count": 209
        }
      ]
    },
    {
      "cell_type": "code",
      "source": [
        "data['YearsAtCompany'].value_counts()\n",
        "#근속연수 0~40까지분포 "
      ],
      "metadata": {
        "colab": {
          "base_uri": "https://localhost:8080/"
        },
        "id": "v-MQ-T3AuNQI",
        "outputId": "5337abff-13ab-4493-a956-c52b669da267"
      },
      "execution_count": 210,
      "outputs": [
        {
          "output_type": "execute_result",
          "data": {
            "text/plain": [
              "5     196\n",
              "1     171\n",
              "3     128\n",
              "2     127\n",
              "10    120\n",
              "4     110\n",
              "7      90\n",
              "9      82\n",
              "8      80\n",
              "6      76\n",
              "0      44\n",
              "11     32\n",
              "20     27\n",
              "13     24\n",
              "15     20\n",
              "14     18\n",
              "22     15\n",
              "12     14\n",
              "21     14\n",
              "18     13\n",
              "16     12\n",
              "19     11\n",
              "17      9\n",
              "24      6\n",
              "33      5\n",
              "25      4\n",
              "26      4\n",
              "31      3\n",
              "32      3\n",
              "27      2\n",
              "36      2\n",
              "29      2\n",
              "23      2\n",
              "37      1\n",
              "40      1\n",
              "34      1\n",
              "30      1\n",
              "Name: YearsAtCompany, dtype: int64"
            ]
          },
          "metadata": {},
          "execution_count": 210
        }
      ]
    },
    {
      "cell_type": "code",
      "source": [
        "data4=data.loc[:,['Attrition','YearsAtCompany','PercentSalaryHike']]\n",
        "import seaborn as sns\n",
        "\n",
        "plt.subplots(figsize=(20,10))\n",
        "sns.swarmplot(x='YearsAtCompany',y='PercentSalaryHike',data=data4,hue='Attrition')\n",
        "plt.show()\n",
        "#퇴직을 한사람의 분포는 근속연수가 적은 사람들에 몰려있다. 즉 근속연수가 높을수록 퇴직을 할 확률이 낮아지는 것이다. \n",
        "#또한 근속연수와 급여의 증가분사이의 일정한 관계는 없는 것으로 파악되었다. (근속연수가 증가한다고 급여의 증가분이 증가 X)\n"
      ],
      "metadata": {
        "colab": {
          "base_uri": "https://localhost:8080/",
          "height": 1000
        },
        "id": "0TVYu0A4suN2",
        "outputId": "08b049d4-422f-4e32-87f7-b939bfd8a89c"
      },
      "execution_count": 211,
      "outputs": [
        {
          "output_type": "stream",
          "name": "stderr",
          "text": [
            "/usr/local/lib/python3.8/dist-packages/seaborn/categorical.py:1296: UserWarning: 59.1% of the points cannot be placed; you may want to decrease the size of the markers or use stripplot.\n",
            "  warnings.warn(msg, UserWarning)\n",
            "/usr/local/lib/python3.8/dist-packages/seaborn/categorical.py:1296: UserWarning: 55.9% of the points cannot be placed; you may want to decrease the size of the markers or use stripplot.\n",
            "  warnings.warn(msg, UserWarning)\n",
            "/usr/local/lib/python3.8/dist-packages/seaborn/categorical.py:1296: UserWarning: 50.8% of the points cannot be placed; you may want to decrease the size of the markers or use stripplot.\n",
            "  warnings.warn(msg, UserWarning)\n",
            "/usr/local/lib/python3.8/dist-packages/seaborn/categorical.py:1296: UserWarning: 50.0% of the points cannot be placed; you may want to decrease the size of the markers or use stripplot.\n",
            "  warnings.warn(msg, UserWarning)\n",
            "/usr/local/lib/python3.8/dist-packages/seaborn/categorical.py:1296: UserWarning: 65.8% of the points cannot be placed; you may want to decrease the size of the markers or use stripplot.\n",
            "  warnings.warn(msg, UserWarning)\n",
            "/usr/local/lib/python3.8/dist-packages/seaborn/categorical.py:1296: UserWarning: 39.5% of the points cannot be placed; you may want to decrease the size of the markers or use stripplot.\n",
            "  warnings.warn(msg, UserWarning)\n",
            "/usr/local/lib/python3.8/dist-packages/seaborn/categorical.py:1296: UserWarning: 45.6% of the points cannot be placed; you may want to decrease the size of the markers or use stripplot.\n",
            "  warnings.warn(msg, UserWarning)\n",
            "/usr/local/lib/python3.8/dist-packages/seaborn/categorical.py:1296: UserWarning: 40.0% of the points cannot be placed; you may want to decrease the size of the markers or use stripplot.\n",
            "  warnings.warn(msg, UserWarning)\n",
            "/usr/local/lib/python3.8/dist-packages/seaborn/categorical.py:1296: UserWarning: 35.4% of the points cannot be placed; you may want to decrease the size of the markers or use stripplot.\n",
            "  warnings.warn(msg, UserWarning)\n",
            "/usr/local/lib/python3.8/dist-packages/seaborn/categorical.py:1296: UserWarning: 51.7% of the points cannot be placed; you may want to decrease the size of the markers or use stripplot.\n",
            "  warnings.warn(msg, UserWarning)\n",
            "/usr/local/lib/python3.8/dist-packages/seaborn/categorical.py:1296: UserWarning: 18.5% of the points cannot be placed; you may want to decrease the size of the markers or use stripplot.\n",
            "  warnings.warn(msg, UserWarning)\n"
          ]
        },
        {
          "output_type": "display_data",
          "data": {
            "text/plain": [
              "<Figure size 1440x720 with 1 Axes>"
            ],
            "image/png": "[encoded data removed]"
          },
          "metadata": {
            "needs_background": "light"
          }
        }
      ]
    },
    {
      "cell_type": "markdown",
      "source": [
        "#7)업무 종류 변수 "
      ],
      "metadata": {
        "id": "eRhP2yYe8k6C"
      }
    },
    {
      "cell_type": "code",
      "source": [
        "data_job=data['JobRole'].value_counts()\n",
        " #비율을 한눈에 볼 수 있게 파이차트 만들어보자 "
      ],
      "metadata": {
        "id": "yE9HllSzwuyG"
      },
      "execution_count": 212,
      "outputs": []
    },
    {
      "cell_type": "code",
      "source": [
        "plt.pie(data_job.values,labels=data_job.index,autopct='%.1f%%')\n",
        "plt.show()  #꽤나 다양한 직군 "
      ],
      "metadata": {
        "colab": {
          "base_uri": "https://localhost:8080/",
          "height": 248
        },
        "id": "Y4iWdgbfZNER",
        "outputId": "566c94c7-4fa6-4aef-b158-200fd3abacdf"
      },
      "execution_count": 213,
      "outputs": [
        {
          "output_type": "display_data",
          "data": {
            "text/plain": [
              "<Figure size 432x288 with 1 Axes>"
            ],
            "image/png": "[encoded data removed]"
          },
          "metadata": {}
        }
      ]
    },
    {
      "cell_type": "code",
      "source": [
        "#직업별로 퇴직여부를 막대그래프로 나타내보자\n",
        "\n",
        "datamake=data.loc[:,['Attrition','JobRole']]\n",
        "final_df=makedf(datamake,'JobRole',['Research Scientist','Sales Executive','Laboratory Technician','Manufacturing Director','Healthcare Representative','Manager',\n",
        "                                 'Sales Representative','Research Director','Human Resources'])\n",
        "print(final_df)\n"
      ],
      "metadata": {
        "colab": {
          "base_uri": "https://localhost:8080/"
        },
        "id": "Kc7e656ver20",
        "outputId": "b4c3b71a-709f-42ca-d9e9-ec8bbafa22cc"
      },
      "execution_count": 214,
      "outputs": [
        {
          "output_type": "stream",
          "name": "stdout",
          "text": [
            "                            No  Yes\n",
            "Research Scientist         245   47\n",
            "Sales Executive            269   57\n",
            "Laboratory Technician      197   62\n",
            "Manufacturing Director     135   10\n",
            "Healthcare Representative  122    9\n",
            "Manager                     97    5\n",
            "Sales Representative        50   33\n",
            "Research Director           78    2\n",
            "Human Resources             40   12\n"
          ]
        }
      ]
    },
    {
      "cell_type": "code",
      "source": [
        "fig,ax=plt.subplots(figsize=(23,13))\n",
        "bar_width=0.25\n",
        "index=np.arange(9)\n",
        "b1=plt.bar(index,final_df['Yes'],bar_width,alpha=0.4,color='red',label='Yes')\n",
        "b2=plt.bar(index+bar_width,final_df['No'],bar_width,alpha=0.4,color='green',label='No')\n",
        "plt.xticks(np.arange(bar_width,9+bar_width,1),final_df.index)\n",
        "plt.xlabel('JobRole',size=13)\n",
        "plt.ylabel('Attrition',size=13)\n",
        "plt.legend()\n",
        "plt.show()\n",
        "#sales Representive의 퇴직율이 두드러지게 높음을 확인할 수 있다. \n",
        "#Research Director의 퇴직율이 가장 낮다. \n",
        "#직업별로 퇴사율이 다름을 확인할 수 있다. 추후 모델을 통해서 직접 확인해볼 필요가 있는 것 같다. \n",
        "#업무의 직군과 다른 변수들의 관련성도 파악해보면 좋을 것 같다. "
      ],
      "metadata": {
        "colab": {
          "base_uri": "https://localhost:8080/",
          "height": 772
        },
        "id": "4TS8OMCnnqpl",
        "outputId": "dfdbc7af-6091-47e0-b0aa-126588fd1443"
      },
      "execution_count": 215,
      "outputs": [
        {
          "output_type": "display_data",
          "data": {
            "text/plain": [
              "<Figure size 1656x936 with 1 Axes>"
            ],
            "image/png": "[encoded data removed]"
          },
          "metadata": {
            "needs_background": "light"
          }
        }
      ]
    },
    {
      "cell_type": "markdown",
      "source": [
        "#업무의 종류와 일과생활의 균형정도 + 퇴직여부 산점도 "
      ],
      "metadata": {
        "id": "tag2wHWOsExe"
      }
    },
    {
      "cell_type": "code",
      "source": [
        "data['WorkLifeBalance'].value_counts() #대부분 2,3,점에 분포 "
      ],
      "metadata": {
        "colab": {
          "base_uri": "https://localhost:8080/"
        },
        "id": "QSkhTg1NsRKo",
        "outputId": "bf6c3610-171e-4a27-8ba1-ed557e3cb756"
      },
      "execution_count": 216,
      "outputs": [
        {
          "output_type": "execute_result",
          "data": {
            "text/plain": [
              "3    893\n",
              "2    344\n",
              "4    153\n",
              "1     80\n",
              "Name: WorkLifeBalance, dtype: int64"
            ]
          },
          "metadata": {},
          "execution_count": 216
        }
      ]
    },
    {
      "cell_type": "code",
      "source": [
        "data6=data.loc[:,['Attrition','WorkLifeBalance','JobRole']]\n",
        "data6['JobRole'].value_counts()"
      ],
      "metadata": {
        "colab": {
          "base_uri": "https://localhost:8080/"
        },
        "id": "SduzmvSxshvl",
        "outputId": "c08e8585-4d58-429b-f533-71bb1d59b9fa"
      },
      "execution_count": 217,
      "outputs": [
        {
          "output_type": "execute_result",
          "data": {
            "text/plain": [
              "Sales Executive              326\n",
              "Research Scientist           292\n",
              "Laboratory Technician        259\n",
              "Manufacturing Director       145\n",
              "Healthcare Representative    131\n",
              "Manager                      102\n",
              "Sales Representative          83\n",
              "Research Director             80\n",
              "Human Resources               52\n",
              "Name: JobRole, dtype: int64"
            ]
          },
          "metadata": {},
          "execution_count": 217
        }
      ]
    },
    {
      "cell_type": "code",
      "source": [
        "#JobRole의 개수가 너무 많아 그래프가 가독성있게 나오지 않아 몇개씩 잘라서 만들어보도록 ... \n",
        "fig, ax = plt.subplots(ncols=1,nrows=3,figsize=(20,8))\n",
        "data6_1=data6[(data6['JobRole']=='Sales Executive')|(data6['JobRole']=='Research Scientist')|(data6['JobRole']=='Laboratory Technician')]\n",
        "data6_2=data6[(data6['JobRole']=='Healthcare Representative')|(data6['JobRole']=='Manufacturing Director')|(data6['JobRole']=='Manager')]\n",
        "data6_3=data6[(data6['JobRole']=='Sales Representative')|(data6['JobRole']=='Research Director')|(data6['JobRole']=='Human Resources')]\n",
        "\n",
        "sns.swarmplot(x='JobRole',y='WorkLifeBalance',data=data6_1,hue='Attrition',dodge=False,ax=ax[0])\n",
        "sns.swarmplot(x='JobRole',y='WorkLifeBalance',data=data6_2,hue='Attrition',dodge=False,ax=ax[1],hue_order=['Yes', 'No'])\n",
        "sns.swarmplot(x='JobRole',y='WorkLifeBalance',data=data6_3,hue='Attrition',dodge=False,ax=ax[2])\n",
        "\n",
        "#퇴직이 많았던 sales Representative의 경우 워라벨 점수가 3,4 에 거의 몰려있다.....예상한 것과 다른 결과다. \n",
        "#하지만 그다음으로 퇴직을 많이 하였던 Laboratory Technician의 경우는 워라벨 점수가 1,2점인 곳에 퇴직을 더 많이 하였다.. \n",
        "# 그래프만 보고는 특정한 인사이트를 도출해내기는 어려운 것 같다. "
      ],
      "metadata": {
        "colab": {
          "base_uri": "https://localhost:8080/",
          "height": 697
        },
        "id": "s3vs6UT5tb6I",
        "outputId": "da617d97-5b8a-43d0-a5b5-e9d655391cc5"
      },
      "execution_count": 218,
      "outputs": [
        {
          "output_type": "stream",
          "name": "stderr",
          "text": [
            "/usr/local/lib/python3.8/dist-packages/seaborn/categorical.py:1296: UserWarning: 50.3% of the points cannot be placed; you may want to decrease the size of the markers or use stripplot.\n",
            "  warnings.warn(msg, UserWarning)\n",
            "/usr/local/lib/python3.8/dist-packages/seaborn/categorical.py:1296: UserWarning: 47.3% of the points cannot be placed; you may want to decrease the size of the markers or use stripplot.\n",
            "  warnings.warn(msg, UserWarning)\n",
            "/usr/local/lib/python3.8/dist-packages/seaborn/categorical.py:1296: UserWarning: 38.6% of the points cannot be placed; you may want to decrease the size of the markers or use stripplot.\n",
            "  warnings.warn(msg, UserWarning)\n",
            "/usr/local/lib/python3.8/dist-packages/seaborn/categorical.py:1296: UserWarning: 22.8% of the points cannot be placed; you may want to decrease the size of the markers or use stripplot.\n",
            "  warnings.warn(msg, UserWarning)\n",
            "/usr/local/lib/python3.8/dist-packages/seaborn/categorical.py:1296: UserWarning: 17.6% of the points cannot be placed; you may want to decrease the size of the markers or use stripplot.\n",
            "  warnings.warn(msg, UserWarning)\n"
          ]
        },
        {
          "output_type": "execute_result",
          "data": {
            "text/plain": [
              "<matplotlib.axes._subplots.AxesSubplot at 0x7feb26f7d760>"
            ]
          },
          "metadata": {},
          "execution_count": 218
        },
        {
          "output_type": "display_data",
          "data": {
            "text/plain": [
              "<Figure size 1440x576 with 3 Axes>"
            ],
            "image/png": "[encoded data removed]"
          },
          "metadata": {
            "needs_background": "light"
          }
        }
      ]
    },
    {
      "cell_type": "markdown",
      "source": [
        "#업무의 수준과 일대비 급여수준 산점도 그리기 (+ 이상치 boxplot)"
      ],
      "metadata": {
        "id": "ju30Tijl8nfR"
      }
    },
    {
      "cell_type": "code",
      "source": [
        "data['JobLevel'].value_counts() #업무의 수준 "
      ],
      "metadata": {
        "colab": {
          "base_uri": "https://localhost:8080/"
        },
        "id": "KaD_xXq13EbJ",
        "outputId": "912e433b-e721-4aca-e9d9-b9eae9ec83da"
      },
      "execution_count": 219,
      "outputs": [
        {
          "output_type": "execute_result",
          "data": {
            "text/plain": [
              "1    543\n",
              "2    534\n",
              "3    218\n",
              "4    106\n",
              "5     69\n",
              "Name: JobLevel, dtype: int64"
            ]
          },
          "metadata": {},
          "execution_count": 219
        }
      ]
    },
    {
      "cell_type": "code",
      "source": [
        "#업무의수준과 일대비급여의 수준으로 산점도 그려보자 \n",
        "data5=data.loc[:,['Attrition','JobLevel','DailyRate']]"
      ],
      "metadata": {
        "id": "nDNV17ny7CtM"
      },
      "execution_count": 220,
      "outputs": []
    },
    {
      "cell_type": "code",
      "source": [
        "data5['DailyRate'].value_counts() #일대비 급여의 수준 (102~1499)\n",
        "#범위가 굉장히 넓으니 이상치처리를 통해서 범주를 조금 줄여보자 "
      ],
      "metadata": {
        "colab": {
          "base_uri": "https://localhost:8080/"
        },
        "id": "7ntR4Jde0QEc",
        "outputId": "567b1be4-dc0d-439d-b14e-8297ce2af92b"
      },
      "execution_count": 221,
      "outputs": [
        {
          "output_type": "execute_result",
          "data": {
            "text/plain": [
              "691     6\n",
              "408     5\n",
              "530     5\n",
              "1329    5\n",
              "1082    5\n",
              "       ..\n",
              "650     1\n",
              "279     1\n",
              "316     1\n",
              "314     1\n",
              "628     1\n",
              "Name: DailyRate, Length: 886, dtype: int64"
            ]
          },
          "metadata": {},
          "execution_count": 221
        }
      ]
    },
    {
      "cell_type": "code",
      "source": [
        "#상자그림을 통해서 시각화\n",
        "plt.boxplot(data5['DailyRate'],whis=0.5)\n",
        "plt.title('DaliRate')\n",
        "plt.show()"
      ],
      "metadata": {
        "colab": {
          "base_uri": "https://localhost:8080/",
          "height": 281
        },
        "id": "lv6ZS4No4IsO",
        "outputId": "c37de250-3077-4ee2-e325-736bdb182585"
      },
      "execution_count": 222,
      "outputs": [
        {
          "output_type": "display_data",
          "data": {
            "text/plain": [
              "<Figure size 432x288 with 1 Axes>"
            ],
            "image/png": "[encoded data removed]"
          },
          "metadata": {
            "needs_background": "light"
          }
        }
      ]
    },
    {
      "cell_type": "code",
      "source": [
        "#이상치정제하는 함수 구현 \n",
        "def outliers_iqr(dt,col):\n",
        "  quartile_1,quartile_3=np.percentile(dt[col],[25,75])\n",
        "  iqr=quartile_3-quartile_1\n",
        "  lower_whis=quartile_1-(iqr*0.5)\n",
        "  upper_whis=quartile_3+(iqr*0.5)\n",
        "  outliers=dt[(dt[col]>upper_whis)|(dt[col]<lower_whis)]\n",
        "  return outliers[[col]]\n",
        "\n",
        "outliers=outliers_iqr(data5,'DailyRate')\n",
        "outliers  "
      ],
      "metadata": {
        "colab": {
          "base_uri": "https://localhost:8080/",
          "height": 645
        },
        "id": "OAh2pbPd5bYq",
        "outputId": "7e60ae99-a3bc-40ec-f02c-f95046556421"
      },
      "execution_count": 223,
      "outputs": [
        {
          "output_type": "execute_result",
          "data": {
            "text/plain": [
              "      DailyRate\n",
              "14          103\n",
              "82          111\n",
              "173         111\n",
              "310         106\n",
              "314         117\n",
              "591         118\n",
              "622         117\n",
              "649         102\n",
              "732         109\n",
              "862         111\n",
              "880         116\n",
              "883         117\n",
              "884         107\n",
              "1057        115\n",
              "1110        104\n",
              "1132        118\n",
              "1351        117\n",
              "1429        116\n",
              "1437        105"
            ],
            "text/html": [
              "\n",
              "  <div id=\"df-907560d8-aab0-4f45-9f1e-0311a72c2bdd\">\n",
              "    <div class=\"colab-df-container\">\n",
              "      <div>\n",
              "<style scoped>\n",
              "    .dataframe tbody tr th:only-of-type {\n",
              "        vertical-align: middle;\n",
              "    }\n",
              "\n",
              "    .dataframe tbody tr th {\n",
              "        vertical-align: top;\n",
              "    }\n",
              "\n",
              "    .dataframe thead th {\n",
              "        text-align: right;\n",
              "    }\n",
              "</style>\n",
              "<table border=\"1\" class=\"dataframe\">\n",
              "  <thead>\n",
              "    <tr style=\"text-align: right;\">\n",
              "      <th></th>\n",
              "      <th>DailyRate</th>\n",
              "    </tr>\n",
              "  </thead>\n",
              "  <tbody>\n",
              "    <tr>\n",
              "      <th>14</th>\n",
              "      <td>103</td>\n",
              "    </tr>\n",
              "    <tr>\n",
              "      <th>82</th>\n",
              "      <td>111</td>\n",
              "    </tr>\n",
              "    <tr>\n",
              "      <th>173</th>\n",
              "      <td>111</td>\n",
              "    </tr>\n",
              "    <tr>\n",
              "      <th>310</th>\n",
              "      <td>106</td>\n",
              "    </tr>\n",
              "    <tr>\n",
              "      <th>314</th>\n",
              "      <td>117</td>\n",
              "    </tr>\n",
              "    <tr>\n",
              "      <th>591</th>\n",
              "      <td>118</td>\n",
              "    </tr>\n",
              "    <tr>\n",
              "      <th>622</th>\n",
              "      <td>117</td>\n",
              "    </tr>\n",
              "    <tr>\n",
              "      <th>649</th>\n",
              "      <td>102</td>\n",
              "    </tr>\n",
              "    <tr>\n",
              "      <th>732</th>\n",
              "      <td>109</td>\n",
              "    </tr>\n",
              "    <tr>\n",
              "      <th>862</th>\n",
              "      <td>111</td>\n",
              "    </tr>\n",
              "    <tr>\n",
              "      <th>880</th>\n",
              "      <td>116</td>\n",
              "    </tr>\n",
              "    <tr>\n",
              "      <th>883</th>\n",
              "      <td>117</td>\n",
              "    </tr>\n",
              "    <tr>\n",
              "      <th>884</th>\n",
              "      <td>107</td>\n",
              "    </tr>\n",
              "    <tr>\n",
              "      <th>1057</th>\n",
              "      <td>115</td>\n",
              "    </tr>\n",
              "    <tr>\n",
              "      <th>1110</th>\n",
              "      <td>104</td>\n",
              "    </tr>\n",
              "    <tr>\n",
              "      <th>1132</th>\n",
              "      <td>118</td>\n",
              "    </tr>\n",
              "    <tr>\n",
              "      <th>1351</th>\n",
              "      <td>117</td>\n",
              "    </tr>\n",
              "    <tr>\n",
              "      <th>1429</th>\n",
              "      <td>116</td>\n",
              "    </tr>\n",
              "    <tr>\n",
              "      <th>1437</th>\n",
              "      <td>105</td>\n",
              "    </tr>\n",
              "  </tbody>\n",
              "</table>\n",
              "</div>\n",
              "      <button class=\"colab-df-convert\" onclick=\"convertToInteractive('df-907560d8-aab0-4f45-9f1e-0311a72c2bdd')\"\n",
              "              title=\"Convert this dataframe to an interactive table.\"\n",
              "              style=\"display:none;\">\n",
              "        \n",
              "  <svg xmlns=\"http://www.w3.org/2000/svg\" height=\"24px\"viewBox=\"0 0 24 24\"\n",
              "       width=\"24px\">\n",
              "    <path d=\"M0 0h24v24H0V0z\" fill=\"none\"/>\n",
              "    <path d=\"M18.56 5.44l.94 2.06.94-2.06 2.06-.94-2.06-.94-.94-2.06-.94 2.06-2.06.94zm-11 1L8.5 8.5l.94-2.06 2.06-.94-2.06-.94L8.5 2.5l-.94 2.06-2.06.94zm10 10l.94 2.06.94-2.06 2.06-.94-2.06-.94-.94-2.06-.94 2.06-2.06.94z\"/><path d=\"M17.41 7.96l-1.37-1.37c-.4-.4-.92-.59-1.43-.59-.52 0-1.04.2-1.43.59L10.3 9.45l-7.72 7.72c-.78.78-.78 2.05 0 2.83L4 21.41c.39.39.9.59 1.41.59.51 0 1.02-.2 1.41-.59l7.78-7.78 2.81-2.81c.8-.78.8-2.07 0-2.86zM5.41 20L4 18.59l7.72-7.72 1.47 1.35L5.41 20z\"/>\n",
              "  </svg>\n",
              "      </button>\n",
              "      \n",
              "  <style>\n",
              "    .colab-df-container {\n",
              "      display:flex;\n",
              "      flex-wrap:wrap;\n",
              "      gap: 12px;\n",
              "    }\n",
              "\n",
              "    .colab-df-convert {\n",
              "      background-color: #E8F0FE;\n",
              "      border: none;\n",
              "      border-radius: 50%;\n",
              "      cursor: pointer;\n",
              "      display: none;\n",
              "      fill: #1967D2;\n",
              "      height: 32px;\n",
              "      padding: 0 0 0 0;\n",
              "      width: 32px;\n",
              "    }\n",
              "\n",
              "    .colab-df-convert:hover {\n",
              "      background-color: #E2EBFA;\n",
              "      box-shadow: 0px 1px 2px rgba(60, 64, 67, 0.3), 0px 1px 3px 1px rgba(60, 64, 67, 0.15);\n",
              "      fill: #174EA6;\n",
              "    }\n",
              "\n",
              "    [theme=dark] .colab-df-convert {\n",
              "      background-color: #3B4455;\n",
              "      fill: #D2E3FC;\n",
              "    }\n",
              "\n",
              "    [theme=dark] .colab-df-convert:hover {\n",
              "      background-color: #434B5C;\n",
              "      box-shadow: 0px 1px 3px 1px rgba(0, 0, 0, 0.15);\n",
              "      filter: drop-shadow(0px 1px 2px rgba(0, 0, 0, 0.3));\n",
              "      fill: #FFFFFF;\n",
              "    }\n",
              "  </style>\n",
              "\n",
              "      <script>\n",
              "        const buttonEl =\n",
              "          document.querySelector('#df-907560d8-aab0-4f45-9f1e-0311a72c2bdd button.colab-df-convert');\n",
              "        buttonEl.style.display =\n",
              "          google.colab.kernel.accessAllowed ? 'block' : 'none';\n",
              "\n",
              "        async function convertToInteractive(key) {\n",
              "          const element = document.querySelector('#df-907560d8-aab0-4f45-9f1e-0311a72c2bdd');\n",
              "          const dataTable =\n",
              "            await google.colab.kernel.invokeFunction('convertToInteractive',\n",
              "                                                     [key], {});\n",
              "          if (!dataTable) return;\n",
              "\n",
              "          const docLinkHtml = 'Like what you see? Visit the ' +\n",
              "            '<a target=\"_blank\" href=https://colab.research.google.com/notebooks/data_table.ipynb>data table notebook</a>'\n",
              "            + ' to learn more about interactive tables.';\n",
              "          element.innerHTML = '';\n",
              "          dataTable['output_type'] = 'display_data';\n",
              "          await google.colab.output.renderOutput(dataTable, element);\n",
              "          const docLink = document.createElement('div');\n",
              "          docLink.innerHTML = docLinkHtml;\n",
              "          element.appendChild(docLink);\n",
              "        }\n",
              "      </script>\n",
              "    </div>\n",
              "  </div>\n",
              "  "
            ]
          },
          "metadata": {},
          "execution_count": 223
        }
      ]
    },
    {
      "cell_type": "code",
      "source": [
        "data5.loc[outliers.index,'DailyRate']=None #이상치를 Nan으로 변경 \n",
        "data5['DailyRate']=data5['DailyRate'].fillna(data5['DailyRate'].mean()) #평균값으로 대체해줌 "
      ],
      "metadata": {
        "id": "ZGTbDc2H81Y_"
      },
      "execution_count": 224,
      "outputs": []
    },
    {
      "cell_type": "code",
      "source": [
        "sns.swarmplot(x='JobLevel',y='DailyRate',data=data5,hue='Attrition')\n",
        "plt.show()\n",
        "\n",
        "\n",
        "#퇴직한 사람들은 대부분 JobLevel 1점에 몰려있는 것을 확인할 수 있다. \n",
        "#또한 퇴직한 사람들의 일대비 급여수준이 낮은쪽에 더 많이 분포함을 확인 할 수 있다. "
      ],
      "metadata": {
        "colab": {
          "base_uri": "https://localhost:8080/",
          "height": 352
        },
        "id": "5N_jyjg99XUG",
        "outputId": "68d600d3-445d-4e93-d15b-203c8cff4d5e"
      },
      "execution_count": 225,
      "outputs": [
        {
          "output_type": "stream",
          "name": "stderr",
          "text": [
            "/usr/local/lib/python3.8/dist-packages/seaborn/categorical.py:1296: UserWarning: 32.6% of the points cannot be placed; you may want to decrease the size of the markers or use stripplot.\n",
            "  warnings.warn(msg, UserWarning)\n",
            "/usr/local/lib/python3.8/dist-packages/seaborn/categorical.py:1296: UserWarning: 31.5% of the points cannot be placed; you may want to decrease the size of the markers or use stripplot.\n",
            "  warnings.warn(msg, UserWarning)\n"
          ]
        },
        {
          "output_type": "display_data",
          "data": {
            "text/plain": [
              "<Figure size 432x288 with 1 Axes>"
            ],
            "image/png": "[encoded data removed]"
          },
          "metadata": {
            "needs_background": "light"
          }
        }
      ]
    },
    {
      "cell_type": "markdown",
      "source": [
        "#수치형 변수 상관관계 파악 "
      ],
      "metadata": {
        "id": "elxfj1Qtlglt"
      }
    },
    {
      "cell_type": "code",
      "source": [
        "#데이터에서 수치형 변수만 뽑아내자 \n",
        "data_crr=data[['Age','DailyRate','DistanceFromHome','HourlyRate','MonthlyIncome','MonthlyRate','NumCompaniesWorked','PercentSalaryHike',\n",
        "                    'TotalWorkingYears','TrainingTimesLastYear','YearsAtCompany','YearsInCurrentRole','YearsSinceLastPromotion','YearsWithCurrManager']].corr()\n",
        "\n",
        "data_crr=data_crr.apply(lambda x: round(x ,3))\n",
        "data_crr\n",
        "#상관계슈거"
      ],
      "metadata": {
        "colab": {
          "base_uri": "https://localhost:8080/",
          "height": 552
        },
        "id": "z06012B2lece",
        "outputId": "8aff64ae-149f-4cd0-c897-56cc6b6a613a"
      },
      "execution_count": 226,
      "outputs": [
        {
          "output_type": "execute_result",
          "data": {
            "text/plain": [
              "                           Age  DailyRate  DistanceFromHome  HourlyRate  \\\n",
              "Age                      1.000      0.011            -0.002       0.024   \n",
              "DailyRate                0.011      1.000            -0.005       0.023   \n",
              "DistanceFromHome        -0.002     -0.005             1.000       0.031   \n",
              "HourlyRate               0.024      0.023             0.031       1.000   \n",
              "MonthlyIncome            0.498      0.008            -0.017      -0.016   \n",
              "MonthlyRate              0.028     -0.032             0.027      -0.015   \n",
              "NumCompaniesWorked       0.300      0.038            -0.029       0.022   \n",
              "PercentSalaryHike        0.004      0.023             0.040      -0.009   \n",
              "TotalWorkingYears        0.680      0.015             0.005      -0.002   \n",
              "TrainingTimesLastYear   -0.020      0.002            -0.037      -0.009   \n",
              "YearsAtCompany           0.311     -0.034             0.010      -0.020   \n",
              "YearsInCurrentRole       0.213      0.010             0.019      -0.024   \n",
              "YearsSinceLastPromotion  0.217     -0.033             0.010      -0.027   \n",
              "YearsWithCurrManager     0.202     -0.026             0.014      -0.020   \n",
              "\n",
              "                         MonthlyIncome  MonthlyRate  NumCompaniesWorked  \\\n",
              "Age                              0.498        0.028               0.300   \n",
              "DailyRate                        0.008       -0.032               0.038   \n",
              "DistanceFromHome                -0.017        0.027              -0.029   \n",
              "HourlyRate                      -0.016       -0.015               0.022   \n",
              "MonthlyIncome                    1.000        0.035               0.150   \n",
              "MonthlyRate                      0.035        1.000               0.018   \n",
              "NumCompaniesWorked               0.150        0.018               1.000   \n",
              "PercentSalaryHike               -0.027       -0.006              -0.010   \n",
              "TotalWorkingYears                0.773        0.026               0.238   \n",
              "TrainingTimesLastYear           -0.022        0.001              -0.066   \n",
              "YearsAtCompany                   0.514       -0.024              -0.118   \n",
              "YearsInCurrentRole               0.364       -0.013              -0.091   \n",
              "YearsSinceLastPromotion          0.345        0.002              -0.037   \n",
              "YearsWithCurrManager             0.344       -0.037              -0.110   \n",
              "\n",
              "                         PercentSalaryHike  TotalWorkingYears  \\\n",
              "Age                                  0.004              0.680   \n",
              "DailyRate                            0.023              0.015   \n",
              "DistanceFromHome                     0.040              0.005   \n",
              "HourlyRate                          -0.009             -0.002   \n",
              "MonthlyIncome                       -0.027              0.773   \n",
              "MonthlyRate                         -0.006              0.026   \n",
              "NumCompaniesWorked                  -0.010              0.238   \n",
              "PercentSalaryHike                    1.000             -0.021   \n",
              "TotalWorkingYears                   -0.021              1.000   \n",
              "TrainingTimesLastYear               -0.005             -0.036   \n",
              "YearsAtCompany                      -0.036              0.628   \n",
              "YearsInCurrentRole                  -0.002              0.460   \n",
              "YearsSinceLastPromotion             -0.022              0.405   \n",
              "YearsWithCurrManager                -0.012              0.459   \n",
              "\n",
              "                         TrainingTimesLastYear  YearsAtCompany  \\\n",
              "Age                                     -0.020           0.311   \n",
              "DailyRate                                0.002          -0.034   \n",
              "DistanceFromHome                        -0.037           0.010   \n",
              "HourlyRate                              -0.009          -0.020   \n",
              "MonthlyIncome                           -0.022           0.514   \n",
              "MonthlyRate                              0.001          -0.024   \n",
              "NumCompaniesWorked                      -0.066          -0.118   \n",
              "PercentSalaryHike                       -0.005          -0.036   \n",
              "TotalWorkingYears                       -0.036           0.628   \n",
              "TrainingTimesLastYear                    1.000           0.004   \n",
              "YearsAtCompany                           0.004           1.000   \n",
              "YearsInCurrentRole                      -0.006           0.759   \n",
              "YearsSinceLastPromotion                 -0.002           0.618   \n",
              "YearsWithCurrManager                    -0.004           0.769   \n",
              "\n",
              "                         YearsInCurrentRole  YearsSinceLastPromotion  \\\n",
              "Age                                   0.213                    0.217   \n",
              "DailyRate                             0.010                   -0.033   \n",
              "DistanceFromHome                      0.019                    0.010   \n",
              "HourlyRate                           -0.024                   -0.027   \n",
              "MonthlyIncome                         0.364                    0.345   \n",
              "MonthlyRate                          -0.013                    0.002   \n",
              "NumCompaniesWorked                   -0.091                   -0.037   \n",
              "PercentSalaryHike                    -0.002                   -0.022   \n",
              "TotalWorkingYears                     0.460                    0.405   \n",
              "TrainingTimesLastYear                -0.006                   -0.002   \n",
              "YearsAtCompany                        0.759                    0.618   \n",
              "YearsInCurrentRole                    1.000                    0.548   \n",
              "YearsSinceLastPromotion               0.548                    1.000   \n",
              "YearsWithCurrManager                  0.714                    0.510   \n",
              "\n",
              "                         YearsWithCurrManager  \n",
              "Age                                     0.202  \n",
              "DailyRate                              -0.026  \n",
              "DistanceFromHome                        0.014  \n",
              "HourlyRate                             -0.020  \n",
              "MonthlyIncome                           0.344  \n",
              "MonthlyRate                            -0.037  \n",
              "NumCompaniesWorked                     -0.110  \n",
              "PercentSalaryHike                      -0.012  \n",
              "TotalWorkingYears                       0.459  \n",
              "TrainingTimesLastYear                  -0.004  \n",
              "YearsAtCompany                          0.769  \n",
              "YearsInCurrentRole                      0.714  \n",
              "YearsSinceLastPromotion                 0.510  \n",
              "YearsWithCurrManager                    1.000  "
            ],
            "text/html": [
              "\n",
              "  <div id=\"df-d8a0b496-5fb4-4722-aee8-4e44fb2af3b6\">\n",
              "    <div class=\"colab-df-container\">\n",
              "      <div>\n",
              "<style scoped>\n",
              "    .dataframe tbody tr th:only-of-type {\n",
              "        vertical-align: middle;\n",
              "    }\n",
              "\n",
              "    .dataframe tbody tr th {\n",
              "        vertical-align: top;\n",
              "    }\n",
              "\n",
              "    .dataframe thead th {\n",
              "        text-align: right;\n",
              "    }\n",
              "</style>\n",
              "<table border=\"1\" class=\"dataframe\">\n",
              "  <thead>\n",
              "    <tr style=\"text-align: right;\">\n",
              "      <th></th>\n",
              "      <th>Age</th>\n",
              "      <th>DailyRate</th>\n",
              "      <th>DistanceFromHome</th>\n",
              "      <th>HourlyRate</th>\n",
              "      <th>MonthlyIncome</th>\n",
              "      <th>MonthlyRate</th>\n",
              "      <th>NumCompaniesWorked</th>\n",
              "      <th>PercentSalaryHike</th>\n",
              "      <th>TotalWorkingYears</th>\n",
              "      <th>TrainingTimesLastYear</th>\n",
              "      <th>YearsAtCompany</th>\n",
              "      <th>YearsInCurrentRole</th>\n",
              "      <th>YearsSinceLastPromotion</th>\n",
              "      <th>YearsWithCurrManager</th>\n",
              "    </tr>\n",
              "  </thead>\n",
              "  <tbody>\n",
              "    <tr>\n",
              "      <th>Age</th>\n",
              "      <td>1.000</td>\n",
              "      <td>0.011</td>\n",
              "      <td>-0.002</td>\n",
              "      <td>0.024</td>\n",
              "      <td>0.498</td>\n",
              "      <td>0.028</td>\n",
              "      <td>0.300</td>\n",
              "      <td>0.004</td>\n",
              "      <td>0.680</td>\n",
              "      <td>-0.020</td>\n",
              "      <td>0.311</td>\n",
              "      <td>0.213</td>\n",
              "      <td>0.217</td>\n",
              "      <td>0.202</td>\n",
              "    </tr>\n",
              "    <tr>\n",
              "      <th>DailyRate</th>\n",
              "      <td>0.011</td>\n",
              "      <td>1.000</td>\n",
              "      <td>-0.005</td>\n",
              "      <td>0.023</td>\n",
              "      <td>0.008</td>\n",
              "      <td>-0.032</td>\n",
              "      <td>0.038</td>\n",
              "      <td>0.023</td>\n",
              "      <td>0.015</td>\n",
              "      <td>0.002</td>\n",
              "      <td>-0.034</td>\n",
              "      <td>0.010</td>\n",
              "      <td>-0.033</td>\n",
              "      <td>-0.026</td>\n",
              "    </tr>\n",
              "    <tr>\n",
              "      <th>DistanceFromHome</th>\n",
              "      <td>-0.002</td>\n",
              "      <td>-0.005</td>\n",
              "      <td>1.000</td>\n",
              "      <td>0.031</td>\n",
              "      <td>-0.017</td>\n",
              "      <td>0.027</td>\n",
              "      <td>-0.029</td>\n",
              "      <td>0.040</td>\n",
              "      <td>0.005</td>\n",
              "      <td>-0.037</td>\n",
              "      <td>0.010</td>\n",
              "      <td>0.019</td>\n",
              "      <td>0.010</td>\n",
              "      <td>0.014</td>\n",
              "    </tr>\n",
              "    <tr>\n",
              "      <th>HourlyRate</th>\n",
              "      <td>0.024</td>\n",
              "      <td>0.023</td>\n",
              "      <td>0.031</td>\n",
              "      <td>1.000</td>\n",
              "      <td>-0.016</td>\n",
              "      <td>-0.015</td>\n",
              "      <td>0.022</td>\n",
              "      <td>-0.009</td>\n",
              "      <td>-0.002</td>\n",
              "      <td>-0.009</td>\n",
              "      <td>-0.020</td>\n",
              "      <td>-0.024</td>\n",
              "      <td>-0.027</td>\n",
              "      <td>-0.020</td>\n",
              "    </tr>\n",
              "    <tr>\n",
              "      <th>MonthlyIncome</th>\n",
              "      <td>0.498</td>\n",
              "      <td>0.008</td>\n",
              "      <td>-0.017</td>\n",
              "      <td>-0.016</td>\n",
              "      <td>1.000</td>\n",
              "      <td>0.035</td>\n",
              "      <td>0.150</td>\n",
              "      <td>-0.027</td>\n",
              "      <td>0.773</td>\n",
              "      <td>-0.022</td>\n",
              "      <td>0.514</td>\n",
              "      <td>0.364</td>\n",
              "      <td>0.345</td>\n",
              "      <td>0.344</td>\n",
              "    </tr>\n",
              "    <tr>\n",
              "      <th>MonthlyRate</th>\n",
              "      <td>0.028</td>\n",
              "      <td>-0.032</td>\n",
              "      <td>0.027</td>\n",
              "      <td>-0.015</td>\n",
              "      <td>0.035</td>\n",
              "      <td>1.000</td>\n",
              "      <td>0.018</td>\n",
              "      <td>-0.006</td>\n",
              "      <td>0.026</td>\n",
              "      <td>0.001</td>\n",
              "      <td>-0.024</td>\n",
              "      <td>-0.013</td>\n",
              "      <td>0.002</td>\n",
              "      <td>-0.037</td>\n",
              "    </tr>\n",
              "    <tr>\n",
              "      <th>NumCompaniesWorked</th>\n",
              "      <td>0.300</td>\n",
              "      <td>0.038</td>\n",
              "      <td>-0.029</td>\n",
              "      <td>0.022</td>\n",
              "      <td>0.150</td>\n",
              "      <td>0.018</td>\n",
              "      <td>1.000</td>\n",
              "      <td>-0.010</td>\n",
              "      <td>0.238</td>\n",
              "      <td>-0.066</td>\n",
              "      <td>-0.118</td>\n",
              "      <td>-0.091</td>\n",
              "      <td>-0.037</td>\n",
              "      <td>-0.110</td>\n",
              "    </tr>\n",
              "    <tr>\n",
              "      <th>PercentSalaryHike</th>\n",
              "      <td>0.004</td>\n",
              "      <td>0.023</td>\n",
              "      <td>0.040</td>\n",
              "      <td>-0.009</td>\n",
              "      <td>-0.027</td>\n",
              "      <td>-0.006</td>\n",
              "      <td>-0.010</td>\n",
              "      <td>1.000</td>\n",
              "      <td>-0.021</td>\n",
              "      <td>-0.005</td>\n",
              "      <td>-0.036</td>\n",
              "      <td>-0.002</td>\n",
              "      <td>-0.022</td>\n",
              "      <td>-0.012</td>\n",
              "    </tr>\n",
              "    <tr>\n",
              "      <th>TotalWorkingYears</th>\n",
              "      <td>0.680</td>\n",
              "      <td>0.015</td>\n",
              "      <td>0.005</td>\n",
              "      <td>-0.002</td>\n",
              "      <td>0.773</td>\n",
              "      <td>0.026</td>\n",
              "      <td>0.238</td>\n",
              "      <td>-0.021</td>\n",
              "      <td>1.000</td>\n",
              "      <td>-0.036</td>\n",
              "      <td>0.628</td>\n",
              "      <td>0.460</td>\n",
              "      <td>0.405</td>\n",
              "      <td>0.459</td>\n",
              "    </tr>\n",
              "    <tr>\n",
              "      <th>TrainingTimesLastYear</th>\n",
              "      <td>-0.020</td>\n",
              "      <td>0.002</td>\n",
              "      <td>-0.037</td>\n",
              "      <td>-0.009</td>\n",
              "      <td>-0.022</td>\n",
              "      <td>0.001</td>\n",
              "      <td>-0.066</td>\n",
              "      <td>-0.005</td>\n",
              "      <td>-0.036</td>\n",
              "      <td>1.000</td>\n",
              "      <td>0.004</td>\n",
              "      <td>-0.006</td>\n",
              "      <td>-0.002</td>\n",
              "      <td>-0.004</td>\n",
              "    </tr>\n",
              "    <tr>\n",
              "      <th>YearsAtCompany</th>\n",
              "      <td>0.311</td>\n",
              "      <td>-0.034</td>\n",
              "      <td>0.010</td>\n",
              "      <td>-0.020</td>\n",
              "      <td>0.514</td>\n",
              "      <td>-0.024</td>\n",
              "      <td>-0.118</td>\n",
              "      <td>-0.036</td>\n",
              "      <td>0.628</td>\n",
              "      <td>0.004</td>\n",
              "      <td>1.000</td>\n",
              "      <td>0.759</td>\n",
              "      <td>0.618</td>\n",
              "      <td>0.769</td>\n",
              "    </tr>\n",
              "    <tr>\n",
              "      <th>YearsInCurrentRole</th>\n",
              "      <td>0.213</td>\n",
              "      <td>0.010</td>\n",
              "      <td>0.019</td>\n",
              "      <td>-0.024</td>\n",
              "      <td>0.364</td>\n",
              "      <td>-0.013</td>\n",
              "      <td>-0.091</td>\n",
              "      <td>-0.002</td>\n",
              "      <td>0.460</td>\n",
              "      <td>-0.006</td>\n",
              "      <td>0.759</td>\n",
              "      <td>1.000</td>\n",
              "      <td>0.548</td>\n",
              "      <td>0.714</td>\n",
              "    </tr>\n",
              "    <tr>\n",
              "      <th>YearsSinceLastPromotion</th>\n",
              "      <td>0.217</td>\n",
              "      <td>-0.033</td>\n",
              "      <td>0.010</td>\n",
              "      <td>-0.027</td>\n",
              "      <td>0.345</td>\n",
              "      <td>0.002</td>\n",
              "      <td>-0.037</td>\n",
              "      <td>-0.022</td>\n",
              "      <td>0.405</td>\n",
              "      <td>-0.002</td>\n",
              "      <td>0.618</td>\n",
              "      <td>0.548</td>\n",
              "      <td>1.000</td>\n",
              "      <td>0.510</td>\n",
              "    </tr>\n",
              "    <tr>\n",
              "      <th>YearsWithCurrManager</th>\n",
              "      <td>0.202</td>\n",
              "      <td>-0.026</td>\n",
              "      <td>0.014</td>\n",
              "      <td>-0.020</td>\n",
              "      <td>0.344</td>\n",
              "      <td>-0.037</td>\n",
              "      <td>-0.110</td>\n",
              "      <td>-0.012</td>\n",
              "      <td>0.459</td>\n",
              "      <td>-0.004</td>\n",
              "      <td>0.769</td>\n",
              "      <td>0.714</td>\n",
              "      <td>0.510</td>\n",
              "      <td>1.000</td>\n",
              "    </tr>\n",
              "  </tbody>\n",
              "</table>\n",
              "</div>\n",
              "      <button class=\"colab-df-convert\" onclick=\"convertToInteractive('df-d8a0b496-5fb4-4722-aee8-4e44fb2af3b6')\"\n",
              "              title=\"Convert this dataframe to an interactive table.\"\n",
              "              style=\"display:none;\">\n",
              "        \n",
              "  <svg xmlns=\"http://www.w3.org/2000/svg\" height=\"24px\"viewBox=\"0 0 24 24\"\n",
              "       width=\"24px\">\n",
              "    <path d=\"M0 0h24v24H0V0z\" fill=\"none\"/>\n",
              "    <path d=\"M18.56 5.44l.94 2.06.94-2.06 2.06-.94-2.06-.94-.94-2.06-.94 2.06-2.06.94zm-11 1L8.5 8.5l.94-2.06 2.06-.94-2.06-.94L8.5 2.5l-.94 2.06-2.06.94zm10 10l.94 2.06.94-2.06 2.06-.94-2.06-.94-.94-2.06-.94 2.06-2.06.94z\"/><path d=\"M17.41 7.96l-1.37-1.37c-.4-.4-.92-.59-1.43-.59-.52 0-1.04.2-1.43.59L10.3 9.45l-7.72 7.72c-.78.78-.78 2.05 0 2.83L4 21.41c.39.39.9.59 1.41.59.51 0 1.02-.2 1.41-.59l7.78-7.78 2.81-2.81c.8-.78.8-2.07 0-2.86zM5.41 20L4 18.59l7.72-7.72 1.47 1.35L5.41 20z\"/>\n",
              "  </svg>\n",
              "      </button>\n",
              "      \n",
              "  <style>\n",
              "    .colab-df-container {\n",
              "      display:flex;\n",
              "      flex-wrap:wrap;\n",
              "      gap: 12px;\n",
              "    }\n",
              "\n",
              "    .colab-df-convert {\n",
              "      background-color: #E8F0FE;\n",
              "      border: none;\n",
              "      border-radius: 50%;\n",
              "      cursor: pointer;\n",
              "      display: none;\n",
              "      fill: #1967D2;\n",
              "      height: 32px;\n",
              "      padding: 0 0 0 0;\n",
              "      width: 32px;\n",
              "    }\n",
              "\n",
              "    .colab-df-convert:hover {\n",
              "      background-color: #E2EBFA;\n",
              "      box-shadow: 0px 1px 2px rgba(60, 64, 67, 0.3), 0px 1px 3px 1px rgba(60, 64, 67, 0.15);\n",
              "      fill: #174EA6;\n",
              "    }\n",
              "\n",
              "    [theme=dark] .colab-df-convert {\n",
              "      background-color: #3B4455;\n",
              "      fill: #D2E3FC;\n",
              "    }\n",
              "\n",
              "    [theme=dark] .colab-df-convert:hover {\n",
              "      background-color: #434B5C;\n",
              "      box-shadow: 0px 1px 3px 1px rgba(0, 0, 0, 0.15);\n",
              "      filter: drop-shadow(0px 1px 2px rgba(0, 0, 0, 0.3));\n",
              "      fill: #FFFFFF;\n",
              "    }\n",
              "  </style>\n",
              "\n",
              "      <script>\n",
              "        const buttonEl =\n",
              "          document.querySelector('#df-d8a0b496-5fb4-4722-aee8-4e44fb2af3b6 button.colab-df-convert');\n",
              "        buttonEl.style.display =\n",
              "          google.colab.kernel.accessAllowed ? 'block' : 'none';\n",
              "\n",
              "        async function convertToInteractive(key) {\n",
              "          const element = document.querySelector('#df-d8a0b496-5fb4-4722-aee8-4e44fb2af3b6');\n",
              "          const dataTable =\n",
              "            await google.colab.kernel.invokeFunction('convertToInteractive',\n",
              "                                                     [key], {});\n",
              "          if (!dataTable) return;\n",
              "\n",
              "          const docLinkHtml = 'Like what you see? Visit the ' +\n",
              "            '<a target=\"_blank\" href=https://colab.research.google.com/notebooks/data_table.ipynb>data table notebook</a>'\n",
              "            + ' to learn more about interactive tables.';\n",
              "          element.innerHTML = '';\n",
              "          dataTable['output_type'] = 'display_data';\n",
              "          await google.colab.output.renderOutput(dataTable, element);\n",
              "          const docLink = document.createElement('div');\n",
              "          docLink.innerHTML = docLinkHtml;\n",
              "          element.appendChild(docLink);\n",
              "        }\n",
              "      </script>\n",
              "    </div>\n",
              "  </div>\n",
              "  "
            ]
          },
          "metadata": {},
          "execution_count": 226
        }
      ]
    },
    {
      "cell_type": "code",
      "source": [
        "plt.figure(figsize=(15,15))\n",
        "sns.heatmap(data = data_crr, annot=True, \n",
        " linewidths=.5, cmap='Blues')\n",
        "\n",
        "#상관계수가 높은 것중 유의미한 것을 꼽아보면 \n",
        "# 0.77 지금까지 일한 기간 (경력) 과 한달 월급 : 일한 기간이 많을 수록 월급을 더 많이 받음 \n",
        "# 나머지 상관계수가 높은 것은 일반적으로 보았을 때 당연한것.. 인사이트라고 보기에는 어려움\n",
        "# ex)나이와 총 경력시간, 현재매니저와 같이 일한 기간과 회사에 있었던 기간, 현재역할기간과 회사에 있었던기간 "
      ],
      "metadata": {
        "colab": {
          "base_uri": "https://localhost:8080/",
          "height": 1000
        },
        "id": "J0WWhzzEuUpX",
        "outputId": "f65bb82a-0f05-4c36-ff95-6236795ba8cf"
      },
      "execution_count": 227,
      "outputs": [
        {
          "output_type": "execute_result",
          "data": {
            "text/plain": [
              "<matplotlib.axes._subplots.AxesSubplot at 0x7feb26de1640>"
            ]
          },
          "metadata": {},
          "execution_count": 227
        },
        {
          "output_type": "display_data",
          "data": {
            "text/plain": [
              "<Figure size 1080x1080 with 2 Axes>"
            ],
            "image/png": "[encoded data removed]"
          },
          "metadata": {
            "needs_background": "light"
          }
        }
      ]
    },
    {
      "cell_type": "code",
      "source": [],
      "metadata": {
        "id": "a2mxPb1NA8mq"
      },
      "execution_count": 227,
      "outputs": []
    },
    {
      "cell_type": "markdown",
      "source": [
        "#파생변수 고르기 \n",
        "- 위에서 EDA와 전처리를 기반으로 변수 몇개를 임의로 선정한다 \n",
        "- EmployeeCount(직원숫자),EmployeeNumber(직원ID),StandardHours(표준시간),Education(전공)은 종속변수와 관련이 없으므로 제외한다. \n",
        "- EDA를 통해서 큰 인사이트를 얻지 못했던 Gender(성별)변수 제외 \n",
        "- 3,4로 구분하는데 그 중에서도 3에 너무 몰려있었던 PerformanceRating(업무성과)변수도 제외 \n",
        "- 이또한 한쪽에 몰려분포한 WorkLifeBalance(일과생활의균형정도)변수도 제외 \n",
        "- 상관계수 분석 결과, 거의 비슷한 의미를 띄고 있었던 YearsAtCompany(근속연수),YearsinCurrentRole(현재 역할의 년수),YearsWithCurrManager(현재관리자와함께보낸시간),TotalWorkingYears(경력기간),YearsSinceLastPromotion(마지막프로모션)중에서 한개만 선택(근속연수로 하겠습니다.)\n",
        "- 대부분 18세 이상이므로 18세이상 변수도 제외 \n",
        "-JobRole(업무종류)와 범주가 거의 똑같은 Department(업무분야)도 제외 \n",
        "- 나머지 변수들로 분류모델(랜덤포레스트)를 구축한 뒤, 변수 중요도를 통해서 최종 변수를 파악할 예정 \n",
        "- 모델생성을 위해서 나머지 변수 전처리를 진행해주자. "
      ],
      "metadata": {
        "id": "VAlotRfHxn9t"
      }
    },
    {
      "cell_type": "code",
      "source": [
        "data['BusinessTravel'].value_counts()"
      ],
      "metadata": {
        "colab": {
          "base_uri": "https://localhost:8080/"
        },
        "id": "UP0YLj5Ltn_Z",
        "outputId": "ac3841cb-4f29-4459-9f9b-ea6002ad8297"
      },
      "execution_count": 228,
      "outputs": [
        {
          "output_type": "execute_result",
          "data": {
            "text/plain": [
              "Travel_Rarely        1043\n",
              "Travel_Frequently     277\n",
              "Non-Travel            150\n",
              "Name: BusinessTravel, dtype: int64"
            ]
          },
          "metadata": {},
          "execution_count": 228
        }
      ]
    },
    {
      "cell_type": "code",
      "source": [
        "x_data=data.loc[:,['Age','BusinessTravel','DailyRate','DistanceFromHome','Education','EnvironmentSatisfaction','HourlyRate','JobInvolvement','JobLevel',\n",
        "             'JobRole','JobSatisfaction','MaritalStatus','MonthlyIncome','MonthlyRate','NumCompaniesWorked','OverTime','PercentSalaryHike','RelationshipSatisfaction',\n",
        "             'StockOptionLevel','TrainingTimesLastYear','WorkLifeBalance','YearsAtCompany']]\n",
        "y_data=data.loc[:,['Attrition']]\n"
      ],
      "metadata": {
        "id": "KWuuWDAdpwfX"
      },
      "execution_count": 229,
      "outputs": []
    },
    {
      "cell_type": "code",
      "source": [
        "x_data"
      ],
      "metadata": {
        "colab": {
          "base_uri": "https://localhost:8080/",
          "height": 661
        },
        "id": "UP85V0ECvfug",
        "outputId": "ef44989f-d978-4b20-fa48-26bd3fcdeb60"
      },
      "execution_count": 230,
      "outputs": [
        {
          "output_type": "execute_result",
          "data": {
            "text/plain": [
              "      Age     BusinessTravel  DailyRate  DistanceFromHome  Education  \\\n",
              "0      41      Travel_Rarely       1102                 1          2   \n",
              "1      49  Travel_Frequently        279                 8          1   \n",
              "2      37      Travel_Rarely       1373                 2          2   \n",
              "3      33  Travel_Frequently       1392                 3          4   \n",
              "4      27      Travel_Rarely        591                 2          1   \n",
              "...   ...                ...        ...               ...        ...   \n",
              "1465   36  Travel_Frequently        884                23          2   \n",
              "1466   39      Travel_Rarely        613                 6          1   \n",
              "1467   27      Travel_Rarely        155                 4          3   \n",
              "1468   49  Travel_Frequently       1023                 2          3   \n",
              "1469   34      Travel_Rarely        628                 8          3   \n",
              "\n",
              "      EnvironmentSatisfaction  HourlyRate  JobInvolvement  JobLevel  \\\n",
              "0                           2          94               3         2   \n",
              "1                           3          61               2         2   \n",
              "2                           4          92               2         1   \n",
              "3                           4          56               3         1   \n",
              "4                           1          40               3         1   \n",
              "...                       ...         ...             ...       ...   \n",
              "1465                        3          41               4         2   \n",
              "1466                        4          42               2         3   \n",
              "1467                        2          87               4         2   \n",
              "1468                        4          63               2         2   \n",
              "1469                        2          82               4         2   \n",
              "\n",
              "                        JobRole  ...  MonthlyIncome MonthlyRate  \\\n",
              "0               Sales Executive  ...           5993       19479   \n",
              "1            Research Scientist  ...           5130       24907   \n",
              "2         Laboratory Technician  ...           2090        2396   \n",
              "3            Research Scientist  ...           2909       23159   \n",
              "4         Laboratory Technician  ...           3468       16632   \n",
              "...                         ...  ...            ...         ...   \n",
              "1465      Laboratory Technician  ...           2571       12290   \n",
              "1466  Healthcare Representative  ...           9991       21457   \n",
              "1467     Manufacturing Director  ...           6142        5174   \n",
              "1468            Sales Executive  ...           5390       13243   \n",
              "1469      Laboratory Technician  ...           4404       10228   \n",
              "\n",
              "      NumCompaniesWorked  OverTime  PercentSalaryHike  \\\n",
              "0                      8       Yes                 11   \n",
              "1                      1        No                 23   \n",
              "2                      6       Yes                 15   \n",
              "3                      1       Yes                 11   \n",
              "4                      9        No                 12   \n",
              "...                  ...       ...                ...   \n",
              "1465                   4        No                 17   \n",
              "1466                   4        No                 15   \n",
              "1467                   1       Yes                 20   \n",
              "1468                   2        No                 14   \n",
              "1469                   2        No                 12   \n",
              "\n",
              "     RelationshipSatisfaction  StockOptionLevel  TrainingTimesLastYear  \\\n",
              "0                           1                 0                      0   \n",
              "1                           4                 1                      3   \n",
              "2                           2                 0                      3   \n",
              "3                           3                 0                      3   \n",
              "4                           4                 1                      3   \n",
              "...                       ...               ...                    ...   \n",
              "1465                        3                 1                      3   \n",
              "1466                        1                 1                      5   \n",
              "1467                        2                 1                      0   \n",
              "1468                        4                 0                      3   \n",
              "1469                        1                 0                      3   \n",
              "\n",
              "      WorkLifeBalance  YearsAtCompany  \n",
              "0                   1               6  \n",
              "1                   3              10  \n",
              "2                   3               0  \n",
              "3                   3               8  \n",
              "4                   3               2  \n",
              "...               ...             ...  \n",
              "1465                3               5  \n",
              "1466                3               7  \n",
              "1467                3               6  \n",
              "1468                2               9  \n",
              "1469                4               4  \n",
              "\n",
              "[1470 rows x 22 columns]"
            ],
            "text/html": [
              "\n",
              "  <div id=\"df-2dc71242-2fad-441b-b8d4-1dbd390524d7\">\n",
              "    <div class=\"colab-df-container\">\n",
              "      <div>\n",
              "<style scoped>\n",
              "    .dataframe tbody tr th:only-of-type {\n",
              "        vertical-align: middle;\n",
              "    }\n",
              "\n",
              "    .dataframe tbody tr th {\n",
              "        vertical-align: top;\n",
              "    }\n",
              "\n",
              "    .dataframe thead th {\n",
              "        text-align: right;\n",
              "    }\n",
              "</style>\n",
              "<table border=\"1\" class=\"dataframe\">\n",
              "  <thead>\n",
              "    <tr style=\"text-align: right;\">\n",
              "      <th></th>\n",
              "      <th>Age</th>\n",
              "      <th>BusinessTravel</th>\n",
              "      <th>DailyRate</th>\n",
              "      <th>DistanceFromHome</th>\n",
              "      <th>Education</th>\n",
              "      <th>EnvironmentSatisfaction</th>\n",
              "      <th>HourlyRate</th>\n",
              "      <th>JobInvolvement</th>\n",
              "      <th>JobLevel</th>\n",
              "      <th>JobRole</th>\n",
              "      <th>...</th>\n",
              "      <th>MonthlyIncome</th>\n",
              "      <th>MonthlyRate</th>\n",
              "      <th>NumCompaniesWorked</th>\n",
              "      <th>OverTime</th>\n",
              "      <th>PercentSalaryHike</th>\n",
              "      <th>RelationshipSatisfaction</th>\n",
              "      <th>StockOptionLevel</th>\n",
              "      <th>TrainingTimesLastYear</th>\n",
              "      <th>WorkLifeBalance</th>\n",
              "      <th>YearsAtCompany</th>\n",
              "    </tr>\n",
              "  </thead>\n",
              "  <tbody>\n",
              "    <tr>\n",
              "      <th>0</th>\n",
              "      <td>41</td>\n",
              "      <td>Travel_Rarely</td>\n",
              "      <td>1102</td>\n",
              "      <td>1</td>\n",
              "      <td>2</td>\n",
              "      <td>2</td>\n",
              "      <td>94</td>\n",
              "      <td>3</td>\n",
              "      <td>2</td>\n",
              "      <td>Sales Executive</td>\n",
              "      <td>...</td>\n",
              "      <td>5993</td>\n",
              "      <td>19479</td>\n",
              "      <td>8</td>\n",
              "      <td>Yes</td>\n",
              "      <td>11</td>\n",
              "      <td>1</td>\n",
              "      <td>0</td>\n",
              "      <td>0</td>\n",
              "      <td>1</td>\n",
              "      <td>6</td>\n",
              "    </tr>\n",
              "    <tr>\n",
              "      <th>1</th>\n",
              "      <td>49</td>\n",
              "      <td>Travel_Frequently</td>\n",
              "      <td>279</td>\n",
              "      <td>8</td>\n",
              "      <td>1</td>\n",
              "      <td>3</td>\n",
              "      <td>61</td>\n",
              "      <td>2</td>\n",
              "      <td>2</td>\n",
              "      <td>Research Scientist</td>\n",
              "      <td>...</td>\n",
              "      <td>5130</td>\n",
              "      <td>24907</td>\n",
              "      <td>1</td>\n",
              "      <td>No</td>\n",
              "      <td>23</td>\n",
              "      <td>4</td>\n",
              "      <td>1</td>\n",
              "      <td>3</td>\n",
              "      <td>3</td>\n",
              "      <td>10</td>\n",
              "    </tr>\n",
              "    <tr>\n",
              "      <th>2</th>\n",
              "      <td>37</td>\n",
              "      <td>Travel_Rarely</td>\n",
              "      <td>1373</td>\n",
              "      <td>2</td>\n",
              "      <td>2</td>\n",
              "      <td>4</td>\n",
              "      <td>92</td>\n",
              "      <td>2</td>\n",
              "      <td>1</td>\n",
              "      <td>Laboratory Technician</td>\n",
              "      <td>...</td>\n",
              "      <td>2090</td>\n",
              "      <td>2396</td>\n",
              "      <td>6</td>\n",
              "      <td>Yes</td>\n",
              "      <td>15</td>\n",
              "      <td>2</td>\n",
              "      <td>0</td>\n",
              "      <td>3</td>\n",
              "      <td>3</td>\n",
              "      <td>0</td>\n",
              "    </tr>\n",
              "    <tr>\n",
              "      <th>3</th>\n",
              "      <td>33</td>\n",
              "      <td>Travel_Frequently</td>\n",
              "      <td>1392</td>\n",
              "      <td>3</td>\n",
              "      <td>4</td>\n",
              "      <td>4</td>\n",
              "      <td>56</td>\n",
              "      <td>3</td>\n",
              "      <td>1</td>\n",
              "      <td>Research Scientist</td>\n",
              "      <td>...</td>\n",
              "      <td>2909</td>\n",
              "      <td>23159</td>\n",
              "      <td>1</td>\n",
              "      <td>Yes</td>\n",
              "      <td>11</td>\n",
              "      <td>3</td>\n",
              "      <td>0</td>\n",
              "      <td>3</td>\n",
              "      <td>3</td>\n",
              "      <td>8</td>\n",
              "    </tr>\n",
              "    <tr>\n",
              "      <th>4</th>\n",
              "      <td>27</td>\n",
              "      <td>Travel_Rarely</td>\n",
              "      <td>591</td>\n",
              "      <td>2</td>\n",
              "      <td>1</td>\n",
              "      <td>1</td>\n",
              "      <td>40</td>\n",
              "      <td>3</td>\n",
              "      <td>1</td>\n",
              "      <td>Laboratory Technician</td>\n",
              "      <td>...</td>\n",
              "      <td>3468</td>\n",
              "      <td>16632</td>\n",
              "      <td>9</td>\n",
              "      <td>No</td>\n",
              "      <td>12</td>\n",
              "      <td>4</td>\n",
              "      <td>1</td>\n",
              "      <td>3</td>\n",
              "      <td>3</td>\n",
              "      <td>2</td>\n",
              "    </tr>\n",
              "    <tr>\n",
              "      <th>...</th>\n",
              "      <td>...</td>\n",
              "      <td>...</td>\n",
              "      <td>...</td>\n",
              "      <td>...</td>\n",
              "      <td>...</td>\n",
              "      <td>...</td>\n",
              "      <td>...</td>\n",
              "      <td>...</td>\n",
              "      <td>...</td>\n",
              "      <td>...</td>\n",
              "      <td>...</td>\n",
              "      <td>...</td>\n",
              "      <td>...</td>\n",
              "      <td>...</td>\n",
              "      <td>...</td>\n",
              "      <td>...</td>\n",
              "      <td>...</td>\n",
              "      <td>...</td>\n",
              "      <td>...</td>\n",
              "      <td>...</td>\n",
              "      <td>...</td>\n",
              "    </tr>\n",
              "    <tr>\n",
              "      <th>1465</th>\n",
              "      <td>36</td>\n",
              "      <td>Travel_Frequently</td>\n",
              "      <td>884</td>\n",
              "      <td>23</td>\n",
              "      <td>2</td>\n",
              "      <td>3</td>\n",
              "      <td>41</td>\n",
              "      <td>4</td>\n",
              "      <td>2</td>\n",
              "      <td>Laboratory Technician</td>\n",
              "      <td>...</td>\n",
              "      <td>2571</td>\n",
              "      <td>12290</td>\n",
              "      <td>4</td>\n",
              "      <td>No</td>\n",
              "      <td>17</td>\n",
              "      <td>3</td>\n",
              "      <td>1</td>\n",
              "      <td>3</td>\n",
              "      <td>3</td>\n",
              "      <td>5</td>\n",
              "    </tr>\n",
              "    <tr>\n",
              "      <th>1466</th>\n",
              "      <td>39</td>\n",
              "      <td>Travel_Rarely</td>\n",
              "      <td>613</td>\n",
              "      <td>6</td>\n",
              "      <td>1</td>\n",
              "      <td>4</td>\n",
              "      <td>42</td>\n",
              "      <td>2</td>\n",
              "      <td>3</td>\n",
              "      <td>Healthcare Representative</td>\n",
              "      <td>...</td>\n",
              "      <td>9991</td>\n",
              "      <td>21457</td>\n",
              "      <td>4</td>\n",
              "      <td>No</td>\n",
              "      <td>15</td>\n",
              "      <td>1</td>\n",
              "      <td>1</td>\n",
              "      <td>5</td>\n",
              "      <td>3</td>\n",
              "      <td>7</td>\n",
              "    </tr>\n",
              "    <tr>\n",
              "      <th>1467</th>\n",
              "      <td>27</td>\n",
              "      <td>Travel_Rarely</td>\n",
              "      <td>155</td>\n",
              "      <td>4</td>\n",
              "      <td>3</td>\n",
              "      <td>2</td>\n",
              "      <td>87</td>\n",
              "      <td>4</td>\n",
              "      <td>2</td>\n",
              "      <td>Manufacturing Director</td>\n",
              "      <td>...</td>\n",
              "      <td>6142</td>\n",
              "      <td>5174</td>\n",
              "      <td>1</td>\n",
              "      <td>Yes</td>\n",
              "      <td>20</td>\n",
              "      <td>2</td>\n",
              "      <td>1</td>\n",
              "      <td>0</td>\n",
              "      <td>3</td>\n",
              "      <td>6</td>\n",
              "    </tr>\n",
              "    <tr>\n",
              "      <th>1468</th>\n",
              "      <td>49</td>\n",
              "      <td>Travel_Frequently</td>\n",
              "      <td>1023</td>\n",
              "      <td>2</td>\n",
              "      <td>3</td>\n",
              "      <td>4</td>\n",
              "      <td>63</td>\n",
              "      <td>2</td>\n",
              "      <td>2</td>\n",
              "      <td>Sales Executive</td>\n",
              "      <td>...</td>\n",
              "      <td>5390</td>\n",
              "      <td>13243</td>\n",
              "      <td>2</td>\n",
              "      <td>No</td>\n",
              "      <td>14</td>\n",
              "      <td>4</td>\n",
              "      <td>0</td>\n",
              "      <td>3</td>\n",
              "      <td>2</td>\n",
              "      <td>9</td>\n",
              "    </tr>\n",
              "    <tr>\n",
              "      <th>1469</th>\n",
              "      <td>34</td>\n",
              "      <td>Travel_Rarely</td>\n",
              "      <td>628</td>\n",
              "      <td>8</td>\n",
              "      <td>3</td>\n",
              "      <td>2</td>\n",
              "      <td>82</td>\n",
              "      <td>4</td>\n",
              "      <td>2</td>\n",
              "      <td>Laboratory Technician</td>\n",
              "      <td>...</td>\n",
              "      <td>4404</td>\n",
              "      <td>10228</td>\n",
              "      <td>2</td>\n",
              "      <td>No</td>\n",
              "      <td>12</td>\n",
              "      <td>1</td>\n",
              "      <td>0</td>\n",
              "      <td>3</td>\n",
              "      <td>4</td>\n",
              "      <td>4</td>\n",
              "    </tr>\n",
              "  </tbody>\n",
              "</table>\n",
              "<p>1470 rows × 22 columns</p>\n",
              "</div>\n",
              "      <button class=\"colab-df-convert\" onclick=\"convertToInteractive('df-2dc71242-2fad-441b-b8d4-1dbd390524d7')\"\n",
              "              title=\"Convert this dataframe to an interactive table.\"\n",
              "              style=\"display:none;\">\n",
              "        \n",
              "  <svg xmlns=\"http://www.w3.org/2000/svg\" height=\"24px\"viewBox=\"0 0 24 24\"\n",
              "       width=\"24px\">\n",
              "    <path d=\"M0 0h24v24H0V0z\" fill=\"none\"/>\n",
              "    <path d=\"M18.56 5.44l.94 2.06.94-2.06 2.06-.94-2.06-.94-.94-2.06-.94 2.06-2.06.94zm-11 1L8.5 8.5l.94-2.06 2.06-.94-2.06-.94L8.5 2.5l-.94 2.06-2.06.94zm10 10l.94 2.06.94-2.06 2.06-.94-2.06-.94-.94-2.06-.94 2.06-2.06.94z\"/><path d=\"M17.41 7.96l-1.37-1.37c-.4-.4-.92-.59-1.43-.59-.52 0-1.04.2-1.43.59L10.3 9.45l-7.72 7.72c-.78.78-.78 2.05 0 2.83L4 21.41c.39.39.9.59 1.41.59.51 0 1.02-.2 1.41-.59l7.78-7.78 2.81-2.81c.8-.78.8-2.07 0-2.86zM5.41 20L4 18.59l7.72-7.72 1.47 1.35L5.41 20z\"/>\n",
              "  </svg>\n",
              "      </button>\n",
              "      \n",
              "  <style>\n",
              "    .colab-df-container {\n",
              "      display:flex;\n",
              "      flex-wrap:wrap;\n",
              "      gap: 12px;\n",
              "    }\n",
              "\n",
              "    .colab-df-convert {\n",
              "      background-color: #E8F0FE;\n",
              "      border: none;\n",
              "      border-radius: 50%;\n",
              "      cursor: pointer;\n",
              "      display: none;\n",
              "      fill: #1967D2;\n",
              "      height: 32px;\n",
              "      padding: 0 0 0 0;\n",
              "      width: 32px;\n",
              "    }\n",
              "\n",
              "    .colab-df-convert:hover {\n",
              "      background-color: #E2EBFA;\n",
              "      box-shadow: 0px 1px 2px rgba(60, 64, 67, 0.3), 0px 1px 3px 1px rgba(60, 64, 67, 0.15);\n",
              "      fill: #174EA6;\n",
              "    }\n",
              "\n",
              "    [theme=dark] .colab-df-convert {\n",
              "      background-color: #3B4455;\n",
              "      fill: #D2E3FC;\n",
              "    }\n",
              "\n",
              "    [theme=dark] .colab-df-convert:hover {\n",
              "      background-color: #434B5C;\n",
              "      box-shadow: 0px 1px 3px 1px rgba(0, 0, 0, 0.15);\n",
              "      filter: drop-shadow(0px 1px 2px rgba(0, 0, 0, 0.3));\n",
              "      fill: #FFFFFF;\n",
              "    }\n",
              "  </style>\n",
              "\n",
              "      <script>\n",
              "        const buttonEl =\n",
              "          document.querySelector('#df-2dc71242-2fad-441b-b8d4-1dbd390524d7 button.colab-df-convert');\n",
              "        buttonEl.style.display =\n",
              "          google.colab.kernel.accessAllowed ? 'block' : 'none';\n",
              "\n",
              "        async function convertToInteractive(key) {\n",
              "          const element = document.querySelector('#df-2dc71242-2fad-441b-b8d4-1dbd390524d7');\n",
              "          const dataTable =\n",
              "            await google.colab.kernel.invokeFunction('convertToInteractive',\n",
              "                                                     [key], {});\n",
              "          if (!dataTable) return;\n",
              "\n",
              "          const docLinkHtml = 'Like what you see? Visit the ' +\n",
              "            '<a target=\"_blank\" href=https://colab.research.google.com/notebooks/data_table.ipynb>data table notebook</a>'\n",
              "            + ' to learn more about interactive tables.';\n",
              "          element.innerHTML = '';\n",
              "          dataTable['output_type'] = 'display_data';\n",
              "          await google.colab.output.renderOutput(dataTable, element);\n",
              "          const docLink = document.createElement('div');\n",
              "          docLink.innerHTML = docLinkHtml;\n",
              "          element.appendChild(docLink);\n",
              "        }\n",
              "      </script>\n",
              "    </div>\n",
              "  </div>\n",
              "  "
            ]
          },
          "metadata": {},
          "execution_count": 230
        }
      ]
    },
    {
      "cell_type": "code",
      "source": [
        "#일단 랜덤포레스트 모델에 넣기 위해 범주형 변수 원핫인코딩 진행 \n",
        "x_data=pd.get_dummies(data=x_data,columns=['BusinessTravel'])\n",
        "x_data=pd.get_dummies(data=x_data,columns=['Education'])\n",
        "x_data=pd.get_dummies(data=x_data,columns=['EnvironmentSatisfaction'])\n",
        "x_data=pd.get_dummies(data=x_data,columns=['JobInvolvement'])\n",
        "x_data=pd.get_dummies(data=x_data,columns=['JobLevel'])\n",
        "x_data=pd.get_dummies(data=x_data,columns=['JobRole'])\n",
        "x_data=pd.get_dummies(data=x_data,columns=['JobSatisfaction'])\n",
        "x_data=pd.get_dummies(data=x_data,columns=['MaritalStatus'])\n",
        "x_data=pd.get_dummies(data=x_data,columns=['OverTime'])\n",
        "x_data=pd.get_dummies(data=x_data,columns=['RelationshipSatisfaction'])\n",
        "x_data=pd.get_dummies(data=x_data,columns=['StockOptionLevel'])\n",
        "x_data=pd.get_dummies(data=x_data,columns=['WorkLifeBalance'])\n"
      ],
      "metadata": {
        "id": "OkxwvWZuufB7"
      },
      "execution_count": 231,
      "outputs": []
    },
    {
      "cell_type": "code",
      "source": [
        "#종속형 변수는 이진분류를 위해 0과 1로 분리 \n",
        "y_data['Attrition']=np.where(y_data['Attrition']=='Yes',1,0)"
      ],
      "metadata": {
        "id": "fHzB2qYFxnNa"
      },
      "execution_count": 232,
      "outputs": []
    },
    {
      "cell_type": "code",
      "source": [
        "from sklearn.model_selection import train_test_split\n",
        "train_input,test_input,train_target,test_target=train_test_split(x_data,y_data,test_size=0.2,random_state=42)\n",
        "print(train_input.shape,train_target.shape)\n",
        "print(test_input.shape,test_target.shape)"
      ],
      "metadata": {
        "colab": {
          "base_uri": "https://localhost:8080/"
        },
        "id": "9i99HQQ8zQVb",
        "outputId": "0c8a8144-b2dd-4582-983c-8e179a840107"
      },
      "execution_count": 233,
      "outputs": [
        {
          "output_type": "stream",
          "name": "stdout",
          "text": [
            "(1176, 61) (1176, 1)\n",
            "(294, 61) (294, 1)\n"
          ]
        }
      ]
    },
    {
      "cell_type": "code",
      "source": [],
      "metadata": {
        "id": "NPH2B0mW6k3c"
      },
      "execution_count": 233,
      "outputs": []
    },
    {
      "cell_type": "code",
      "source": [
        "from sklearn.preprocessing import StandardScaler\n",
        "ss=StandardScaler()\n",
        "ss.fit(train_input)\n",
        "train_scaled=ss.transform(train_input)\n",
        "test_scaled=ss.transform(test_input)\n",
        "print(train_scaled.shape,test_scaled.shape)"
      ],
      "metadata": {
        "colab": {
          "base_uri": "https://localhost:8080/"
        },
        "id": "wAT_2aauxrTs",
        "outputId": "37d9bd93-f455-45b2-9922-1efc14b56f69"
      },
      "execution_count": 234,
      "outputs": [
        {
          "output_type": "stream",
          "name": "stdout",
          "text": [
            "(1176, 61) (294, 61)\n"
          ]
        }
      ]
    },
    {
      "cell_type": "code",
      "source": [
        "from imblearn.over_sampling import SMOTE\n",
        "\n",
        "smote = SMOTE(random_state=42)\n",
        "train_scaled_over, train_target_over = smote.fit_resample(train_scaled, train_target)\n",
        "print(\"SMOTE 적용 전 학습용 피처/레이블 데이터 세트 : \", train_scaled.shape, train_target.shape)\n",
        "print('SMOTE 적용 후 학습용 피처/레이블 데이터 세트 :', train_scaled_over.shape, train_target_over.shape)"
      ],
      "metadata": {
        "colab": {
          "base_uri": "https://localhost:8080/"
        },
        "id": "7yOUj_biyLyI",
        "outputId": "4ec2696d-79e4-452d-9ee5-bd2bcf3b72dc"
      },
      "execution_count": 235,
      "outputs": [
        {
          "output_type": "stream",
          "name": "stdout",
          "text": [
            "SMOTE 적용 전 학습용 피처/레이블 데이터 세트 :  (1176, 61) (1176, 1)\n",
            "SMOTE 적용 후 학습용 피처/레이블 데이터 세트 : (1956, 61) (1956, 1)\n"
          ]
        }
      ]
    },
    {
      "cell_type": "code",
      "source": [
        "from sklearn.ensemble import RandomForestClassifier\n",
        "from sklearn.metrics import confusion_matrix,accuracy_score\n",
        "rfc = RandomForestClassifier(n_estimators=100,min_samples_split=5,criterion='gini')\n",
        "rfc.fit(train_scaled_over , train_target_over)\n",
        "pred = rfc.predict(test_scaled)\n",
        "test_acc=accuracy_score(test_target, pred) \n",
        "print(test_acc)"
      ],
      "metadata": {
        "colab": {
          "base_uri": "https://localhost:8080/"
        },
        "id": "Frf873uZytbI",
        "outputId": "49940f85-d643-43ec-9bea-d2ad36cc4d75"
      },
      "execution_count": 236,
      "outputs": [
        {
          "output_type": "stream",
          "name": "stderr",
          "text": [
            "<ipython-input-236-2782b3e083b3>:4: DataConversionWarning: A column-vector y was passed when a 1d array was expected. Please change the shape of y to (n_samples,), for example using ravel().\n",
            "  rfc.fit(train_scaled_over , train_target_over)\n"
          ]
        },
        {
          "output_type": "stream",
          "name": "stdout",
          "text": [
            "0.8707482993197279\n"
          ]
        }
      ]
    },
    {
      "cell_type": "code",
      "source": [
        "!pip install eli5"
      ],
      "metadata": {
        "colab": {
          "base_uri": "https://localhost:8080/"
        },
        "id": "g3YmBt2Azgl1",
        "outputId": "3a677c13-e5d4-4143-d171-61468ab3e81c"
      },
      "execution_count": 237,
      "outputs": [
        {
          "output_type": "stream",
          "name": "stdout",
          "text": [
            "Looking in indexes: https://pypi.org/simple, https://us-python.pkg.dev/colab-wheels/public/simple/\n",
            "Requirement already satisfied: eli5 in /usr/local/lib/python3.8/dist-packages (0.13.0)\n",
            "Requirement already satisfied: scikit-learn>=0.20 in /usr/local/lib/python3.8/dist-packages (from eli5) (1.0.2)\n",
            "Requirement already satisfied: scipy in /usr/local/lib/python3.8/dist-packages (from eli5) (1.7.3)\n",
            "Requirement already satisfied: six in /usr/local/lib/python3.8/dist-packages (from eli5) (1.15.0)\n",
            "Requirement already satisfied: attrs>17.1.0 in /usr/local/lib/python3.8/dist-packages (from eli5) (22.2.0)\n",
            "Requirement already satisfied: graphviz in /usr/local/lib/python3.8/dist-packages (from eli5) (0.10.1)\n",
            "Requirement already satisfied: tabulate>=0.7.7 in /usr/local/lib/python3.8/dist-packages (from eli5) (0.8.10)\n",
            "Requirement already satisfied: numpy>=1.9.0 in /usr/local/lib/python3.8/dist-packages (from eli5) (1.21.6)\n",
            "Requirement already satisfied: jinja2>=3.0.0 in /usr/local/lib/python3.8/dist-packages (from eli5) (3.1.2)\n",
            "Requirement already satisfied: MarkupSafe>=2.0 in /usr/local/lib/python3.8/dist-packages (from jinja2>=3.0.0->eli5) (2.0.1)\n",
            "Requirement already satisfied: joblib>=0.11 in /usr/local/lib/python3.8/dist-packages (from scikit-learn>=0.20->eli5) (1.2.0)\n",
            "Requirement already satisfied: threadpoolctl>=2.0.0 in /usr/local/lib/python3.8/dist-packages (from scikit-learn>=0.20->eli5) (3.1.0)\n"
          ]
        }
      ]
    },
    {
      "cell_type": "code",
      "source": [
        "import eli5\n",
        "from eli5.sklearn import PermutationImportance\n",
        "perm=PermutationImportance(rfc,random_state=42).fit(test_scaled,test_target)\n",
        "\n",
        "eli5.show_weights(perm,feature_names=train_input.columns.tolist())"
      ],
      "metadata": {
        "colab": {
          "base_uri": "https://localhost:8080/",
          "height": 399
        },
        "id": "R82NMIcK4agr",
        "outputId": "8632db65-1096-446d-f089-d4f77b8f879b"
      },
      "execution_count": 239,
      "outputs": [
        {
          "output_type": "execute_result",
          "data": {
            "text/plain": [
              "<IPython.core.display.HTML object>"
            ],
            "text/html": [
              "\n",
              "    <style>\n",
              "    table.eli5-weights tr:hover {\n",
              "        filter: brightness(85%);\n",
              "    }\n",
              "</style>\n",
              "\n",
              "\n",
              "\n",
              "    \n",
              "\n",
              "    \n",
              "\n",
              "    \n",
              "\n",
              "    \n",
              "\n",
              "    \n",
              "\n",
              "    \n",
              "\n",
              "\n",
              "    \n",
              "\n",
              "    \n",
              "\n",
              "    \n",
              "\n",
              "    \n",
              "\n",
              "    \n",
              "\n",
              "    \n",
              "\n",
              "\n",
              "    \n",
              "\n",
              "    \n",
              "\n",
              "    \n",
              "\n",
              "    \n",
              "\n",
              "    \n",
              "        <table class=\"eli5-weights eli5-feature-importances\" style=\"border-collapse: collapse; border: none; margin-top: 0em; table-layout: auto;\">\n",
              "    <thead>\n",
              "    <tr style=\"border: none;\">\n",
              "        <th style=\"padding: 0 1em 0 0.5em; text-align: right; border: none;\">Weight</th>\n",
              "        <th style=\"padding: 0 0.5em 0 0.5em; text-align: left; border: none;\">Feature</th>\n",
              "    </tr>\n",
              "    </thead>\n",
              "    <tbody>\n",
              "    \n",
              "        <tr style=\"background-color: hsl(120, 100.00%, 80.00%); border: none;\">\n",
              "            <td style=\"padding: 0 1em 0 0.5em; text-align: right; border: none;\">\n",
              "                0.0082\n",
              "                \n",
              "                    &plusmn; 0.0033\n",
              "                \n",
              "            </td>\n",
              "            <td style=\"padding: 0 0.5em 0 0.5em; text-align: left; border: none;\">\n",
              "                JobRole_Manufacturing Director\n",
              "            </td>\n",
              "        </tr>\n",
              "    \n",
              "        <tr style=\"background-color: hsl(120, 100.00%, 82.40%); border: none;\">\n",
              "            <td style=\"padding: 0 1em 0 0.5em; text-align: right; border: none;\">\n",
              "                0.0068\n",
              "                \n",
              "                    &plusmn; 0.0043\n",
              "                \n",
              "            </td>\n",
              "            <td style=\"padding: 0 0.5em 0 0.5em; text-align: left; border: none;\">\n",
              "                DailyRate\n",
              "            </td>\n",
              "        </tr>\n",
              "    \n",
              "        <tr style=\"background-color: hsl(120, 100.00%, 83.65%); border: none;\">\n",
              "            <td style=\"padding: 0 1em 0 0.5em; text-align: right; border: none;\">\n",
              "                0.0061\n",
              "                \n",
              "                    &plusmn; 0.0079\n",
              "                \n",
              "            </td>\n",
              "            <td style=\"padding: 0 0.5em 0 0.5em; text-align: left; border: none;\">\n",
              "                YearsAtCompany\n",
              "            </td>\n",
              "        </tr>\n",
              "    \n",
              "        <tr style=\"background-color: hsl(120, 100.00%, 84.94%); border: none;\">\n",
              "            <td style=\"padding: 0 1em 0 0.5em; text-align: right; border: none;\">\n",
              "                0.0054\n",
              "                \n",
              "                    &plusmn; 0.0054\n",
              "                \n",
              "            </td>\n",
              "            <td style=\"padding: 0 0.5em 0 0.5em; text-align: left; border: none;\">\n",
              "                JobInvolvement_2\n",
              "            </td>\n",
              "        </tr>\n",
              "    \n",
              "        <tr style=\"background-color: hsl(120, 100.00%, 84.94%); border: none;\">\n",
              "            <td style=\"padding: 0 1em 0 0.5em; text-align: right; border: none;\">\n",
              "                0.0054\n",
              "                \n",
              "                    &plusmn; 0.0069\n",
              "                \n",
              "            </td>\n",
              "            <td style=\"padding: 0 0.5em 0 0.5em; text-align: left; border: none;\">\n",
              "                EnvironmentSatisfaction_1\n",
              "            </td>\n",
              "        </tr>\n",
              "    \n",
              "        <tr style=\"background-color: hsl(120, 100.00%, 86.29%); border: none;\">\n",
              "            <td style=\"padding: 0 1em 0 0.5em; text-align: right; border: none;\">\n",
              "                0.0048\n",
              "                \n",
              "                    &plusmn; 0.0069\n",
              "                \n",
              "            </td>\n",
              "            <td style=\"padding: 0 0.5em 0 0.5em; text-align: left; border: none;\">\n",
              "                Age\n",
              "            </td>\n",
              "        </tr>\n",
              "    \n",
              "        <tr style=\"background-color: hsl(120, 100.00%, 86.29%); border: none;\">\n",
              "            <td style=\"padding: 0 1em 0 0.5em; text-align: right; border: none;\">\n",
              "                0.0048\n",
              "                \n",
              "                    &plusmn; 0.0033\n",
              "                \n",
              "            </td>\n",
              "            <td style=\"padding: 0 0.5em 0 0.5em; text-align: left; border: none;\">\n",
              "                MonthlyRate\n",
              "            </td>\n",
              "        </tr>\n",
              "    \n",
              "        <tr style=\"background-color: hsl(120, 100.00%, 87.69%); border: none;\">\n",
              "            <td style=\"padding: 0 1em 0 0.5em; text-align: right; border: none;\">\n",
              "                0.0041\n",
              "                \n",
              "                    &plusmn; 0.0027\n",
              "                \n",
              "            </td>\n",
              "            <td style=\"padding: 0 0.5em 0 0.5em; text-align: left; border: none;\">\n",
              "                JobInvolvement_1\n",
              "            </td>\n",
              "        </tr>\n",
              "    \n",
              "        <tr style=\"background-color: hsl(120, 100.00%, 87.69%); border: none;\">\n",
              "            <td style=\"padding: 0 1em 0 0.5em; text-align: right; border: none;\">\n",
              "                0.0041\n",
              "                \n",
              "                    &plusmn; 0.0079\n",
              "                \n",
              "            </td>\n",
              "            <td style=\"padding: 0 0.5em 0 0.5em; text-align: left; border: none;\">\n",
              "                BusinessTravel_Travel_Frequently\n",
              "            </td>\n",
              "        </tr>\n",
              "    \n",
              "        <tr style=\"background-color: hsl(120, 100.00%, 87.69%); border: none;\">\n",
              "            <td style=\"padding: 0 1em 0 0.5em; text-align: right; border: none;\">\n",
              "                0.0041\n",
              "                \n",
              "                    &plusmn; 0.0067\n",
              "                \n",
              "            </td>\n",
              "            <td style=\"padding: 0 0.5em 0 0.5em; text-align: left; border: none;\">\n",
              "                MonthlyIncome\n",
              "            </td>\n",
              "        </tr>\n",
              "    \n",
              "        <tr style=\"background-color: hsl(120, 100.00%, 89.16%); border: none;\">\n",
              "            <td style=\"padding: 0 1em 0 0.5em; text-align: right; border: none;\">\n",
              "                0.0034\n",
              "                \n",
              "                    &plusmn; 0.0086\n",
              "                \n",
              "            </td>\n",
              "            <td style=\"padding: 0 0.5em 0 0.5em; text-align: left; border: none;\">\n",
              "                JobSatisfaction_4\n",
              "            </td>\n",
              "        </tr>\n",
              "    \n",
              "        <tr style=\"background-color: hsl(120, 100.00%, 89.16%); border: none;\">\n",
              "            <td style=\"padding: 0 1em 0 0.5em; text-align: right; border: none;\">\n",
              "                0.0034\n",
              "                \n",
              "                    &plusmn; 0.0000\n",
              "                \n",
              "            </td>\n",
              "            <td style=\"padding: 0 0.5em 0 0.5em; text-align: left; border: none;\">\n",
              "                JobLevel_4\n",
              "            </td>\n",
              "        </tr>\n",
              "    \n",
              "        <tr style=\"background-color: hsl(120, 100.00%, 89.16%); border: none;\">\n",
              "            <td style=\"padding: 0 1em 0 0.5em; text-align: right; border: none;\">\n",
              "                0.0034\n",
              "                \n",
              "                    &plusmn; 0.0075\n",
              "                \n",
              "            </td>\n",
              "            <td style=\"padding: 0 0.5em 0 0.5em; text-align: left; border: none;\">\n",
              "                JobRole_Sales Executive\n",
              "            </td>\n",
              "        </tr>\n",
              "    \n",
              "        <tr style=\"background-color: hsl(120, 100.00%, 89.16%); border: none;\">\n",
              "            <td style=\"padding: 0 1em 0 0.5em; text-align: right; border: none;\">\n",
              "                0.0034\n",
              "                \n",
              "                    &plusmn; 0.0000\n",
              "                \n",
              "            </td>\n",
              "            <td style=\"padding: 0 0.5em 0 0.5em; text-align: left; border: none;\">\n",
              "                JobRole_Research Scientist\n",
              "            </td>\n",
              "        </tr>\n",
              "    \n",
              "        <tr style=\"background-color: hsl(120, 100.00%, 90.73%); border: none;\">\n",
              "            <td style=\"padding: 0 1em 0 0.5em; text-align: right; border: none;\">\n",
              "                0.0027\n",
              "                \n",
              "                    &plusmn; 0.0027\n",
              "                \n",
              "            </td>\n",
              "            <td style=\"padding: 0 0.5em 0 0.5em; text-align: left; border: none;\">\n",
              "                HourlyRate\n",
              "            </td>\n",
              "        </tr>\n",
              "    \n",
              "        <tr style=\"background-color: hsl(120, 100.00%, 90.73%); border: none;\">\n",
              "            <td style=\"padding: 0 1em 0 0.5em; text-align: right; border: none;\">\n",
              "                0.0027\n",
              "                \n",
              "                    &plusmn; 0.0079\n",
              "                \n",
              "            </td>\n",
              "            <td style=\"padding: 0 0.5em 0 0.5em; text-align: left; border: none;\">\n",
              "                StockOptionLevel_0\n",
              "            </td>\n",
              "        </tr>\n",
              "    \n",
              "        <tr style=\"background-color: hsl(120, 100.00%, 90.73%); border: none;\">\n",
              "            <td style=\"padding: 0 1em 0 0.5em; text-align: right; border: none;\">\n",
              "                0.0027\n",
              "                \n",
              "                    &plusmn; 0.0027\n",
              "                \n",
              "            </td>\n",
              "            <td style=\"padding: 0 0.5em 0 0.5em; text-align: left; border: none;\">\n",
              "                JobInvolvement_3\n",
              "            </td>\n",
              "        </tr>\n",
              "    \n",
              "        <tr style=\"background-color: hsl(120, 100.00%, 90.73%); border: none;\">\n",
              "            <td style=\"padding: 0 1em 0 0.5em; text-align: right; border: none;\">\n",
              "                0.0027\n",
              "                \n",
              "                    &plusmn; 0.0051\n",
              "                \n",
              "            </td>\n",
              "            <td style=\"padding: 0 0.5em 0 0.5em; text-align: left; border: none;\">\n",
              "                WorkLifeBalance_2\n",
              "            </td>\n",
              "        </tr>\n",
              "    \n",
              "        <tr style=\"background-color: hsl(120, 100.00%, 92.42%); border: none;\">\n",
              "            <td style=\"padding: 0 1em 0 0.5em; text-align: right; border: none;\">\n",
              "                0.0020\n",
              "                \n",
              "                    &plusmn; 0.0033\n",
              "                \n",
              "            </td>\n",
              "            <td style=\"padding: 0 0.5em 0 0.5em; text-align: left; border: none;\">\n",
              "                JobRole_Healthcare Representative\n",
              "            </td>\n",
              "        </tr>\n",
              "    \n",
              "        <tr style=\"background-color: hsl(120, 100.00%, 92.42%); border: none;\">\n",
              "            <td style=\"padding: 0 1em 0 0.5em; text-align: right; border: none;\">\n",
              "                0.0020\n",
              "                \n",
              "                    &plusmn; 0.0033\n",
              "                \n",
              "            </td>\n",
              "            <td style=\"padding: 0 0.5em 0 0.5em; text-align: left; border: none;\">\n",
              "                JobSatisfaction_2\n",
              "            </td>\n",
              "        </tr>\n",
              "    \n",
              "    \n",
              "        \n",
              "            <tr style=\"background-color: hsl(120, 100.00%, 92.42%); border: none;\">\n",
              "                <td colspan=\"2\" style=\"padding: 0 0.5em 0 0.5em; text-align: center; border: none; white-space: nowrap;\">\n",
              "                    <i>&hellip; 41 more &hellip;</i>\n",
              "                </td>\n",
              "            </tr>\n",
              "        \n",
              "    \n",
              "    </tbody>\n",
              "</table>\n",
              "    \n",
              "\n",
              "    \n",
              "\n",
              "\n",
              "    \n",
              "\n",
              "    \n",
              "\n",
              "    \n",
              "\n",
              "    \n",
              "\n",
              "    \n",
              "\n",
              "    \n",
              "\n",
              "\n",
              "\n"
            ]
          },
          "metadata": {},
          "execution_count": 239
        }
      ]
    },
    {
      "cell_type": "markdown",
      "source": [
        "#파생변수로는 \n",
        "1. 상위권에 쭉 있던 JobRole \n",
        "2. DailyRate\n",
        "3. YearsAtCompany\n",
        "4. Age\n",
        "5. MonthlyRate\n",
        "6. 상위권에 쭉 있던 JobInvolvement \n",
        "7. Monthlyincome\n",
        "8. JobSatisfaction \n",
        "이렇게 설정하겠다 .. "
      ],
      "metadata": {
        "id": "n9Ypmm1I7HzT"
      }
    },
    {
      "cell_type": "code",
      "source": [],
      "metadata": {
        "id": "izOqU7NY6Xjt"
      },
      "execution_count": null,
      "outputs": []
    },
    {
      "cell_type": "markdown",
      "source": [],
      "metadata": {
        "id": "lDFJsKM5qXYF"
      }
    }
  ]
}