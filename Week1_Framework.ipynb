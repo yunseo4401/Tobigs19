{
  "cells": [
    {
      "cell_type": "markdown",
      "metadata": {
        "id": "Uwucvup5nQJ9"
      },
      "source": [
        "# Week1_Library 과제"
      ]
    },
    {
      "cell_type": "markdown",
      "metadata": {
        "id": "-O-pxCtGnQKA"
      },
      "source": [
        "### Q1. Library 와 Framework 의 차이 간단하게 서술하시오. (100자 내외)"
      ]
    },
    {
      "cell_type": "markdown",
      "metadata": {
        "id": "et2EAWs3nQKB"
      },
      "source": [
        "라이브러리와 프레임워크의 가장 큰 차이는 제어 흐름에 대한 주도성이 누구에게 또는 어디에 있는가 이다.프레임워크는 전체적인 흐름을 스스로가 쥐고 있고 사용자는 그 안에서 필요한 코드를 짜넣으면 되지만 라이브러리는 사용자가 전체적인 흐름을 만들어 라이브러리를 활용하는 것이라고 할 수 있다. "
      ]
    },
    {
      "cell_type": "markdown",
      "metadata": {
        "id": "5pLxscf0nQKC"
      },
      "source": [
        "### Q2. 딥러닝과 머신러닝의 관계 및 특징, 차이 간단하게 서술하시오. (200자 내외)"
      ]
    },
    {
      "cell_type": "markdown",
      "metadata": {
        "id": "d9JgfVlanQKC"
      },
      "source": [
        "머신러닝은 기계를 학습시켜 인공지능을 만드는 것이고, 딥러닝은 신경망을 통해 인공지능을 만드는 것으로 딥러닝은 머신러닝안에 포함된 개념이다. 머신러닝을 학습할 데이터에 대해 인간이 이미 처리,가공을 하지만 딥러닝의 경우 컴퓨터가 스스로 학습하도록 한다. "
      ]
    },
    {
      "cell_type": "markdown",
      "metadata": {
        "id": "pW4EretQnQKC"
      },
      "source": []
    },
    {
      "cell_type": "markdown",
      "metadata": {
        "id": "r_qd_3bYnQKC"
      },
      "source": [
        "### Q3. 아래의 코드에 주석 달기."
      ]
    },
    {
      "cell_type": "code",
      "execution_count": null,
      "metadata": {
        "id": "9lswVjESnQKD"
      },
      "outputs": [],
      "source": [
        "#필요한 패키지 import \n",
        "import torch\n",
        "import torch.nn as nn\n",
        "import torch.nn.functional as F\n",
        "import torch.optim as optim\n",
        "import torchvision\n",
        "import torchvision.transforms as transfroms\n",
        "\n",
        "device = 'cuda' if torch.cuda.is_available() else 'cpu' # cuda가 사용 가능하면 device에 \"cuda\"를 저장하고 사용 가능하지 않으면 \"cpu\"를 저장한다.\n",
        "torch.manual_seed(45)\n",
        "if device == 'cuda':\n",
        "    torch.cuda.manual_seed_all(45) #랜덤시드값 고정 \n",
        "print(device + \" is available\")"
      ]
    },
    {
      "cell_type": "code",
      "execution_count": null,
      "metadata": {
        "id": "mfMPkggWnQKE"
      },
      "outputs": [],
      "source": [
        "learning_rate = 0.001 #학습률설정 \n",
        "batch_size = 100 #배치사이즈 설정  \n",
        "num_classes = 10 #클래스 개수 설정 \n",
        "epochs = 5 # 에포크 설정 "
      ]
    },
    {
      "cell_type": "code",
      "execution_count": null,
      "metadata": {
        "id": "ggF4z78hnQKE"
      },
      "outputs": [],
      "source": [
        "#trainset, testset 데이터 다운로드 \n",
        "train_set = torchvision.datasets.MNIST(\n",
        "    root = './data/MNIST',\n",
        "    train = True, #학습용 \n",
        "    download = True,\n",
        "    transform = transfroms.Compose([\n",
        "        transfroms.ToTensor()  # 데이터를 0에서 255까지 있는 값을 0에서 1사이 값으로 변환\n",
        "    ])\n",
        ")\n",
        "\n",
        "test_set = torchvision.datasets.MNIST(\n",
        "    root = './data/MNIST',\n",
        "    train = False, #테스트용 \n",
        "    download = True,\n",
        "    transform = transfroms.Compose([\n",
        "        transfroms.ToTensor()\n",
        "    ])\n",
        ")"
      ]
    },
    {
      "cell_type": "code",
      "execution_count": null,
      "metadata": {
        "id": "UL84QS2lnQKF"
      },
      "outputs": [],
      "source": [
        "#학습시 데이터들을 배치사이즈씩 전달하기 객체 dataloader사용(한번에 학습시 시간 오래걸림)\n",
        "train_loader = torch.utils.data.DataLoader(train_set, batch_size=batch_size)\n",
        "test_loader = torch.utils.data.DataLoader(test_set, batch_size=batch_size)\n",
        "\n",
        "# input size를 알기 위해서\n",
        "examples = enumerate(train_set)\n",
        "batch_idx, (example_data, example_targets) = next(examples)\n",
        "example_data.shape"
      ]
    },
    {
      "cell_type": "code",
      "execution_count": null,
      "metadata": {
        "id": "C-6YRciinQKF"
      },
      "outputs": [],
      "source": [
        "#CNN층을 쌓기 위한 class생성 \n",
        "class ConvNet(nn.Module):\n",
        "  def __init__(self): \n",
        "        super(ConvNet, self).__init__() \n",
        "        self.conv1 = nn.Conv2d(1, 10, kernel_size=5) \n",
        "        self.conv2 = nn.Conv2d(10, 20, kernel_size=5) #합성곱층 2개 쌓기 \n",
        "        self.drop2D = nn.Dropout2d(p=0.25, inplace=False) #드롭층 0.25의 비율 \n",
        "        self.mp = nn.MaxPool2d(2) #맥스풀링 \n",
        "        self.fc1 = nn.Linear(320,100) #flat한것으로 100개로 출력 \n",
        "        self.fc2 = nn.Linear(100,10)  #100개의 출력을 10개로 변경 \n",
        "\n",
        "\n",
        "  def forward(self, x):\n",
        "        x = F.relu(self.mp(self.conv1(x))) #합성곱층 첫번째에 relu씌우기 \n",
        "        x = F.relu(self.mp(self.conv2(x))) #합성곱층 두번째에 relu 씌우기\n",
        "        x = self.drop2D(x) \n",
        "        x = x.view(x.size(0), -1) #flat하게 해주기 \n",
        "        x = self.fc1(x) #fc1레이어에 삽입 \n",
        "        x = self.fc2(x) #fc2레이어에 삽입 \n",
        "        return F.log_softmax(x) #logsoftmax함수에 넣어 반환 "
      ]
    },
    {
      "cell_type": "code",
      "execution_count": null,
      "metadata": {
        "id": "Gtb3t_aknQKG"
      },
      "outputs": [],
      "source": [
        "\n",
        "model = ConvNet().to(device) #CNN 모델 생성 \n",
        "# Cost Function과 Optimizer 선택\n",
        "criterion = nn.CrossEntropyLoss().to(device) #크로스엔트로피함수 \n",
        "optimizer = torch.optim.Adam(model.parameters(), lr = learning_rate) #optimizer로 adam선택 "
      ]
    },
    {
      "cell_type": "code",
      "execution_count": null,
      "metadata": {
        "id": "m4jam-FknQKG"
      },
      "outputs": [],
      "source": [
        "#epoch만큼 실행 \n",
        "for epoch in range(epochs): \n",
        "    avg_cost = 0\n",
        "    for data, target in train_loader:\n",
        "        data = data.to(device)\n",
        "        target = target.to(device)\n",
        "        optimizer.zero_grad() # 모든 model의 gradient 값을 0으로 설정\n",
        "        hypothesis = model(data) # 모델을 forward pass해 결과값 저장 \n",
        "        cost = criterion(hypothesis, target) #loss 계산 \n",
        "        cost.backward()# backward 함수를 호출해 gradient 계산\n",
        "        optimizer.step() # 모델의 학습 파라미터 갱신\n",
        "        avg_cost += cost / len(train_loader) #평균cost값 구하기 \n",
        "    print('[Epoch: {:>4}]  cost = {:>.9}'.format(epoch + 1, avg_cost))"
      ]
    },
    {
      "cell_type": "code",
      "execution_count": null,
      "metadata": {
        "id": "kTgOENHxnQKG"
      },
      "outputs": [],
      "source": [
        "\n",
        "model.eval()# evaluate mode로 전환 \n",
        "with torch.no_grad(): #grad 해제 \n",
        "    correct = 0\n",
        "    total = 0\n",
        "\n",
        "    for data, target in test_loader: #test하자 \n",
        "        data = data.to(device)\n",
        "        target = target.to(device)\n",
        "        out = model(data)\n",
        "        preds = torch.max(out.data, 1)[1] #가장 높은 값을 갖는 인덱스를 추출\n",
        "        total += len(target) \n",
        "        correct += (preds==target).sum().item() #예측값이 실제값과 같은지 비교 \n",
        "        \n",
        "    print('Test Accuracy: ', 100.*correct/total, '%')\n",
        "     "
      ]
    },
    {
      "cell_type": "code",
      "execution_count": null,
      "metadata": {
        "id": "X9BY6ig6nQKH"
      },
      "outputs": [],
      "source": []
    },
    {
      "cell_type": "markdown",
      "metadata": {
        "id": "bUDkBNyinQKH"
      },
      "source": [
        "## 첫 정규세션 들으시느라 고생 많으셨습니다."
      ]
    },
    {
      "cell_type": "markdown",
      "metadata": {
        "id": "wa_YtOYWnQKH"
      },
      "source": []
    }
  ],
  "metadata": {
    "kernelspec": {
      "display_name": "Python 3",
      "language": "python",
      "name": "python3"
    },
    "language_info": {
      "name": "python",
      "version": "3.11.0 (main, Oct 24 2022, 18:26:48) [MSC v.1933 64 bit (AMD64)]"
    },
    "orig_nbformat": 4,
    "vscode": {
      "interpreter": {
        "hash": "c8758ede8fb5b1b22b6571a5c50167e14022fbbcb9edb3d484f2c2c206d32150"
      }
    },
    "colab": {
      "provenance": []
    }
  },
  "nbformat": 4,
  "nbformat_minor": 0
}