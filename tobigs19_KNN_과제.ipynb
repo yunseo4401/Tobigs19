{
 "cells": [
  {
   "cell_type": "markdown",
   "metadata": {
    "id": "_PTZ7GaPe4PF"
   },
   "source": [
    "# 19기 KNN 정규세션 과제"
   ]
  },
  {
   "cell_type": "markdown",
   "metadata": {
    "id": "3OFNeO0Ie4PH"
   },
   "source": [
    "## KNN 구현해보기\n",
    "### 1. Preprocssing / EDA\n",
    "지금까지 배운 내용을 토대로 해당 데이터에 대해 자유롭게 전처리와 EDA를 진행해주세요.\n",
    "### 2. KNN 구현 & 파라미터 튜닝\n",
    "수업 내용 및 실습 자료를 참고하여 KNN을 구현하고 파라미터 튜닝을 하며 결과를 비교해주세요.\n",
    "### 3. Evaluation\n",
    "결과에 대한 평가를 진행하고, 나름의 해석을 달아주세요."
   ]
  },
  {
   "cell_type": "markdown",
   "metadata": {
    "id": "k_IkS8Ybe4PI"
   },
   "source": [
    "**데이터:** [blackfriday | Kaggle](https://www.kaggle.com/llopesolivei/blackfriday)"
   ]
  },
  {
   "cell_type": "markdown",
   "metadata": {
    "id": "ZvUdeo2he4PI"
   },
   "source": [
    "---"
   ]
  },
  {
   "cell_type": "markdown",
   "metadata": {
    "id": "lTlQgiSie4PI"
   },
   "source": [
    "## 0. 데이터 불러오기"
   ]
  },
  {
   "cell_type": "code",
   "execution_count": 565,
   "metadata": {
    "id": "eNTRK8Ete4PJ",
    "outputId": "de247747-4645-49a6-c5d2-38cc1a381d42"
   },
   "outputs": [
    {
     "data": {
      "text/html": [
       "<div>\n",
       "<style scoped>\n",
       "    .dataframe tbody tr th:only-of-type {\n",
       "        vertical-align: middle;\n",
       "    }\n",
       "\n",
       "    .dataframe tbody tr th {\n",
       "        vertical-align: top;\n",
       "    }\n",
       "\n",
       "    .dataframe thead th {\n",
       "        text-align: right;\n",
       "    }\n",
       "</style>\n",
       "<table border=\"1\" class=\"dataframe\">\n",
       "  <thead>\n",
       "    <tr style=\"text-align: right;\">\n",
       "      <th></th>\n",
       "      <th>User_ID</th>\n",
       "      <th>Product_ID</th>\n",
       "      <th>Gender</th>\n",
       "      <th>Age</th>\n",
       "      <th>Occupation</th>\n",
       "      <th>City_Category</th>\n",
       "      <th>Stay_In_Current_City_Years</th>\n",
       "      <th>Marital_Status</th>\n",
       "      <th>Product_Category_1</th>\n",
       "      <th>Product_Category_2</th>\n",
       "      <th>Product_Category_3</th>\n",
       "      <th>Purchase</th>\n",
       "    </tr>\n",
       "  </thead>\n",
       "  <tbody>\n",
       "    <tr>\n",
       "      <th>0</th>\n",
       "      <td>1001088</td>\n",
       "      <td>P00046042</td>\n",
       "      <td>F</td>\n",
       "      <td>0-17</td>\n",
       "      <td>10</td>\n",
       "      <td>A</td>\n",
       "      <td>3</td>\n",
       "      <td>0</td>\n",
       "      <td>5</td>\n",
       "      <td>17.0</td>\n",
       "      <td>NaN</td>\n",
       "      <td>2010</td>\n",
       "    </tr>\n",
       "    <tr>\n",
       "      <th>1</th>\n",
       "      <td>1004493</td>\n",
       "      <td>P00347742</td>\n",
       "      <td>F</td>\n",
       "      <td>0-17</td>\n",
       "      <td>10</td>\n",
       "      <td>A</td>\n",
       "      <td>1</td>\n",
       "      <td>0</td>\n",
       "      <td>7</td>\n",
       "      <td>NaN</td>\n",
       "      <td>NaN</td>\n",
       "      <td>4483</td>\n",
       "    </tr>\n",
       "    <tr>\n",
       "      <th>2</th>\n",
       "      <td>1005302</td>\n",
       "      <td>P00048942</td>\n",
       "      <td>F</td>\n",
       "      <td>0-17</td>\n",
       "      <td>10</td>\n",
       "      <td>A</td>\n",
       "      <td>1</td>\n",
       "      <td>0</td>\n",
       "      <td>1</td>\n",
       "      <td>4.0</td>\n",
       "      <td>NaN</td>\n",
       "      <td>7696</td>\n",
       "    </tr>\n",
       "    <tr>\n",
       "      <th>3</th>\n",
       "      <td>1001348</td>\n",
       "      <td>P00145242</td>\n",
       "      <td>F</td>\n",
       "      <td>0-17</td>\n",
       "      <td>10</td>\n",
       "      <td>A</td>\n",
       "      <td>3</td>\n",
       "      <td>0</td>\n",
       "      <td>2</td>\n",
       "      <td>4.0</td>\n",
       "      <td>NaN</td>\n",
       "      <td>16429</td>\n",
       "    </tr>\n",
       "    <tr>\n",
       "      <th>4</th>\n",
       "      <td>1001348</td>\n",
       "      <td>P00106742</td>\n",
       "      <td>F</td>\n",
       "      <td>0-17</td>\n",
       "      <td>10</td>\n",
       "      <td>A</td>\n",
       "      <td>3</td>\n",
       "      <td>0</td>\n",
       "      <td>3</td>\n",
       "      <td>5.0</td>\n",
       "      <td>NaN</td>\n",
       "      <td>5780</td>\n",
       "    </tr>\n",
       "  </tbody>\n",
       "</table>\n",
       "</div>"
      ],
      "text/plain": [
       "   User_ID Product_ID Gender   Age  Occupation City_Category  \\\n",
       "0  1001088  P00046042      F  0-17          10             A   \n",
       "1  1004493  P00347742      F  0-17          10             A   \n",
       "2  1005302  P00048942      F  0-17          10             A   \n",
       "3  1001348  P00145242      F  0-17          10             A   \n",
       "4  1001348  P00106742      F  0-17          10             A   \n",
       "\n",
       "  Stay_In_Current_City_Years  Marital_Status  Product_Category_1  \\\n",
       "0                          3               0                   5   \n",
       "1                          1               0                   7   \n",
       "2                          1               0                   1   \n",
       "3                          3               0                   2   \n",
       "4                          3               0                   3   \n",
       "\n",
       "   Product_Category_2  Product_Category_3  Purchase  \n",
       "0                17.0                 NaN      2010  \n",
       "1                 NaN                 NaN      4483  \n",
       "2                 4.0                 NaN      7696  \n",
       "3                 4.0                 NaN     16429  \n",
       "4                 5.0                 NaN      5780  "
      ]
     },
     "execution_count": 565,
     "metadata": {},
     "output_type": "execute_result"
    }
   ],
   "source": [
    "import pandas as pd\n",
    "df = pd.read_csv(\"blackfriday.csv\", index_col = 0)\n",
    "df.head()"
   ]
  },
  {
   "cell_type": "code",
   "execution_count": 566,
   "metadata": {},
   "outputs": [
    {
     "name": "stdout",
     "output_type": "stream",
     "text": [
      "<class 'pandas.core.frame.DataFrame'>\n",
      "Int64Index: 4998 entries, 0 to 4997\n",
      "Data columns (total 12 columns):\n",
      " #   Column                      Non-Null Count  Dtype  \n",
      "---  ------                      --------------  -----  \n",
      " 0   User_ID                     4998 non-null   int64  \n",
      " 1   Product_ID                  4998 non-null   object \n",
      " 2   Gender                      4998 non-null   object \n",
      " 3   Age                         4998 non-null   object \n",
      " 4   Occupation                  4998 non-null   int64  \n",
      " 5   City_Category               4998 non-null   object \n",
      " 6   Stay_In_Current_City_Years  4998 non-null   object \n",
      " 7   Marital_Status              4998 non-null   int64  \n",
      " 8   Product_Category_1          4998 non-null   int64  \n",
      " 9   Product_Category_2          3465 non-null   float64\n",
      " 10  Product_Category_3          1544 non-null   float64\n",
      " 11  Purchase                    4998 non-null   int64  \n",
      "dtypes: float64(2), int64(5), object(5)\n",
      "memory usage: 507.6+ KB\n"
     ]
    }
   ],
   "source": [
    "df.info()\n",
    "#product_category2,3에 결측값이 존재한다. \n",
    "#product_category_1을 종속변수로 knn클러스터링을 구현해보자. \n",
    "#catergory_1,2,user_id,product_id는 사용하지 않도록 하겠다. "
   ]
  },
  {
   "cell_type": "markdown",
   "metadata": {},
   "source": [
    "# product_category1"
   ]
  },
  {
   "cell_type": "code",
   "execution_count": 567,
   "metadata": {},
   "outputs": [
    {
     "data": {
      "text/plain": [
       "5     1407\n",
       "1     1285\n",
       "8      995\n",
       "2      227\n",
       "11     206\n",
       "3      193\n",
       "6      193\n",
       "4      107\n",
       "16      78\n",
       "15      57\n",
       "13      43\n",
       "10      41\n",
       "7       40\n",
       "12      31\n",
       "20      31\n",
       "19      20\n",
       "14      19\n",
       "18      18\n",
       "17       6\n",
       "9        1\n",
       "Name: Product_Category_1, dtype: int64"
      ]
     },
     "execution_count": 567,
     "metadata": {},
     "output_type": "execute_result"
    }
   ],
   "source": [
    "df['Product_Category_1'].value_counts()\n",
    "#1부터 20으로 분류되어있다. "
   ]
  },
  {
   "cell_type": "code",
   "execution_count": 568,
   "metadata": {},
   "outputs": [
    {
     "data": {
      "image/png": "[encoded data removed]",
      "text/plain": [
       "<Figure size 432x288 with 1 Axes>"
      ]
     },
     "metadata": {
      "needs_background": "light"
     },
     "output_type": "display_data"
    }
   ],
   "source": [
    "#boxplot을 그리자\n",
    "import matplotlib.pyplot as plt\n",
    "plt.boxplot(df['Product_Category_1'],whis=0.5)\n",
    "plt.title('product_category_1')\n",
    "plt.show()\n",
    "#이상치가 몇개 있는듯 하다 "
   ]
  },
  {
   "cell_type": "code",
   "execution_count": 569,
   "metadata": {},
   "outputs": [],
   "source": [
    "def outliers_iqr(dt,col): #이상치를 구하는 함수 \n",
    "  quartile_1,quartile_3=np.percentile(dt[col],[25,75])\n",
    "  iqr=quartile_3-quartile_1\n",
    "  lower_whis=quartile_1-(iqr*0.8)\n",
    "  upper_whis=quartile_3+(iqr*0.8)\n",
    "  outliers=dt[(dt[col]>upper_whis)|(dt[col]<lower_whis)]\n",
    "  return outliers\n"
   ]
  },
  {
   "cell_type": "code",
   "execution_count": 570,
   "metadata": {},
   "outputs": [],
   "source": [
    "import numpy as np\n",
    "out=outliers_iqr(df,'Product_Category_1')\n",
    "df.loc[out.index,\"Product_Category_1\"]=None\n",
    "df['Product_Category_1']=df['Product_Category_1'].dropna()"
   ]
  },
  {
   "cell_type": "code",
   "execution_count": 571,
   "metadata": {},
   "outputs": [
    {
     "data": {
      "text/plain": [
       "5.0     1407\n",
       "1.0     1285\n",
       "8.0      995\n",
       "2.0      227\n",
       "11.0     206\n",
       "3.0      193\n",
       "6.0      193\n",
       "4.0      107\n",
       "13.0      43\n",
       "10.0      41\n",
       "7.0       40\n",
       "12.0      31\n",
       "9.0        1\n",
       "Name: Product_Category_1, dtype: int64"
      ]
     },
     "execution_count": 571,
     "metadata": {},
     "output_type": "execute_result"
    }
   ],
   "source": [
    "df['Product_Category_1'].value_counts()\n",
    "#정제가 된 것을 확인할 수 있다. 1~13까지의 변수 존재 "
   ]
  },
  {
   "cell_type": "markdown",
   "metadata": {},
   "source": [
    "# gender"
   ]
  },
  {
   "cell_type": "code",
   "execution_count": 572,
   "metadata": {},
   "outputs": [
    {
     "data": {
      "text/plain": [
       "M    3765\n",
       "F    1233\n",
       "Name: Gender, dtype: int64"
      ]
     },
     "execution_count": 572,
     "metadata": {},
     "output_type": "execute_result"
    }
   ],
   "source": [
    "df[\"Gender\"].value_counts() #이상치 없음 "
   ]
  },
  {
   "cell_type": "markdown",
   "metadata": {},
   "source": [
    "# age"
   ]
  },
  {
   "cell_type": "code",
   "execution_count": 573,
   "metadata": {},
   "outputs": [
    {
     "data": {
      "text/plain": [
       "26-35    1996\n",
       "36-45    1000\n",
       "18-25     906\n",
       "46-50     414\n",
       "51-55     350\n",
       "55+       195\n",
       "0-17      137\n",
       "Name: Age, dtype: int64"
      ]
     },
     "execution_count": 573,
     "metadata": {},
     "output_type": "execute_result"
    }
   ],
   "source": [
    "df[\"Age\"].value_counts()\n",
    "#나이 범위간격이 들쑥날쑥이다. \n",
    "#0~17,18~25,26~35,36~45,46~55,55+로 만들어주자 "
   ]
  },
  {
   "cell_type": "code",
   "execution_count": 574,
   "metadata": {},
   "outputs": [],
   "source": [
    "df=df.replace('46-50','46-55')\n",
    "df=df.replace('51-55','46-55')\n"
   ]
  },
  {
   "cell_type": "code",
   "execution_count": 575,
   "metadata": {},
   "outputs": [
    {
     "data": {
      "text/plain": [
       "26-35    1996\n",
       "36-45    1000\n",
       "18-25     906\n",
       "46-55     764\n",
       "55+       195\n",
       "0-17      137\n",
       "Name: Age, dtype: int64"
      ]
     },
     "execution_count": 575,
     "metadata": {},
     "output_type": "execute_result"
    }
   ],
   "source": [
    "df['Age'].value_counts() #합쳐진 상태로 잘 표현되었다. "
   ]
  },
  {
   "cell_type": "code",
   "execution_count": 576,
   "metadata": {},
   "outputs": [],
   "source": [
    "#나이별 카테고리의 분포를 확인해보자. 둘다 범주형 변수이므로 막대그래프를 그리자 \n",
    "def df_(data_make,column,want_list):\n",
    "    final_df=pd.DataFrame()\n",
    "    for i in want_list:\n",
    "        datamake=data_make[(data_make[column]==i)]\n",
    "        datayn=datamake['Product_Category_1'].value_counts()\n",
    "        datayn=datayn.to_frame()\n",
    "        datayn=datayn.rename(columns={'Product_Category_1':i})\n",
    "        datayn=datayn.transpose()\n",
    "        datayn.columns=sorted(datayn.columns)\n",
    "        final_df=pd.concat([final_df,datayn],axis=0)\n",
    "        final_df=final_df.fillna(0)\n",
    "    return final_df\n",
    "    "
   ]
  },
  {
   "cell_type": "code",
   "execution_count": 577,
   "metadata": {},
   "outputs": [
    {
     "name": "stdout",
     "output_type": "stream",
     "text": [
      "       1.0   2.0   3.0   4.0   5.0   7.0   8.0   10.0  11.0  12.0  6.0   13.0  \\\n",
      "0-17     35    32    23    15     9   7.0     4     2     2     1   0.0   0.0   \n",
      "18-25   270   228   152    61    44  31.0    22     6     5     5  40.0   5.0   \n",
      "26-35   578   532   395    95    82  67.0    35    18    15    13  80.0   7.0   \n",
      "36-45   275   253   207    54    45  29.0    24     8     8     4  29.0   1.0   \n",
      "46-55   197   192   164    33    29  22.0    19    12     9     7  28.0   6.0   \n",
      "55+      60    54    40     7     5   0.0     5     4     3     2   5.0   1.0   \n",
      "\n",
      "       9.0   \n",
      "0-17    0.0  \n",
      "18-25   0.0  \n",
      "26-35   0.0  \n",
      "36-45  12.0  \n",
      "46-55   0.0  \n",
      "55+     0.0  \n"
     ]
    }
   ],
   "source": [
    "data1=df[['Age','Product_Category_1']]\n",
    "final_df=df_(data1,'Age',['0-17','18-25','26-35','36-45','46-55','55+'])\n",
    "\n",
    "print(final_df)\n",
    "    \n",
    " "
   ]
  },
  {
   "cell_type": "code",
   "execution_count": 578,
   "metadata": {},
   "outputs": [
    {
     "data": {
      "image/png": "[encoded data removed]",
      "text/plain": [
       "<Figure size 864x432 with 1 Axes>"
      ]
     },
     "metadata": {
      "needs_background": "light"
     },
     "output_type": "display_data"
    }
   ],
   "source": [
    "fig,ax=plt.subplots(figsize=(12,6))\n",
    "bar_width=0.09\n",
    "index=np.arange(6)\n",
    "\n",
    "b1=plt.bar(index,final_df[1.0],bar_width,alpha=0.4,color='red',label='1.0')\n",
    "b2=plt.bar(index+bar_width,final_df[2.0],bar_width,alpha=0.4,color='green',label='2.0')\n",
    "b3=plt.bar(index+bar_width*2,final_df[3.0],bar_width,alpha=0.4,color='blue',label='3.0')\n",
    "b4=plt.bar(index+bar_width*3,final_df[4.0],bar_width,alpha=0.4,color='purple',label='4.0')\n",
    "b5=plt.bar(index+bar_width*4,final_df[5.0],bar_width,alpha=0.4,color='black',label='5.0')\n",
    "b6=plt.bar(index+bar_width*5,final_df[7.0],bar_width,alpha=0.4,color='orange',label='7.0')\n",
    "b7=plt.bar(index+bar_width*6,final_df[8.0],bar_width,alpha=0.4,color='yellow',label='8.0')\n",
    "b8=plt.bar(index+bar_width*7,final_df[10.0],bar_width,alpha=0.4,color='gray',label='10.0')\n",
    "b9=plt.bar(index+bar_width*8,final_df[11.0],bar_width,alpha=0.4,color='olive',label='11.0')\n",
    "b10=plt.bar(index+bar_width*9,final_df[6.0],bar_width,alpha=0.4,color='pink',label='6.0')\n",
    "b11=plt.bar(index+bar_width*10,final_df[9.0],bar_width,alpha=0.4,color='cyan',label='9.0')\n",
    "\n",
    "plt.xticks(np.arange(bar_width,6+bar_width,1),['0-17','18-25','26-35','36-45','46-55','55+'])\n",
    "plt.xlabel('Age',size=13)\n",
    "plt.ylabel('Product_Category_1',size=13)\n",
    "plt.legend()\n",
    "plt.show()\n",
    "#연령대별 전체 수에 따라 개수차이가 크지만 공통적으로 \n",
    "#1,2,3,4그룹의 순서대로 많이 묶임. \n",
    "#18-25,36-45그룹에서 4,5번이 상대적으로 많다. "
   ]
  },
  {
   "cell_type": "markdown",
   "metadata": {},
   "source": [
    "# occupation"
   ]
  },
  {
   "cell_type": "code",
   "execution_count": 579,
   "metadata": {},
   "outputs": [
    {
     "data": {
      "text/plain": [
       "4     706\n",
       "0     572\n",
       "7     535\n",
       "1     460\n",
       "17    339\n",
       "12    305\n",
       "20    285\n",
       "2     251\n",
       "14    245\n",
       "16    244\n",
       "6     186\n",
       "3     160\n",
       "15    133\n",
       "10    122\n",
       "5      98\n",
       "11     95\n",
       "19     73\n",
       "13     65\n",
       "18     56\n",
       "9      50\n",
       "8      18\n",
       "Name: Occupation, dtype: int64"
      ]
     },
     "execution_count": 579,
     "metadata": {},
     "output_type": "execute_result"
    }
   ],
   "source": [
    "df['Occupation'].value_counts()\n",
    "#직업인듯한데,,이미 숫자형으로 바뀌어있어서 개입해서 전처리할 수가 없다...무슨 직업인지 알수가 없다. \n",
    "#이 범주형변수를 원핫인코딩하면 너무 많은 칼럼이 생성될 것이므로 줄이는 전처리를 하자\n",
    "#숫자로 표시된 범주형 자료이므로 상자그림으로 이상치 제거는 무의미하다. "
   ]
  },
  {
   "cell_type": "code",
   "execution_count": 580,
   "metadata": {},
   "outputs": [],
   "source": [
    "#개수가 160개 미만인 자료를 없애자. \n",
    "outliers=df[(df['Occupation']==8)|(df['Occupation']==9)|(df['Occupation']==18)|(df['Occupation']==13)|(df['Occupation']==19)|\n",
    "           (df['Occupation']==11)|(df['Occupation']==5)|(df['Occupation']==10)|(df['Occupation']==15)]\n",
    "df.loc[outliers.index,'Occupation']=None\n",
    "df['Occupation']=df['Occupation'].dropna()"
   ]
  },
  {
   "cell_type": "code",
   "execution_count": 581,
   "metadata": {},
   "outputs": [
    {
     "data": {
      "text/plain": [
       "4.0     706\n",
       "0.0     572\n",
       "7.0     535\n",
       "1.0     460\n",
       "17.0    339\n",
       "12.0    305\n",
       "20.0    285\n",
       "2.0     251\n",
       "14.0    245\n",
       "16.0    244\n",
       "6.0     186\n",
       "3.0     160\n",
       "Name: Occupation, dtype: int64"
      ]
     },
     "execution_count": 581,
     "metadata": {},
     "output_type": "execute_result"
    }
   ],
   "source": [
    "df['Occupation'].value_counts()"
   ]
  },
  {
   "cell_type": "markdown",
   "metadata": {},
   "source": [
    "# City_Category"
   ]
  },
  {
   "cell_type": "code",
   "execution_count": 582,
   "metadata": {},
   "outputs": [
    {
     "data": {
      "text/plain": [
       "B    2102\n",
       "C    1555\n",
       "A    1341\n",
       "Name: City_Category, dtype: int64"
      ]
     },
     "execution_count": 582,
     "metadata": {},
     "output_type": "execute_result"
    }
   ],
   "source": [
    "df['City_Category'].value_counts()\n",
    "#살고 있는 도시 "
   ]
  },
  {
   "cell_type": "code",
   "execution_count": 583,
   "metadata": {},
   "outputs": [
    {
     "name": "stdout",
     "output_type": "stream",
     "text": [
      "   1.0   2.0   3.0   4.0   5.0   6.0   7.0   8.0   9.0   10.0  11.0  12.0  \\\n",
      "A   418   331   263    62    54    51    38    30  10.0    10     9     9   \n",
      "B   584   502   435   100    98    94    70    51   0.0    18    18    17   \n",
      "C   452   405   297    73    61    61    57    26   0.0    16    14    12   \n",
      "\n",
      "   13.0  \n",
      "A     1  \n",
      "B    15  \n",
      "C     7  \n"
     ]
    }
   ],
   "source": [
    "data2=df[['City_Category','Product_Category_1']]\n",
    "final_df=df_(data2,'City_Category',['A','B','C'])\n",
    "print(final_df)"
   ]
  },
  {
   "cell_type": "code",
   "execution_count": 584,
   "metadata": {},
   "outputs": [
    {
     "data": {
      "image/png": "[encoded data removed]",
      "text/plain": [
       "<Figure size 864x432 with 1 Axes>"
      ]
     },
     "metadata": {
      "needs_background": "light"
     },
     "output_type": "display_data"
    }
   ],
   "source": [
    "fig,ax=plt.subplots(figsize=(12,6))\n",
    "bar_width=0.09\n",
    "index=np.arange(3)\n",
    "\n",
    "b1=plt.bar(index,final_df[1.0],bar_width,alpha=0.4,color='red',label='1.0')\n",
    "b2=plt.bar(index+bar_width,final_df[2.0],bar_width,alpha=0.4,color='green',label='2.0')\n",
    "b3=plt.bar(index+bar_width*2,final_df[3.0],bar_width,alpha=0.4,color='blue',label='3.0')\n",
    "b4=plt.bar(index+bar_width*3,final_df[4.0],bar_width,alpha=0.4,color='purple',label='4.0')\n",
    "b5=plt.bar(index+bar_width*4,final_df[5.0],bar_width,alpha=0.4,color='black',label='5.0')\n",
    "b6=plt.bar(index+bar_width*5,final_df[7.0],bar_width,alpha=0.4,color='orange',label='7.0')\n",
    "b7=plt.bar(index+bar_width*6,final_df[8.0],bar_width,alpha=0.4,color='yellow',label='8.0')\n",
    "b8=plt.bar(index+bar_width*7,final_df[10.0],bar_width,alpha=0.4,color='gray',label='10.0')\n",
    "b9=plt.bar(index+bar_width*8,final_df[11.0],bar_width,alpha=0.4,color='olive',label='11.0')\n",
    "b10=plt.bar(index+bar_width*9,final_df[6.0],bar_width,alpha=0.4,color='pink',label='6.0')\n",
    "b11=plt.bar(index+bar_width*10,final_df[9.0],bar_width,alpha=0.4,color='cyan',label='9.0')\n",
    "\n",
    "plt.xticks(np.arange(bar_width,3+bar_width,1),['A','B','C'])\n",
    "plt.xlabel('City_Category',size=13)\n",
    "plt.ylabel('Product_Category_1',size=13)\n",
    "plt.legend()\n",
    "plt.show()\n",
    "#age변수와 비슷하다. "
   ]
  },
  {
   "cell_type": "markdown",
   "metadata": {},
   "source": [
    "# stay_in_current_city_years"
   ]
  },
  {
   "cell_type": "code",
   "execution_count": 585,
   "metadata": {},
   "outputs": [
    {
     "data": {
      "text/plain": [
       "1     1758\n",
       "2      915\n",
       "3      908\n",
       "4+     742\n",
       "0      675\n",
       "Name: Stay_In_Current_City_Years, dtype: int64"
      ]
     },
     "execution_count": 585,
     "metadata": {},
     "output_type": "execute_result"
    }
   ],
   "source": [
    "df['Stay_In_Current_City_Years'].value_counts()\n",
    "#도시에 산 기간 "
   ]
  },
  {
   "cell_type": "code",
   "execution_count": 586,
   "metadata": {},
   "outputs": [
    {
     "name": "stdout",
     "output_type": "stream",
     "text": [
      "    1.0   2.0   3.0   4.0   5.0   6.0   7.0   8.0   10.0  11.0  12.0  13.0  \\\n",
      "1    500   446   330    79    77    74    73    34    22    17    13    11   \n",
      "2    260   238   174    55    34    32    31    22     9     8     7     4   \n",
      "3    251   250   174    48    37    35    32    17     7     6     5     1   \n",
      "4+   199   184   172    31    29    28    24    18    10     6     4     4   \n",
      "0    197   167   145    33    27    24    16    16     4     4     4     3   \n",
      "\n",
      "    9.0   \n",
      "1    0.0  \n",
      "2    0.0  \n",
      "3    7.0  \n",
      "4+   0.0  \n",
      "0    0.0  \n"
     ]
    }
   ],
   "source": [
    "data3=df[['Stay_In_Current_City_Years','Product_Category_1']]\n",
    "final_df=df_(data3,'Stay_In_Current_City_Years',['1','2','3','4+','0'])\n",
    "print(final_df)"
   ]
  },
  {
   "cell_type": "code",
   "execution_count": 587,
   "metadata": {},
   "outputs": [
    {
     "data": {
      "image/png": "[encoded data removed]",
      "text/plain": [
       "<Figure size 864x432 with 1 Axes>"
      ]
     },
     "metadata": {
      "needs_background": "light"
     },
     "output_type": "display_data"
    }
   ],
   "source": [
    "fig,ax=plt.subplots(figsize=(12,6))\n",
    "bar_width=0.09\n",
    "index=np.arange(5)\n",
    "\n",
    "b1=plt.bar(index,final_df[1.0],bar_width,alpha=0.4,color='red',label='1.0')\n",
    "b2=plt.bar(index+bar_width,final_df[2.0],bar_width,alpha=0.4,color='green',label='2.0')\n",
    "b3=plt.bar(index+bar_width*2,final_df[3.0],bar_width,alpha=0.4,color='blue',label='3.0')\n",
    "b4=plt.bar(index+bar_width*3,final_df[4.0],bar_width,alpha=0.4,color='purple',label='4.0')\n",
    "b5=plt.bar(index+bar_width*4,final_df[5.0],bar_width,alpha=0.4,color='black',label='5.0')\n",
    "b6=plt.bar(index+bar_width*5,final_df[7.0],bar_width,alpha=0.4,color='orange',label='7.0')\n",
    "b7=plt.bar(index+bar_width*6,final_df[8.0],bar_width,alpha=0.4,color='yellow',label='8.0')\n",
    "b8=plt.bar(index+bar_width*7,final_df[10.0],bar_width,alpha=0.4,color='gray',label='10.0')\n",
    "b9=plt.bar(index+bar_width*8,final_df[11.0],bar_width,alpha=0.4,color='olive',label='11.0')\n",
    "b10=plt.bar(index+bar_width*9,final_df[6.0],bar_width,alpha=0.4,color='pink',label='6.0')\n",
    "b11=plt.bar(index+bar_width*10,final_df[9.0],bar_width,alpha=0.4,color='cyan',label='9.0')\n",
    "\n",
    "plt.xticks(np.arange(bar_width,5+bar_width,1),['1','2','3','4+','0'])\n",
    "plt.xlabel('Stay_In_Current_City_Years',size=13)\n",
    "plt.ylabel('Product_Category_1',size=13)\n",
    "plt.legend()\n",
    "plt.show()"
   ]
  },
  {
   "cell_type": "markdown",
   "metadata": {},
   "source": [
    "# martial_status"
   ]
  },
  {
   "cell_type": "code",
   "execution_count": 588,
   "metadata": {},
   "outputs": [
    {
     "data": {
      "text/plain": [
       "0    2892\n",
       "1    2106\n",
       "Name: Marital_Status, dtype: int64"
      ]
     },
     "execution_count": 588,
     "metadata": {},
     "output_type": "execute_result"
    }
   ],
   "source": [
    "df['Marital_Status'].value_counts() #혼인여부 "
   ]
  },
  {
   "cell_type": "code",
   "execution_count": 589,
   "metadata": {},
   "outputs": [
    {
     "name": "stdout",
     "output_type": "stream",
     "text": [
      "   1.0   2.0   3.0   4.0   5.0   6.0   7.0   8.0   10.0  11.0  12.0  13.0  \\\n",
      "0   831   744   560   132   124   117   116    58    23    22    20    18   \n",
      "1   576   541   435    95    90    76    69    49    20    18    13     1   \n",
      "\n",
      "   9.0   \n",
      "0   0.0  \n",
      "1  21.0  \n"
     ]
    }
   ],
   "source": [
    "data4=df[['Marital_Status','Product_Category_1']]\n",
    "final_df=df_(data4,'Marital_Status',[0,1])\n",
    "print(final_df)"
   ]
  },
  {
   "cell_type": "code",
   "execution_count": 590,
   "metadata": {},
   "outputs": [
    {
     "data": {
      "image/png": "[encoded data removed]",
      "text/plain": [
       "<Figure size 864x432 with 1 Axes>"
      ]
     },
     "metadata": {
      "needs_background": "light"
     },
     "output_type": "display_data"
    }
   ],
   "source": [
    "fig,ax=plt.subplots(figsize=(12,6))\n",
    "bar_width=0.09\n",
    "index=np.arange(2)\n",
    "\n",
    "b1=plt.bar(index,final_df[1.0],bar_width,alpha=0.4,color='red',label='1.0')\n",
    "b2=plt.bar(index+bar_width,final_df[2.0],bar_width,alpha=0.4,color='green',label='2.0')\n",
    "b3=plt.bar(index+bar_width*2,final_df[3.0],bar_width,alpha=0.4,color='blue',label='3.0')\n",
    "b4=plt.bar(index+bar_width*3,final_df[4.0],bar_width,alpha=0.4,color='purple',label='4.0')\n",
    "b5=plt.bar(index+bar_width*4,final_df[5.0],bar_width,alpha=0.4,color='black',label='5.0')\n",
    "b6=plt.bar(index+bar_width*5,final_df[7.0],bar_width,alpha=0.4,color='orange',label='7.0')\n",
    "b7=plt.bar(index+bar_width*6,final_df[8.0],bar_width,alpha=0.4,color='yellow',label='8.0')\n",
    "b8=plt.bar(index+bar_width*7,final_df[10.0],bar_width,alpha=0.4,color='gray',label='10.0')\n",
    "b9=plt.bar(index+bar_width*8,final_df[11.0],bar_width,alpha=0.4,color='olive',label='11.0')\n",
    "b10=plt.bar(index+bar_width*9,final_df[6.0],bar_width,alpha=0.4,color='pink',label='6.0')\n",
    "b11=plt.bar(index+bar_width*10,final_df[9.0],bar_width,alpha=0.4,color='cyan',label='9.0')\n",
    "\n",
    "plt.xticks(np.arange(bar_width,2+bar_width,1),[0,1])\n",
    "plt.xlabel('Marital_Status',size=13)\n",
    "plt.ylabel('Product_Category_1',size=13)\n",
    "plt.legend()\n",
    "plt.show()\n",
    "#결혼을 안했을때 6,3그룹의 구매가 더 많음 \n",
    "#9그룹의 구매는 결혼한 사람에게 몰려있음 \n"
   ]
  },
  {
   "cell_type": "markdown",
   "metadata": {},
   "source": [
    "# purchase"
   ]
  },
  {
   "cell_type": "code",
   "execution_count": 591,
   "metadata": {},
   "outputs": [
    {
     "data": {
      "text/plain": [
       "7001     6\n",
       "7063     6\n",
       "5328     6\n",
       "8115     6\n",
       "7176     5\n",
       "        ..\n",
       "12069    1\n",
       "16668    1\n",
       "3187     1\n",
       "4043     1\n",
       "1413     1\n",
       "Name: Purchase, Length: 3736, dtype: int64"
      ]
     },
     "execution_count": 591,
     "metadata": {},
     "output_type": "execute_result"
    }
   ],
   "source": [
    "df['Purchase'].value_counts()"
   ]
  },
  {
   "cell_type": "code",
   "execution_count": 592,
   "metadata": {},
   "outputs": [
    {
     "data": {
      "image/png": "[encoded data removed]",
      "text/plain": [
       "<Figure size 432x288 with 1 Axes>"
      ]
     },
     "metadata": {
      "needs_background": "light"
     },
     "output_type": "display_data"
    }
   ],
   "source": [
    "#연속형 변수이므로 boxplot을 그려보자 \n",
    "\n",
    "import matplotlib.pyplot as plt\n",
    "plt.boxplot(df['Purchase'],whis=1.0)\n",
    "plt.title('purchase')\n",
    "plt.show()"
   ]
  },
  {
   "cell_type": "code",
   "execution_count": 593,
   "metadata": {},
   "outputs": [
    {
     "data": {
      "text/html": [
       "<div>\n",
       "<style scoped>\n",
       "    .dataframe tbody tr th:only-of-type {\n",
       "        vertical-align: middle;\n",
       "    }\n",
       "\n",
       "    .dataframe tbody tr th {\n",
       "        vertical-align: top;\n",
       "    }\n",
       "\n",
       "    .dataframe thead th {\n",
       "        text-align: right;\n",
       "    }\n",
       "</style>\n",
       "<table border=\"1\" class=\"dataframe\">\n",
       "  <thead>\n",
       "    <tr style=\"text-align: right;\">\n",
       "      <th></th>\n",
       "      <th>User_ID</th>\n",
       "      <th>Product_ID</th>\n",
       "      <th>Gender</th>\n",
       "      <th>Age</th>\n",
       "      <th>Occupation</th>\n",
       "      <th>City_Category</th>\n",
       "      <th>Stay_In_Current_City_Years</th>\n",
       "      <th>Marital_Status</th>\n",
       "      <th>Product_Category_1</th>\n",
       "      <th>Product_Category_2</th>\n",
       "      <th>Product_Category_3</th>\n",
       "      <th>Purchase</th>\n",
       "    </tr>\n",
       "  </thead>\n",
       "  <tbody>\n",
       "    <tr>\n",
       "      <th>10</th>\n",
       "      <td>1001088</td>\n",
       "      <td>P00278242</td>\n",
       "      <td>F</td>\n",
       "      <td>0-17</td>\n",
       "      <td>NaN</td>\n",
       "      <td>A</td>\n",
       "      <td>3</td>\n",
       "      <td>0</td>\n",
       "      <td>1.0</td>\n",
       "      <td>NaN</td>\n",
       "      <td>NaN</td>\n",
       "      <td>18964</td>\n",
       "    </tr>\n",
       "    <tr>\n",
       "      <th>25</th>\n",
       "      <td>1001926</td>\n",
       "      <td>P00087042</td>\n",
       "      <td>F</td>\n",
       "      <td>0-17</td>\n",
       "      <td>0.0</td>\n",
       "      <td>B</td>\n",
       "      <td>1</td>\n",
       "      <td>0</td>\n",
       "      <td>10.0</td>\n",
       "      <td>14.0</td>\n",
       "      <td>16.0</td>\n",
       "      <td>23866</td>\n",
       "    </tr>\n",
       "    <tr>\n",
       "      <th>26</th>\n",
       "      <td>1004606</td>\n",
       "      <td>P00370293</td>\n",
       "      <td>F</td>\n",
       "      <td>0-17</td>\n",
       "      <td>NaN</td>\n",
       "      <td>B</td>\n",
       "      <td>2</td>\n",
       "      <td>0</td>\n",
       "      <td>NaN</td>\n",
       "      <td>NaN</td>\n",
       "      <td>NaN</td>\n",
       "      <td>37</td>\n",
       "    </tr>\n",
       "    <tr>\n",
       "      <th>53</th>\n",
       "      <td>1000019</td>\n",
       "      <td>P00113142</td>\n",
       "      <td>M</td>\n",
       "      <td>0-17</td>\n",
       "      <td>NaN</td>\n",
       "      <td>A</td>\n",
       "      <td>3</td>\n",
       "      <td>0</td>\n",
       "      <td>1.0</td>\n",
       "      <td>5.0</td>\n",
       "      <td>12.0</td>\n",
       "      <td>19306</td>\n",
       "    </tr>\n",
       "    <tr>\n",
       "      <th>77</th>\n",
       "      <td>1004541</td>\n",
       "      <td>P00145042</td>\n",
       "      <td>M</td>\n",
       "      <td>0-17</td>\n",
       "      <td>NaN</td>\n",
       "      <td>B</td>\n",
       "      <td>1</td>\n",
       "      <td>0</td>\n",
       "      <td>1.0</td>\n",
       "      <td>2.0</td>\n",
       "      <td>5.0</td>\n",
       "      <td>18974</td>\n",
       "    </tr>\n",
       "    <tr>\n",
       "      <th>...</th>\n",
       "      <td>...</td>\n",
       "      <td>...</td>\n",
       "      <td>...</td>\n",
       "      <td>...</td>\n",
       "      <td>...</td>\n",
       "      <td>...</td>\n",
       "      <td>...</td>\n",
       "      <td>...</td>\n",
       "      <td>...</td>\n",
       "      <td>...</td>\n",
       "      <td>...</td>\n",
       "      <td>...</td>\n",
       "    </tr>\n",
       "    <tr>\n",
       "      <th>4953</th>\n",
       "      <td>1004885</td>\n",
       "      <td>P00110942</td>\n",
       "      <td>M</td>\n",
       "      <td>55+</td>\n",
       "      <td>1.0</td>\n",
       "      <td>C</td>\n",
       "      <td>1</td>\n",
       "      <td>0</td>\n",
       "      <td>1.0</td>\n",
       "      <td>2.0</td>\n",
       "      <td>NaN</td>\n",
       "      <td>19313</td>\n",
       "    </tr>\n",
       "    <tr>\n",
       "      <th>4960</th>\n",
       "      <td>1001887</td>\n",
       "      <td>P00177442</td>\n",
       "      <td>M</td>\n",
       "      <td>55+</td>\n",
       "      <td>NaN</td>\n",
       "      <td>C</td>\n",
       "      <td>3</td>\n",
       "      <td>1</td>\n",
       "      <td>1.0</td>\n",
       "      <td>6.0</td>\n",
       "      <td>8.0</td>\n",
       "      <td>19007</td>\n",
       "    </tr>\n",
       "    <tr>\n",
       "      <th>4965</th>\n",
       "      <td>1002656</td>\n",
       "      <td>P00371644</td>\n",
       "      <td>M</td>\n",
       "      <td>55+</td>\n",
       "      <td>NaN</td>\n",
       "      <td>C</td>\n",
       "      <td>2</td>\n",
       "      <td>1</td>\n",
       "      <td>NaN</td>\n",
       "      <td>NaN</td>\n",
       "      <td>NaN</td>\n",
       "      <td>130</td>\n",
       "    </tr>\n",
       "    <tr>\n",
       "      <th>4972</th>\n",
       "      <td>1005541</td>\n",
       "      <td>P00052842</td>\n",
       "      <td>M</td>\n",
       "      <td>55+</td>\n",
       "      <td>7.0</td>\n",
       "      <td>C</td>\n",
       "      <td>1</td>\n",
       "      <td>0</td>\n",
       "      <td>10.0</td>\n",
       "      <td>15.0</td>\n",
       "      <td>NaN</td>\n",
       "      <td>23247</td>\n",
       "    </tr>\n",
       "    <tr>\n",
       "      <th>4988</th>\n",
       "      <td>1001176</td>\n",
       "      <td>P00046742</td>\n",
       "      <td>M</td>\n",
       "      <td>55+</td>\n",
       "      <td>1.0</td>\n",
       "      <td>C</td>\n",
       "      <td>1</td>\n",
       "      <td>1</td>\n",
       "      <td>1.0</td>\n",
       "      <td>2.0</td>\n",
       "      <td>15.0</td>\n",
       "      <td>19155</td>\n",
       "    </tr>\n",
       "  </tbody>\n",
       "</table>\n",
       "<p>434 rows × 12 columns</p>\n",
       "</div>"
      ],
      "text/plain": [
       "      User_ID Product_ID Gender   Age  Occupation City_Category  \\\n",
       "10    1001088  P00278242      F  0-17         NaN             A   \n",
       "25    1001926  P00087042      F  0-17         0.0             B   \n",
       "26    1004606  P00370293      F  0-17         NaN             B   \n",
       "53    1000019  P00113142      M  0-17         NaN             A   \n",
       "77    1004541  P00145042      M  0-17         NaN             B   \n",
       "...       ...        ...    ...   ...         ...           ...   \n",
       "4953  1004885  P00110942      M   55+         1.0             C   \n",
       "4960  1001887  P00177442      M   55+         NaN             C   \n",
       "4965  1002656  P00371644      M   55+         NaN             C   \n",
       "4972  1005541  P00052842      M   55+         7.0             C   \n",
       "4988  1001176  P00046742      M   55+         1.0             C   \n",
       "\n",
       "     Stay_In_Current_City_Years  Marital_Status  Product_Category_1  \\\n",
       "10                            3               0                 1.0   \n",
       "25                            1               0                10.0   \n",
       "26                            2               0                 NaN   \n",
       "53                            3               0                 1.0   \n",
       "77                            1               0                 1.0   \n",
       "...                         ...             ...                 ...   \n",
       "4953                          1               0                 1.0   \n",
       "4960                          3               1                 1.0   \n",
       "4965                          2               1                 NaN   \n",
       "4972                          1               0                10.0   \n",
       "4988                          1               1                 1.0   \n",
       "\n",
       "      Product_Category_2  Product_Category_3  Purchase  \n",
       "10                   NaN                 NaN     18964  \n",
       "25                  14.0                16.0     23866  \n",
       "26                   NaN                 NaN        37  \n",
       "53                   5.0                12.0     19306  \n",
       "77                   2.0                 5.0     18974  \n",
       "...                  ...                 ...       ...  \n",
       "4953                 2.0                 NaN     19313  \n",
       "4960                 6.0                 8.0     19007  \n",
       "4965                 NaN                 NaN       130  \n",
       "4972                15.0                 NaN     23247  \n",
       "4988                 2.0                15.0     19155  \n",
       "\n",
       "[434 rows x 12 columns]"
      ]
     },
     "execution_count": 593,
     "metadata": {},
     "output_type": "execute_result"
    }
   ],
   "source": [
    "out=outliers_iqr(df,'Purchase')\n",
    "out #총 434개의 이상치 "
   ]
  },
  {
   "cell_type": "code",
   "execution_count": 594,
   "metadata": {},
   "outputs": [],
   "source": [
    "df.loc[out.index,\"Pruchase\"]=None\n",
    "df['Purchase']=df['Purchase'].fillna(df['Purchase'].mean()) #결측치 평균값으로 채우기 "
   ]
  },
  {
   "cell_type": "code",
   "execution_count": 595,
   "metadata": {},
   "outputs": [
    {
     "data": {
      "text/plain": [
       "7001     6\n",
       "7063     6\n",
       "5328     6\n",
       "8115     6\n",
       "7176     5\n",
       "        ..\n",
       "12069    1\n",
       "16668    1\n",
       "3187     1\n",
       "4043     1\n",
       "1413     1\n",
       "Name: Purchase, Length: 3736, dtype: int64"
      ]
     },
     "execution_count": 595,
     "metadata": {},
     "output_type": "execute_result"
    }
   ],
   "source": [
    "df['Purchase'].value_counts()"
   ]
  },
  {
   "cell_type": "markdown",
   "metadata": {},
   "source": [
    "# 전체 데이터확인 "
   ]
  },
  {
   "cell_type": "code",
   "execution_count": 596,
   "metadata": {},
   "outputs": [
    {
     "name": "stdout",
     "output_type": "stream",
     "text": [
      "<class 'pandas.core.frame.DataFrame'>\n",
      "Int64Index: 4998 entries, 0 to 4997\n",
      "Data columns (total 13 columns):\n",
      " #   Column                      Non-Null Count  Dtype  \n",
      "---  ------                      --------------  -----  \n",
      " 0   User_ID                     4998 non-null   int64  \n",
      " 1   Product_ID                  4998 non-null   object \n",
      " 2   Gender                      4998 non-null   object \n",
      " 3   Age                         4998 non-null   object \n",
      " 4   Occupation                  4288 non-null   float64\n",
      " 5   City_Category               4998 non-null   object \n",
      " 6   Stay_In_Current_City_Years  4998 non-null   object \n",
      " 7   Marital_Status              4998 non-null   int64  \n",
      " 8   Product_Category_1          4769 non-null   float64\n",
      " 9   Product_Category_2          3465 non-null   float64\n",
      " 10  Product_Category_3          1544 non-null   float64\n",
      " 11  Purchase                    4998 non-null   int64  \n",
      " 12  Pruchase                    0 non-null      float64\n",
      "dtypes: float64(5), int64(3), object(5)\n",
      "memory usage: 675.7+ KB\n"
     ]
    }
   ],
   "source": [
    "df.info()"
   ]
  },
  {
   "cell_type": "code",
   "execution_count": 597,
   "metadata": {},
   "outputs": [
    {
     "data": {
      "text/html": [
       "<div>\n",
       "<style scoped>\n",
       "    .dataframe tbody tr th:only-of-type {\n",
       "        vertical-align: middle;\n",
       "    }\n",
       "\n",
       "    .dataframe tbody tr th {\n",
       "        vertical-align: top;\n",
       "    }\n",
       "\n",
       "    .dataframe thead th {\n",
       "        text-align: right;\n",
       "    }\n",
       "</style>\n",
       "<table border=\"1\" class=\"dataframe\">\n",
       "  <thead>\n",
       "    <tr style=\"text-align: right;\">\n",
       "      <th></th>\n",
       "      <th>Gender</th>\n",
       "      <th>Age</th>\n",
       "      <th>Occupation</th>\n",
       "      <th>City_Category</th>\n",
       "      <th>Stay_In_Current_City_Years</th>\n",
       "      <th>Marital_Status</th>\n",
       "      <th>Product_Category_1</th>\n",
       "    </tr>\n",
       "  </thead>\n",
       "  <tbody>\n",
       "    <tr>\n",
       "      <th>0</th>\n",
       "      <td>F</td>\n",
       "      <td>0-17</td>\n",
       "      <td>NaN</td>\n",
       "      <td>A</td>\n",
       "      <td>3</td>\n",
       "      <td>0</td>\n",
       "      <td>5.0</td>\n",
       "    </tr>\n",
       "    <tr>\n",
       "      <th>1</th>\n",
       "      <td>F</td>\n",
       "      <td>0-17</td>\n",
       "      <td>NaN</td>\n",
       "      <td>A</td>\n",
       "      <td>1</td>\n",
       "      <td>0</td>\n",
       "      <td>7.0</td>\n",
       "    </tr>\n",
       "    <tr>\n",
       "      <th>2</th>\n",
       "      <td>F</td>\n",
       "      <td>0-17</td>\n",
       "      <td>NaN</td>\n",
       "      <td>A</td>\n",
       "      <td>1</td>\n",
       "      <td>0</td>\n",
       "      <td>1.0</td>\n",
       "    </tr>\n",
       "    <tr>\n",
       "      <th>3</th>\n",
       "      <td>F</td>\n",
       "      <td>0-17</td>\n",
       "      <td>NaN</td>\n",
       "      <td>A</td>\n",
       "      <td>3</td>\n",
       "      <td>0</td>\n",
       "      <td>2.0</td>\n",
       "    </tr>\n",
       "    <tr>\n",
       "      <th>4</th>\n",
       "      <td>F</td>\n",
       "      <td>0-17</td>\n",
       "      <td>NaN</td>\n",
       "      <td>A</td>\n",
       "      <td>3</td>\n",
       "      <td>0</td>\n",
       "      <td>3.0</td>\n",
       "    </tr>\n",
       "    <tr>\n",
       "      <th>...</th>\n",
       "      <td>...</td>\n",
       "      <td>...</td>\n",
       "      <td>...</td>\n",
       "      <td>...</td>\n",
       "      <td>...</td>\n",
       "      <td>...</td>\n",
       "      <td>...</td>\n",
       "    </tr>\n",
       "    <tr>\n",
       "      <th>4993</th>\n",
       "      <td>M</td>\n",
       "      <td>55+</td>\n",
       "      <td>7.0</td>\n",
       "      <td>C</td>\n",
       "      <td>1</td>\n",
       "      <td>1</td>\n",
       "      <td>1.0</td>\n",
       "    </tr>\n",
       "    <tr>\n",
       "      <th>4994</th>\n",
       "      <td>M</td>\n",
       "      <td>55+</td>\n",
       "      <td>1.0</td>\n",
       "      <td>C</td>\n",
       "      <td>1</td>\n",
       "      <td>1</td>\n",
       "      <td>8.0</td>\n",
       "    </tr>\n",
       "    <tr>\n",
       "      <th>4995</th>\n",
       "      <td>M</td>\n",
       "      <td>55+</td>\n",
       "      <td>NaN</td>\n",
       "      <td>C</td>\n",
       "      <td>3</td>\n",
       "      <td>1</td>\n",
       "      <td>1.0</td>\n",
       "    </tr>\n",
       "    <tr>\n",
       "      <th>4996</th>\n",
       "      <td>M</td>\n",
       "      <td>55+</td>\n",
       "      <td>0.0</td>\n",
       "      <td>C</td>\n",
       "      <td>2</td>\n",
       "      <td>1</td>\n",
       "      <td>12.0</td>\n",
       "    </tr>\n",
       "    <tr>\n",
       "      <th>4997</th>\n",
       "      <td>M</td>\n",
       "      <td>55+</td>\n",
       "      <td>6.0</td>\n",
       "      <td>C</td>\n",
       "      <td>0</td>\n",
       "      <td>1</td>\n",
       "      <td>5.0</td>\n",
       "    </tr>\n",
       "  </tbody>\n",
       "</table>\n",
       "<p>4998 rows × 7 columns</p>\n",
       "</div>"
      ],
      "text/plain": [
       "     Gender   Age  Occupation City_Category Stay_In_Current_City_Years  \\\n",
       "0         F  0-17         NaN             A                          3   \n",
       "1         F  0-17         NaN             A                          1   \n",
       "2         F  0-17         NaN             A                          1   \n",
       "3         F  0-17         NaN             A                          3   \n",
       "4         F  0-17         NaN             A                          3   \n",
       "...     ...   ...         ...           ...                        ...   \n",
       "4993      M   55+         7.0             C                          1   \n",
       "4994      M   55+         1.0             C                          1   \n",
       "4995      M   55+         NaN             C                          3   \n",
       "4996      M   55+         0.0             C                          2   \n",
       "4997      M   55+         6.0             C                          0   \n",
       "\n",
       "      Marital_Status  Product_Category_1  \n",
       "0                  0                 5.0  \n",
       "1                  0                 7.0  \n",
       "2                  0                 1.0  \n",
       "3                  0                 2.0  \n",
       "4                  0                 3.0  \n",
       "...              ...                 ...  \n",
       "4993               1                 1.0  \n",
       "4994               1                 8.0  \n",
       "4995               1                 1.0  \n",
       "4996               1                12.0  \n",
       "4997               1                 5.0  \n",
       "\n",
       "[4998 rows x 7 columns]"
      ]
     },
     "execution_count": 597,
     "metadata": {},
     "output_type": "execute_result"
    }
   ],
   "source": [
    "df=df.loc[:,['Gender','Age','Occupation','City_Category','Stay_In_Current_City_Years','Marital_Status','Product_Category_1']]\n",
    "df"
   ]
  },
  {
   "cell_type": "code",
   "execution_count": 598,
   "metadata": {},
   "outputs": [
    {
     "data": {
      "text/html": [
       "<div>\n",
       "<style scoped>\n",
       "    .dataframe tbody tr th:only-of-type {\n",
       "        vertical-align: middle;\n",
       "    }\n",
       "\n",
       "    .dataframe tbody tr th {\n",
       "        vertical-align: top;\n",
       "    }\n",
       "\n",
       "    .dataframe thead th {\n",
       "        text-align: right;\n",
       "    }\n",
       "</style>\n",
       "<table border=\"1\" class=\"dataframe\">\n",
       "  <thead>\n",
       "    <tr style=\"text-align: right;\">\n",
       "      <th></th>\n",
       "      <th>Stay_In_Current_City_Years</th>\n",
       "      <th>Marital_Status</th>\n",
       "      <th>Product_Category_1</th>\n",
       "      <th>Gender_F</th>\n",
       "      <th>Gender_M</th>\n",
       "      <th>Age_0-17</th>\n",
       "      <th>Age_18-25</th>\n",
       "      <th>Age_26-35</th>\n",
       "      <th>Age_36-45</th>\n",
       "      <th>Age_46-55</th>\n",
       "      <th>...</th>\n",
       "      <th>Occupation_6.0</th>\n",
       "      <th>Occupation_7.0</th>\n",
       "      <th>Occupation_12.0</th>\n",
       "      <th>Occupation_14.0</th>\n",
       "      <th>Occupation_16.0</th>\n",
       "      <th>Occupation_17.0</th>\n",
       "      <th>Occupation_20.0</th>\n",
       "      <th>City_Category_A</th>\n",
       "      <th>City_Category_B</th>\n",
       "      <th>City_Category_C</th>\n",
       "    </tr>\n",
       "  </thead>\n",
       "  <tbody>\n",
       "    <tr>\n",
       "      <th>0</th>\n",
       "      <td>3</td>\n",
       "      <td>0</td>\n",
       "      <td>5.0</td>\n",
       "      <td>1</td>\n",
       "      <td>0</td>\n",
       "      <td>1</td>\n",
       "      <td>0</td>\n",
       "      <td>0</td>\n",
       "      <td>0</td>\n",
       "      <td>0</td>\n",
       "      <td>...</td>\n",
       "      <td>0</td>\n",
       "      <td>0</td>\n",
       "      <td>0</td>\n",
       "      <td>0</td>\n",
       "      <td>0</td>\n",
       "      <td>0</td>\n",
       "      <td>0</td>\n",
       "      <td>1</td>\n",
       "      <td>0</td>\n",
       "      <td>0</td>\n",
       "    </tr>\n",
       "    <tr>\n",
       "      <th>1</th>\n",
       "      <td>1</td>\n",
       "      <td>0</td>\n",
       "      <td>7.0</td>\n",
       "      <td>1</td>\n",
       "      <td>0</td>\n",
       "      <td>1</td>\n",
       "      <td>0</td>\n",
       "      <td>0</td>\n",
       "      <td>0</td>\n",
       "      <td>0</td>\n",
       "      <td>...</td>\n",
       "      <td>0</td>\n",
       "      <td>0</td>\n",
       "      <td>0</td>\n",
       "      <td>0</td>\n",
       "      <td>0</td>\n",
       "      <td>0</td>\n",
       "      <td>0</td>\n",
       "      <td>1</td>\n",
       "      <td>0</td>\n",
       "      <td>0</td>\n",
       "    </tr>\n",
       "    <tr>\n",
       "      <th>2</th>\n",
       "      <td>1</td>\n",
       "      <td>0</td>\n",
       "      <td>1.0</td>\n",
       "      <td>1</td>\n",
       "      <td>0</td>\n",
       "      <td>1</td>\n",
       "      <td>0</td>\n",
       "      <td>0</td>\n",
       "      <td>0</td>\n",
       "      <td>0</td>\n",
       "      <td>...</td>\n",
       "      <td>0</td>\n",
       "      <td>0</td>\n",
       "      <td>0</td>\n",
       "      <td>0</td>\n",
       "      <td>0</td>\n",
       "      <td>0</td>\n",
       "      <td>0</td>\n",
       "      <td>1</td>\n",
       "      <td>0</td>\n",
       "      <td>0</td>\n",
       "    </tr>\n",
       "    <tr>\n",
       "      <th>3</th>\n",
       "      <td>3</td>\n",
       "      <td>0</td>\n",
       "      <td>2.0</td>\n",
       "      <td>1</td>\n",
       "      <td>0</td>\n",
       "      <td>1</td>\n",
       "      <td>0</td>\n",
       "      <td>0</td>\n",
       "      <td>0</td>\n",
       "      <td>0</td>\n",
       "      <td>...</td>\n",
       "      <td>0</td>\n",
       "      <td>0</td>\n",
       "      <td>0</td>\n",
       "      <td>0</td>\n",
       "      <td>0</td>\n",
       "      <td>0</td>\n",
       "      <td>0</td>\n",
       "      <td>1</td>\n",
       "      <td>0</td>\n",
       "      <td>0</td>\n",
       "    </tr>\n",
       "    <tr>\n",
       "      <th>4</th>\n",
       "      <td>3</td>\n",
       "      <td>0</td>\n",
       "      <td>3.0</td>\n",
       "      <td>1</td>\n",
       "      <td>0</td>\n",
       "      <td>1</td>\n",
       "      <td>0</td>\n",
       "      <td>0</td>\n",
       "      <td>0</td>\n",
       "      <td>0</td>\n",
       "      <td>...</td>\n",
       "      <td>0</td>\n",
       "      <td>0</td>\n",
       "      <td>0</td>\n",
       "      <td>0</td>\n",
       "      <td>0</td>\n",
       "      <td>0</td>\n",
       "      <td>0</td>\n",
       "      <td>1</td>\n",
       "      <td>0</td>\n",
       "      <td>0</td>\n",
       "    </tr>\n",
       "    <tr>\n",
       "      <th>...</th>\n",
       "      <td>...</td>\n",
       "      <td>...</td>\n",
       "      <td>...</td>\n",
       "      <td>...</td>\n",
       "      <td>...</td>\n",
       "      <td>...</td>\n",
       "      <td>...</td>\n",
       "      <td>...</td>\n",
       "      <td>...</td>\n",
       "      <td>...</td>\n",
       "      <td>...</td>\n",
       "      <td>...</td>\n",
       "      <td>...</td>\n",
       "      <td>...</td>\n",
       "      <td>...</td>\n",
       "      <td>...</td>\n",
       "      <td>...</td>\n",
       "      <td>...</td>\n",
       "      <td>...</td>\n",
       "      <td>...</td>\n",
       "      <td>...</td>\n",
       "    </tr>\n",
       "    <tr>\n",
       "      <th>4993</th>\n",
       "      <td>1</td>\n",
       "      <td>1</td>\n",
       "      <td>1.0</td>\n",
       "      <td>0</td>\n",
       "      <td>1</td>\n",
       "      <td>0</td>\n",
       "      <td>0</td>\n",
       "      <td>0</td>\n",
       "      <td>0</td>\n",
       "      <td>0</td>\n",
       "      <td>...</td>\n",
       "      <td>0</td>\n",
       "      <td>1</td>\n",
       "      <td>0</td>\n",
       "      <td>0</td>\n",
       "      <td>0</td>\n",
       "      <td>0</td>\n",
       "      <td>0</td>\n",
       "      <td>0</td>\n",
       "      <td>0</td>\n",
       "      <td>1</td>\n",
       "    </tr>\n",
       "    <tr>\n",
       "      <th>4994</th>\n",
       "      <td>1</td>\n",
       "      <td>1</td>\n",
       "      <td>8.0</td>\n",
       "      <td>0</td>\n",
       "      <td>1</td>\n",
       "      <td>0</td>\n",
       "      <td>0</td>\n",
       "      <td>0</td>\n",
       "      <td>0</td>\n",
       "      <td>0</td>\n",
       "      <td>...</td>\n",
       "      <td>0</td>\n",
       "      <td>0</td>\n",
       "      <td>0</td>\n",
       "      <td>0</td>\n",
       "      <td>0</td>\n",
       "      <td>0</td>\n",
       "      <td>0</td>\n",
       "      <td>0</td>\n",
       "      <td>0</td>\n",
       "      <td>1</td>\n",
       "    </tr>\n",
       "    <tr>\n",
       "      <th>4995</th>\n",
       "      <td>3</td>\n",
       "      <td>1</td>\n",
       "      <td>1.0</td>\n",
       "      <td>0</td>\n",
       "      <td>1</td>\n",
       "      <td>0</td>\n",
       "      <td>0</td>\n",
       "      <td>0</td>\n",
       "      <td>0</td>\n",
       "      <td>0</td>\n",
       "      <td>...</td>\n",
       "      <td>0</td>\n",
       "      <td>0</td>\n",
       "      <td>0</td>\n",
       "      <td>0</td>\n",
       "      <td>0</td>\n",
       "      <td>0</td>\n",
       "      <td>0</td>\n",
       "      <td>0</td>\n",
       "      <td>0</td>\n",
       "      <td>1</td>\n",
       "    </tr>\n",
       "    <tr>\n",
       "      <th>4996</th>\n",
       "      <td>2</td>\n",
       "      <td>1</td>\n",
       "      <td>12.0</td>\n",
       "      <td>0</td>\n",
       "      <td>1</td>\n",
       "      <td>0</td>\n",
       "      <td>0</td>\n",
       "      <td>0</td>\n",
       "      <td>0</td>\n",
       "      <td>0</td>\n",
       "      <td>...</td>\n",
       "      <td>0</td>\n",
       "      <td>0</td>\n",
       "      <td>0</td>\n",
       "      <td>0</td>\n",
       "      <td>0</td>\n",
       "      <td>0</td>\n",
       "      <td>0</td>\n",
       "      <td>0</td>\n",
       "      <td>0</td>\n",
       "      <td>1</td>\n",
       "    </tr>\n",
       "    <tr>\n",
       "      <th>4997</th>\n",
       "      <td>0</td>\n",
       "      <td>1</td>\n",
       "      <td>5.0</td>\n",
       "      <td>0</td>\n",
       "      <td>1</td>\n",
       "      <td>0</td>\n",
       "      <td>0</td>\n",
       "      <td>0</td>\n",
       "      <td>0</td>\n",
       "      <td>0</td>\n",
       "      <td>...</td>\n",
       "      <td>1</td>\n",
       "      <td>0</td>\n",
       "      <td>0</td>\n",
       "      <td>0</td>\n",
       "      <td>0</td>\n",
       "      <td>0</td>\n",
       "      <td>0</td>\n",
       "      <td>0</td>\n",
       "      <td>0</td>\n",
       "      <td>1</td>\n",
       "    </tr>\n",
       "  </tbody>\n",
       "</table>\n",
       "<p>4998 rows × 26 columns</p>\n",
       "</div>"
      ],
      "text/plain": [
       "     Stay_In_Current_City_Years  Marital_Status  Product_Category_1  Gender_F  \\\n",
       "0                             3               0                 5.0         1   \n",
       "1                             1               0                 7.0         1   \n",
       "2                             1               0                 1.0         1   \n",
       "3                             3               0                 2.0         1   \n",
       "4                             3               0                 3.0         1   \n",
       "...                         ...             ...                 ...       ...   \n",
       "4993                          1               1                 1.0         0   \n",
       "4994                          1               1                 8.0         0   \n",
       "4995                          3               1                 1.0         0   \n",
       "4996                          2               1                12.0         0   \n",
       "4997                          0               1                 5.0         0   \n",
       "\n",
       "      Gender_M  Age_0-17  Age_18-25  Age_26-35  Age_36-45  Age_46-55  ...  \\\n",
       "0            0         1          0          0          0          0  ...   \n",
       "1            0         1          0          0          0          0  ...   \n",
       "2            0         1          0          0          0          0  ...   \n",
       "3            0         1          0          0          0          0  ...   \n",
       "4            0         1          0          0          0          0  ...   \n",
       "...        ...       ...        ...        ...        ...        ...  ...   \n",
       "4993         1         0          0          0          0          0  ...   \n",
       "4994         1         0          0          0          0          0  ...   \n",
       "4995         1         0          0          0          0          0  ...   \n",
       "4996         1         0          0          0          0          0  ...   \n",
       "4997         1         0          0          0          0          0  ...   \n",
       "\n",
       "      Occupation_6.0  Occupation_7.0  Occupation_12.0  Occupation_14.0  \\\n",
       "0                  0               0                0                0   \n",
       "1                  0               0                0                0   \n",
       "2                  0               0                0                0   \n",
       "3                  0               0                0                0   \n",
       "4                  0               0                0                0   \n",
       "...              ...             ...              ...              ...   \n",
       "4993               0               1                0                0   \n",
       "4994               0               0                0                0   \n",
       "4995               0               0                0                0   \n",
       "4996               0               0                0                0   \n",
       "4997               1               0                0                0   \n",
       "\n",
       "      Occupation_16.0  Occupation_17.0  Occupation_20.0  City_Category_A  \\\n",
       "0                   0                0                0                1   \n",
       "1                   0                0                0                1   \n",
       "2                   0                0                0                1   \n",
       "3                   0                0                0                1   \n",
       "4                   0                0                0                1   \n",
       "...               ...              ...              ...              ...   \n",
       "4993                0                0                0                0   \n",
       "4994                0                0                0                0   \n",
       "4995                0                0                0                0   \n",
       "4996                0                0                0                0   \n",
       "4997                0                0                0                0   \n",
       "\n",
       "      City_Category_B  City_Category_C  \n",
       "0                   0                0  \n",
       "1                   0                0  \n",
       "2                   0                0  \n",
       "3                   0                0  \n",
       "4                   0                0  \n",
       "...               ...              ...  \n",
       "4993                0                1  \n",
       "4994                0                1  \n",
       "4995                0                1  \n",
       "4996                0                1  \n",
       "4997                0                1  \n",
       "\n",
       "[4998 rows x 26 columns]"
      ]
     },
     "execution_count": 598,
     "metadata": {},
     "output_type": "execute_result"
    }
   ],
   "source": [
    "df=pd.get_dummies(data=df,columns=['Gender'])\n",
    "df=pd.get_dummies(data=df,columns=['Age'])\n",
    "df=pd.get_dummies(data=df,columns=['Occupation'])\n",
    "df=pd.get_dummies(data=df,columns=['City_Category'])\n",
    "df"
   ]
  },
  {
   "cell_type": "code",
   "execution_count": 599,
   "metadata": {},
   "outputs": [],
   "source": [
    "df=df.dropna()"
   ]
  },
  {
   "cell_type": "code",
   "execution_count": 600,
   "metadata": {},
   "outputs": [
    {
     "name": "stdout",
     "output_type": "stream",
     "text": [
      "<class 'pandas.core.frame.DataFrame'>\n",
      "Int64Index: 4769 entries, 0 to 4997\n",
      "Data columns (total 26 columns):\n",
      " #   Column                      Non-Null Count  Dtype  \n",
      "---  ------                      --------------  -----  \n",
      " 0   Stay_In_Current_City_Years  4769 non-null   object \n",
      " 1   Marital_Status              4769 non-null   int64  \n",
      " 2   Product_Category_1          4769 non-null   float64\n",
      " 3   Gender_F                    4769 non-null   uint8  \n",
      " 4   Gender_M                    4769 non-null   uint8  \n",
      " 5   Age_0-17                    4769 non-null   uint8  \n",
      " 6   Age_18-25                   4769 non-null   uint8  \n",
      " 7   Age_26-35                   4769 non-null   uint8  \n",
      " 8   Age_36-45                   4769 non-null   uint8  \n",
      " 9   Age_46-55                   4769 non-null   uint8  \n",
      " 10  Age_55+                     4769 non-null   uint8  \n",
      " 11  Occupation_0.0              4769 non-null   uint8  \n",
      " 12  Occupation_1.0              4769 non-null   uint8  \n",
      " 13  Occupation_2.0              4769 non-null   uint8  \n",
      " 14  Occupation_3.0              4769 non-null   uint8  \n",
      " 15  Occupation_4.0              4769 non-null   uint8  \n",
      " 16  Occupation_6.0              4769 non-null   uint8  \n",
      " 17  Occupation_7.0              4769 non-null   uint8  \n",
      " 18  Occupation_12.0             4769 non-null   uint8  \n",
      " 19  Occupation_14.0             4769 non-null   uint8  \n",
      " 20  Occupation_16.0             4769 non-null   uint8  \n",
      " 21  Occupation_17.0             4769 non-null   uint8  \n",
      " 22  Occupation_20.0             4769 non-null   uint8  \n",
      " 23  City_Category_A             4769 non-null   uint8  \n",
      " 24  City_Category_B             4769 non-null   uint8  \n",
      " 25  City_Category_C             4769 non-null   uint8  \n",
      "dtypes: float64(1), int64(1), object(1), uint8(23)\n",
      "memory usage: 256.1+ KB\n"
     ]
    }
   ],
   "source": [
    "df.info()"
   ]
  },
  {
   "cell_type": "markdown",
   "metadata": {},
   "source": [
    "# 모델링 "
   ]
  },
  {
   "cell_type": "code",
   "execution_count": 601,
   "metadata": {},
   "outputs": [],
   "source": [
    "y_data=df.loc[:,['Product_Category_1']]"
   ]
  },
  {
   "cell_type": "code",
   "execution_count": 602,
   "metadata": {},
   "outputs": [],
   "source": [
    "columns=df.columns.difference(['Product_Category_1'])\n",
    "\n",
    "x_data=df[columns]"
   ]
  },
  {
   "cell_type": "code",
   "execution_count": 603,
   "metadata": {},
   "outputs": [
    {
     "name": "stdout",
     "output_type": "stream",
     "text": [
      "<class 'pandas.core.frame.DataFrame'>\n",
      "Int64Index: 4769 entries, 0 to 4997\n",
      "Data columns (total 25 columns):\n",
      " #   Column                      Non-Null Count  Dtype \n",
      "---  ------                      --------------  ----- \n",
      " 0   Age_0-17                    4769 non-null   uint8 \n",
      " 1   Age_18-25                   4769 non-null   uint8 \n",
      " 2   Age_26-35                   4769 non-null   uint8 \n",
      " 3   Age_36-45                   4769 non-null   uint8 \n",
      " 4   Age_46-55                   4769 non-null   uint8 \n",
      " 5   Age_55+                     4769 non-null   uint8 \n",
      " 6   City_Category_A             4769 non-null   uint8 \n",
      " 7   City_Category_B             4769 non-null   uint8 \n",
      " 8   City_Category_C             4769 non-null   uint8 \n",
      " 9   Gender_F                    4769 non-null   uint8 \n",
      " 10  Gender_M                    4769 non-null   uint8 \n",
      " 11  Marital_Status              4769 non-null   int64 \n",
      " 12  Occupation_0.0              4769 non-null   uint8 \n",
      " 13  Occupation_1.0              4769 non-null   uint8 \n",
      " 14  Occupation_12.0             4769 non-null   uint8 \n",
      " 15  Occupation_14.0             4769 non-null   uint8 \n",
      " 16  Occupation_16.0             4769 non-null   uint8 \n",
      " 17  Occupation_17.0             4769 non-null   uint8 \n",
      " 18  Occupation_2.0              4769 non-null   uint8 \n",
      " 19  Occupation_20.0             4769 non-null   uint8 \n",
      " 20  Occupation_3.0              4769 non-null   uint8 \n",
      " 21  Occupation_4.0              4769 non-null   uint8 \n",
      " 22  Occupation_6.0              4769 non-null   uint8 \n",
      " 23  Occupation_7.0              4769 non-null   uint8 \n",
      " 24  Stay_In_Current_City_Years  4769 non-null   object\n",
      "dtypes: int64(1), object(1), uint8(23)\n",
      "memory usage: 218.9+ KB\n"
     ]
    }
   ],
   "source": [
    "x_data.info() #stay_in_current_ciry_years는 문자형이므로 바꾸어주자. "
   ]
  },
  {
   "cell_type": "code",
   "execution_count": 604,
   "metadata": {},
   "outputs": [],
   "source": [
    "x_data=x_data.replace({'Stay_In_Current_City_Years':'4+'},4).astype('int')"
   ]
  },
  {
   "cell_type": "code",
   "execution_count": 605,
   "metadata": {},
   "outputs": [
    {
     "data": {
      "text/plain": [
       "Product_Category_1    0\n",
       "dtype: int64"
      ]
     },
     "execution_count": 605,
     "metadata": {},
     "output_type": "execute_result"
    }
   ],
   "source": [
    "y_data.isna().sum()"
   ]
  },
  {
   "cell_type": "code",
   "execution_count": 606,
   "metadata": {},
   "outputs": [
    {
     "name": "stdout",
     "output_type": "stream",
     "text": [
      "(3815, 25) (3815, 1)\n",
      "(954, 25) (954, 1)\n"
     ]
    }
   ],
   "source": [
    "#knn은 target데이터는 필요없으므로 훈련, 테스트만 나누어주자\n",
    "from sklearn.model_selection import train_test_split\n",
    "train_input,test_input,train_target,test_target=train_test_split(x_data,y_data,test_size=0.2,random_state=1)\n",
    "print(train_input.shape,train_target.shape)\n",
    "print(test_input.shape,test_target.shape)"
   ]
  },
  {
   "cell_type": "code",
   "execution_count": 610,
   "metadata": {},
   "outputs": [
    {
     "name": "stderr",
     "output_type": "stream",
     "text": [
      "C:\\Users\\diaky\\anaconda3\\lib\\site-packages\\sklearn\\neighbors\\_classification.py:198: DataConversionWarning: A column-vector y was passed when a 1d array was expected. Please change the shape of y to (n_samples,), for example using ravel().\n",
      "  return self._fit(X, y)\n"
     ]
    }
   ],
   "source": [
    "from sklearn.neighbors import KNeighborsClassifier\n",
    "clf=KNeighborsClassifier(n_neighbors=6,weights='uniform')\n",
    "clf.fit(train_input,train_target)\n",
    "pred=clf.predict(test_input)"
   ]
  },
  {
   "cell_type": "code",
   "execution_count": 611,
   "metadata": {},
   "outputs": [
    {
     "name": "stdout",
     "output_type": "stream",
     "text": [
      "[[111   9   5   2  82   9   2  37   0   4   0   0]\n",
      " [ 21   1   1   1  14   0   0   7   0   0   0   0]\n",
      " [ 13   5   2   0  10   1   0   7   0   2   0   0]\n",
      " [ 10   1   3   1   3   1   0   0   0   0   0   0]\n",
      " [118   4   5   3  94   5   0  43   0   4   0   0]\n",
      " [ 16   2   0   0  14   0   0   4   0   1   0   0]\n",
      " [  1   1   0   0   2   0   1   0   0   0   0   0]\n",
      " [ 90   9   3   0  55   2   0  44   0   1   0   0]\n",
      " [  4   0   1   0   3   0   0   1   0   0   0   0]\n",
      " [ 14   4   2   0  12   1   0   7   0   2   0   0]\n",
      " [  1   0   0   0   4   0   0   0   0   0   0   0]\n",
      " [  5   1   1   0   2   0   0   2   0   0   0   0]]\n",
      "\n",
      "\n",
      "정확도: 0.26834381551362685\n"
     ]
    }
   ],
   "source": [
    "from sklearn.metrics import confusion_matrix,accuracy_score\n",
    "test_cm=confusion_matrix(test_target,pred)\n",
    "test_acc=accuracy_score(test_target,pred)\n",
    "\n",
    "\n",
    "print(test_cm)\n",
    "print('\\n')\n",
    "print('정확도:',test_acc)\n",
    "\n"
   ]
  },
  {
   "cell_type": "code",
   "execution_count": 615,
   "metadata": {},
   "outputs": [
    {
     "name": "stderr",
     "output_type": "stream",
     "text": [
      "C:\\Users\\diaky\\anaconda3\\lib\\site-packages\\sklearn\\model_selection\\_split.py:676: UserWarning: The least populated class in y has only 1 members, which is less than n_splits=5.\n",
      "  warnings.warn(\n",
      "C:\\Users\\diaky\\anaconda3\\lib\\site-packages\\sklearn\\neighbors\\_classification.py:198: DataConversionWarning: A column-vector y was passed when a 1d array was expected. Please change the shape of y to (n_samples,), for example using ravel().\n",
      "  return self._fit(X, y)\n"
     ]
    },
    {
     "name": "stdout",
     "output_type": "stream",
     "text": [
      "KNeighborsClassifier(n_neighbors=19)\n",
      "0.37378768020969855\n"
     ]
    }
   ],
   "source": [
    "from sklearn.model_selection import GridSearchCV\n",
    "knn=KNeighborsClassifier(weights='uniform')\n",
    "paramas={'n_neighbors':[i for i in range(1,20,2)],\"p\":[1,2]}\n",
    "gs=GridSearchCV(knn,paramas,n_jobs=-1)\n",
    "gs.fit(train_input,train_target)\n",
    "dt=gs.best_estimator_\n",
    "print(dt)\n",
    "print(dt.score(train_input,train_target))\n",
    "#그리드 서치 최적의 파라미터와 교차검증결과 정확도 0.37까지 상승.."
   ]
  },
  {
   "cell_type": "code",
   "execution_count": null,
   "metadata": {},
   "outputs": [],
   "source": []
  }
 ],
 "metadata": {
  "colab": {
   "provenance": []
  },
  "kernelspec": {
   "display_name": "Python 3 (ipykernel)",
   "language": "python",
   "name": "python3"
  },
  "language_info": {
   "codemirror_mode": {
    "name": "ipython",
    "version": 3
   },
   "file_extension": ".py",
   "mimetype": "text/x-python",
   "name": "python",
   "nbconvert_exporter": "python",
   "pygments_lexer": "ipython3",
   "version": "3.9.12"
  }
 },
 "nbformat": 4,
 "nbformat_minor": 1
}
