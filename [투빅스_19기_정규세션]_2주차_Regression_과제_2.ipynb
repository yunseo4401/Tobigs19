{
  "cells": [
    {
      "cell_type": "markdown",
      "metadata": {
        "id": "oYVqHpHghxi1"
      },
      "source": [
        "# [과제 2] 회귀분석\n",
        "### - Ch 1, Ch 2를 토대로 자유롭게 회귀분석과 회귀진단을 진행해주세요.\n",
        "### - 주석으로 설명 및 근거 자세하게 달아주시면 감사하겠습니다. :)"
      ]
    },
    {
      "cell_type": "code",
      "execution_count": 181,
      "metadata": {
        "id": "F0T3iPmPhxi_"
      },
      "outputs": [],
      "source": [
        "%matplotlib inline \n",
        "\n",
        "import pandas as pd\n",
        "import numpy as np\n",
        "import matplotlib.pyplot as plt\n",
        "import seaborn as sns\n",
        "\n",
        "import warnings\n",
        "warnings.filterwarnings(action='ignore')"
      ]
    },
    {
      "cell_type": "markdown",
      "metadata": {
        "id": "P0uNO4d5hxjA"
      },
      "source": [
        "# Data "
      ]
    },
    {
      "cell_type": "markdown",
      "metadata": {
        "id": "3-xhqe55hxjB"
      },
      "source": [
        "데이터 출처 : https://www.kaggle.com/avikasliwal/used-cars-price-prediction "
      ]
    },
    {
      "cell_type": "markdown",
      "metadata": {
        "id": "NL9G4b7-hxjB"
      },
      "source": [
        "< y > \n",
        "* **Price** : The price of the used car in INR Lakhs.\n",
        "\n",
        "\n",
        "\n",
        "< X > \n",
        "* Name : The brand and model of the car\n",
        "* Location : The location in which the car is being sold or is available for purchase.\n",
        "* Year : The year or edition of the model.\n",
        "* Kilometers_Driven : The total kilometres driven in the car by the previous owner(s) in KM.\n",
        "* Fuel_Type : The type of fuel used by the car. (Petrol, Diesel, Electric, CNG, LPG)\n",
        "* Transmission : The type of transmission used by the car. (Automatic / Manual)\n",
        "* Owner_Type : Whether the ownership is Firsthand, Second hand or other.\n",
        "* Mileage : The standard mileage offered by the car company in kmpl or km/kg\n",
        "* Engine : The displacement volume of the engine in CC.\n",
        "* Power : The maximum power of the engine in bhp.\n",
        "* Seats : The number of seats in the car.\n",
        "* New_Price : The price of a new car of the same model."
      ]
    },
    {
      "cell_type": "code",
      "execution_count": 182,
      "metadata": {
        "colab": {
          "base_uri": "https://localhost:8080/",
          "height": 834
        },
        "id": "4erq13F3hxjC",
        "outputId": "382593c0-260d-49d6-e58c-473830d43081"
      },
      "outputs": [
        {
          "output_type": "execute_result",
          "data": {
            "text/plain": [
              "      Unnamed: 0                              Name    Location  Year  \\\n",
              "0              0            Maruti Wagon R LXI CNG      Mumbai  2010   \n",
              "1              1  Hyundai Creta 1.6 CRDi SX Option        Pune  2015   \n",
              "2              2                      Honda Jazz V     Chennai  2011   \n",
              "3              3                 Maruti Ertiga VDI     Chennai  2012   \n",
              "4              4   Audi A4 New 2.0 TDI Multitronic  Coimbatore  2013   \n",
              "...          ...                               ...         ...   ...   \n",
              "6014        6014                  Maruti Swift VDI       Delhi  2014   \n",
              "6015        6015          Hyundai Xcent 1.1 CRDi S      Jaipur  2015   \n",
              "6016        6016             Mahindra Xylo D4 BSIV      Jaipur  2012   \n",
              "6017        6017                Maruti Wagon R VXI     Kolkata  2013   \n",
              "6018        6018             Chevrolet Beat Diesel   Hyderabad  2011   \n",
              "\n",
              "      Kilometers_Driven Fuel_Type Transmission Owner_Type     Mileage  \\\n",
              "0                 72000       CNG       Manual      First  26.6 km/kg   \n",
              "1                 41000    Diesel       Manual      First  19.67 kmpl   \n",
              "2                 46000    Petrol       Manual      First   18.2 kmpl   \n",
              "3                 87000    Diesel       Manual      First  20.77 kmpl   \n",
              "4                 40670    Diesel    Automatic     Second   15.2 kmpl   \n",
              "...                 ...       ...          ...        ...         ...   \n",
              "6014              27365    Diesel       Manual      First   28.4 kmpl   \n",
              "6015             100000    Diesel       Manual      First   24.4 kmpl   \n",
              "6016              55000    Diesel       Manual     Second   14.0 kmpl   \n",
              "6017              46000    Petrol       Manual      First   18.9 kmpl   \n",
              "6018              47000    Diesel       Manual      First  25.44 kmpl   \n",
              "\n",
              "       Engine      Power  Seats  New_Price  Price  \n",
              "0      998 CC  58.16 bhp    5.0        NaN   1.75  \n",
              "1     1582 CC  126.2 bhp    5.0        NaN  12.50  \n",
              "2     1199 CC   88.7 bhp    5.0  8.61 Lakh   4.50  \n",
              "3     1248 CC  88.76 bhp    7.0        NaN   6.00  \n",
              "4     1968 CC  140.8 bhp    5.0        NaN  17.74  \n",
              "...       ...        ...    ...        ...    ...  \n",
              "6014  1248 CC     74 bhp    5.0  7.88 Lakh   4.75  \n",
              "6015  1120 CC     71 bhp    5.0        NaN   4.00  \n",
              "6016  2498 CC    112 bhp    8.0        NaN   2.90  \n",
              "6017   998 CC   67.1 bhp    5.0        NaN   2.65  \n",
              "6018   936 CC   57.6 bhp    5.0        NaN   2.50  \n",
              "\n",
              "[6019 rows x 14 columns]"
            ],
            "text/html": [
              "\n",
              "  <div id=\"df-4a8998cd-e2a0-44f5-b3b0-b0fb021ba825\">\n",
              "    <div class=\"colab-df-container\">\n",
              "      <div>\n",
              "<style scoped>\n",
              "    .dataframe tbody tr th:only-of-type {\n",
              "        vertical-align: middle;\n",
              "    }\n",
              "\n",
              "    .dataframe tbody tr th {\n",
              "        vertical-align: top;\n",
              "    }\n",
              "\n",
              "    .dataframe thead th {\n",
              "        text-align: right;\n",
              "    }\n",
              "</style>\n",
              "<table border=\"1\" class=\"dataframe\">\n",
              "  <thead>\n",
              "    <tr style=\"text-align: right;\">\n",
              "      <th></th>\n",
              "      <th>Unnamed: 0</th>\n",
              "      <th>Name</th>\n",
              "      <th>Location</th>\n",
              "      <th>Year</th>\n",
              "      <th>Kilometers_Driven</th>\n",
              "      <th>Fuel_Type</th>\n",
              "      <th>Transmission</th>\n",
              "      <th>Owner_Type</th>\n",
              "      <th>Mileage</th>\n",
              "      <th>Engine</th>\n",
              "      <th>Power</th>\n",
              "      <th>Seats</th>\n",
              "      <th>New_Price</th>\n",
              "      <th>Price</th>\n",
              "    </tr>\n",
              "  </thead>\n",
              "  <tbody>\n",
              "    <tr>\n",
              "      <th>0</th>\n",
              "      <td>0</td>\n",
              "      <td>Maruti Wagon R LXI CNG</td>\n",
              "      <td>Mumbai</td>\n",
              "      <td>2010</td>\n",
              "      <td>72000</td>\n",
              "      <td>CNG</td>\n",
              "      <td>Manual</td>\n",
              "      <td>First</td>\n",
              "      <td>26.6 km/kg</td>\n",
              "      <td>998 CC</td>\n",
              "      <td>58.16 bhp</td>\n",
              "      <td>5.0</td>\n",
              "      <td>NaN</td>\n",
              "      <td>1.75</td>\n",
              "    </tr>\n",
              "    <tr>\n",
              "      <th>1</th>\n",
              "      <td>1</td>\n",
              "      <td>Hyundai Creta 1.6 CRDi SX Option</td>\n",
              "      <td>Pune</td>\n",
              "      <td>2015</td>\n",
              "      <td>41000</td>\n",
              "      <td>Diesel</td>\n",
              "      <td>Manual</td>\n",
              "      <td>First</td>\n",
              "      <td>19.67 kmpl</td>\n",
              "      <td>1582 CC</td>\n",
              "      <td>126.2 bhp</td>\n",
              "      <td>5.0</td>\n",
              "      <td>NaN</td>\n",
              "      <td>12.50</td>\n",
              "    </tr>\n",
              "    <tr>\n",
              "      <th>2</th>\n",
              "      <td>2</td>\n",
              "      <td>Honda Jazz V</td>\n",
              "      <td>Chennai</td>\n",
              "      <td>2011</td>\n",
              "      <td>46000</td>\n",
              "      <td>Petrol</td>\n",
              "      <td>Manual</td>\n",
              "      <td>First</td>\n",
              "      <td>18.2 kmpl</td>\n",
              "      <td>1199 CC</td>\n",
              "      <td>88.7 bhp</td>\n",
              "      <td>5.0</td>\n",
              "      <td>8.61 Lakh</td>\n",
              "      <td>4.50</td>\n",
              "    </tr>\n",
              "    <tr>\n",
              "      <th>3</th>\n",
              "      <td>3</td>\n",
              "      <td>Maruti Ertiga VDI</td>\n",
              "      <td>Chennai</td>\n",
              "      <td>2012</td>\n",
              "      <td>87000</td>\n",
              "      <td>Diesel</td>\n",
              "      <td>Manual</td>\n",
              "      <td>First</td>\n",
              "      <td>20.77 kmpl</td>\n",
              "      <td>1248 CC</td>\n",
              "      <td>88.76 bhp</td>\n",
              "      <td>7.0</td>\n",
              "      <td>NaN</td>\n",
              "      <td>6.00</td>\n",
              "    </tr>\n",
              "    <tr>\n",
              "      <th>4</th>\n",
              "      <td>4</td>\n",
              "      <td>Audi A4 New 2.0 TDI Multitronic</td>\n",
              "      <td>Coimbatore</td>\n",
              "      <td>2013</td>\n",
              "      <td>40670</td>\n",
              "      <td>Diesel</td>\n",
              "      <td>Automatic</td>\n",
              "      <td>Second</td>\n",
              "      <td>15.2 kmpl</td>\n",
              "      <td>1968 CC</td>\n",
              "      <td>140.8 bhp</td>\n",
              "      <td>5.0</td>\n",
              "      <td>NaN</td>\n",
              "      <td>17.74</td>\n",
              "    </tr>\n",
              "    <tr>\n",
              "      <th>...</th>\n",
              "      <td>...</td>\n",
              "      <td>...</td>\n",
              "      <td>...</td>\n",
              "      <td>...</td>\n",
              "      <td>...</td>\n",
              "      <td>...</td>\n",
              "      <td>...</td>\n",
              "      <td>...</td>\n",
              "      <td>...</td>\n",
              "      <td>...</td>\n",
              "      <td>...</td>\n",
              "      <td>...</td>\n",
              "      <td>...</td>\n",
              "      <td>...</td>\n",
              "    </tr>\n",
              "    <tr>\n",
              "      <th>6014</th>\n",
              "      <td>6014</td>\n",
              "      <td>Maruti Swift VDI</td>\n",
              "      <td>Delhi</td>\n",
              "      <td>2014</td>\n",
              "      <td>27365</td>\n",
              "      <td>Diesel</td>\n",
              "      <td>Manual</td>\n",
              "      <td>First</td>\n",
              "      <td>28.4 kmpl</td>\n",
              "      <td>1248 CC</td>\n",
              "      <td>74 bhp</td>\n",
              "      <td>5.0</td>\n",
              "      <td>7.88 Lakh</td>\n",
              "      <td>4.75</td>\n",
              "    </tr>\n",
              "    <tr>\n",
              "      <th>6015</th>\n",
              "      <td>6015</td>\n",
              "      <td>Hyundai Xcent 1.1 CRDi S</td>\n",
              "      <td>Jaipur</td>\n",
              "      <td>2015</td>\n",
              "      <td>100000</td>\n",
              "      <td>Diesel</td>\n",
              "      <td>Manual</td>\n",
              "      <td>First</td>\n",
              "      <td>24.4 kmpl</td>\n",
              "      <td>1120 CC</td>\n",
              "      <td>71 bhp</td>\n",
              "      <td>5.0</td>\n",
              "      <td>NaN</td>\n",
              "      <td>4.00</td>\n",
              "    </tr>\n",
              "    <tr>\n",
              "      <th>6016</th>\n",
              "      <td>6016</td>\n",
              "      <td>Mahindra Xylo D4 BSIV</td>\n",
              "      <td>Jaipur</td>\n",
              "      <td>2012</td>\n",
              "      <td>55000</td>\n",
              "      <td>Diesel</td>\n",
              "      <td>Manual</td>\n",
              "      <td>Second</td>\n",
              "      <td>14.0 kmpl</td>\n",
              "      <td>2498 CC</td>\n",
              "      <td>112 bhp</td>\n",
              "      <td>8.0</td>\n",
              "      <td>NaN</td>\n",
              "      <td>2.90</td>\n",
              "    </tr>\n",
              "    <tr>\n",
              "      <th>6017</th>\n",
              "      <td>6017</td>\n",
              "      <td>Maruti Wagon R VXI</td>\n",
              "      <td>Kolkata</td>\n",
              "      <td>2013</td>\n",
              "      <td>46000</td>\n",
              "      <td>Petrol</td>\n",
              "      <td>Manual</td>\n",
              "      <td>First</td>\n",
              "      <td>18.9 kmpl</td>\n",
              "      <td>998 CC</td>\n",
              "      <td>67.1 bhp</td>\n",
              "      <td>5.0</td>\n",
              "      <td>NaN</td>\n",
              "      <td>2.65</td>\n",
              "    </tr>\n",
              "    <tr>\n",
              "      <th>6018</th>\n",
              "      <td>6018</td>\n",
              "      <td>Chevrolet Beat Diesel</td>\n",
              "      <td>Hyderabad</td>\n",
              "      <td>2011</td>\n",
              "      <td>47000</td>\n",
              "      <td>Diesel</td>\n",
              "      <td>Manual</td>\n",
              "      <td>First</td>\n",
              "      <td>25.44 kmpl</td>\n",
              "      <td>936 CC</td>\n",
              "      <td>57.6 bhp</td>\n",
              "      <td>5.0</td>\n",
              "      <td>NaN</td>\n",
              "      <td>2.50</td>\n",
              "    </tr>\n",
              "  </tbody>\n",
              "</table>\n",
              "<p>6019 rows × 14 columns</p>\n",
              "</div>\n",
              "      <button class=\"colab-df-convert\" onclick=\"convertToInteractive('df-4a8998cd-e2a0-44f5-b3b0-b0fb021ba825')\"\n",
              "              title=\"Convert this dataframe to an interactive table.\"\n",
              "              style=\"display:none;\">\n",
              "        \n",
              "  <svg xmlns=\"http://www.w3.org/2000/svg\" height=\"24px\"viewBox=\"0 0 24 24\"\n",
              "       width=\"24px\">\n",
              "    <path d=\"M0 0h24v24H0V0z\" fill=\"none\"/>\n",
              "    <path d=\"M18.56 5.44l.94 2.06.94-2.06 2.06-.94-2.06-.94-.94-2.06-.94 2.06-2.06.94zm-11 1L8.5 8.5l.94-2.06 2.06-.94-2.06-.94L8.5 2.5l-.94 2.06-2.06.94zm10 10l.94 2.06.94-2.06 2.06-.94-2.06-.94-.94-2.06-.94 2.06-2.06.94z\"/><path d=\"M17.41 7.96l-1.37-1.37c-.4-.4-.92-.59-1.43-.59-.52 0-1.04.2-1.43.59L10.3 9.45l-7.72 7.72c-.78.78-.78 2.05 0 2.83L4 21.41c.39.39.9.59 1.41.59.51 0 1.02-.2 1.41-.59l7.78-7.78 2.81-2.81c.8-.78.8-2.07 0-2.86zM5.41 20L4 18.59l7.72-7.72 1.47 1.35L5.41 20z\"/>\n",
              "  </svg>\n",
              "      </button>\n",
              "      \n",
              "  <style>\n",
              "    .colab-df-container {\n",
              "      display:flex;\n",
              "      flex-wrap:wrap;\n",
              "      gap: 12px;\n",
              "    }\n",
              "\n",
              "    .colab-df-convert {\n",
              "      background-color: #E8F0FE;\n",
              "      border: none;\n",
              "      border-radius: 50%;\n",
              "      cursor: pointer;\n",
              "      display: none;\n",
              "      fill: #1967D2;\n",
              "      height: 32px;\n",
              "      padding: 0 0 0 0;\n",
              "      width: 32px;\n",
              "    }\n",
              "\n",
              "    .colab-df-convert:hover {\n",
              "      background-color: #E2EBFA;\n",
              "      box-shadow: 0px 1px 2px rgba(60, 64, 67, 0.3), 0px 1px 3px 1px rgba(60, 64, 67, 0.15);\n",
              "      fill: #174EA6;\n",
              "    }\n",
              "\n",
              "    [theme=dark] .colab-df-convert {\n",
              "      background-color: #3B4455;\n",
              "      fill: #D2E3FC;\n",
              "    }\n",
              "\n",
              "    [theme=dark] .colab-df-convert:hover {\n",
              "      background-color: #434B5C;\n",
              "      box-shadow: 0px 1px 3px 1px rgba(0, 0, 0, 0.15);\n",
              "      filter: drop-shadow(0px 1px 2px rgba(0, 0, 0, 0.3));\n",
              "      fill: #FFFFFF;\n",
              "    }\n",
              "  </style>\n",
              "\n",
              "      <script>\n",
              "        const buttonEl =\n",
              "          document.querySelector('#df-4a8998cd-e2a0-44f5-b3b0-b0fb021ba825 button.colab-df-convert');\n",
              "        buttonEl.style.display =\n",
              "          google.colab.kernel.accessAllowed ? 'block' : 'none';\n",
              "\n",
              "        async function convertToInteractive(key) {\n",
              "          const element = document.querySelector('#df-4a8998cd-e2a0-44f5-b3b0-b0fb021ba825');\n",
              "          const dataTable =\n",
              "            await google.colab.kernel.invokeFunction('convertToInteractive',\n",
              "                                                     [key], {});\n",
              "          if (!dataTable) return;\n",
              "\n",
              "          const docLinkHtml = 'Like what you see? Visit the ' +\n",
              "            '<a target=\"_blank\" href=https://colab.research.google.com/notebooks/data_table.ipynb>data table notebook</a>'\n",
              "            + ' to learn more about interactive tables.';\n",
              "          element.innerHTML = '';\n",
              "          dataTable['output_type'] = 'display_data';\n",
              "          await google.colab.output.renderOutput(dataTable, element);\n",
              "          const docLink = document.createElement('div');\n",
              "          docLink.innerHTML = docLinkHtml;\n",
              "          element.appendChild(docLink);\n",
              "        }\n",
              "      </script>\n",
              "    </div>\n",
              "  </div>\n",
              "  "
            ]
          },
          "metadata": {},
          "execution_count": 182
        }
      ],
      "source": [
        "# Load Data \n",
        "data1 = pd.read_csv(\"assignment2_data.csv\")\n",
        "data1"
      ]
    },
    {
      "cell_type": "code",
      "execution_count": 183,
      "metadata": {
        "colab": {
          "base_uri": "https://localhost:8080/",
          "height": 884
        },
        "id": "YNDm_FaH_S7J",
        "outputId": "8e13bdba-3020-4932-c354-8a0c026cc999"
      },
      "outputs": [
        {
          "output_type": "execute_result",
          "data": {
            "text/plain": [
              "      Unnamed: 0                                               Name  \\\n",
              "0              0                            Maruti Alto K10 LXI CNG   \n",
              "1              1                      Maruti Alto 800 2016-2019 LXI   \n",
              "2              2          Toyota Innova Crysta Touring Sport 2.4 MT   \n",
              "3              3                               Toyota Etios Liva GD   \n",
              "4              4                                  Hyundai i20 Magna   \n",
              "...          ...                                                ...   \n",
              "1229        1229                  Volkswagen Vento Diesel Trendline   \n",
              "1230        1230                             Volkswagen Polo GT TSI   \n",
              "1231        1231                             Nissan Micra Diesel XV   \n",
              "1232        1232                             Volkswagen Polo GT TSI   \n",
              "1233        1233  Mercedes-Benz E-Class 2009-2013 E 220 CDI Avan...   \n",
              "\n",
              "        Location  Year  Kilometers_Driven Fuel_Type Transmission Owner_Type  \\\n",
              "0          Delhi  2014              40929       CNG       Manual      First   \n",
              "1     Coimbatore  2013              54493    Petrol       Manual     Second   \n",
              "2         Mumbai  2017              34000    Diesel       Manual      First   \n",
              "3      Hyderabad  2012             139000    Diesel       Manual      First   \n",
              "4         Mumbai  2014              29000    Petrol       Manual      First   \n",
              "...          ...   ...                ...       ...          ...        ...   \n",
              "1229   Hyderabad  2011              89411    Diesel       Manual      First   \n",
              "1230      Mumbai  2015              59000    Petrol    Automatic      First   \n",
              "1231     Kolkata  2012              28000    Diesel       Manual      First   \n",
              "1232        Pune  2013              52262    Petrol    Automatic      Third   \n",
              "1233       Kochi  2014              72443    Diesel    Automatic      First   \n",
              "\n",
              "          Mileage   Engine      Power  Seats   New_Price  \n",
              "0     32.26 km/kg   998 CC   58.2 bhp    4.0         NaN  \n",
              "1       24.7 kmpl   796 CC   47.3 bhp    5.0         NaN  \n",
              "2      13.68 kmpl  2393 CC  147.8 bhp    7.0  25.27 Lakh  \n",
              "3      23.59 kmpl  1364 CC   null bhp    5.0         NaN  \n",
              "4       18.5 kmpl  1197 CC  82.85 bhp    5.0         NaN  \n",
              "...           ...      ...        ...    ...         ...  \n",
              "1229   20.54 kmpl  1598 CC  103.6 bhp    5.0         NaN  \n",
              "1230   17.21 kmpl  1197 CC  103.6 bhp    5.0         NaN  \n",
              "1231   23.08 kmpl  1461 CC   63.1 bhp    5.0         NaN  \n",
              "1232    17.2 kmpl  1197 CC  103.6 bhp    5.0         NaN  \n",
              "1233    10.0 kmpl  2148 CC    170 bhp    5.0         NaN  \n",
              "\n",
              "[1234 rows x 13 columns]"
            ],
            "text/html": [
              "\n",
              "  <div id=\"df-717ea252-7e7a-4065-867e-b457222b99db\">\n",
              "    <div class=\"colab-df-container\">\n",
              "      <div>\n",
              "<style scoped>\n",
              "    .dataframe tbody tr th:only-of-type {\n",
              "        vertical-align: middle;\n",
              "    }\n",
              "\n",
              "    .dataframe tbody tr th {\n",
              "        vertical-align: top;\n",
              "    }\n",
              "\n",
              "    .dataframe thead th {\n",
              "        text-align: right;\n",
              "    }\n",
              "</style>\n",
              "<table border=\"1\" class=\"dataframe\">\n",
              "  <thead>\n",
              "    <tr style=\"text-align: right;\">\n",
              "      <th></th>\n",
              "      <th>Unnamed: 0</th>\n",
              "      <th>Name</th>\n",
              "      <th>Location</th>\n",
              "      <th>Year</th>\n",
              "      <th>Kilometers_Driven</th>\n",
              "      <th>Fuel_Type</th>\n",
              "      <th>Transmission</th>\n",
              "      <th>Owner_Type</th>\n",
              "      <th>Mileage</th>\n",
              "      <th>Engine</th>\n",
              "      <th>Power</th>\n",
              "      <th>Seats</th>\n",
              "      <th>New_Price</th>\n",
              "    </tr>\n",
              "  </thead>\n",
              "  <tbody>\n",
              "    <tr>\n",
              "      <th>0</th>\n",
              "      <td>0</td>\n",
              "      <td>Maruti Alto K10 LXI CNG</td>\n",
              "      <td>Delhi</td>\n",
              "      <td>2014</td>\n",
              "      <td>40929</td>\n",
              "      <td>CNG</td>\n",
              "      <td>Manual</td>\n",
              "      <td>First</td>\n",
              "      <td>32.26 km/kg</td>\n",
              "      <td>998 CC</td>\n",
              "      <td>58.2 bhp</td>\n",
              "      <td>4.0</td>\n",
              "      <td>NaN</td>\n",
              "    </tr>\n",
              "    <tr>\n",
              "      <th>1</th>\n",
              "      <td>1</td>\n",
              "      <td>Maruti Alto 800 2016-2019 LXI</td>\n",
              "      <td>Coimbatore</td>\n",
              "      <td>2013</td>\n",
              "      <td>54493</td>\n",
              "      <td>Petrol</td>\n",
              "      <td>Manual</td>\n",
              "      <td>Second</td>\n",
              "      <td>24.7 kmpl</td>\n",
              "      <td>796 CC</td>\n",
              "      <td>47.3 bhp</td>\n",
              "      <td>5.0</td>\n",
              "      <td>NaN</td>\n",
              "    </tr>\n",
              "    <tr>\n",
              "      <th>2</th>\n",
              "      <td>2</td>\n",
              "      <td>Toyota Innova Crysta Touring Sport 2.4 MT</td>\n",
              "      <td>Mumbai</td>\n",
              "      <td>2017</td>\n",
              "      <td>34000</td>\n",
              "      <td>Diesel</td>\n",
              "      <td>Manual</td>\n",
              "      <td>First</td>\n",
              "      <td>13.68 kmpl</td>\n",
              "      <td>2393 CC</td>\n",
              "      <td>147.8 bhp</td>\n",
              "      <td>7.0</td>\n",
              "      <td>25.27 Lakh</td>\n",
              "    </tr>\n",
              "    <tr>\n",
              "      <th>3</th>\n",
              "      <td>3</td>\n",
              "      <td>Toyota Etios Liva GD</td>\n",
              "      <td>Hyderabad</td>\n",
              "      <td>2012</td>\n",
              "      <td>139000</td>\n",
              "      <td>Diesel</td>\n",
              "      <td>Manual</td>\n",
              "      <td>First</td>\n",
              "      <td>23.59 kmpl</td>\n",
              "      <td>1364 CC</td>\n",
              "      <td>null bhp</td>\n",
              "      <td>5.0</td>\n",
              "      <td>NaN</td>\n",
              "    </tr>\n",
              "    <tr>\n",
              "      <th>4</th>\n",
              "      <td>4</td>\n",
              "      <td>Hyundai i20 Magna</td>\n",
              "      <td>Mumbai</td>\n",
              "      <td>2014</td>\n",
              "      <td>29000</td>\n",
              "      <td>Petrol</td>\n",
              "      <td>Manual</td>\n",
              "      <td>First</td>\n",
              "      <td>18.5 kmpl</td>\n",
              "      <td>1197 CC</td>\n",
              "      <td>82.85 bhp</td>\n",
              "      <td>5.0</td>\n",
              "      <td>NaN</td>\n",
              "    </tr>\n",
              "    <tr>\n",
              "      <th>...</th>\n",
              "      <td>...</td>\n",
              "      <td>...</td>\n",
              "      <td>...</td>\n",
              "      <td>...</td>\n",
              "      <td>...</td>\n",
              "      <td>...</td>\n",
              "      <td>...</td>\n",
              "      <td>...</td>\n",
              "      <td>...</td>\n",
              "      <td>...</td>\n",
              "      <td>...</td>\n",
              "      <td>...</td>\n",
              "      <td>...</td>\n",
              "    </tr>\n",
              "    <tr>\n",
              "      <th>1229</th>\n",
              "      <td>1229</td>\n",
              "      <td>Volkswagen Vento Diesel Trendline</td>\n",
              "      <td>Hyderabad</td>\n",
              "      <td>2011</td>\n",
              "      <td>89411</td>\n",
              "      <td>Diesel</td>\n",
              "      <td>Manual</td>\n",
              "      <td>First</td>\n",
              "      <td>20.54 kmpl</td>\n",
              "      <td>1598 CC</td>\n",
              "      <td>103.6 bhp</td>\n",
              "      <td>5.0</td>\n",
              "      <td>NaN</td>\n",
              "    </tr>\n",
              "    <tr>\n",
              "      <th>1230</th>\n",
              "      <td>1230</td>\n",
              "      <td>Volkswagen Polo GT TSI</td>\n",
              "      <td>Mumbai</td>\n",
              "      <td>2015</td>\n",
              "      <td>59000</td>\n",
              "      <td>Petrol</td>\n",
              "      <td>Automatic</td>\n",
              "      <td>First</td>\n",
              "      <td>17.21 kmpl</td>\n",
              "      <td>1197 CC</td>\n",
              "      <td>103.6 bhp</td>\n",
              "      <td>5.0</td>\n",
              "      <td>NaN</td>\n",
              "    </tr>\n",
              "    <tr>\n",
              "      <th>1231</th>\n",
              "      <td>1231</td>\n",
              "      <td>Nissan Micra Diesel XV</td>\n",
              "      <td>Kolkata</td>\n",
              "      <td>2012</td>\n",
              "      <td>28000</td>\n",
              "      <td>Diesel</td>\n",
              "      <td>Manual</td>\n",
              "      <td>First</td>\n",
              "      <td>23.08 kmpl</td>\n",
              "      <td>1461 CC</td>\n",
              "      <td>63.1 bhp</td>\n",
              "      <td>5.0</td>\n",
              "      <td>NaN</td>\n",
              "    </tr>\n",
              "    <tr>\n",
              "      <th>1232</th>\n",
              "      <td>1232</td>\n",
              "      <td>Volkswagen Polo GT TSI</td>\n",
              "      <td>Pune</td>\n",
              "      <td>2013</td>\n",
              "      <td>52262</td>\n",
              "      <td>Petrol</td>\n",
              "      <td>Automatic</td>\n",
              "      <td>Third</td>\n",
              "      <td>17.2 kmpl</td>\n",
              "      <td>1197 CC</td>\n",
              "      <td>103.6 bhp</td>\n",
              "      <td>5.0</td>\n",
              "      <td>NaN</td>\n",
              "    </tr>\n",
              "    <tr>\n",
              "      <th>1233</th>\n",
              "      <td>1233</td>\n",
              "      <td>Mercedes-Benz E-Class 2009-2013 E 220 CDI Avan...</td>\n",
              "      <td>Kochi</td>\n",
              "      <td>2014</td>\n",
              "      <td>72443</td>\n",
              "      <td>Diesel</td>\n",
              "      <td>Automatic</td>\n",
              "      <td>First</td>\n",
              "      <td>10.0 kmpl</td>\n",
              "      <td>2148 CC</td>\n",
              "      <td>170 bhp</td>\n",
              "      <td>5.0</td>\n",
              "      <td>NaN</td>\n",
              "    </tr>\n",
              "  </tbody>\n",
              "</table>\n",
              "<p>1234 rows × 13 columns</p>\n",
              "</div>\n",
              "      <button class=\"colab-df-convert\" onclick=\"convertToInteractive('df-717ea252-7e7a-4065-867e-b457222b99db')\"\n",
              "              title=\"Convert this dataframe to an interactive table.\"\n",
              "              style=\"display:none;\">\n",
              "        \n",
              "  <svg xmlns=\"http://www.w3.org/2000/svg\" height=\"24px\"viewBox=\"0 0 24 24\"\n",
              "       width=\"24px\">\n",
              "    <path d=\"M0 0h24v24H0V0z\" fill=\"none\"/>\n",
              "    <path d=\"M18.56 5.44l.94 2.06.94-2.06 2.06-.94-2.06-.94-.94-2.06-.94 2.06-2.06.94zm-11 1L8.5 8.5l.94-2.06 2.06-.94-2.06-.94L8.5 2.5l-.94 2.06-2.06.94zm10 10l.94 2.06.94-2.06 2.06-.94-2.06-.94-.94-2.06-.94 2.06-2.06.94z\"/><path d=\"M17.41 7.96l-1.37-1.37c-.4-.4-.92-.59-1.43-.59-.52 0-1.04.2-1.43.59L10.3 9.45l-7.72 7.72c-.78.78-.78 2.05 0 2.83L4 21.41c.39.39.9.59 1.41.59.51 0 1.02-.2 1.41-.59l7.78-7.78 2.81-2.81c.8-.78.8-2.07 0-2.86zM5.41 20L4 18.59l7.72-7.72 1.47 1.35L5.41 20z\"/>\n",
              "  </svg>\n",
              "      </button>\n",
              "      \n",
              "  <style>\n",
              "    .colab-df-container {\n",
              "      display:flex;\n",
              "      flex-wrap:wrap;\n",
              "      gap: 12px;\n",
              "    }\n",
              "\n",
              "    .colab-df-convert {\n",
              "      background-color: #E8F0FE;\n",
              "      border: none;\n",
              "      border-radius: 50%;\n",
              "      cursor: pointer;\n",
              "      display: none;\n",
              "      fill: #1967D2;\n",
              "      height: 32px;\n",
              "      padding: 0 0 0 0;\n",
              "      width: 32px;\n",
              "    }\n",
              "\n",
              "    .colab-df-convert:hover {\n",
              "      background-color: #E2EBFA;\n",
              "      box-shadow: 0px 1px 2px rgba(60, 64, 67, 0.3), 0px 1px 3px 1px rgba(60, 64, 67, 0.15);\n",
              "      fill: #174EA6;\n",
              "    }\n",
              "\n",
              "    [theme=dark] .colab-df-convert {\n",
              "      background-color: #3B4455;\n",
              "      fill: #D2E3FC;\n",
              "    }\n",
              "\n",
              "    [theme=dark] .colab-df-convert:hover {\n",
              "      background-color: #434B5C;\n",
              "      box-shadow: 0px 1px 3px 1px rgba(0, 0, 0, 0.15);\n",
              "      filter: drop-shadow(0px 1px 2px rgba(0, 0, 0, 0.3));\n",
              "      fill: #FFFFFF;\n",
              "    }\n",
              "  </style>\n",
              "\n",
              "      <script>\n",
              "        const buttonEl =\n",
              "          document.querySelector('#df-717ea252-7e7a-4065-867e-b457222b99db button.colab-df-convert');\n",
              "        buttonEl.style.display =\n",
              "          google.colab.kernel.accessAllowed ? 'block' : 'none';\n",
              "\n",
              "        async function convertToInteractive(key) {\n",
              "          const element = document.querySelector('#df-717ea252-7e7a-4065-867e-b457222b99db');\n",
              "          const dataTable =\n",
              "            await google.colab.kernel.invokeFunction('convertToInteractive',\n",
              "                                                     [key], {});\n",
              "          if (!dataTable) return;\n",
              "\n",
              "          const docLinkHtml = 'Like what you see? Visit the ' +\n",
              "            '<a target=\"_blank\" href=https://colab.research.google.com/notebooks/data_table.ipynb>data table notebook</a>'\n",
              "            + ' to learn more about interactive tables.';\n",
              "          element.innerHTML = '';\n",
              "          dataTable['output_type'] = 'display_data';\n",
              "          await google.colab.output.renderOutput(dataTable, element);\n",
              "          const docLink = document.createElement('div');\n",
              "          docLink.innerHTML = docLinkHtml;\n",
              "          element.appendChild(docLink);\n",
              "        }\n",
              "      </script>\n",
              "    </div>\n",
              "  </div>\n",
              "  "
            ]
          },
          "metadata": {},
          "execution_count": 183
        }
      ],
      "source": [
        "data2 = pd.read_csv(\"test-data.csv\")\n",
        "data2"
      ]
    },
    {
      "cell_type": "code",
      "source": [
        "#data1과 data2를 합치자 \n",
        "data=pd.concat([data1,data2],axis=0,ignore_index=True)\n",
        "data"
      ],
      "metadata": {
        "colab": {
          "base_uri": "https://localhost:8080/",
          "height": 869
        },
        "id": "hRntyCOXYQt0",
        "outputId": "314263a0-559e-4dc1-8bd3-d08bff466f30"
      },
      "execution_count": 184,
      "outputs": [
        {
          "output_type": "execute_result",
          "data": {
            "text/plain": [
              "      Unnamed: 0                                               Name  \\\n",
              "0              0                             Maruti Wagon R LXI CNG   \n",
              "1              1                   Hyundai Creta 1.6 CRDi SX Option   \n",
              "2              2                                       Honda Jazz V   \n",
              "3              3                                  Maruti Ertiga VDI   \n",
              "4              4                    Audi A4 New 2.0 TDI Multitronic   \n",
              "...          ...                                                ...   \n",
              "7248        1229                  Volkswagen Vento Diesel Trendline   \n",
              "7249        1230                             Volkswagen Polo GT TSI   \n",
              "7250        1231                             Nissan Micra Diesel XV   \n",
              "7251        1232                             Volkswagen Polo GT TSI   \n",
              "7252        1233  Mercedes-Benz E-Class 2009-2013 E 220 CDI Avan...   \n",
              "\n",
              "        Location  Year  Kilometers_Driven Fuel_Type Transmission Owner_Type  \\\n",
              "0         Mumbai  2010              72000       CNG       Manual      First   \n",
              "1           Pune  2015              41000    Diesel       Manual      First   \n",
              "2        Chennai  2011              46000    Petrol       Manual      First   \n",
              "3        Chennai  2012              87000    Diesel       Manual      First   \n",
              "4     Coimbatore  2013              40670    Diesel    Automatic     Second   \n",
              "...          ...   ...                ...       ...          ...        ...   \n",
              "7248   Hyderabad  2011              89411    Diesel       Manual      First   \n",
              "7249      Mumbai  2015              59000    Petrol    Automatic      First   \n",
              "7250     Kolkata  2012              28000    Diesel       Manual      First   \n",
              "7251        Pune  2013              52262    Petrol    Automatic      Third   \n",
              "7252       Kochi  2014              72443    Diesel    Automatic      First   \n",
              "\n",
              "         Mileage   Engine      Power  Seats  New_Price  Price  \n",
              "0     26.6 km/kg   998 CC  58.16 bhp    5.0        NaN   1.75  \n",
              "1     19.67 kmpl  1582 CC  126.2 bhp    5.0        NaN  12.50  \n",
              "2      18.2 kmpl  1199 CC   88.7 bhp    5.0  8.61 Lakh   4.50  \n",
              "3     20.77 kmpl  1248 CC  88.76 bhp    7.0        NaN   6.00  \n",
              "4      15.2 kmpl  1968 CC  140.8 bhp    5.0        NaN  17.74  \n",
              "...          ...      ...        ...    ...        ...    ...  \n",
              "7248  20.54 kmpl  1598 CC  103.6 bhp    5.0        NaN    NaN  \n",
              "7249  17.21 kmpl  1197 CC  103.6 bhp    5.0        NaN    NaN  \n",
              "7250  23.08 kmpl  1461 CC   63.1 bhp    5.0        NaN    NaN  \n",
              "7251   17.2 kmpl  1197 CC  103.6 bhp    5.0        NaN    NaN  \n",
              "7252   10.0 kmpl  2148 CC    170 bhp    5.0        NaN    NaN  \n",
              "\n",
              "[7253 rows x 14 columns]"
            ],
            "text/html": [
              "\n",
              "  <div id=\"df-4ad0cefa-e581-4c79-b719-8a82a09d05ec\">\n",
              "    <div class=\"colab-df-container\">\n",
              "      <div>\n",
              "<style scoped>\n",
              "    .dataframe tbody tr th:only-of-type {\n",
              "        vertical-align: middle;\n",
              "    }\n",
              "\n",
              "    .dataframe tbody tr th {\n",
              "        vertical-align: top;\n",
              "    }\n",
              "\n",
              "    .dataframe thead th {\n",
              "        text-align: right;\n",
              "    }\n",
              "</style>\n",
              "<table border=\"1\" class=\"dataframe\">\n",
              "  <thead>\n",
              "    <tr style=\"text-align: right;\">\n",
              "      <th></th>\n",
              "      <th>Unnamed: 0</th>\n",
              "      <th>Name</th>\n",
              "      <th>Location</th>\n",
              "      <th>Year</th>\n",
              "      <th>Kilometers_Driven</th>\n",
              "      <th>Fuel_Type</th>\n",
              "      <th>Transmission</th>\n",
              "      <th>Owner_Type</th>\n",
              "      <th>Mileage</th>\n",
              "      <th>Engine</th>\n",
              "      <th>Power</th>\n",
              "      <th>Seats</th>\n",
              "      <th>New_Price</th>\n",
              "      <th>Price</th>\n",
              "    </tr>\n",
              "  </thead>\n",
              "  <tbody>\n",
              "    <tr>\n",
              "      <th>0</th>\n",
              "      <td>0</td>\n",
              "      <td>Maruti Wagon R LXI CNG</td>\n",
              "      <td>Mumbai</td>\n",
              "      <td>2010</td>\n",
              "      <td>72000</td>\n",
              "      <td>CNG</td>\n",
              "      <td>Manual</td>\n",
              "      <td>First</td>\n",
              "      <td>26.6 km/kg</td>\n",
              "      <td>998 CC</td>\n",
              "      <td>58.16 bhp</td>\n",
              "      <td>5.0</td>\n",
              "      <td>NaN</td>\n",
              "      <td>1.75</td>\n",
              "    </tr>\n",
              "    <tr>\n",
              "      <th>1</th>\n",
              "      <td>1</td>\n",
              "      <td>Hyundai Creta 1.6 CRDi SX Option</td>\n",
              "      <td>Pune</td>\n",
              "      <td>2015</td>\n",
              "      <td>41000</td>\n",
              "      <td>Diesel</td>\n",
              "      <td>Manual</td>\n",
              "      <td>First</td>\n",
              "      <td>19.67 kmpl</td>\n",
              "      <td>1582 CC</td>\n",
              "      <td>126.2 bhp</td>\n",
              "      <td>5.0</td>\n",
              "      <td>NaN</td>\n",
              "      <td>12.50</td>\n",
              "    </tr>\n",
              "    <tr>\n",
              "      <th>2</th>\n",
              "      <td>2</td>\n",
              "      <td>Honda Jazz V</td>\n",
              "      <td>Chennai</td>\n",
              "      <td>2011</td>\n",
              "      <td>46000</td>\n",
              "      <td>Petrol</td>\n",
              "      <td>Manual</td>\n",
              "      <td>First</td>\n",
              "      <td>18.2 kmpl</td>\n",
              "      <td>1199 CC</td>\n",
              "      <td>88.7 bhp</td>\n",
              "      <td>5.0</td>\n",
              "      <td>8.61 Lakh</td>\n",
              "      <td>4.50</td>\n",
              "    </tr>\n",
              "    <tr>\n",
              "      <th>3</th>\n",
              "      <td>3</td>\n",
              "      <td>Maruti Ertiga VDI</td>\n",
              "      <td>Chennai</td>\n",
              "      <td>2012</td>\n",
              "      <td>87000</td>\n",
              "      <td>Diesel</td>\n",
              "      <td>Manual</td>\n",
              "      <td>First</td>\n",
              "      <td>20.77 kmpl</td>\n",
              "      <td>1248 CC</td>\n",
              "      <td>88.76 bhp</td>\n",
              "      <td>7.0</td>\n",
              "      <td>NaN</td>\n",
              "      <td>6.00</td>\n",
              "    </tr>\n",
              "    <tr>\n",
              "      <th>4</th>\n",
              "      <td>4</td>\n",
              "      <td>Audi A4 New 2.0 TDI Multitronic</td>\n",
              "      <td>Coimbatore</td>\n",
              "      <td>2013</td>\n",
              "      <td>40670</td>\n",
              "      <td>Diesel</td>\n",
              "      <td>Automatic</td>\n",
              "      <td>Second</td>\n",
              "      <td>15.2 kmpl</td>\n",
              "      <td>1968 CC</td>\n",
              "      <td>140.8 bhp</td>\n",
              "      <td>5.0</td>\n",
              "      <td>NaN</td>\n",
              "      <td>17.74</td>\n",
              "    </tr>\n",
              "    <tr>\n",
              "      <th>...</th>\n",
              "      <td>...</td>\n",
              "      <td>...</td>\n",
              "      <td>...</td>\n",
              "      <td>...</td>\n",
              "      <td>...</td>\n",
              "      <td>...</td>\n",
              "      <td>...</td>\n",
              "      <td>...</td>\n",
              "      <td>...</td>\n",
              "      <td>...</td>\n",
              "      <td>...</td>\n",
              "      <td>...</td>\n",
              "      <td>...</td>\n",
              "      <td>...</td>\n",
              "    </tr>\n",
              "    <tr>\n",
              "      <th>7248</th>\n",
              "      <td>1229</td>\n",
              "      <td>Volkswagen Vento Diesel Trendline</td>\n",
              "      <td>Hyderabad</td>\n",
              "      <td>2011</td>\n",
              "      <td>89411</td>\n",
              "      <td>Diesel</td>\n",
              "      <td>Manual</td>\n",
              "      <td>First</td>\n",
              "      <td>20.54 kmpl</td>\n",
              "      <td>1598 CC</td>\n",
              "      <td>103.6 bhp</td>\n",
              "      <td>5.0</td>\n",
              "      <td>NaN</td>\n",
              "      <td>NaN</td>\n",
              "    </tr>\n",
              "    <tr>\n",
              "      <th>7249</th>\n",
              "      <td>1230</td>\n",
              "      <td>Volkswagen Polo GT TSI</td>\n",
              "      <td>Mumbai</td>\n",
              "      <td>2015</td>\n",
              "      <td>59000</td>\n",
              "      <td>Petrol</td>\n",
              "      <td>Automatic</td>\n",
              "      <td>First</td>\n",
              "      <td>17.21 kmpl</td>\n",
              "      <td>1197 CC</td>\n",
              "      <td>103.6 bhp</td>\n",
              "      <td>5.0</td>\n",
              "      <td>NaN</td>\n",
              "      <td>NaN</td>\n",
              "    </tr>\n",
              "    <tr>\n",
              "      <th>7250</th>\n",
              "      <td>1231</td>\n",
              "      <td>Nissan Micra Diesel XV</td>\n",
              "      <td>Kolkata</td>\n",
              "      <td>2012</td>\n",
              "      <td>28000</td>\n",
              "      <td>Diesel</td>\n",
              "      <td>Manual</td>\n",
              "      <td>First</td>\n",
              "      <td>23.08 kmpl</td>\n",
              "      <td>1461 CC</td>\n",
              "      <td>63.1 bhp</td>\n",
              "      <td>5.0</td>\n",
              "      <td>NaN</td>\n",
              "      <td>NaN</td>\n",
              "    </tr>\n",
              "    <tr>\n",
              "      <th>7251</th>\n",
              "      <td>1232</td>\n",
              "      <td>Volkswagen Polo GT TSI</td>\n",
              "      <td>Pune</td>\n",
              "      <td>2013</td>\n",
              "      <td>52262</td>\n",
              "      <td>Petrol</td>\n",
              "      <td>Automatic</td>\n",
              "      <td>Third</td>\n",
              "      <td>17.2 kmpl</td>\n",
              "      <td>1197 CC</td>\n",
              "      <td>103.6 bhp</td>\n",
              "      <td>5.0</td>\n",
              "      <td>NaN</td>\n",
              "      <td>NaN</td>\n",
              "    </tr>\n",
              "    <tr>\n",
              "      <th>7252</th>\n",
              "      <td>1233</td>\n",
              "      <td>Mercedes-Benz E-Class 2009-2013 E 220 CDI Avan...</td>\n",
              "      <td>Kochi</td>\n",
              "      <td>2014</td>\n",
              "      <td>72443</td>\n",
              "      <td>Diesel</td>\n",
              "      <td>Automatic</td>\n",
              "      <td>First</td>\n",
              "      <td>10.0 kmpl</td>\n",
              "      <td>2148 CC</td>\n",
              "      <td>170 bhp</td>\n",
              "      <td>5.0</td>\n",
              "      <td>NaN</td>\n",
              "      <td>NaN</td>\n",
              "    </tr>\n",
              "  </tbody>\n",
              "</table>\n",
              "<p>7253 rows × 14 columns</p>\n",
              "</div>\n",
              "      <button class=\"colab-df-convert\" onclick=\"convertToInteractive('df-4ad0cefa-e581-4c79-b719-8a82a09d05ec')\"\n",
              "              title=\"Convert this dataframe to an interactive table.\"\n",
              "              style=\"display:none;\">\n",
              "        \n",
              "  <svg xmlns=\"http://www.w3.org/2000/svg\" height=\"24px\"viewBox=\"0 0 24 24\"\n",
              "       width=\"24px\">\n",
              "    <path d=\"M0 0h24v24H0V0z\" fill=\"none\"/>\n",
              "    <path d=\"M18.56 5.44l.94 2.06.94-2.06 2.06-.94-2.06-.94-.94-2.06-.94 2.06-2.06.94zm-11 1L8.5 8.5l.94-2.06 2.06-.94-2.06-.94L8.5 2.5l-.94 2.06-2.06.94zm10 10l.94 2.06.94-2.06 2.06-.94-2.06-.94-.94-2.06-.94 2.06-2.06.94z\"/><path d=\"M17.41 7.96l-1.37-1.37c-.4-.4-.92-.59-1.43-.59-.52 0-1.04.2-1.43.59L10.3 9.45l-7.72 7.72c-.78.78-.78 2.05 0 2.83L4 21.41c.39.39.9.59 1.41.59.51 0 1.02-.2 1.41-.59l7.78-7.78 2.81-2.81c.8-.78.8-2.07 0-2.86zM5.41 20L4 18.59l7.72-7.72 1.47 1.35L5.41 20z\"/>\n",
              "  </svg>\n",
              "      </button>\n",
              "      \n",
              "  <style>\n",
              "    .colab-df-container {\n",
              "      display:flex;\n",
              "      flex-wrap:wrap;\n",
              "      gap: 12px;\n",
              "    }\n",
              "\n",
              "    .colab-df-convert {\n",
              "      background-color: #E8F0FE;\n",
              "      border: none;\n",
              "      border-radius: 50%;\n",
              "      cursor: pointer;\n",
              "      display: none;\n",
              "      fill: #1967D2;\n",
              "      height: 32px;\n",
              "      padding: 0 0 0 0;\n",
              "      width: 32px;\n",
              "    }\n",
              "\n",
              "    .colab-df-convert:hover {\n",
              "      background-color: #E2EBFA;\n",
              "      box-shadow: 0px 1px 2px rgba(60, 64, 67, 0.3), 0px 1px 3px 1px rgba(60, 64, 67, 0.15);\n",
              "      fill: #174EA6;\n",
              "    }\n",
              "\n",
              "    [theme=dark] .colab-df-convert {\n",
              "      background-color: #3B4455;\n",
              "      fill: #D2E3FC;\n",
              "    }\n",
              "\n",
              "    [theme=dark] .colab-df-convert:hover {\n",
              "      background-color: #434B5C;\n",
              "      box-shadow: 0px 1px 3px 1px rgba(0, 0, 0, 0.15);\n",
              "      filter: drop-shadow(0px 1px 2px rgba(0, 0, 0, 0.3));\n",
              "      fill: #FFFFFF;\n",
              "    }\n",
              "  </style>\n",
              "\n",
              "      <script>\n",
              "        const buttonEl =\n",
              "          document.querySelector('#df-4ad0cefa-e581-4c79-b719-8a82a09d05ec button.colab-df-convert');\n",
              "        buttonEl.style.display =\n",
              "          google.colab.kernel.accessAllowed ? 'block' : 'none';\n",
              "\n",
              "        async function convertToInteractive(key) {\n",
              "          const element = document.querySelector('#df-4ad0cefa-e581-4c79-b719-8a82a09d05ec');\n",
              "          const dataTable =\n",
              "            await google.colab.kernel.invokeFunction('convertToInteractive',\n",
              "                                                     [key], {});\n",
              "          if (!dataTable) return;\n",
              "\n",
              "          const docLinkHtml = 'Like what you see? Visit the ' +\n",
              "            '<a target=\"_blank\" href=https://colab.research.google.com/notebooks/data_table.ipynb>data table notebook</a>'\n",
              "            + ' to learn more about interactive tables.';\n",
              "          element.innerHTML = '';\n",
              "          dataTable['output_type'] = 'display_data';\n",
              "          await google.colab.output.renderOutput(dataTable, element);\n",
              "          const docLink = document.createElement('div');\n",
              "          docLink.innerHTML = docLinkHtml;\n",
              "          element.appendChild(docLink);\n",
              "        }\n",
              "      </script>\n",
              "    </div>\n",
              "  </div>\n",
              "  "
            ]
          },
          "metadata": {},
          "execution_count": 184
        }
      ]
    },
    {
      "cell_type": "code",
      "source": [
        "data.info()\n",
        "#Price가 종속변수 \n",
        "#Unnamed칼럼은 필요없음\n",
        "#New_Price는 결측값이 너무 많기 때문에 변수에서 제거하도록 하겠습니다. "
      ],
      "metadata": {
        "colab": {
          "base_uri": "https://localhost:8080/"
        },
        "id": "yO_uFQazYwNH",
        "outputId": "61bc7c93-2a93-4500-c471-ae95b2665737"
      },
      "execution_count": 185,
      "outputs": [
        {
          "output_type": "stream",
          "name": "stdout",
          "text": [
            "<class 'pandas.core.frame.DataFrame'>\n",
            "RangeIndex: 7253 entries, 0 to 7252\n",
            "Data columns (total 14 columns):\n",
            " #   Column             Non-Null Count  Dtype  \n",
            "---  ------             --------------  -----  \n",
            " 0   Unnamed: 0         7253 non-null   int64  \n",
            " 1   Name               7253 non-null   object \n",
            " 2   Location           7253 non-null   object \n",
            " 3   Year               7253 non-null   int64  \n",
            " 4   Kilometers_Driven  7253 non-null   int64  \n",
            " 5   Fuel_Type          7253 non-null   object \n",
            " 6   Transmission       7253 non-null   object \n",
            " 7   Owner_Type         7253 non-null   object \n",
            " 8   Mileage            7251 non-null   object \n",
            " 9   Engine             7207 non-null   object \n",
            " 10  Power              7207 non-null   object \n",
            " 11  Seats              7200 non-null   float64\n",
            " 12  New_Price          1006 non-null   object \n",
            " 13  Price              6019 non-null   float64\n",
            "dtypes: float64(2), int64(3), object(9)\n",
            "memory usage: 793.4+ KB\n"
          ]
        }
      ]
    },
    {
      "cell_type": "markdown",
      "source": [
        "#Name"
      ],
      "metadata": {
        "id": "83xcPmlMiVpZ"
      }
    },
    {
      "cell_type": "code",
      "source": [
        "data['Name'].value_counts() \n",
        "#차 이름이 굉장히 다양하므로 이를 파생변수로 사용하는 것은 무의미하다고 판단. "
      ],
      "metadata": {
        "colab": {
          "base_uri": "https://localhost:8080/"
        },
        "id": "3-Yo4eB3iHgj",
        "outputId": "fe49150d-8386-426d-ae63-8fa80837e4cb"
      },
      "execution_count": 186,
      "outputs": [
        {
          "output_type": "execute_result",
          "data": {
            "text/plain": [
              "Mahindra XUV500 W8 2WD                  55\n",
              "Maruti Swift VDI                        49\n",
              "Maruti Swift Dzire VDI                  42\n",
              "Honda City 1.5 S MT                     39\n",
              "Maruti Swift VDI BSIV                   37\n",
              "                                        ..\n",
              "Chevrolet Beat LT Option                 1\n",
              "Skoda Rapid 1.6 MPI AT Elegance Plus     1\n",
              "Ford EcoSport 1.5 TDCi Ambiente          1\n",
              "Hyundai i10 Magna 1.1 iTech SE           1\n",
              "Hyundai Elite i20 Magna Plus             1\n",
              "Name: Name, Length: 2041, dtype: int64"
            ]
          },
          "metadata": {},
          "execution_count": 186
        }
      ]
    },
    {
      "cell_type": "markdown",
      "source": [
        "#Location"
      ],
      "metadata": {
        "id": "x9Nd6H8ziYeN"
      }
    },
    {
      "cell_type": "code",
      "execution_count": 187,
      "metadata": {
        "id": "d-J1QpWR_WYh",
        "colab": {
          "base_uri": "https://localhost:8080/",
          "height": 374
        },
        "outputId": "5c71d38d-1af1-4b4a-f628-b610cb8979fa"
      },
      "outputs": [
        {
          "output_type": "display_data",
          "data": {
            "text/plain": [
              "<Figure size 1080x432 with 1 Axes>"
            ],
            "image/png": "[encoded data removed]"
          },
          "metadata": {
            "needs_background": "light"
          }
        }
      ],
      "source": [
        "data_loca=data['Location'].value_counts()\n",
        "fig,ax=plt.subplots(figsize=(15,6))\n",
        "plt.bar(data_loca.index,data_loca.values,bottom=None)\n",
        "plt.show()\n",
        "#꽤나 고르게 분포되어있다. "
      ]
    },
    {
      "cell_type": "markdown",
      "source": [
        "#Year"
      ],
      "metadata": {
        "id": "AJfH-71fic6r"
      }
    },
    {
      "cell_type": "code",
      "source": [
        "data['Year'].value_counts() #매우 옛날의 모형도 있다. 개수가 한자리 수 인것은 없애주도록 하자. "
      ],
      "metadata": {
        "colab": {
          "base_uri": "https://localhost:8080/"
        },
        "id": "oqcYbr91Z6r-",
        "outputId": "6c1321fd-5fd5-4adf-a370-361aeaeba3d5"
      },
      "execution_count": 188,
      "outputs": [
        {
          "output_type": "execute_result",
          "data": {
            "text/plain": [
              "2015    929\n",
              "2014    925\n",
              "2016    886\n",
              "2013    791\n",
              "2017    709\n",
              "2012    690\n",
              "2011    579\n",
              "2010    407\n",
              "2018    361\n",
              "2009    252\n",
              "2008    207\n",
              "2007    148\n",
              "2019    119\n",
              "2006     89\n",
              "2005     68\n",
              "2004     35\n",
              "2003     20\n",
              "2002     18\n",
              "2001      8\n",
              "2000      5\n",
              "1998      4\n",
              "1999      2\n",
              "1996      1\n",
              "Name: Year, dtype: int64"
            ]
          },
          "metadata": {},
          "execution_count": 188
        }
      ]
    },
    {
      "cell_type": "code",
      "source": [
        "outliers=data[(data['Year']==1996)|(data['Year']==1999)|(data['Year']==1999)|(data['Year']==2000)|(data['Year']==2001)]\n",
        "data.loc[outliers.index,'Year']=None #1999년,1998년,1996년,2000년,2001년값을 none으로 바꾸어주고 \n",
        "data[\"Year\"]=data[\"Year\"].dropna() #none값을 모두 drop한다. "
      ],
      "metadata": {
        "id": "vcoqmXaCbRWX"
      },
      "execution_count": 189,
      "outputs": []
    },
    {
      "cell_type": "code",
      "source": [
        "data['Year'].value_counts() #제거가 되었음을 확인할 수 있다. "
      ],
      "metadata": {
        "colab": {
          "base_uri": "https://localhost:8080/"
        },
        "id": "JJ86BLY5bJt0",
        "outputId": "a951b9b3-0096-47d1-d1f3-9310df86ddf0"
      },
      "execution_count": 190,
      "outputs": [
        {
          "output_type": "execute_result",
          "data": {
            "text/plain": [
              "2015.0    929\n",
              "2014.0    925\n",
              "2016.0    886\n",
              "2013.0    791\n",
              "2017.0    709\n",
              "2012.0    690\n",
              "2011.0    579\n",
              "2010.0    407\n",
              "2018.0    361\n",
              "2009.0    252\n",
              "2008.0    207\n",
              "2007.0    148\n",
              "2019.0    119\n",
              "2006.0     89\n",
              "2005.0     68\n",
              "2004.0     35\n",
              "2003.0     20\n",
              "2002.0     18\n",
              "1998.0      4\n",
              "Name: Year, dtype: int64"
            ]
          },
          "metadata": {},
          "execution_count": 190
        }
      ]
    },
    {
      "cell_type": "markdown",
      "source": [
        "#Kilometers_Driven"
      ],
      "metadata": {
        "id": "cPcufLADifAv"
      }
    },
    {
      "cell_type": "code",
      "source": [
        "data['Kilometers_Driven'].value_counts()\n",
        "data['Kilometers_Driven'].describe() \n",
        "#이산형 변수이므로 종속변수와 산점도를 그려보자. \n",
        "#최솟값과 최대값의 차이가 많이 나는 편이다..혹시 모르니 이상치 탐지를 위한 boxplot을 먼저 그려보자 "
      ],
      "metadata": {
        "colab": {
          "base_uri": "https://localhost:8080/"
        },
        "id": "e37SRURkdOvF",
        "outputId": "33661e98-c3ce-44db-dabe-f9466c12e532"
      },
      "execution_count": 191,
      "outputs": [
        {
          "output_type": "execute_result",
          "data": {
            "text/plain": [
              "count    7.253000e+03\n",
              "mean     5.869906e+04\n",
              "std      8.442772e+04\n",
              "min      1.710000e+02\n",
              "25%      3.400000e+04\n",
              "50%      5.341600e+04\n",
              "75%      7.300000e+04\n",
              "max      6.500000e+06\n",
              "Name: Kilometers_Driven, dtype: float64"
            ]
          },
          "metadata": {},
          "execution_count": 191
        }
      ]
    },
    {
      "cell_type": "code",
      "source": [
        "plt.boxplot(data['Kilometers_Driven'],whis=2.0)\n",
        "plt.title('Kilometers_Driven')\n",
        "plt.show()"
      ],
      "metadata": {
        "colab": {
          "base_uri": "https://localhost:8080/",
          "height": 281
        },
        "id": "Q33OTuZ7fKtc",
        "outputId": "bac7c4f1-5091-49da-ec75-29b1c411da15"
      },
      "execution_count": 192,
      "outputs": [
        {
          "output_type": "display_data",
          "data": {
            "text/plain": [
              "<Figure size 432x288 with 1 Axes>"
            ],
            "image/png": "[encoded data removed]"
          },
          "metadata": {
            "needs_background": "light"
          }
        }
      ]
    },
    {
      "cell_type": "code",
      "source": [
        "#이상치정제하는 함수 구현 \n",
        "def outliers_iqr(dt,col):\n",
        "  quartile_1,quartile_3=np.percentile(dt[col],[25,75])\n",
        "  iqr=quartile_3-quartile_1\n",
        "  lower_whis=quartile_1-(iqr*2.0)\n",
        "  upper_whis=quartile_3+(iqr*2.0)\n",
        "  outliers=dt[(dt[col]>upper_whis)|(dt[col]<lower_whis)]\n",
        "  return outliers[[col]]\n",
        "\n",
        "outliers=outliers_iqr(data,'Kilometers_Driven')\n",
        "outliers  # 총 136개의 이상치 "
      ],
      "metadata": {
        "colab": {
          "base_uri": "https://localhost:8080/",
          "height": 423
        },
        "id": "JU_iBvKcf37z",
        "outputId": "4fc97d5e-39d3-4952-8ee7-6389f1f63cda"
      },
      "execution_count": 193,
      "outputs": [
        {
          "output_type": "execute_result",
          "data": {
            "text/plain": [
              "      Kilometers_Driven\n",
              "29               262000\n",
              "64               178000\n",
              "77               230000\n",
              "181              216000\n",
              "230              200000\n",
              "...                 ...\n",
              "7047             158000\n",
              "7149             183513\n",
              "7200             190000\n",
              "7213             170000\n",
              "7227             160000\n",
              "\n",
              "[136 rows x 1 columns]"
            ],
            "text/html": [
              "\n",
              "  <div id=\"df-6ec86243-bfeb-4a77-8f47-9bf9b795dfeb\">\n",
              "    <div class=\"colab-df-container\">\n",
              "      <div>\n",
              "<style scoped>\n",
              "    .dataframe tbody tr th:only-of-type {\n",
              "        vertical-align: middle;\n",
              "    }\n",
              "\n",
              "    .dataframe tbody tr th {\n",
              "        vertical-align: top;\n",
              "    }\n",
              "\n",
              "    .dataframe thead th {\n",
              "        text-align: right;\n",
              "    }\n",
              "</style>\n",
              "<table border=\"1\" class=\"dataframe\">\n",
              "  <thead>\n",
              "    <tr style=\"text-align: right;\">\n",
              "      <th></th>\n",
              "      <th>Kilometers_Driven</th>\n",
              "    </tr>\n",
              "  </thead>\n",
              "  <tbody>\n",
              "    <tr>\n",
              "      <th>29</th>\n",
              "      <td>262000</td>\n",
              "    </tr>\n",
              "    <tr>\n",
              "      <th>64</th>\n",
              "      <td>178000</td>\n",
              "    </tr>\n",
              "    <tr>\n",
              "      <th>77</th>\n",
              "      <td>230000</td>\n",
              "    </tr>\n",
              "    <tr>\n",
              "      <th>181</th>\n",
              "      <td>216000</td>\n",
              "    </tr>\n",
              "    <tr>\n",
              "      <th>230</th>\n",
              "      <td>200000</td>\n",
              "    </tr>\n",
              "    <tr>\n",
              "      <th>...</th>\n",
              "      <td>...</td>\n",
              "    </tr>\n",
              "    <tr>\n",
              "      <th>7047</th>\n",
              "      <td>158000</td>\n",
              "    </tr>\n",
              "    <tr>\n",
              "      <th>7149</th>\n",
              "      <td>183513</td>\n",
              "    </tr>\n",
              "    <tr>\n",
              "      <th>7200</th>\n",
              "      <td>190000</td>\n",
              "    </tr>\n",
              "    <tr>\n",
              "      <th>7213</th>\n",
              "      <td>170000</td>\n",
              "    </tr>\n",
              "    <tr>\n",
              "      <th>7227</th>\n",
              "      <td>160000</td>\n",
              "    </tr>\n",
              "  </tbody>\n",
              "</table>\n",
              "<p>136 rows × 1 columns</p>\n",
              "</div>\n",
              "      <button class=\"colab-df-convert\" onclick=\"convertToInteractive('df-6ec86243-bfeb-4a77-8f47-9bf9b795dfeb')\"\n",
              "              title=\"Convert this dataframe to an interactive table.\"\n",
              "              style=\"display:none;\">\n",
              "        \n",
              "  <svg xmlns=\"http://www.w3.org/2000/svg\" height=\"24px\"viewBox=\"0 0 24 24\"\n",
              "       width=\"24px\">\n",
              "    <path d=\"M0 0h24v24H0V0z\" fill=\"none\"/>\n",
              "    <path d=\"M18.56 5.44l.94 2.06.94-2.06 2.06-.94-2.06-.94-.94-2.06-.94 2.06-2.06.94zm-11 1L8.5 8.5l.94-2.06 2.06-.94-2.06-.94L8.5 2.5l-.94 2.06-2.06.94zm10 10l.94 2.06.94-2.06 2.06-.94-2.06-.94-.94-2.06-.94 2.06-2.06.94z\"/><path d=\"M17.41 7.96l-1.37-1.37c-.4-.4-.92-.59-1.43-.59-.52 0-1.04.2-1.43.59L10.3 9.45l-7.72 7.72c-.78.78-.78 2.05 0 2.83L4 21.41c.39.39.9.59 1.41.59.51 0 1.02-.2 1.41-.59l7.78-7.78 2.81-2.81c.8-.78.8-2.07 0-2.86zM5.41 20L4 18.59l7.72-7.72 1.47 1.35L5.41 20z\"/>\n",
              "  </svg>\n",
              "      </button>\n",
              "      \n",
              "  <style>\n",
              "    .colab-df-container {\n",
              "      display:flex;\n",
              "      flex-wrap:wrap;\n",
              "      gap: 12px;\n",
              "    }\n",
              "\n",
              "    .colab-df-convert {\n",
              "      background-color: #E8F0FE;\n",
              "      border: none;\n",
              "      border-radius: 50%;\n",
              "      cursor: pointer;\n",
              "      display: none;\n",
              "      fill: #1967D2;\n",
              "      height: 32px;\n",
              "      padding: 0 0 0 0;\n",
              "      width: 32px;\n",
              "    }\n",
              "\n",
              "    .colab-df-convert:hover {\n",
              "      background-color: #E2EBFA;\n",
              "      box-shadow: 0px 1px 2px rgba(60, 64, 67, 0.3), 0px 1px 3px 1px rgba(60, 64, 67, 0.15);\n",
              "      fill: #174EA6;\n",
              "    }\n",
              "\n",
              "    [theme=dark] .colab-df-convert {\n",
              "      background-color: #3B4455;\n",
              "      fill: #D2E3FC;\n",
              "    }\n",
              "\n",
              "    [theme=dark] .colab-df-convert:hover {\n",
              "      background-color: #434B5C;\n",
              "      box-shadow: 0px 1px 3px 1px rgba(0, 0, 0, 0.15);\n",
              "      filter: drop-shadow(0px 1px 2px rgba(0, 0, 0, 0.3));\n",
              "      fill: #FFFFFF;\n",
              "    }\n",
              "  </style>\n",
              "\n",
              "      <script>\n",
              "        const buttonEl =\n",
              "          document.querySelector('#df-6ec86243-bfeb-4a77-8f47-9bf9b795dfeb button.colab-df-convert');\n",
              "        buttonEl.style.display =\n",
              "          google.colab.kernel.accessAllowed ? 'block' : 'none';\n",
              "\n",
              "        async function convertToInteractive(key) {\n",
              "          const element = document.querySelector('#df-6ec86243-bfeb-4a77-8f47-9bf9b795dfeb');\n",
              "          const dataTable =\n",
              "            await google.colab.kernel.invokeFunction('convertToInteractive',\n",
              "                                                     [key], {});\n",
              "          if (!dataTable) return;\n",
              "\n",
              "          const docLinkHtml = 'Like what you see? Visit the ' +\n",
              "            '<a target=\"_blank\" href=https://colab.research.google.com/notebooks/data_table.ipynb>data table notebook</a>'\n",
              "            + ' to learn more about interactive tables.';\n",
              "          element.innerHTML = '';\n",
              "          dataTable['output_type'] = 'display_data';\n",
              "          await google.colab.output.renderOutput(dataTable, element);\n",
              "          const docLink = document.createElement('div');\n",
              "          docLink.innerHTML = docLinkHtml;\n",
              "          element.appendChild(docLink);\n",
              "        }\n",
              "      </script>\n",
              "    </div>\n",
              "  </div>\n",
              "  "
            ]
          },
          "metadata": {},
          "execution_count": 193
        }
      ]
    },
    {
      "cell_type": "code",
      "source": [
        "data.loc[outliers.index,'Kilometers_Driven']=None #이상치를 Nan으로 변경 \n",
        "data['Kilometers_Driven']=data['Kilometers_Driven'].fillna(data['Kilometers_Driven'].mean()) #평균값으로 대체해주자. "
      ],
      "metadata": {
        "id": "_zhBzB9PgHRI"
      },
      "execution_count": 194,
      "outputs": []
    },
    {
      "cell_type": "code",
      "source": [
        "#산점도를 그리기 전, 종속변수인 Price에는 결측값이 있으므로 평균치로 대체해서 넣어주자. \n",
        "data['Price']=data['Price'].fillna(data[\"Price\"].mean())"
      ],
      "metadata": {
        "id": "S5TXRe1qdhkZ"
      },
      "execution_count": 195,
      "outputs": []
    },
    {
      "cell_type": "code",
      "source": [
        "plt.subplots(figsize=(20,10))\n",
        "plt.scatter(x=data['Kilometers_Driven'],y=data['Price'],alpha=0.5)\n",
        "plt.show()\n",
        "#주행한 거리가 작을수록 차의 price가 높음을 확인할 수 있다. "
      ],
      "metadata": {
        "colab": {
          "base_uri": "https://localhost:8080/",
          "height": 571
        },
        "id": "jXozM7DXeDOj",
        "outputId": "fc3f16fa-ef6d-4582-899c-50a5d8bec1bc"
      },
      "execution_count": 196,
      "outputs": [
        {
          "output_type": "display_data",
          "data": {
            "text/plain": [
              "<Figure size 1440x720 with 1 Axes>"
            ],
            "image/png": "[encoded data removed]"
          },
          "metadata": {
            "needs_background": "light"
          }
        }
      ]
    },
    {
      "cell_type": "markdown",
      "source": [
        "#fuel_type"
      ],
      "metadata": {
        "id": "eaqH19Lniiew"
      }
    },
    {
      "cell_type": "code",
      "source": [
        "data['Fuel_Type'].value_counts()\n",
        "#두연료에 굉장히 몰려있다! 나머지 3개는 그냥 없애주도록 하자. "
      ],
      "metadata": {
        "colab": {
          "base_uri": "https://localhost:8080/"
        },
        "id": "D5yO4e2fhtwU",
        "outputId": "5acb86b8-2fb8-4c45-f6ce-1efc53bcb293"
      },
      "execution_count": 197,
      "outputs": [
        {
          "output_type": "execute_result",
          "data": {
            "text/plain": [
              "Diesel      3852\n",
              "Petrol      3325\n",
              "CNG           62\n",
              "LPG           12\n",
              "Electric       2\n",
              "Name: Fuel_Type, dtype: int64"
            ]
          },
          "metadata": {},
          "execution_count": 197
        }
      ]
    },
    {
      "cell_type": "code",
      "source": [
        "outliers=data[(data['Fuel_Type']=='CNG')|(data['Fuel_Type']=='LPG')|(data['Fuel_Type']=='Electric')]\n",
        "data.loc[outliers.index,'Fuel_Type']=None #1999년,1998년,1996년,2000년,2001년값을 none으로 바꾸어주고 \n",
        "data[\"Fuel_Type\"]=data[\"Fuel_Type\"].dropna() #none값을 모두 drop한다. "
      ],
      "metadata": {
        "id": "vZIYvtL2i-zc"
      },
      "execution_count": 198,
      "outputs": []
    },
    {
      "cell_type": "code",
      "source": [
        "data['Fuel_Type'].value_counts()"
      ],
      "metadata": {
        "colab": {
          "base_uri": "https://localhost:8080/"
        },
        "id": "qyqp8dWmjNbS",
        "outputId": "c12be148-2317-46d4-cd62-9dfe83338b00"
      },
      "execution_count": 199,
      "outputs": [
        {
          "output_type": "execute_result",
          "data": {
            "text/plain": [
              "Diesel    3852\n",
              "Petrol    3325\n",
              "Name: Fuel_Type, dtype: int64"
            ]
          },
          "metadata": {},
          "execution_count": 199
        }
      ]
    },
    {
      "cell_type": "code",
      "source": [
        "#연료타입에 따른 가격을 산점도로 그려보자. \n",
        "#data['Fuel_Type'] = data.index\n",
        "sns.swarmplot(x='Fuel_Type',y='Price',data=data)\n",
        "plt.show()\n",
        "#petrol연료가 가격이 낮은편에 속함을 확인할 수 있다. "
      ],
      "metadata": {
        "colab": {
          "base_uri": "https://localhost:8080/",
          "height": 280
        },
        "outputId": "7befea17-d898-473e-855a-285e95b46690",
        "id": "xyzc3gTPmUJZ"
      },
      "execution_count": null,
      "outputs": [
        {
          "output_type": "display_data",
          "data": {
            "text/plain": [
              "<Figure size 432x288 with 1 Axes>"
            ],
            "image/png": "[encoded data removed]"
          },
          "metadata": {
            "needs_background": "light"
          }
        }
      ]
    },
    {
      "cell_type": "markdown",
      "source": [
        "#Transmission"
      ],
      "metadata": {
        "id": "wZIJEiCAmcBe"
      }
    },
    {
      "cell_type": "code",
      "source": [
        "data['Transmission'].value_counts()\n",
        "# 위와 같이 가격에 대한 산점도를 그려보자. "
      ],
      "metadata": {
        "colab": {
          "base_uri": "https://localhost:8080/"
        },
        "id": "MAzRiaR6mbQX",
        "outputId": "8bf7c579-425c-4922-ca12-f457ba4170da"
      },
      "execution_count": 201,
      "outputs": [
        {
          "output_type": "execute_result",
          "data": {
            "text/plain": [
              "Manual       5204\n",
              "Automatic    2049\n",
              "Name: Transmission, dtype: int64"
            ]
          },
          "metadata": {},
          "execution_count": 201
        }
      ]
    },
    {
      "cell_type": "code",
      "source": [
        "\n",
        "sns.swarmplot(x='Transmission',y='Price',data=data)\n",
        "plt.show()\n",
        "#Automatic의 경우 price가 더 높은 것을 확인할 수 있다. "
      ],
      "metadata": {
        "colab": {
          "base_uri": "https://localhost:8080/",
          "height": 279
        },
        "outputId": "604765f4-2913-4790-b8a9-8142c5735dda",
        "id": "jR9NaRV4mXzl"
      },
      "execution_count": null,
      "outputs": [
        {
          "output_type": "display_data",
          "data": {
            "text/plain": [
              "<Figure size 432x288 with 1 Axes>"
            ],
            "image/png": "[encoded data removed]"
          },
          "metadata": {
            "needs_background": "light"
          }
        }
      ]
    },
    {
      "cell_type": "markdown",
      "source": [
        "#Owner_Type"
      ],
      "metadata": {
        "id": "d8h_Vcs6txQw"
      }
    },
    {
      "cell_type": "code",
      "source": [
        "data['Owner_Type'].value_counts()\n",
        "#거의 직접구매에 몰려있으므로 유의미하지 않을것이라 생각하여 파생변수에서 제외하자. "
      ],
      "metadata": {
        "colab": {
          "base_uri": "https://localhost:8080/"
        },
        "id": "XwiQIc2kqfxt",
        "outputId": "2b95e506-fa35-4b4d-ec90-6c07ff152c1b"
      },
      "execution_count": 203,
      "outputs": [
        {
          "output_type": "execute_result",
          "data": {
            "text/plain": [
              "First             5952\n",
              "Second            1152\n",
              "Third              137\n",
              "Fourth & Above      12\n",
              "Name: Owner_Type, dtype: int64"
            ]
          },
          "metadata": {},
          "execution_count": 203
        }
      ]
    },
    {
      "cell_type": "markdown",
      "source": [
        "#Mileage"
      ],
      "metadata": {
        "id": "BdlkWNMEt0UQ"
      }
    },
    {
      "cell_type": "code",
      "source": [
        "data['Mileage'].value_counts()"
      ],
      "metadata": {
        "colab": {
          "base_uri": "https://localhost:8080/"
        },
        "id": "pwgfivDhqy-f",
        "outputId": "5fb590fe-24b2-44fc-c001-d44ca182b637"
      },
      "execution_count": 204,
      "outputs": [
        {
          "output_type": "execute_result",
          "data": {
            "text/plain": [
              "17.0 kmpl     207\n",
              "18.9 kmpl     201\n",
              "18.6 kmpl     144\n",
              "21.1 kmpl     106\n",
              "20.36 kmpl    105\n",
              "             ... \n",
              "22.8 km/kg      1\n",
              "8.0 kmpl        1\n",
              "7.81 kmpl       1\n",
              "14.47 kmpl      1\n",
              "17.15 kmpl      1\n",
              "Name: Mileage, Length: 450, dtype: int64"
            ]
          },
          "metadata": {},
          "execution_count": 204
        }
      ]
    },
    {
      "cell_type": "code",
      "source": [
        "data['Mileage']=data['Mileage'].str.replace('kmpl','')\n",
        "data['Mileage']=data['Mileage'].str.replace('km/kg','').astype('float') \n",
        "\n",
        "plt.subplots(figsize=(20,10))\n",
        "plt.scatter(x=data['Mileage'],y=data['Price'],alpha=0.5)\n",
        "plt.show()\n",
        "#큰 인사이트는 얻을 수 없었다. "
      ],
      "metadata": {
        "colab": {
          "base_uri": "https://localhost:8080/",
          "height": 571
        },
        "id": "Kb9qbmQCt2Nj",
        "outputId": "52fdc12b-ea3b-475d-c4ec-559531229883"
      },
      "execution_count": 205,
      "outputs": [
        {
          "output_type": "display_data",
          "data": {
            "text/plain": [
              "<Figure size 1440x720 with 1 Axes>"
            ],
            "image/png": "[encoded data removed]"
          },
          "metadata": {
            "needs_background": "light"
          }
        }
      ]
    },
    {
      "cell_type": "markdown",
      "source": [
        "#Engine"
      ],
      "metadata": {
        "id": "E2Vb4hKRv2zg"
      }
    },
    {
      "cell_type": "code",
      "source": [
        "data['Engine'].value_counts()"
      ],
      "metadata": {
        "colab": {
          "base_uri": "https://localhost:8080/"
        },
        "id": "s7zuZqVrq28n",
        "outputId": "b0ec94b5-11c5-4788-fc46-77b263123a2e"
      },
      "execution_count": 206,
      "outputs": [
        {
          "output_type": "execute_result",
          "data": {
            "text/plain": [
              "1197 CC    732\n",
              "1248 CC    610\n",
              "1498 CC    370\n",
              "998 CC     309\n",
              "1198 CC    281\n",
              "          ... \n",
              "1489 CC      1\n",
              "1422 CC      1\n",
              "2706 CC      1\n",
              "1978 CC      1\n",
              "1389 CC      1\n",
              "Name: Engine, Length: 150, dtype: int64"
            ]
          },
          "metadata": {},
          "execution_count": 206
        }
      ]
    },
    {
      "cell_type": "code",
      "source": [
        "data['Engine']=data['Engine'].str.replace('CC','').astype('float') \n"
      ],
      "metadata": {
        "id": "pOzdN8Efv4mh"
      },
      "execution_count": 207,
      "outputs": []
    },
    {
      "cell_type": "code",
      "source": [
        "plt.subplots(figsize=(20,10))\n",
        "plt.scatter(x=data['Engine'],y=data['Price'],alpha=0.5)\n",
        "plt.show()\n",
        "#엔진 용량이 클수록 가격이 높은것 같지만 전체수가 달라서 정확히 구분이 불가하다. "
      ],
      "metadata": {
        "colab": {
          "base_uri": "https://localhost:8080/",
          "height": 571
        },
        "id": "x4C1CiQowFsu",
        "outputId": "0dc4a512-0a05-4549-cb37-b51c559de69c"
      },
      "execution_count": 208,
      "outputs": [
        {
          "output_type": "display_data",
          "data": {
            "text/plain": [
              "<Figure size 1440x720 with 1 Axes>"
            ],
            "image/png": "[encoded data removed]"
          },
          "metadata": {
            "needs_background": "light"
          }
        }
      ]
    },
    {
      "cell_type": "markdown",
      "source": [
        "#Seats"
      ],
      "metadata": {
        "id": "gM5Gs52qwYc8"
      }
    },
    {
      "cell_type": "code",
      "source": [
        "data['Seats'].value_counts()\n",
        "#너무 몰려있어서 유의미하지 않다고 판단 ."
      ],
      "metadata": {
        "colab": {
          "base_uri": "https://localhost:8080/"
        },
        "id": "8ISzhUSpwZrH",
        "outputId": "35ebd0a2-9149-46f8-89d1-f84b0c1fbfb7"
      },
      "execution_count": 209,
      "outputs": [
        {
          "output_type": "execute_result",
          "data": {
            "text/plain": [
              "5.0     6047\n",
              "7.0      796\n",
              "8.0      170\n",
              "4.0      119\n",
              "6.0       38\n",
              "2.0       18\n",
              "10.0       8\n",
              "9.0        3\n",
              "0.0        1\n",
              "Name: Seats, dtype: int64"
            ]
          },
          "metadata": {},
          "execution_count": 209
        }
      ]
    },
    {
      "cell_type": "code",
      "source": [
        "data.info()"
      ],
      "metadata": {
        "colab": {
          "base_uri": "https://localhost:8080/"
        },
        "id": "veciHIawgRjD",
        "outputId": "dae64c70-48cb-4353-84d6-bc97e65fc22c"
      },
      "execution_count": 210,
      "outputs": [
        {
          "output_type": "stream",
          "name": "stdout",
          "text": [
            "<class 'pandas.core.frame.DataFrame'>\n",
            "RangeIndex: 7253 entries, 0 to 7252\n",
            "Data columns (total 14 columns):\n",
            " #   Column             Non-Null Count  Dtype  \n",
            "---  ------             --------------  -----  \n",
            " 0   Unnamed: 0         7253 non-null   int64  \n",
            " 1   Name               7253 non-null   object \n",
            " 2   Location           7253 non-null   object \n",
            " 3   Year               7237 non-null   float64\n",
            " 4   Kilometers_Driven  7253 non-null   float64\n",
            " 5   Fuel_Type          7177 non-null   object \n",
            " 6   Transmission       7253 non-null   object \n",
            " 7   Owner_Type         7253 non-null   object \n",
            " 8   Mileage            7251 non-null   float64\n",
            " 9   Engine             7207 non-null   float64\n",
            " 10  Power              7207 non-null   object \n",
            " 11  Seats              7200 non-null   float64\n",
            " 12  New_Price          1006 non-null   object \n",
            " 13  Price              7253 non-null   float64\n",
            "dtypes: float64(6), int64(1), object(7)\n",
            "memory usage: 793.4+ KB\n"
          ]
        }
      ]
    },
    {
      "cell_type": "markdown",
      "source": [
        "#변수선택법 "
      ],
      "metadata": {
        "id": "P_RzVFAuwQCP"
      }
    },
    {
      "cell_type": "code",
      "source": [
        "from pandas.core.common import apply_if_callable\n",
        "import time\n",
        "import itertools\n",
        "import statsmodels.api as sm\n",
        "import statsmodels.formula.api as smf\n",
        "def processSubset(X,y, feature_set):\n",
        "            model = sm.OLS(y,X[list(feature_set)]) # Modeling\n",
        "            regr = model.fit() # 모델 학습\n",
        "            AIC = regr.aic # 모델의 AIC\n",
        "            return {\"model\":regr, \"AIC\":AIC}\n",
        "# 전진선택법\n",
        "def forward(X, y, predictors):\n",
        "    # 데이터 변수들이 미리정의된 predictors에 있는지 없는지 확인 및 분류\n",
        "    remaining_predictors = [p for p in X.columns.difference(['Intercept']) if p not in predictors]\n",
        "    results = []\n",
        "    for p in remaining_predictors:\n",
        "        results.append(processSubset(X=X, y= y,            feature_set=predictors+[p]+['Intercept']))\n",
        "        \n",
        "    # 데이터프레임으로 변환\n",
        "    models = pd.DataFrame(results)\n",
        "    # AIC가 가장 낮은 것을 선택\n",
        "    best_model = models.loc[models['AIC'].argmin()] # index\n",
        "    print(\"Processed \", models.shape[0], \"models on\", len(predictors)+1, \"predictors in\")\n",
        "    print('Selected predictors:',best_model['model'].model.exog_names,' AIC:',best_model[0] )\n",
        "    return best_model\n",
        "def backward(X,y,predictors):\n",
        "    tic = time.time()\n",
        "    results = []\n",
        "    \n",
        "    # 데이터 변수들이 미리정의된 predictors 조합 확인\n",
        "    for combo in itertools.combinations(predictors, len(predictors) -1):\n",
        "        results.append(processSubset(X=X, y= y,        feature_set = list(combo)+['Intercept']))\n",
        "    models = pd.DataFrame(results)\n",
        "    \n",
        "    # 가장 낮은 AIC를 가진 모델을 선택\n",
        "    best_model = models.loc[models['AIC'].argmin()]\n",
        "    toc = time.time()\n",
        "    print(\"Processed \", models.shape[0], \"models on\",          len(predictors) -1, \"predictors in\", (toc - tic))\n",
        "    print('Selected predictors:',best_model['model'].model.exog_names,         'AIC:',best_model[0] )\n",
        "\n",
        "    return best_model\n",
        "# 단계적 선택법\n",
        "def Stepwise_model(X,y):\n",
        "    Stepmodels = pd.DataFrame(columns=[\"AIC\", \"model\"])\n",
        "    tic = time.time()\n",
        "    predictors = []\n",
        "    Smodel_before = processSubset(X,y,predictors+['Intercept'])['AIC']\n",
        "\n",
        "    for i in range(1, len(X.columns.difference(['Intercept'])) +1):\n",
        "        Forward_result = forward(X=X, y=y, predictors=predictors) \n",
        "        print('forward')\n",
        "        Stepmodels.loc[i] = Forward_result\n",
        "        predictors = Stepmodels.loc[i][\"model\"].model.exog_names\n",
        "        predictors = [ k for k in predictors if k !='Intercept']\n",
        "        Backward_result = backward(X=X, y=y, predictors=predictors)\n",
        "\n",
        "        if Backward_result['AIC']< Forward_result['AIC']:\n",
        "            Stepmodels.loc[i] = Backward_result\n",
        "            predictors = Stepmodels.loc[i][\"model\"].model.exog_names\n",
        "            Smodel_before = Stepmodels.loc[i][\"AIC\"]\n",
        "            predictors = [ k for k in predictors if k !='Intercept']\n",
        "            print('backward')\n",
        "\n",
        "        if Stepmodels.loc[i]['AIC']> Smodel_before:\n",
        "            break\n",
        "        else:\n",
        "            Smodel_before = Stepmodels.loc[i][\"AIC\"]\n",
        "    toc = time.time()\n",
        "    print(\"Total elapsed time:\", (toc - tic), \"seconds.\")\n",
        "\n",
        "    return (Stepmodels['model'][len(Stepmodels['model'])])"
      ],
      "metadata": {
        "id": "lBJAr_04rHCb"
      },
      "execution_count": 211,
      "outputs": []
    },
    {
      "cell_type": "code",
      "source": [
        "from patsy import dmatrices\n",
        "from statsmodels.stats.outliers_influence import variance_inflation_factor\n",
        "y,X=dmatrices('Price ~ Location + Year + Kilometers_Driven+Fuel_Type+Transmission+Mileage+Engine',\n",
        "              data=data,return_type='dataframe')"
      ],
      "metadata": {
        "id": "rtsCdrcvrKLs"
      },
      "execution_count": 212,
      "outputs": []
    },
    {
      "cell_type": "code",
      "source": [
        "models=Stepwise_model(X=X,y=y)\n"
      ],
      "metadata": {
        "colab": {
          "base_uri": "https://localhost:8080/"
        },
        "id": "FqNNAnc-w1eE",
        "outputId": "9b94cbef-deca-441b-d0b3-6a3b3308d29c"
      },
      "execution_count": 213,
      "outputs": [
        {
          "output_type": "stream",
          "name": "stdout",
          "text": [
            "Processed  16 models on 1 predictors in\n",
            "Selected predictors: ['Engine', 'Intercept']  AIC: <statsmodels.regression.linear_model.RegressionResultsWrapper object at 0x7f61f996de20>\n",
            "forward\n",
            "Processed  1 models on 0 predictors in 0.0037169456481933594\n",
            "Selected predictors: ['Intercept'] AIC: <statsmodels.regression.linear_model.RegressionResultsWrapper object at 0x7f61f997bd30>\n",
            "Processed  15 models on 2 predictors in\n",
            "Selected predictors: ['Engine', 'Year', 'Intercept']  AIC: <statsmodels.regression.linear_model.RegressionResultsWrapper object at 0x7f61f997b8e0>\n",
            "forward\n",
            "Processed  2 models on 1 predictors in 0.01888251304626465\n",
            "Selected predictors: ['Engine', 'Intercept'] AIC: <statsmodels.regression.linear_model.RegressionResultsWrapper object at 0x7f620c02eca0>\n",
            "Processed  14 models on 3 predictors in\n",
            "Selected predictors: ['Engine', 'Year', 'Transmission[T.Manual]', 'Intercept']  AIC: <statsmodels.regression.linear_model.RegressionResultsWrapper object at 0x7f61f997be80>\n",
            "forward\n",
            "Processed  3 models on 2 predictors in 0.012674331665039062\n",
            "Selected predictors: ['Engine', 'Year', 'Intercept'] AIC: <statsmodels.regression.linear_model.RegressionResultsWrapper object at 0x7f61f99516a0>\n",
            "Processed  13 models on 4 predictors in\n",
            "Selected predictors: ['Engine', 'Year', 'Transmission[T.Manual]', 'Kilometers_Driven', 'Intercept']  AIC: <statsmodels.regression.linear_model.RegressionResultsWrapper object at 0x7f61f7303760>\n",
            "forward\n",
            "Processed  4 models on 3 predictors in 0.01677107810974121\n",
            "Selected predictors: ['Engine', 'Year', 'Transmission[T.Manual]', 'Intercept'] AIC: <statsmodels.regression.linear_model.RegressionResultsWrapper object at 0x7f61f72f2ee0>\n",
            "Processed  12 models on 5 predictors in\n",
            "Selected predictors: ['Engine', 'Year', 'Transmission[T.Manual]', 'Kilometers_Driven', 'Location[T.Mumbai]', 'Intercept']  AIC: <statsmodels.regression.linear_model.RegressionResultsWrapper object at 0x7f61fa75e0a0>\n",
            "forward\n",
            "Processed  5 models on 4 predictors in 0.019952058792114258\n",
            "Selected predictors: ['Engine', 'Year', 'Transmission[T.Manual]', 'Kilometers_Driven', 'Intercept'] AIC: <statsmodels.regression.linear_model.RegressionResultsWrapper object at 0x7f61f997b850>\n",
            "Processed  11 models on 6 predictors in\n",
            "Selected predictors: ['Engine', 'Year', 'Transmission[T.Manual]', 'Kilometers_Driven', 'Location[T.Mumbai]', 'Location[T.Kolkata]', 'Intercept']  AIC: <statsmodels.regression.linear_model.RegressionResultsWrapper object at 0x7f61f9951520>\n",
            "forward\n",
            "Processed  6 models on 5 predictors in 0.026320934295654297\n",
            "Selected predictors: ['Engine', 'Year', 'Transmission[T.Manual]', 'Kilometers_Driven', 'Location[T.Mumbai]', 'Intercept'] AIC: <statsmodels.regression.linear_model.RegressionResultsWrapper object at 0x7f620c02e640>\n",
            "Processed  10 models on 7 predictors in\n",
            "Selected predictors: ['Engine', 'Year', 'Transmission[T.Manual]', 'Kilometers_Driven', 'Location[T.Mumbai]', 'Location[T.Kolkata]', 'Fuel_Type[T.Petrol]', 'Intercept']  AIC: <statsmodels.regression.linear_model.RegressionResultsWrapper object at 0x7f61f7303400>\n",
            "forward\n",
            "Processed  7 models on 6 predictors in 0.03213357925415039\n",
            "Selected predictors: ['Engine', 'Year', 'Transmission[T.Manual]', 'Kilometers_Driven', 'Location[T.Mumbai]', 'Location[T.Kolkata]', 'Intercept'] AIC: <statsmodels.regression.linear_model.RegressionResultsWrapper object at 0x7f620c035160>\n",
            "Processed  9 models on 8 predictors in\n",
            "Selected predictors: ['Engine', 'Year', 'Transmission[T.Manual]', 'Kilometers_Driven', 'Location[T.Mumbai]', 'Location[T.Kolkata]', 'Fuel_Type[T.Petrol]', 'Location[T.Coimbatore]', 'Intercept']  AIC: <statsmodels.regression.linear_model.RegressionResultsWrapper object at 0x7f620c02ef10>\n",
            "forward\n",
            "Processed  8 models on 7 predictors in 0.057642459869384766\n",
            "Selected predictors: ['Engine', 'Year', 'Transmission[T.Manual]', 'Kilometers_Driven', 'Location[T.Mumbai]', 'Location[T.Kolkata]', 'Fuel_Type[T.Petrol]', 'Intercept'] AIC: <statsmodels.regression.linear_model.RegressionResultsWrapper object at 0x7f61f72f2a30>\n",
            "Processed  8 models on 9 predictors in\n",
            "Selected predictors: ['Engine', 'Year', 'Transmission[T.Manual]', 'Kilometers_Driven', 'Location[T.Mumbai]', 'Location[T.Kolkata]', 'Fuel_Type[T.Petrol]', 'Location[T.Coimbatore]', 'Location[T.Hyderabad]', 'Intercept']  AIC: <statsmodels.regression.linear_model.RegressionResultsWrapper object at 0x7f620c035100>\n",
            "forward\n",
            "Processed  9 models on 8 predictors in 0.053983211517333984\n",
            "Selected predictors: ['Engine', 'Year', 'Transmission[T.Manual]', 'Kilometers_Driven', 'Location[T.Mumbai]', 'Location[T.Kolkata]', 'Fuel_Type[T.Petrol]', 'Location[T.Coimbatore]', 'Intercept'] AIC: <statsmodels.regression.linear_model.RegressionResultsWrapper object at 0x7f61f997bfd0>\n",
            "Processed  7 models on 10 predictors in\n",
            "Selected predictors: ['Engine', 'Year', 'Transmission[T.Manual]', 'Kilometers_Driven', 'Location[T.Mumbai]', 'Location[T.Kolkata]', 'Fuel_Type[T.Petrol]', 'Location[T.Coimbatore]', 'Location[T.Hyderabad]', 'Location[T.Bangalore]', 'Intercept']  AIC: <statsmodels.regression.linear_model.RegressionResultsWrapper object at 0x7f620ba5f6a0>\n",
            "forward\n",
            "Processed  10 models on 9 predictors in 0.06301522254943848\n",
            "Selected predictors: ['Engine', 'Year', 'Transmission[T.Manual]', 'Kilometers_Driven', 'Location[T.Mumbai]', 'Location[T.Kolkata]', 'Fuel_Type[T.Petrol]', 'Location[T.Coimbatore]', 'Location[T.Hyderabad]', 'Intercept'] AIC: <statsmodels.regression.linear_model.RegressionResultsWrapper object at 0x7f61f997b6d0>\n",
            "Processed  6 models on 11 predictors in\n",
            "Selected predictors: ['Engine', 'Year', 'Transmission[T.Manual]', 'Kilometers_Driven', 'Location[T.Mumbai]', 'Location[T.Kolkata]', 'Fuel_Type[T.Petrol]', 'Location[T.Coimbatore]', 'Location[T.Hyderabad]', 'Location[T.Bangalore]', 'Location[T.Delhi]', 'Intercept']  AIC: <statsmodels.regression.linear_model.RegressionResultsWrapper object at 0x7f61f9957130>\n",
            "forward\n",
            "Processed  11 models on 10 predictors in 0.0844271183013916\n",
            "Selected predictors: ['Engine', 'Year', 'Transmission[T.Manual]', 'Kilometers_Driven', 'Location[T.Mumbai]', 'Location[T.Kolkata]', 'Fuel_Type[T.Petrol]', 'Location[T.Coimbatore]', 'Location[T.Hyderabad]', 'Location[T.Bangalore]', 'Intercept'] AIC: <statsmodels.regression.linear_model.RegressionResultsWrapper object at 0x7f620c035910>\n",
            "Processed  5 models on 12 predictors in\n",
            "Selected predictors: ['Engine', 'Year', 'Transmission[T.Manual]', 'Kilometers_Driven', 'Location[T.Mumbai]', 'Location[T.Kolkata]', 'Fuel_Type[T.Petrol]', 'Location[T.Coimbatore]', 'Location[T.Hyderabad]', 'Location[T.Bangalore]', 'Location[T.Delhi]', 'Location[T.Kochi]', 'Intercept']  AIC: <statsmodels.regression.linear_model.RegressionResultsWrapper object at 0x7f61f997b460>\n",
            "forward\n",
            "Processed  12 models on 11 predictors in 0.13139939308166504\n",
            "Selected predictors: ['Engine', 'Year', 'Transmission[T.Manual]', 'Kilometers_Driven', 'Location[T.Mumbai]', 'Location[T.Kolkata]', 'Fuel_Type[T.Petrol]', 'Location[T.Coimbatore]', 'Location[T.Hyderabad]', 'Location[T.Bangalore]', 'Location[T.Delhi]', 'Intercept'] AIC: <statsmodels.regression.linear_model.RegressionResultsWrapper object at 0x7f61f9951a90>\n",
            "backward\n",
            "Processed  5 models on 12 predictors in\n",
            "Selected predictors: ['Engine', 'Year', 'Transmission[T.Manual]', 'Kilometers_Driven', 'Location[T.Mumbai]', 'Location[T.Kolkata]', 'Fuel_Type[T.Petrol]', 'Location[T.Coimbatore]', 'Location[T.Hyderabad]', 'Location[T.Bangalore]', 'Location[T.Delhi]', 'Location[T.Kochi]', 'Intercept']  AIC: <statsmodels.regression.linear_model.RegressionResultsWrapper object at 0x7f61f9957a90>\n",
            "forward\n",
            "Processed  12 models on 11 predictors in 0.10275387763977051\n",
            "Selected predictors: ['Engine', 'Year', 'Transmission[T.Manual]', 'Kilometers_Driven', 'Location[T.Mumbai]', 'Location[T.Kolkata]', 'Fuel_Type[T.Petrol]', 'Location[T.Coimbatore]', 'Location[T.Hyderabad]', 'Location[T.Bangalore]', 'Location[T.Delhi]', 'Intercept'] AIC: <statsmodels.regression.linear_model.RegressionResultsWrapper object at 0x7f620c02e850>\n",
            "backward\n",
            "Processed  5 models on 12 predictors in\n",
            "Selected predictors: ['Engine', 'Year', 'Transmission[T.Manual]', 'Kilometers_Driven', 'Location[T.Mumbai]', 'Location[T.Kolkata]', 'Fuel_Type[T.Petrol]', 'Location[T.Coimbatore]', 'Location[T.Hyderabad]', 'Location[T.Bangalore]', 'Location[T.Delhi]', 'Location[T.Kochi]', 'Intercept']  AIC: <statsmodels.regression.linear_model.RegressionResultsWrapper object at 0x7f61f997beb0>\n",
            "forward\n",
            "Processed  12 models on 11 predictors in 0.09760212898254395\n",
            "Selected predictors: ['Engine', 'Year', 'Transmission[T.Manual]', 'Kilometers_Driven', 'Location[T.Mumbai]', 'Location[T.Kolkata]', 'Fuel_Type[T.Petrol]', 'Location[T.Coimbatore]', 'Location[T.Hyderabad]', 'Location[T.Bangalore]', 'Location[T.Delhi]', 'Intercept'] AIC: <statsmodels.regression.linear_model.RegressionResultsWrapper object at 0x7f61f72f2bb0>\n",
            "backward\n",
            "Processed  5 models on 12 predictors in\n",
            "Selected predictors: ['Engine', 'Year', 'Transmission[T.Manual]', 'Kilometers_Driven', 'Location[T.Mumbai]', 'Location[T.Kolkata]', 'Fuel_Type[T.Petrol]', 'Location[T.Coimbatore]', 'Location[T.Hyderabad]', 'Location[T.Bangalore]', 'Location[T.Delhi]', 'Location[T.Kochi]', 'Intercept']  AIC: <statsmodels.regression.linear_model.RegressionResultsWrapper object at 0x7f61f9957520>\n",
            "forward\n",
            "Processed  12 models on 11 predictors in 0.10803961753845215\n",
            "Selected predictors: ['Engine', 'Year', 'Transmission[T.Manual]', 'Kilometers_Driven', 'Location[T.Mumbai]', 'Location[T.Kolkata]', 'Fuel_Type[T.Petrol]', 'Location[T.Coimbatore]', 'Location[T.Hyderabad]', 'Location[T.Bangalore]', 'Location[T.Delhi]', 'Intercept'] AIC: <statsmodels.regression.linear_model.RegressionResultsWrapper object at 0x7f61f72f27f0>\n",
            "backward\n",
            "Processed  5 models on 12 predictors in\n",
            "Selected predictors: ['Engine', 'Year', 'Transmission[T.Manual]', 'Kilometers_Driven', 'Location[T.Mumbai]', 'Location[T.Kolkata]', 'Fuel_Type[T.Petrol]', 'Location[T.Coimbatore]', 'Location[T.Hyderabad]', 'Location[T.Bangalore]', 'Location[T.Delhi]', 'Location[T.Kochi]', 'Intercept']  AIC: <statsmodels.regression.linear_model.RegressionResultsWrapper object at 0x7f61f997a070>\n",
            "forward\n",
            "Processed  12 models on 11 predictors in 0.07987809181213379\n",
            "Selected predictors: ['Engine', 'Year', 'Transmission[T.Manual]', 'Kilometers_Driven', 'Location[T.Mumbai]', 'Location[T.Kolkata]', 'Fuel_Type[T.Petrol]', 'Location[T.Coimbatore]', 'Location[T.Hyderabad]', 'Location[T.Bangalore]', 'Location[T.Delhi]', 'Intercept'] AIC: <statsmodels.regression.linear_model.RegressionResultsWrapper object at 0x7f61f997a3d0>\n",
            "backward\n",
            "Total elapsed time: 2.0474274158477783 seconds.\n"
          ]
        }
      ]
    },
    {
      "cell_type": "code",
      "source": [
        "models.summary()\n",
        "#이 모델로 전체 데이터의 53.7%를 설명할 수 있다. \n",
        "#최종 파생변수로는 가장 영향을 많이 주는 Year,Transmission,Location,Fuel_Type을 사용하겠다. "
      ],
      "metadata": {
        "colab": {
          "base_uri": "https://localhost:8080/",
          "height": 688
        },
        "id": "dWZqVQ8gww3c",
        "outputId": "22a91eaa-2410-41a4-952d-2e50d985c40b"
      },
      "execution_count": 214,
      "outputs": [
        {
          "output_type": "execute_result",
          "data": {
            "text/plain": [
              "<class 'statsmodels.iolib.summary.Summary'>\n",
              "\"\"\"\n",
              "                            OLS Regression Results                            \n",
              "==============================================================================\n",
              "Dep. Variable:                  Price   R-squared:                       0.537\n",
              "Model:                            OLS   Adj. R-squared:                  0.537\n",
              "Method:                 Least Squares   F-statistic:                     750.0\n",
              "Date:                Mon, 30 Jan 2023   Prob (F-statistic):               0.00\n",
              "Time:                        11:54:35   Log-Likelihood:                -23912.\n",
              "No. Observations:                7116   AIC:                         4.785e+04\n",
              "Df Residuals:                    7104   BIC:                         4.793e+04\n",
              "Df Model:                          11                                         \n",
              "Covariance Type:            nonrobust                                         \n",
              "==========================================================================================\n",
              "                             coef    std err          t      P>|t|      [0.025      0.975]\n",
              "------------------------------------------------------------------------------------------\n",
              "Engine                     0.0085      0.000     47.314      0.000       0.008       0.009\n",
              "Year                       0.6327      0.033     19.436      0.000       0.569       0.696\n",
              "Transmission[T.Manual]    -5.5147      0.218    -25.346      0.000      -5.941      -5.088\n",
              "Kilometers_Driven      -5.266e-05   3.71e-06    -14.193      0.000   -5.99e-05   -4.54e-05\n",
              "Location[T.Mumbai]        -1.3635      0.271     -5.035      0.000      -1.894      -0.833\n",
              "Location[T.Kolkata]       -1.5989      0.312     -5.118      0.000      -2.211      -0.986\n",
              "Fuel_Type[T.Petrol]       -0.9382      0.200     -4.695      0.000      -1.330      -0.546\n",
              "Location[T.Coimbatore]     1.5374      0.291      5.285      0.000       0.967       2.108\n",
              "Location[T.Hyderabad]      1.0101      0.273      3.702      0.000       0.475       1.545\n",
              "Location[T.Bangalore]      0.9917      0.364      2.724      0.006       0.278       1.705\n",
              "Location[T.Delhi]         -0.7381      0.306     -2.413      0.016      -1.338      -0.139\n",
              "Intercept              -1270.8196     65.731    -19.334      0.000   -1399.671   -1141.968\n",
              "==============================================================================\n",
              "Omnibus:                     5410.006   Durbin-Watson:                   1.980\n",
              "Prob(Omnibus):                  0.000   Jarque-Bera (JB):           285567.328\n",
              "Skew:                           3.153   Prob(JB):                         0.00\n",
              "Kurtosis:                      33.387   Cond. No.                     4.93e+07\n",
              "==============================================================================\n",
              "\n",
              "Notes:\n",
              "[1] Standard Errors assume that the covariance matrix of the errors is correctly specified.\n",
              "[2] The condition number is large, 4.93e+07. This might indicate that there are\n",
              "strong multicollinearity or other numerical problems.\n",
              "\"\"\""
            ],
            "text/html": [
              "<table class=\"simpletable\">\n",
              "<caption>OLS Regression Results</caption>\n",
              "<tr>\n",
              "  <th>Dep. Variable:</th>          <td>Price</td>      <th>  R-squared:         </th> <td>   0.537</td> \n",
              "</tr>\n",
              "<tr>\n",
              "  <th>Model:</th>                   <td>OLS</td>       <th>  Adj. R-squared:    </th> <td>   0.537</td> \n",
              "</tr>\n",
              "<tr>\n",
              "  <th>Method:</th>             <td>Least Squares</td>  <th>  F-statistic:       </th> <td>   750.0</td> \n",
              "</tr>\n",
              "<tr>\n",
              "  <th>Date:</th>             <td>Mon, 30 Jan 2023</td> <th>  Prob (F-statistic):</th>  <td>  0.00</td>  \n",
              "</tr>\n",
              "<tr>\n",
              "  <th>Time:</th>                 <td>11:54:35</td>     <th>  Log-Likelihood:    </th> <td> -23912.</td> \n",
              "</tr>\n",
              "<tr>\n",
              "  <th>No. Observations:</th>      <td>  7116</td>      <th>  AIC:               </th> <td>4.785e+04</td>\n",
              "</tr>\n",
              "<tr>\n",
              "  <th>Df Residuals:</th>          <td>  7104</td>      <th>  BIC:               </th> <td>4.793e+04</td>\n",
              "</tr>\n",
              "<tr>\n",
              "  <th>Df Model:</th>              <td>    11</td>      <th>                     </th>     <td> </td>    \n",
              "</tr>\n",
              "<tr>\n",
              "  <th>Covariance Type:</th>      <td>nonrobust</td>    <th>                     </th>     <td> </td>    \n",
              "</tr>\n",
              "</table>\n",
              "<table class=\"simpletable\">\n",
              "<tr>\n",
              "             <td></td>               <th>coef</th>     <th>std err</th>      <th>t</th>      <th>P>|t|</th>  <th>[0.025</th>    <th>0.975]</th>  \n",
              "</tr>\n",
              "<tr>\n",
              "  <th>Engine</th>                 <td>    0.0085</td> <td>    0.000</td> <td>   47.314</td> <td> 0.000</td> <td>    0.008</td> <td>    0.009</td>\n",
              "</tr>\n",
              "<tr>\n",
              "  <th>Year</th>                   <td>    0.6327</td> <td>    0.033</td> <td>   19.436</td> <td> 0.000</td> <td>    0.569</td> <td>    0.696</td>\n",
              "</tr>\n",
              "<tr>\n",
              "  <th>Transmission[T.Manual]</th> <td>   -5.5147</td> <td>    0.218</td> <td>  -25.346</td> <td> 0.000</td> <td>   -5.941</td> <td>   -5.088</td>\n",
              "</tr>\n",
              "<tr>\n",
              "  <th>Kilometers_Driven</th>      <td>-5.266e-05</td> <td> 3.71e-06</td> <td>  -14.193</td> <td> 0.000</td> <td>-5.99e-05</td> <td>-4.54e-05</td>\n",
              "</tr>\n",
              "<tr>\n",
              "  <th>Location[T.Mumbai]</th>     <td>   -1.3635</td> <td>    0.271</td> <td>   -5.035</td> <td> 0.000</td> <td>   -1.894</td> <td>   -0.833</td>\n",
              "</tr>\n",
              "<tr>\n",
              "  <th>Location[T.Kolkata]</th>    <td>   -1.5989</td> <td>    0.312</td> <td>   -5.118</td> <td> 0.000</td> <td>   -2.211</td> <td>   -0.986</td>\n",
              "</tr>\n",
              "<tr>\n",
              "  <th>Fuel_Type[T.Petrol]</th>    <td>   -0.9382</td> <td>    0.200</td> <td>   -4.695</td> <td> 0.000</td> <td>   -1.330</td> <td>   -0.546</td>\n",
              "</tr>\n",
              "<tr>\n",
              "  <th>Location[T.Coimbatore]</th> <td>    1.5374</td> <td>    0.291</td> <td>    5.285</td> <td> 0.000</td> <td>    0.967</td> <td>    2.108</td>\n",
              "</tr>\n",
              "<tr>\n",
              "  <th>Location[T.Hyderabad]</th>  <td>    1.0101</td> <td>    0.273</td> <td>    3.702</td> <td> 0.000</td> <td>    0.475</td> <td>    1.545</td>\n",
              "</tr>\n",
              "<tr>\n",
              "  <th>Location[T.Bangalore]</th>  <td>    0.9917</td> <td>    0.364</td> <td>    2.724</td> <td> 0.006</td> <td>    0.278</td> <td>    1.705</td>\n",
              "</tr>\n",
              "<tr>\n",
              "  <th>Location[T.Delhi]</th>      <td>   -0.7381</td> <td>    0.306</td> <td>   -2.413</td> <td> 0.016</td> <td>   -1.338</td> <td>   -0.139</td>\n",
              "</tr>\n",
              "<tr>\n",
              "  <th>Intercept</th>              <td>-1270.8196</td> <td>   65.731</td> <td>  -19.334</td> <td> 0.000</td> <td>-1399.671</td> <td>-1141.968</td>\n",
              "</tr>\n",
              "</table>\n",
              "<table class=\"simpletable\">\n",
              "<tr>\n",
              "  <th>Omnibus:</th>       <td>5410.006</td> <th>  Durbin-Watson:     </th>  <td>   1.980</td> \n",
              "</tr>\n",
              "<tr>\n",
              "  <th>Prob(Omnibus):</th>  <td> 0.000</td>  <th>  Jarque-Bera (JB):  </th> <td>285567.328</td>\n",
              "</tr>\n",
              "<tr>\n",
              "  <th>Skew:</th>           <td> 3.153</td>  <th>  Prob(JB):          </th>  <td>    0.00</td> \n",
              "</tr>\n",
              "<tr>\n",
              "  <th>Kurtosis:</th>       <td>33.387</td>  <th>  Cond. No.          </th>  <td>4.93e+07</td> \n",
              "</tr>\n",
              "</table><br/><br/>Notes:<br/>[1] Standard Errors assume that the covariance matrix of the errors is correctly specified.<br/>[2] The condition number is large, 4.93e+07. This might indicate that there are<br/>strong multicollinearity or other numerical problems."
            ]
          },
          "metadata": {},
          "execution_count": 214
        }
      ]
    },
    {
      "cell_type": "code",
      "source": [
        "x_data=data.loc[:,['Year','Transmission','Location','Fuel_Type']]\n",
        "x_data"
      ],
      "metadata": {
        "colab": {
          "base_uri": "https://localhost:8080/",
          "height": 423
        },
        "id": "2f4kjApIfqYE",
        "outputId": "3957d956-7b41-44f7-9c05-0ed5f5cded00"
      },
      "execution_count": 215,
      "outputs": [
        {
          "output_type": "execute_result",
          "data": {
            "text/plain": [
              "        Year Transmission    Location Fuel_Type\n",
              "0     2010.0       Manual      Mumbai       NaN\n",
              "1     2015.0       Manual        Pune    Diesel\n",
              "2     2011.0       Manual     Chennai    Petrol\n",
              "3     2012.0       Manual     Chennai    Diesel\n",
              "4     2013.0    Automatic  Coimbatore    Diesel\n",
              "...      ...          ...         ...       ...\n",
              "7248  2011.0       Manual   Hyderabad    Diesel\n",
              "7249  2015.0    Automatic      Mumbai    Petrol\n",
              "7250  2012.0       Manual     Kolkata    Diesel\n",
              "7251  2013.0    Automatic        Pune    Petrol\n",
              "7252  2014.0    Automatic       Kochi    Diesel\n",
              "\n",
              "[7253 rows x 4 columns]"
            ],
            "text/html": [
              "\n",
              "  <div id=\"df-376791da-bc66-4d10-8644-d7a5db79616c\">\n",
              "    <div class=\"colab-df-container\">\n",
              "      <div>\n",
              "<style scoped>\n",
              "    .dataframe tbody tr th:only-of-type {\n",
              "        vertical-align: middle;\n",
              "    }\n",
              "\n",
              "    .dataframe tbody tr th {\n",
              "        vertical-align: top;\n",
              "    }\n",
              "\n",
              "    .dataframe thead th {\n",
              "        text-align: right;\n",
              "    }\n",
              "</style>\n",
              "<table border=\"1\" class=\"dataframe\">\n",
              "  <thead>\n",
              "    <tr style=\"text-align: right;\">\n",
              "      <th></th>\n",
              "      <th>Year</th>\n",
              "      <th>Transmission</th>\n",
              "      <th>Location</th>\n",
              "      <th>Fuel_Type</th>\n",
              "    </tr>\n",
              "  </thead>\n",
              "  <tbody>\n",
              "    <tr>\n",
              "      <th>0</th>\n",
              "      <td>2010.0</td>\n",
              "      <td>Manual</td>\n",
              "      <td>Mumbai</td>\n",
              "      <td>NaN</td>\n",
              "    </tr>\n",
              "    <tr>\n",
              "      <th>1</th>\n",
              "      <td>2015.0</td>\n",
              "      <td>Manual</td>\n",
              "      <td>Pune</td>\n",
              "      <td>Diesel</td>\n",
              "    </tr>\n",
              "    <tr>\n",
              "      <th>2</th>\n",
              "      <td>2011.0</td>\n",
              "      <td>Manual</td>\n",
              "      <td>Chennai</td>\n",
              "      <td>Petrol</td>\n",
              "    </tr>\n",
              "    <tr>\n",
              "      <th>3</th>\n",
              "      <td>2012.0</td>\n",
              "      <td>Manual</td>\n",
              "      <td>Chennai</td>\n",
              "      <td>Diesel</td>\n",
              "    </tr>\n",
              "    <tr>\n",
              "      <th>4</th>\n",
              "      <td>2013.0</td>\n",
              "      <td>Automatic</td>\n",
              "      <td>Coimbatore</td>\n",
              "      <td>Diesel</td>\n",
              "    </tr>\n",
              "    <tr>\n",
              "      <th>...</th>\n",
              "      <td>...</td>\n",
              "      <td>...</td>\n",
              "      <td>...</td>\n",
              "      <td>...</td>\n",
              "    </tr>\n",
              "    <tr>\n",
              "      <th>7248</th>\n",
              "      <td>2011.0</td>\n",
              "      <td>Manual</td>\n",
              "      <td>Hyderabad</td>\n",
              "      <td>Diesel</td>\n",
              "    </tr>\n",
              "    <tr>\n",
              "      <th>7249</th>\n",
              "      <td>2015.0</td>\n",
              "      <td>Automatic</td>\n",
              "      <td>Mumbai</td>\n",
              "      <td>Petrol</td>\n",
              "    </tr>\n",
              "    <tr>\n",
              "      <th>7250</th>\n",
              "      <td>2012.0</td>\n",
              "      <td>Manual</td>\n",
              "      <td>Kolkata</td>\n",
              "      <td>Diesel</td>\n",
              "    </tr>\n",
              "    <tr>\n",
              "      <th>7251</th>\n",
              "      <td>2013.0</td>\n",
              "      <td>Automatic</td>\n",
              "      <td>Pune</td>\n",
              "      <td>Petrol</td>\n",
              "    </tr>\n",
              "    <tr>\n",
              "      <th>7252</th>\n",
              "      <td>2014.0</td>\n",
              "      <td>Automatic</td>\n",
              "      <td>Kochi</td>\n",
              "      <td>Diesel</td>\n",
              "    </tr>\n",
              "  </tbody>\n",
              "</table>\n",
              "<p>7253 rows × 4 columns</p>\n",
              "</div>\n",
              "      <button class=\"colab-df-convert\" onclick=\"convertToInteractive('df-376791da-bc66-4d10-8644-d7a5db79616c')\"\n",
              "              title=\"Convert this dataframe to an interactive table.\"\n",
              "              style=\"display:none;\">\n",
              "        \n",
              "  <svg xmlns=\"http://www.w3.org/2000/svg\" height=\"24px\"viewBox=\"0 0 24 24\"\n",
              "       width=\"24px\">\n",
              "    <path d=\"M0 0h24v24H0V0z\" fill=\"none\"/>\n",
              "    <path d=\"M18.56 5.44l.94 2.06.94-2.06 2.06-.94-2.06-.94-.94-2.06-.94 2.06-2.06.94zm-11 1L8.5 8.5l.94-2.06 2.06-.94-2.06-.94L8.5 2.5l-.94 2.06-2.06.94zm10 10l.94 2.06.94-2.06 2.06-.94-2.06-.94-.94-2.06-.94 2.06-2.06.94z\"/><path d=\"M17.41 7.96l-1.37-1.37c-.4-.4-.92-.59-1.43-.59-.52 0-1.04.2-1.43.59L10.3 9.45l-7.72 7.72c-.78.78-.78 2.05 0 2.83L4 21.41c.39.39.9.59 1.41.59.51 0 1.02-.2 1.41-.59l7.78-7.78 2.81-2.81c.8-.78.8-2.07 0-2.86zM5.41 20L4 18.59l7.72-7.72 1.47 1.35L5.41 20z\"/>\n",
              "  </svg>\n",
              "      </button>\n",
              "      \n",
              "  <style>\n",
              "    .colab-df-container {\n",
              "      display:flex;\n",
              "      flex-wrap:wrap;\n",
              "      gap: 12px;\n",
              "    }\n",
              "\n",
              "    .colab-df-convert {\n",
              "      background-color: #E8F0FE;\n",
              "      border: none;\n",
              "      border-radius: 50%;\n",
              "      cursor: pointer;\n",
              "      display: none;\n",
              "      fill: #1967D2;\n",
              "      height: 32px;\n",
              "      padding: 0 0 0 0;\n",
              "      width: 32px;\n",
              "    }\n",
              "\n",
              "    .colab-df-convert:hover {\n",
              "      background-color: #E2EBFA;\n",
              "      box-shadow: 0px 1px 2px rgba(60, 64, 67, 0.3), 0px 1px 3px 1px rgba(60, 64, 67, 0.15);\n",
              "      fill: #174EA6;\n",
              "    }\n",
              "\n",
              "    [theme=dark] .colab-df-convert {\n",
              "      background-color: #3B4455;\n",
              "      fill: #D2E3FC;\n",
              "    }\n",
              "\n",
              "    [theme=dark] .colab-df-convert:hover {\n",
              "      background-color: #434B5C;\n",
              "      box-shadow: 0px 1px 3px 1px rgba(0, 0, 0, 0.15);\n",
              "      filter: drop-shadow(0px 1px 2px rgba(0, 0, 0, 0.3));\n",
              "      fill: #FFFFFF;\n",
              "    }\n",
              "  </style>\n",
              "\n",
              "      <script>\n",
              "        const buttonEl =\n",
              "          document.querySelector('#df-376791da-bc66-4d10-8644-d7a5db79616c button.colab-df-convert');\n",
              "        buttonEl.style.display =\n",
              "          google.colab.kernel.accessAllowed ? 'block' : 'none';\n",
              "\n",
              "        async function convertToInteractive(key) {\n",
              "          const element = document.querySelector('#df-376791da-bc66-4d10-8644-d7a5db79616c');\n",
              "          const dataTable =\n",
              "            await google.colab.kernel.invokeFunction('convertToInteractive',\n",
              "                                                     [key], {});\n",
              "          if (!dataTable) return;\n",
              "\n",
              "          const docLinkHtml = 'Like what you see? Visit the ' +\n",
              "            '<a target=\"_blank\" href=https://colab.research.google.com/notebooks/data_table.ipynb>data table notebook</a>'\n",
              "            + ' to learn more about interactive tables.';\n",
              "          element.innerHTML = '';\n",
              "          dataTable['output_type'] = 'display_data';\n",
              "          await google.colab.output.renderOutput(dataTable, element);\n",
              "          const docLink = document.createElement('div');\n",
              "          docLink.innerHTML = docLinkHtml;\n",
              "          element.appendChild(docLink);\n",
              "        }\n",
              "      </script>\n",
              "    </div>\n",
              "  </div>\n",
              "  "
            ]
          },
          "metadata": {},
          "execution_count": 215
        }
      ]
    },
    {
      "cell_type": "code",
      "source": [
        "x_data=pd.get_dummies(data=x_data,columns=['Location']) #설명변수에서 범주형 변수 원핫인코딩 해주기\n",
        "x_data=pd.get_dummies(data=x_data,columns=['Transmission'])\n",
        "x_data=pd.get_dummies(data=x_data,columns=['Fuel_Type']) \n",
        "\n"
      ],
      "metadata": {
        "id": "OcvKkX9KMkse"
      },
      "execution_count": 216,
      "outputs": []
    },
    {
      "cell_type": "code",
      "source": [
        "#Year변수에 결측값이 있으므로 평균값으로 대체 \n",
        "x_data['Year']=x_data['Year'].fillna(x_data['Year'].mean().astype(int))"
      ],
      "metadata": {
        "id": "cl1whzL0QiOV"
      },
      "execution_count": 217,
      "outputs": []
    },
    {
      "cell_type": "code",
      "source": [
        "x_data.head()"
      ],
      "metadata": {
        "colab": {
          "base_uri": "https://localhost:8080/",
          "height": 270
        },
        "id": "vga7dfxofeN9",
        "outputId": "2b21655f-9943-4956-f7e0-bb3c76a4509e"
      },
      "execution_count": 218,
      "outputs": [
        {
          "output_type": "execute_result",
          "data": {
            "text/plain": [
              "     Year  Location_Ahmedabad  Location_Bangalore  Location_Chennai  \\\n",
              "0  2010.0                   0                   0                 0   \n",
              "1  2015.0                   0                   0                 0   \n",
              "2  2011.0                   0                   0                 1   \n",
              "3  2012.0                   0                   0                 1   \n",
              "4  2013.0                   0                   0                 0   \n",
              "\n",
              "   Location_Coimbatore  Location_Delhi  Location_Hyderabad  Location_Jaipur  \\\n",
              "0                    0               0                   0                0   \n",
              "1                    0               0                   0                0   \n",
              "2                    0               0                   0                0   \n",
              "3                    0               0                   0                0   \n",
              "4                    1               0                   0                0   \n",
              "\n",
              "   Location_Kochi  Location_Kolkata  Location_Mumbai  Location_Pune  \\\n",
              "0               0                 0                1              0   \n",
              "1               0                 0                0              1   \n",
              "2               0                 0                0              0   \n",
              "3               0                 0                0              0   \n",
              "4               0                 0                0              0   \n",
              "\n",
              "   Transmission_Automatic  Transmission_Manual  Fuel_Type_Diesel  \\\n",
              "0                       0                    1                 0   \n",
              "1                       0                    1                 1   \n",
              "2                       0                    1                 0   \n",
              "3                       0                    1                 1   \n",
              "4                       1                    0                 1   \n",
              "\n",
              "   Fuel_Type_Petrol  \n",
              "0                 0  \n",
              "1                 0  \n",
              "2                 1  \n",
              "3                 0  \n",
              "4                 0  "
            ],
            "text/html": [
              "\n",
              "  <div id=\"df-c0cc848d-6a8e-4bfb-a540-ae0f0ad1d9bf\">\n",
              "    <div class=\"colab-df-container\">\n",
              "      <div>\n",
              "<style scoped>\n",
              "    .dataframe tbody tr th:only-of-type {\n",
              "        vertical-align: middle;\n",
              "    }\n",
              "\n",
              "    .dataframe tbody tr th {\n",
              "        vertical-align: top;\n",
              "    }\n",
              "\n",
              "    .dataframe thead th {\n",
              "        text-align: right;\n",
              "    }\n",
              "</style>\n",
              "<table border=\"1\" class=\"dataframe\">\n",
              "  <thead>\n",
              "    <tr style=\"text-align: right;\">\n",
              "      <th></th>\n",
              "      <th>Year</th>\n",
              "      <th>Location_Ahmedabad</th>\n",
              "      <th>Location_Bangalore</th>\n",
              "      <th>Location_Chennai</th>\n",
              "      <th>Location_Coimbatore</th>\n",
              "      <th>Location_Delhi</th>\n",
              "      <th>Location_Hyderabad</th>\n",
              "      <th>Location_Jaipur</th>\n",
              "      <th>Location_Kochi</th>\n",
              "      <th>Location_Kolkata</th>\n",
              "      <th>Location_Mumbai</th>\n",
              "      <th>Location_Pune</th>\n",
              "      <th>Transmission_Automatic</th>\n",
              "      <th>Transmission_Manual</th>\n",
              "      <th>Fuel_Type_Diesel</th>\n",
              "      <th>Fuel_Type_Petrol</th>\n",
              "    </tr>\n",
              "  </thead>\n",
              "  <tbody>\n",
              "    <tr>\n",
              "      <th>0</th>\n",
              "      <td>2010.0</td>\n",
              "      <td>0</td>\n",
              "      <td>0</td>\n",
              "      <td>0</td>\n",
              "      <td>0</td>\n",
              "      <td>0</td>\n",
              "      <td>0</td>\n",
              "      <td>0</td>\n",
              "      <td>0</td>\n",
              "      <td>0</td>\n",
              "      <td>1</td>\n",
              "      <td>0</td>\n",
              "      <td>0</td>\n",
              "      <td>1</td>\n",
              "      <td>0</td>\n",
              "      <td>0</td>\n",
              "    </tr>\n",
              "    <tr>\n",
              "      <th>1</th>\n",
              "      <td>2015.0</td>\n",
              "      <td>0</td>\n",
              "      <td>0</td>\n",
              "      <td>0</td>\n",
              "      <td>0</td>\n",
              "      <td>0</td>\n",
              "      <td>0</td>\n",
              "      <td>0</td>\n",
              "      <td>0</td>\n",
              "      <td>0</td>\n",
              "      <td>0</td>\n",
              "      <td>1</td>\n",
              "      <td>0</td>\n",
              "      <td>1</td>\n",
              "      <td>1</td>\n",
              "      <td>0</td>\n",
              "    </tr>\n",
              "    <tr>\n",
              "      <th>2</th>\n",
              "      <td>2011.0</td>\n",
              "      <td>0</td>\n",
              "      <td>0</td>\n",
              "      <td>1</td>\n",
              "      <td>0</td>\n",
              "      <td>0</td>\n",
              "      <td>0</td>\n",
              "      <td>0</td>\n",
              "      <td>0</td>\n",
              "      <td>0</td>\n",
              "      <td>0</td>\n",
              "      <td>0</td>\n",
              "      <td>0</td>\n",
              "      <td>1</td>\n",
              "      <td>0</td>\n",
              "      <td>1</td>\n",
              "    </tr>\n",
              "    <tr>\n",
              "      <th>3</th>\n",
              "      <td>2012.0</td>\n",
              "      <td>0</td>\n",
              "      <td>0</td>\n",
              "      <td>1</td>\n",
              "      <td>0</td>\n",
              "      <td>0</td>\n",
              "      <td>0</td>\n",
              "      <td>0</td>\n",
              "      <td>0</td>\n",
              "      <td>0</td>\n",
              "      <td>0</td>\n",
              "      <td>0</td>\n",
              "      <td>0</td>\n",
              "      <td>1</td>\n",
              "      <td>1</td>\n",
              "      <td>0</td>\n",
              "    </tr>\n",
              "    <tr>\n",
              "      <th>4</th>\n",
              "      <td>2013.0</td>\n",
              "      <td>0</td>\n",
              "      <td>0</td>\n",
              "      <td>0</td>\n",
              "      <td>1</td>\n",
              "      <td>0</td>\n",
              "      <td>0</td>\n",
              "      <td>0</td>\n",
              "      <td>0</td>\n",
              "      <td>0</td>\n",
              "      <td>0</td>\n",
              "      <td>0</td>\n",
              "      <td>1</td>\n",
              "      <td>0</td>\n",
              "      <td>1</td>\n",
              "      <td>0</td>\n",
              "    </tr>\n",
              "  </tbody>\n",
              "</table>\n",
              "</div>\n",
              "      <button class=\"colab-df-convert\" onclick=\"convertToInteractive('df-c0cc848d-6a8e-4bfb-a540-ae0f0ad1d9bf')\"\n",
              "              title=\"Convert this dataframe to an interactive table.\"\n",
              "              style=\"display:none;\">\n",
              "        \n",
              "  <svg xmlns=\"http://www.w3.org/2000/svg\" height=\"24px\"viewBox=\"0 0 24 24\"\n",
              "       width=\"24px\">\n",
              "    <path d=\"M0 0h24v24H0V0z\" fill=\"none\"/>\n",
              "    <path d=\"M18.56 5.44l.94 2.06.94-2.06 2.06-.94-2.06-.94-.94-2.06-.94 2.06-2.06.94zm-11 1L8.5 8.5l.94-2.06 2.06-.94-2.06-.94L8.5 2.5l-.94 2.06-2.06.94zm10 10l.94 2.06.94-2.06 2.06-.94-2.06-.94-.94-2.06-.94 2.06-2.06.94z\"/><path d=\"M17.41 7.96l-1.37-1.37c-.4-.4-.92-.59-1.43-.59-.52 0-1.04.2-1.43.59L10.3 9.45l-7.72 7.72c-.78.78-.78 2.05 0 2.83L4 21.41c.39.39.9.59 1.41.59.51 0 1.02-.2 1.41-.59l7.78-7.78 2.81-2.81c.8-.78.8-2.07 0-2.86zM5.41 20L4 18.59l7.72-7.72 1.47 1.35L5.41 20z\"/>\n",
              "  </svg>\n",
              "      </button>\n",
              "      \n",
              "  <style>\n",
              "    .colab-df-container {\n",
              "      display:flex;\n",
              "      flex-wrap:wrap;\n",
              "      gap: 12px;\n",
              "    }\n",
              "\n",
              "    .colab-df-convert {\n",
              "      background-color: #E8F0FE;\n",
              "      border: none;\n",
              "      border-radius: 50%;\n",
              "      cursor: pointer;\n",
              "      display: none;\n",
              "      fill: #1967D2;\n",
              "      height: 32px;\n",
              "      padding: 0 0 0 0;\n",
              "      width: 32px;\n",
              "    }\n",
              "\n",
              "    .colab-df-convert:hover {\n",
              "      background-color: #E2EBFA;\n",
              "      box-shadow: 0px 1px 2px rgba(60, 64, 67, 0.3), 0px 1px 3px 1px rgba(60, 64, 67, 0.15);\n",
              "      fill: #174EA6;\n",
              "    }\n",
              "\n",
              "    [theme=dark] .colab-df-convert {\n",
              "      background-color: #3B4455;\n",
              "      fill: #D2E3FC;\n",
              "    }\n",
              "\n",
              "    [theme=dark] .colab-df-convert:hover {\n",
              "      background-color: #434B5C;\n",
              "      box-shadow: 0px 1px 3px 1px rgba(0, 0, 0, 0.15);\n",
              "      filter: drop-shadow(0px 1px 2px rgba(0, 0, 0, 0.3));\n",
              "      fill: #FFFFFF;\n",
              "    }\n",
              "  </style>\n",
              "\n",
              "      <script>\n",
              "        const buttonEl =\n",
              "          document.querySelector('#df-c0cc848d-6a8e-4bfb-a540-ae0f0ad1d9bf button.colab-df-convert');\n",
              "        buttonEl.style.display =\n",
              "          google.colab.kernel.accessAllowed ? 'block' : 'none';\n",
              "\n",
              "        async function convertToInteractive(key) {\n",
              "          const element = document.querySelector('#df-c0cc848d-6a8e-4bfb-a540-ae0f0ad1d9bf');\n",
              "          const dataTable =\n",
              "            await google.colab.kernel.invokeFunction('convertToInteractive',\n",
              "                                                     [key], {});\n",
              "          if (!dataTable) return;\n",
              "\n",
              "          const docLinkHtml = 'Like what you see? Visit the ' +\n",
              "            '<a target=\"_blank\" href=https://colab.research.google.com/notebooks/data_table.ipynb>data table notebook</a>'\n",
              "            + ' to learn more about interactive tables.';\n",
              "          element.innerHTML = '';\n",
              "          dataTable['output_type'] = 'display_data';\n",
              "          await google.colab.output.renderOutput(dataTable, element);\n",
              "          const docLink = document.createElement('div');\n",
              "          docLink.innerHTML = docLinkHtml;\n",
              "          element.appendChild(docLink);\n",
              "        }\n",
              "      </script>\n",
              "    </div>\n",
              "  </div>\n",
              "  "
            ]
          },
          "metadata": {},
          "execution_count": 218
        }
      ]
    },
    {
      "cell_type": "markdown",
      "source": [
        "#모델링 "
      ],
      "metadata": {
        "id": "KpRzRKg-QI1e"
      }
    },
    {
      "cell_type": "code",
      "source": [
        "x_data=x_data[['Year','Transmission_Automatic','Transmission_Manual','Location_Ahmedabad','Location_Bangalore','Location_Chennai','Location_Coimbatore',\n",
        "             'Location_Delhi','Location_Hyderabad','Location_Jaipur','Location_Kochi','Location_Kolkata','Location_Mumbai','Location_Pune',\n",
        "             'Fuel_Type_Diesel','Fuel_Type_Petrol'\n",
        "             ]].to_numpy()\n",
        "y_data=data[['Price']].to_numpy()"
      ],
      "metadata": {
        "id": "6QLCNrWCsRZI"
      },
      "execution_count": 219,
      "outputs": []
    },
    {
      "cell_type": "code",
      "source": [
        "from sklearn.model_selection import train_test_split\n",
        "train_input,test_input,train_target,test_target=train_test_split(x_data,y_data,test_size=0.2,random_state=42)\n",
        "print(train_input.shape,train_target.shape)\n",
        "print(test_input.shape,test_target.shape)"
      ],
      "metadata": {
        "colab": {
          "base_uri": "https://localhost:8080/"
        },
        "id": "-yAEA6uMRP7G",
        "outputId": "8783839d-b9c5-493a-ca0a-c13440e1cb87"
      },
      "execution_count": 220,
      "outputs": [
        {
          "output_type": "stream",
          "name": "stdout",
          "text": [
            "(5802, 16) (5802, 1)\n",
            "(1451, 16) (1451, 1)\n"
          ]
        }
      ]
    },
    {
      "cell_type": "code",
      "source": [
        "from sklearn.preprocessing import StandardScaler #스탠다드 스케일링 \n",
        "mm=StandardScaler()\n",
        "mm.fit(train_input)\n",
        "train_scaled=mm.transform(train_input)\n",
        "test_scaled=mm.transform(test_input)\n",
        "print(train_scaled.shape,test_scaled.shape)"
      ],
      "metadata": {
        "colab": {
          "base_uri": "https://localhost:8080/"
        },
        "id": "WRjT0Y3SRSCX",
        "outputId": "33fd6919-33ce-4dc1-9df2-443a9752cf7f"
      },
      "execution_count": 221,
      "outputs": [
        {
          "output_type": "stream",
          "name": "stdout",
          "text": [
            "(5802, 16) (1451, 16)\n"
          ]
        }
      ]
    },
    {
      "cell_type": "markdown",
      "source": [
        "#poly변수 만들기 "
      ],
      "metadata": {
        "id": "e3Mk67e_ll6-"
      }
    },
    {
      "cell_type": "code",
      "source": [
        "from sklearn.preprocessing import PolynomialFeatures # 좀더 정규한 모델을 만들기 위해서 다중회귀방정식을 만들어보자. \n",
        "poly_reg=PolynomialFeatures(degree=2) #교차항을 허용하여 3까지 변수 생성 \n",
        "x_poly=poly_reg.fit_transform(train_scaled)\n",
        "x_test_poly=poly_reg.transform(test_scaled)\n"
      ],
      "metadata": {
        "id": "IA4dswuvTywc"
      },
      "execution_count": 232,
      "outputs": []
    },
    {
      "cell_type": "code",
      "source": [
        "from sklearn.linear_model import LinearRegression\n",
        "lr=LinearRegression()\n",
        "lr.fit(x_poly,train_target)"
      ],
      "metadata": {
        "colab": {
          "base_uri": "https://localhost:8080/"
        },
        "id": "9NEmIxKAR6lz",
        "outputId": "35a4079f-e7b4-4c43-d82f-4fb9ccc9a431"
      },
      "execution_count": 233,
      "outputs": [
        {
          "output_type": "execute_result",
          "data": {
            "text/plain": [
              "LinearRegression()"
            ]
          },
          "metadata": {},
          "execution_count": 233
        }
      ]
    },
    {
      "cell_type": "code",
      "source": [
        " #회귀 계수 출력 \n",
        "print(lr.score(x_poly,train_target)) #훈련세트 스코어 \n",
        "print(lr.score(x_test_poly,test_target)) #테스트 세트 스코어 "
      ],
      "metadata": {
        "colab": {
          "base_uri": "https://localhost:8080/"
        },
        "id": "51rLc2ViTMwT",
        "outputId": "ef37d50a-1ff3-42ed-8e2d-ea37fef2c0d6"
      },
      "execution_count": 234,
      "outputs": [
        {
          "output_type": "stream",
          "name": "stdout",
          "text": [
            "0.45099103182750266\n",
            "0.48853734624905076\n"
          ]
        }
      ]
    },
    {
      "cell_type": "code",
      "source": [
        "from sklearn.metrics import mean_squared_error,mean_absolute_error #회귀진단 \n",
        "pred=lr.predict(x_test_poly)\n",
        "mse=mean_squared_error(test_target,pred)\n",
        "mae=mean_absolute_error(test_target,pred)\n",
        "r2 = r2_score(test_target,pred)\n",
        "rmse=np.sqrt(mse)\n",
        "acc=lr.score(poly_reg.transform(test_scaled),test_target)\n",
        "print(mse)\n",
        "print(mae)\n",
        "print(r2)\n",
        "print(rmse)\n",
        "print(acc)\n",
        "\n"
      ],
      "metadata": {
        "colab": {
          "base_uri": "https://localhost:8080/"
        },
        "id": "-c9cPt6ZVdf2",
        "outputId": "34fface2-7ff8-41ee-f96e-ec6dc772cecf"
      },
      "execution_count": 243,
      "outputs": [
        {
          "output_type": "stream",
          "name": "stdout",
          "text": [
            "49.58591445797372\n",
            "4.141243876411665\n",
            "0.48853734624905076\n",
            "7.041726667371698\n",
            "0.48853734624905076\n"
          ]
        }
      ]
    },
    {
      "cell_type": "markdown",
      "source": [
        "#결정트리 회귀 모델 "
      ],
      "metadata": {
        "id": "ntAg-ElWlrM6"
      }
    },
    {
      "cell_type": "code",
      "source": [
        "from sklearn.tree import DecisionTreeRegressor\n",
        "\n",
        "dtr = DecisionTreeRegressor()\n",
        "dtr.fit(x_poly,train_target)"
      ],
      "metadata": {
        "colab": {
          "base_uri": "https://localhost:8080/"
        },
        "id": "AziUdm9rhJEu",
        "outputId": "37dfe41e-64a8-48ae-b8fe-0138ce03e421"
      },
      "execution_count": 236,
      "outputs": [
        {
          "output_type": "execute_result",
          "data": {
            "text/plain": [
              "DecisionTreeRegressor()"
            ]
          },
          "metadata": {},
          "execution_count": 236
        }
      ]
    },
    {
      "cell_type": "code",
      "source": [
        "print(dtr.score(x_poly,train_target)) #훈련세트 스코어 \n",
        "print(dtr.score(x_test_poly,test_target)) "
      ],
      "metadata": {
        "colab": {
          "base_uri": "https://localhost:8080/"
        },
        "id": "K-WQQwdEhS9d",
        "outputId": "e90b9e31-6bef-430f-db0f-8487b429bf98"
      },
      "execution_count": 237,
      "outputs": [
        {
          "output_type": "stream",
          "name": "stdout",
          "text": [
            "0.533146715053756\n",
            "0.3798407654076703\n"
          ]
        }
      ]
    },
    {
      "cell_type": "code",
      "source": [
        "from sklearn.model_selection import GridSearchCV #교차검증과 하이퍼파라미터조절을 같이해주는 그리드서치를 이용함. \n",
        "param_grid = {'criterion':['mse'], 'max_depth':[None,2,3,4,5,6]}\n",
        "gs=GridSearchCV(dtr,param_grid,n_jobs=-1,cv=3,scoring='r2',verbose=1) #재현율의 성능을 높이는 것으로 기준 정확도는 이미 높다고 생각. \n",
        "gs.fit(x_poly,train_target)\n",
        "dt=gs.best_params_\n",
        "print(dt) #최고의 파라미터 출력 \n",
        "print(gs.best_score_)\n",
        "#r2스코어가 linear_regression보다 작음..."
      ],
      "metadata": {
        "colab": {
          "base_uri": "https://localhost:8080/"
        },
        "id": "w6whndnCino_",
        "outputId": "f524de50-bcaf-470e-d3b2-44df7947fa6a"
      },
      "execution_count": 238,
      "outputs": [
        {
          "output_type": "stream",
          "name": "stdout",
          "text": [
            "Fitting 3 folds for each of 6 candidates, totalling 18 fits\n",
            "{'criterion': 'mse', 'max_depth': 2}\n",
            "0.3986456414589185\n"
          ]
        }
      ]
    },
    {
      "cell_type": "markdown",
      "source": [
        "#xgb회귀 "
      ],
      "metadata": {
        "id": "DGPPNtWnlwDS"
      }
    },
    {
      "cell_type": "code",
      "source": [
        "from sklearn.metrics import r2_score\n",
        "from xgboost import XGBRegressor\n",
        "xgb= XGBRegressor()\n",
        "xgb.fit(x_poly,train_target)\n",
        "\n",
        "xgb_pred = xgb.predict(x_test_poly)\n",
        "print(\"Predictions made on traning data :\",xgb_pred)\n",
        "\n",
        "xgb_r2 = r2_score(test_target,xgb_pred)\n",
        "print(\"R2 score on trainig data :\",xgb_r2) #r2스코어의 값이 Linear_regression보다 높다. \n",
        "\n",
        "xgb_mse = mean_squared_error(test_target,xgb_pred)\n",
        "print(\"MSE on traning data :\",xgb_mse)\n",
        "\n",
        "xgb_mae = mean_absolute_error(test_target,xgb_pred)\n",
        "print(\"Mean Absolute error on traning data\",xgb_mae)\n",
        "\n",
        "sns.regplot(test_target,xgb_pred)"
      ],
      "metadata": {
        "colab": {
          "base_uri": "https://localhost:8080/",
          "height": 374
        },
        "id": "OchqNJj2kiVz",
        "outputId": "f3956c77-d030-42a9-ded1-d0e1d5f71794"
      },
      "execution_count": 242,
      "outputs": [
        {
          "output_type": "stream",
          "name": "stdout",
          "text": [
            "[12:10:16] WARNING: /workspace/src/objective/regression_obj.cu:152: reg:linear is now deprecated in favor of reg:squarederror.\n",
            "Predictions made on traning data : [ 6.5210752  7.617803   4.978656  ...  5.824568  12.057149   7.4351964]\n",
            "R2 score on trainig data : 0.45809614612573024\n",
            "MSE on traning data : 52.53716560845956\n",
            "Mean Absolute error on traning data 4.118602014876946\n"
          ]
        },
        {
          "output_type": "execute_result",
          "data": {
            "text/plain": [
              "<matplotlib.axes._subplots.AxesSubplot at 0x7f61f995b190>"
            ]
          },
          "metadata": {},
          "execution_count": 242
        },
        {
          "output_type": "display_data",
          "data": {
            "text/plain": [
              "<Figure size 432x288 with 1 Axes>"
            ],
            "image/png": "[encoded data removed]"
          },
          "metadata": {
            "needs_background": "light"
          }
        }
      ]
    }
  ],
  "metadata": {
    "colab": {
      "provenance": []
    },
    "kernelspec": {
      "display_name": "Python 3",
      "language": "python",
      "name": "python3"
    },
    "language_info": {
      "codemirror_mode": {
        "name": "ipython",
        "version": 3
      },
      "file_extension": ".py",
      "mimetype": "text/x-python",
      "name": "python",
      "nbconvert_exporter": "python",
      "pygments_lexer": "ipython3",
      "version": "3.8.5"
    }
  },
  "nbformat": 4,
  "nbformat_minor": 0
}