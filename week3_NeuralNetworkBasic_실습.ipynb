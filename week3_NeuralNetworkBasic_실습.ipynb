{
 "cells": [
  {
   "cell_type": "markdown",
   "id": "00493e77",
   "metadata": {},
   "source": [
    "> # Neural Network Basic - Week3 과제\n"
   ]
  },
  {
   "cell_type": "markdown",
   "id": "747656a3",
   "metadata": {},
   "source": [
    "## Import Library"
   ]
  },
  {
   "cell_type": "code",
   "execution_count": 16,
   "id": "2d4be987",
   "metadata": {},
   "outputs": [],
   "source": [
    "import numpy as np\n",
    "from matplotlib import pyplot as plt\n",
    "from mnist import load_mnist"
   ]
  },
  {
   "cell_type": "markdown",
   "id": "bbd9ddbb",
   "metadata": {},
   "source": [
    "## Load Dataset\n",
    "- MNIST "
   ]
  },
  {
   "cell_type": "code",
   "execution_count": 17,
   "id": "2813d656",
   "metadata": {},
   "outputs": [],
   "source": [
    "(X_train, Y_train), (X_test, Y_test) = \\\n",
    "    load_mnist(normalize=True, one_hot_label=False)"
   ]
  },
  {
   "cell_type": "code",
   "execution_count": 18,
   "id": "2bd1d69a",
   "metadata": {},
   "outputs": [
    {
     "name": "stdout",
     "output_type": "stream",
     "text": [
      "X_train shape: (60000, 784)\n",
      "X_test shape: (10000, 784)\n",
      "Y_train shape: (60000,)\n",
      "Y_train shape: (10000,)\n"
     ]
    }
   ],
   "source": [
    "print(f'X_train shape: {X_train.shape}')\n",
    "print(f'X_test shape: {X_test.shape}')\n",
    "print(f'Y_train shape: {Y_train.shape}')\n",
    "print(f'Y_train shape: {Y_test.shape}')"
   ]
  },
  {
   "cell_type": "markdown",
   "id": "4581cc2e",
   "metadata": {},
   "source": [
    "## Activation Function \n",
    "- sigmoid & relu : hidden layer activation function \n",
    "- softmax : output layer activation function "
   ]
  },
  {
   "cell_type": "code",
   "execution_count": 28,
   "id": "a147a2b7",
   "metadata": {},
   "outputs": [],
   "source": [
    "class sigmoid:\n",
    "    # sigmoid 함수를 작성하세요 \n",
    "    def forward(x):\n",
    "        return 1/(1+np.exp(-x))\n",
    "    \n",
    "    # sigmoid 함수의 미분을 작성하세요\n",
    "    def backward(x):\n",
    "        return x*(1-x) "
   ]
  },
  {
   "cell_type": "code",
   "execution_count": 20,
   "id": "f37afa8d",
   "metadata": {},
   "outputs": [],
   "source": [
    "class relu:\n",
    "    # relu 함수를 작성하세요\n",
    "    def forward(x):\n",
    "        if x>0:\n",
    "            return x\n",
    "        else:\n",
    "            return 0\n",
    "        \n",
    "    \n",
    "    # relu 함수의 미분을 작성하세요\n",
    "    def backward(x):\n",
    "        if x>0:\n",
    "            return 1\n",
    "        else:\n",
    "            return 0  "
   ]
  },
  {
   "cell_type": "code",
   "execution_count": 21,
   "id": "cb44b346",
   "metadata": {},
   "outputs": [],
   "source": [
    "class softmax:\n",
    "    def forward(z):\n",
    "        y = []\n",
    "        for zi in z:\n",
    "            c = np.max(zi)\n",
    "            exp_zi = np.exp(zi-c)\n",
    "            sum_exp_zi = np.sum(exp_zi)\n",
    "            yi = exp_zi / sum_exp_zi\n",
    "            y.append(yi)\n",
    "\n",
    "        return np.array(y)\n",
    "    \n",
    "    def backward(p, y) :\n",
    "        dp = p.copy()\n",
    "        for dpi, yi in zip(dp, y):\n",
    "            for k in range(dp.shape[1]):\n",
    "                if k == yi :\n",
    "                    dpi[k] -= 1\n",
    "        return dp"
   ]
  },
  {
   "cell_type": "markdown",
   "id": "36955740",
   "metadata": {},
   "source": [
    "## Loss Function"
   ]
  },
  {
   "cell_type": "code",
   "execution_count": 22,
   "id": "44e0ad37",
   "metadata": {},
   "outputs": [],
   "source": [
    "def cross_entropy(p, y):\n",
    "    loss = []\n",
    "    for pi, yi in zip(p, y):\n",
    "        for k in range(p.shape[1]):\n",
    "            if k == yi:\n",
    "                loss.append((-1) * (np.log(pi[k] + 1e-8))) \n",
    "    return loss"
   ]
  },
  {
   "cell_type": "markdown",
   "id": "0f9a7228",
   "metadata": {},
   "source": [
    "## Layer"
   ]
  },
  {
   "cell_type": "code",
   "execution_count": 23,
   "id": "668bda1a",
   "metadata": {},
   "outputs": [],
   "source": [
    "class Layer:\n",
    "    def __init__(self, input_size, output_size, std=1e-4) :\n",
    "        self.input_size = input_size\n",
    "        self.output_size = output_size\n",
    "        self.bias = np.random.randn(output_size)\n",
    "        self.weight = np.random.randn(input_size, output_size)*std"
   ]
  },
  {
   "cell_type": "markdown",
   "id": "a72dfcee",
   "metadata": {},
   "source": [
    "## Neural Network\n",
    "- 각 메소드와 변수들의 역할을 주석으로 달아주세요! "
   ]
  },
  {
   "cell_type": "code",
   "execution_count": 29,
   "id": "33125095",
   "metadata": {},
   "outputs": [],
   "source": [
    "class CustomNet:\n",
    "    # CustomNet을 선언할 때 생성되는 값들입니다.\n",
    "    def __init__(self, lr=0.0001, epoch=500, batch_size=200):\n",
    "        self.lr = lr #학습률이다. 모델의 학습정도를 조절하는 파라미터로 로컬미니멈에 도달하기 위해 적절히 조절해주어야함. \n",
    "        self.epoch = epoch #epoch사이즈. 순전파와 역전파가 한세트로 일어나면 한 에포크를 돌았다고 한다. 즉, 데이터가 한번 학습된것을 1\n",
    "                           #1에포크를 수행했다고 말할 수 있다. \n",
    "        self.batch_size = batch_size #배치사이즈. 전체데이터를 몇개의 배치사이즈로 나누어 학습할지 정한다. \n",
    "        self.loss_function = cross_entropy #손실함수를 무엇으로 사용할지\n",
    "        self.layers = [] #층을 담을 공간이다. \n",
    "        self.activations = [softmax] #활성화함수를 무엇을 사용할지 정한다. \n",
    "        self.nodes = []\n",
    "    \n",
    "    # Layer를 추가할 때 호출합니다\n",
    "    def addLayer(self, Layer): \n",
    "        self.layers.append(Layer) \n",
    "        if not self.nodes: #self.node가 비어있다면, 즉 층을 처음 연결하는 것이라면 \n",
    "            self.nodes.append(np.zeros(Layer.input_size)) #쌓을 층의 input사이즈만큼 0을 채워 넣는다. \n",
    "        self.nodes.append(np.zeros(Layer.output_size)) #처음 연결이 아니라면 층의 output사이즈만큼 0을 채워넣는다. \n",
    "        \n",
    "    # Activation Function을 추가할 때 호출합니다\n",
    "    def addActivation(self, Activation):\n",
    "        tmp = self.activations.pop() #마지막엔 무조건 소프트맥스함수를 사용할 것이므로 tmp에 스포트맥스함수 담아놓고 activation리스트는 \n",
    "                                     #비워둔 다음 \n",
    "        self.activations.append(Activation) #추가할 activation을 넣어주고 \n",
    "        self.activations.append(tmp) #비워주었던 소프트맥스를 맨끝에 다시 넣는다. \n",
    "        \n",
    "    # 순전파 함수\n",
    "    def _forward(self, X):\n",
    "        self.nodes[0] = X.copy() \n",
    "        output = X.copy() \n",
    "        for i in range(len(self.layers)): \n",
    "            Layer = self.layers[i] #층은 만들어놓은 layers리스트에서 i번째꺼 가져오기 \n",
    "            Activation = self.activations[i] #활성화함수도 activation리스트에서 i번째 가져오기 \n",
    "            output = np.dot(self.nodes[i], Layer.weight) #예측값은 x값과 층의 가중치를 내적한것 \n",
    "            output = output+ Layer.bias #편향 더해주기 \n",
    "            output = Activation.forward(output) #정해놓은 활성화함수로 순전파 학습 진행 \n",
    "            self.nodes[i+1] = output #노드의 다음층은 이 층에서 학습한뒤 만들어진 output이다. \n",
    "        return output   \n",
    "    \n",
    "    # 역전파 함수\n",
    "    def _backward(self, X, output, y) :\n",
    "        for i in reversed(range(len(self.layers))): \n",
    "            a = self.nodes[i+1] #output값 \n",
    "            Layer = self.layers[i] \n",
    "            Activation = self.activations[i] \n",
    "            \n",
    "            if i+1 == len(self.layers): #마지막층에서 역전파이면 \n",
    "                error = Activation.backward(output, y)\n",
    "            else: #은닉층에서 역전파이면 \n",
    "                error *= Activation.backward(a)\n",
    "            Layer.weight -= np.dot(error.T, self.nodes[i]).T*self.lr/X.shape[0] \n",
    "            Layer.bias -= error.sum(axis=0)*self.lr/X.shape[0]\n",
    "            error = np.dot(error, Layer.weight.T) \n",
    "            \n",
    "    # Accrucy를 반환합니다\n",
    "    def _accuracy(self, output, y):\n",
    "        pre_p = np.argmax(output, axis=1) #확롤이 가장 높은 원소의 인덱스 얻기 \n",
    "        return np.sum(pre_p==y)/y.shape[0] #실제값과 일치한것의 개수/전체 개수로 정확도 산출 \n",
    "    \n",
    "    # 데이터셋에 모델을 fit할때 호출합니다\n",
    "    def fit(self, X, y, val_X, val_y):\n",
    "        history = {'val_acc': [],'val_loss': []}\n",
    "        N = X.shape[0]\n",
    "        for i in range(self.epoch): #epoch만큼 학습할 건데 \n",
    "            for j in range(N//self.batch_size): #한 배치 사이즈안에서 \n",
    "                batch_mask = np.random.choice(N, self.batch_size) #N길이만큼의 정수에서 배치사이즈만큼 추출\n",
    "                X_batch = X[batch_mask] \n",
    "                y_batch = y[batch_mask] \n",
    "                output = self._forward(X_batch) #순전파 \n",
    "                self._backward(X_batch, output, y_batch) #역전파 \n",
    "            \n",
    "            #accuracy와 loss를 기록해둡시다\n",
    "            output = self._forward(val_X) \n",
    "            history[\"val_acc\"].append(self._accuracy(output, val_y)) \n",
    "            history[\"val_loss\"].append(sum(self.loss_function(output, val_y))) \n",
    "            \n",
    "            #중간중간 기록을 찍어볼 때 사용. 적절히 조절해 쓰세요\n",
    "            if i % 10 == 0:\n",
    "                print(i, \"test accuracy :\", history[\"val_acc\"][-1])\n",
    "                print(i, \"test loss     :\", history[\"val_loss\"][-1])\n",
    "        return history"
   ]
  },
  {
   "cell_type": "markdown",
   "id": "e7787d0e",
   "metadata": {},
   "source": [
    "## Customizing\n",
    "- Network parameter, Layer architecture, Activation function .. 등등 다양한 하이퍼파라미터를 커스터마이징하여 높은 성능에 도달해 봅시다! "
   ]
  },
  {
   "cell_type": "code",
   "execution_count": 30,
   "id": "10d3d20c",
   "metadata": {},
   "outputs": [],
   "source": [
    "# 하이퍼파라미터를 적절히 조절해 뉴럴넷을 선언하세요\n",
    "nn = CustomNet(lr=0.005, epoch=200, batch_size=400)\n",
    "\n",
    "# 원하는 만큼 층과 활성화 함수를 쌓아 주세요. 기본적으로 2Layer를 예시로 적어드립니다\n",
    "nn.addLayer(Layer(784,100)) #첫번째 층 쌓기. input층과 개수 맞추기 \n",
    "nn.addActivation(sigmoid) #첫번째 층의 활성화함수는 시그모이드 \n",
    "nn.addLayer(Layer(100,10)) #두번째층 \n",
    "nn.addActivation(softmax)#두번째층의 활성화함수는 relu"
   ]
  },
  {
   "cell_type": "code",
   "execution_count": 31,
   "id": "771766e2",
   "metadata": {},
   "outputs": [
    {
     "name": "stdout",
     "output_type": "stream",
     "text": [
      "(784, 100) (100,)\n",
      "(100, 10) (10,)\n"
     ]
    }
   ],
   "source": [
    "# 선언한 뉴럴넷의 구조입니다\n",
    "for layer in nn.layers:\n",
    "    print(layer.weight.shape, layer.bias.shape)"
   ]
  },
  {
   "cell_type": "code",
   "execution_count": 32,
   "id": "b2c1018a",
   "metadata": {},
   "outputs": [
    {
     "name": "stdout",
     "output_type": "stream",
     "text": [
      "0 test accuracy : 0.1135\n",
      "0 test loss     : 23025.269616147412\n",
      "10 test accuracy : 0.1135\n",
      "10 test loss     : 22962.483385892083\n",
      "20 test accuracy : 0.1138\n",
      "20 test loss     : 22887.229079407083\n",
      "30 test accuracy : 0.21\n",
      "30 test loss     : 22711.524832037183\n",
      "40 test accuracy : 0.3\n",
      "40 test loss     : 22205.76048180322\n",
      "50 test accuracy : 0.2976\n",
      "50 test loss     : 20913.288293263453\n",
      "60 test accuracy : 0.362\n",
      "60 test loss     : 18910.63752945876\n",
      "70 test accuracy : 0.4273\n",
      "70 test loss     : 16696.487879857377\n",
      "80 test accuracy : 0.4833\n",
      "80 test loss     : 14803.043698554482\n",
      "90 test accuracy : 0.5388\n",
      "90 test loss     : 13326.590738600074\n",
      "100 test accuracy : 0.5963\n",
      "100 test loss     : 11990.231117597024\n",
      "110 test accuracy : 0.6463\n",
      "110 test loss     : 10763.140423988125\n",
      "120 test accuracy : 0.6895\n",
      "120 test loss     : 9738.612457314057\n",
      "130 test accuracy : 0.731\n",
      "130 test loss     : 8884.054110873893\n",
      "140 test accuracy : 0.7635\n",
      "140 test loss     : 8123.893157207443\n",
      "150 test accuracy : 0.793\n",
      "150 test loss     : 7435.837050566876\n",
      "160 test accuracy : 0.8136\n",
      "160 test loss     : 6831.928124467805\n",
      "170 test accuracy : 0.8316\n",
      "170 test loss     : 6315.576999192792\n",
      "180 test accuracy : 0.8416\n",
      "180 test loss     : 5879.970178321521\n",
      "190 test accuracy : 0.8509\n",
      "190 test loss     : 5513.874965551112\n"
     ]
    }
   ],
   "source": [
    "history = nn.fit(X_train, Y_train, X_test, Y_test)"
   ]
  },
  {
   "cell_type": "code",
   "execution_count": 33,
   "id": "a4f9c2e6",
   "metadata": {},
   "outputs": [],
   "source": [
    "nn = CustomNet(lr=0.01, epoch=200, batch_size=200)\n",
    "\n",
    "# 원하는 만큼 층과 활성화 함수를 쌓아 주세요. 기본적으로 2Layer를 예시로 적어드립니다\n",
    "nn.addLayer(Layer(784,100)) #첫번째 층 쌓기. input층과 개수 맞추기 \n",
    "nn.addActivation(sigmoid) #첫번째 층의 활성화함수는 시그모이드 \n",
    "nn.addLayer(Layer(100,10)) #두번째층 \n",
    "nn.addActivation(softmax)#두번째층의 활성화함수는 relu"
   ]
  },
  {
   "cell_type": "code",
   "execution_count": 34,
   "id": "9c2ce0de",
   "metadata": {},
   "outputs": [
    {
     "name": "stdout",
     "output_type": "stream",
     "text": [
      "0 test accuracy : 0.1159\n",
      "0 test loss     : 22928.020618369475\n",
      "10 test accuracy : 0.3548\n",
      "10 test loss     : 19897.00533266694\n",
      "20 test accuracy : 0.5728\n",
      "20 test loss     : 13032.985162188756\n",
      "30 test accuracy : 0.7727\n",
      "30 test loss     : 8335.692232138732\n",
      "40 test accuracy : 0.8329\n",
      "40 test loss     : 6186.952589637319\n",
      "50 test accuracy : 0.8616\n",
      "50 test loss     : 5050.682511295671\n",
      "60 test accuracy : 0.8801\n",
      "60 test loss     : 4355.236692456079\n",
      "70 test accuracy : 0.8913\n",
      "70 test loss     : 3927.7577807308676\n",
      "80 test accuracy : 0.8972\n",
      "80 test loss     : 3650.5041718533953\n",
      "90 test accuracy : 0.9014\n",
      "90 test loss     : 3450.9719281570287\n",
      "100 test accuracy : 0.9048\n",
      "100 test loss     : 3301.6420587509488\n",
      "110 test accuracy : 0.9062\n",
      "110 test loss     : 3177.880910162069\n",
      "120 test accuracy : 0.909\n",
      "120 test loss     : 3077.588881412317\n",
      "130 test accuracy : 0.9113\n",
      "130 test loss     : 2990.2971961915464\n",
      "140 test accuracy : 0.9143\n",
      "140 test loss     : 2909.6009719775648\n",
      "150 test accuracy : 0.9161\n",
      "150 test loss     : 2838.254825963581\n",
      "160 test accuracy : 0.918\n",
      "160 test loss     : 2776.3983918762774\n",
      "170 test accuracy : 0.9191\n",
      "170 test loss     : 2717.215931275961\n",
      "180 test accuracy : 0.9215\n",
      "180 test loss     : 2659.4312822697866\n",
      "190 test accuracy : 0.9235\n",
      "190 test loss     : 2604.80886814488\n"
     ]
    }
   ],
   "source": [
    "history = nn.fit(X_train, Y_train, X_test, Y_test)"
   ]
  },
  {
   "cell_type": "markdown",
   "id": "b76a6163",
   "metadata": {},
   "source": [
    "## Accuracy, Loss Visualization\n",
    "- 자유롭게 Accuracy나 Loss를 시각화하여 확인하고 결과를 확인해 보세요! "
   ]
  },
  {
   "cell_type": "code",
   "execution_count": 36,
   "id": "eb733190",
   "metadata": {},
   "outputs": [
    {
     "data": {
      "image/png": "[encoded data removed]",
      "text/plain": [
       "<Figure size 432x288 with 1 Axes>"
      ]
     },
     "metadata": {
      "needs_background": "light"
     },
     "output_type": "display_data"
    }
   ],
   "source": [
    "plt.plot(history['val_loss'])\n",
    "plt.xlabel('epoch')\n",
    "plt.ylabel('loss')\n",
    "plt.show()"
   ]
  },
  {
   "cell_type": "code",
   "execution_count": 38,
   "id": "8702d4f6",
   "metadata": {},
   "outputs": [
    {
     "data": {
      "image/png": "[encoded data removed]",
      "text/plain": [
       "<Figure size 432x288 with 1 Axes>"
      ]
     },
     "metadata": {
      "needs_background": "light"
     },
     "output_type": "display_data"
    }
   ],
   "source": [
    "plt.plot(history['val_acc'])\n",
    "plt.xlabel('epoch')\n",
    "plt.ylabel('accuracy')\n",
    "plt.show()"
   ]
  },
  {
   "cell_type": "code",
   "execution_count": null,
   "id": "f5424490",
   "metadata": {},
   "outputs": [],
   "source": []
  }
 ],
 "metadata": {
  "kernelspec": {
   "display_name": "Python 3 (ipykernel)",
   "language": "python",
   "name": "python3"
  },
  "language_info": {
   "codemirror_mode": {
    "name": "ipython",
    "version": 3
   },
   "file_extension": ".py",
   "mimetype": "text/x-python",
   "name": "python",
   "nbconvert_exporter": "python",
   "pygments_lexer": "ipython3",
   "version": "3.9.12"
  }
 },
 "nbformat": 4,
 "nbformat_minor": 5
}
