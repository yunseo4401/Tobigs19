{
  "cells": [
    {
      "cell_type": "markdown",
      "metadata": {
        "id": "d2StPehwLMat"
      },
      "source": [
        "# Tobig's 19기 2주차 Optimization 과제"
      ]
    },
    {
      "cell_type": "markdown",
      "metadata": {
        "id": "DKIX8PqcLMaw"
      },
      "source": [
        "# Gradient Descent 구현하기\n",
        "\n",
        "### 1)\"...\"표시되어 있는 빈 칸을 채워주세요\n",
        "### 2)강의내용과 코드에 대해 공부한 내용을 마크마운 또는 주석으로 설명해주세요"
      ]
    },
    {
      "cell_type": "markdown",
      "metadata": {
        "id": "C6DNHHXfLMax"
      },
      "source": [
        "## 데이터"
      ]
    },
    {
      "cell_type": "code",
      "execution_count": 1,
      "metadata": {
        "id": "EP3O4xptLMay"
      },
      "outputs": [],
      "source": [
        "import pandas as pd\n",
        "import numpy as np\n",
        "import random"
      ]
    },
    {
      "cell_type": "code",
      "execution_count": 2,
      "metadata": {
        "id": "oByQ9wXHLMay",
        "colab": {
          "base_uri": "https://localhost:8080/"
        },
        "outputId": "8feb0e44-e71d-43fe-a3e6-fd6aee5ddcff"
      },
      "outputs": [
        {
          "output_type": "stream",
          "name": "stdout",
          "text": [
            "<class 'pandas.core.frame.DataFrame'>\n",
            "RangeIndex: 200 entries, 0 to 199\n",
            "Data columns (total 4 columns):\n",
            " #   Column      Non-Null Count  Dtype  \n",
            "---  ------      --------------  -----  \n",
            " 0   Label       200 non-null    int64  \n",
            " 1   bias        200 non-null    int64  \n",
            " 2   experience  200 non-null    float64\n",
            " 3   salary      200 non-null    int64  \n",
            "dtypes: float64(1), int64(3)\n",
            "memory usage: 6.4 KB\n"
          ]
        }
      ],
      "source": [
        "data = pd.read_csv('assignment_2.csv')\n",
        "data.info() #데이터 정보확인"
      ]
    },
    {
      "cell_type": "markdown",
      "metadata": {
        "id": "ubOR3hWGLMaz"
      },
      "source": [
        "## Train Test 데이터 나누기"
      ]
    },
    {
      "cell_type": "code",
      "execution_count": 3,
      "metadata": {
        "id": "IySSjlizLMaz"
      },
      "outputs": [],
      "source": [
        "from sklearn.model_selection import train_test_split"
      ]
    },
    {
      "cell_type": "code",
      "execution_count": 4,
      "metadata": {
        "id": "075EQI1bLMa0"
      },
      "outputs": [],
      "source": [
        "X_train, X_test, y_train, y_test = train_test_split(data.iloc[:, 1:], data.iloc[:, 0], test_size = 0.25, random_state = 0) \n",
        "#4:1의 비율로 훈련세트와 테스트세트의 데이터를 분리한다. "
      ]
    },
    {
      "cell_type": "code",
      "execution_count": 5,
      "metadata": {
        "id": "O8Ht5u8kLMa1",
        "colab": {
          "base_uri": "https://localhost:8080/"
        },
        "outputId": "acdfd61b-6141-4bf6-8922-e0bd6049f0a0"
      },
      "outputs": [
        {
          "output_type": "execute_result",
          "data": {
            "text/plain": [
              "((150, 3), (50, 3), (150,), (50,))"
            ]
          },
          "metadata": {},
          "execution_count": 5
        }
      ],
      "source": [
        "X_train.shape, X_test.shape, y_train.shape, y_test.shape\n",
        "#훈련데이터와 테스트데이터의 형태 "
      ]
    },
    {
      "cell_type": "markdown",
      "metadata": {
        "id": "hYmxND_xLMa2"
      },
      "source": [
        "## Scaling\n",
        "\n",
        "experience와 salary의 단위, 평균, 분산이 크게 차이나므로 scaler를 사용해 단위를 맞춰줍니다. "
      ]
    },
    {
      "cell_type": "code",
      "execution_count": 6,
      "metadata": {
        "id": "UI0Xy0gHLMa3",
        "colab": {
          "base_uri": "https://localhost:8080/",
          "height": 206
        },
        "outputId": "dc53d57f-72d2-4605-f38c-548313c55f28"
      },
      "outputs": [
        {
          "output_type": "execute_result",
          "data": {
            "text/plain": [
              "   bias  experience    salary\n",
              "0     1    0.187893 -1.143335\n",
              "1     1    1.185555  0.043974\n",
              "2     1   -0.310938 -0.351795\n",
              "3     1   -1.629277 -1.341220\n",
              "4     1   -1.308600  0.043974"
            ],
            "text/html": [
              "\n",
              "  <div id=\"df-5356ff77-4527-44c2-bf97-fa3163abfeb8\">\n",
              "    <div class=\"colab-df-container\">\n",
              "      <div>\n",
              "<style scoped>\n",
              "    .dataframe tbody tr th:only-of-type {\n",
              "        vertical-align: middle;\n",
              "    }\n",
              "\n",
              "    .dataframe tbody tr th {\n",
              "        vertical-align: top;\n",
              "    }\n",
              "\n",
              "    .dataframe thead th {\n",
              "        text-align: right;\n",
              "    }\n",
              "</style>\n",
              "<table border=\"1\" class=\"dataframe\">\n",
              "  <thead>\n",
              "    <tr style=\"text-align: right;\">\n",
              "      <th></th>\n",
              "      <th>bias</th>\n",
              "      <th>experience</th>\n",
              "      <th>salary</th>\n",
              "    </tr>\n",
              "  </thead>\n",
              "  <tbody>\n",
              "    <tr>\n",
              "      <th>0</th>\n",
              "      <td>1</td>\n",
              "      <td>0.187893</td>\n",
              "      <td>-1.143335</td>\n",
              "    </tr>\n",
              "    <tr>\n",
              "      <th>1</th>\n",
              "      <td>1</td>\n",
              "      <td>1.185555</td>\n",
              "      <td>0.043974</td>\n",
              "    </tr>\n",
              "    <tr>\n",
              "      <th>2</th>\n",
              "      <td>1</td>\n",
              "      <td>-0.310938</td>\n",
              "      <td>-0.351795</td>\n",
              "    </tr>\n",
              "    <tr>\n",
              "      <th>3</th>\n",
              "      <td>1</td>\n",
              "      <td>-1.629277</td>\n",
              "      <td>-1.341220</td>\n",
              "    </tr>\n",
              "    <tr>\n",
              "      <th>4</th>\n",
              "      <td>1</td>\n",
              "      <td>-1.308600</td>\n",
              "      <td>0.043974</td>\n",
              "    </tr>\n",
              "  </tbody>\n",
              "</table>\n",
              "</div>\n",
              "      <button class=\"colab-df-convert\" onclick=\"convertToInteractive('df-5356ff77-4527-44c2-bf97-fa3163abfeb8')\"\n",
              "              title=\"Convert this dataframe to an interactive table.\"\n",
              "              style=\"display:none;\">\n",
              "        \n",
              "  <svg xmlns=\"http://www.w3.org/2000/svg\" height=\"24px\"viewBox=\"0 0 24 24\"\n",
              "       width=\"24px\">\n",
              "    <path d=\"M0 0h24v24H0V0z\" fill=\"none\"/>\n",
              "    <path d=\"M18.56 5.44l.94 2.06.94-2.06 2.06-.94-2.06-.94-.94-2.06-.94 2.06-2.06.94zm-11 1L8.5 8.5l.94-2.06 2.06-.94-2.06-.94L8.5 2.5l-.94 2.06-2.06.94zm10 10l.94 2.06.94-2.06 2.06-.94-2.06-.94-.94-2.06-.94 2.06-2.06.94z\"/><path d=\"M17.41 7.96l-1.37-1.37c-.4-.4-.92-.59-1.43-.59-.52 0-1.04.2-1.43.59L10.3 9.45l-7.72 7.72c-.78.78-.78 2.05 0 2.83L4 21.41c.39.39.9.59 1.41.59.51 0 1.02-.2 1.41-.59l7.78-7.78 2.81-2.81c.8-.78.8-2.07 0-2.86zM5.41 20L4 18.59l7.72-7.72 1.47 1.35L5.41 20z\"/>\n",
              "  </svg>\n",
              "      </button>\n",
              "      \n",
              "  <style>\n",
              "    .colab-df-container {\n",
              "      display:flex;\n",
              "      flex-wrap:wrap;\n",
              "      gap: 12px;\n",
              "    }\n",
              "\n",
              "    .colab-df-convert {\n",
              "      background-color: #E8F0FE;\n",
              "      border: none;\n",
              "      border-radius: 50%;\n",
              "      cursor: pointer;\n",
              "      display: none;\n",
              "      fill: #1967D2;\n",
              "      height: 32px;\n",
              "      padding: 0 0 0 0;\n",
              "      width: 32px;\n",
              "    }\n",
              "\n",
              "    .colab-df-convert:hover {\n",
              "      background-color: #E2EBFA;\n",
              "      box-shadow: 0px 1px 2px rgba(60, 64, 67, 0.3), 0px 1px 3px 1px rgba(60, 64, 67, 0.15);\n",
              "      fill: #174EA6;\n",
              "    }\n",
              "\n",
              "    [theme=dark] .colab-df-convert {\n",
              "      background-color: #3B4455;\n",
              "      fill: #D2E3FC;\n",
              "    }\n",
              "\n",
              "    [theme=dark] .colab-df-convert:hover {\n",
              "      background-color: #434B5C;\n",
              "      box-shadow: 0px 1px 3px 1px rgba(0, 0, 0, 0.15);\n",
              "      filter: drop-shadow(0px 1px 2px rgba(0, 0, 0, 0.3));\n",
              "      fill: #FFFFFF;\n",
              "    }\n",
              "  </style>\n",
              "\n",
              "      <script>\n",
              "        const buttonEl =\n",
              "          document.querySelector('#df-5356ff77-4527-44c2-bf97-fa3163abfeb8 button.colab-df-convert');\n",
              "        buttonEl.style.display =\n",
              "          google.colab.kernel.accessAllowed ? 'block' : 'none';\n",
              "\n",
              "        async function convertToInteractive(key) {\n",
              "          const element = document.querySelector('#df-5356ff77-4527-44c2-bf97-fa3163abfeb8');\n",
              "          const dataTable =\n",
              "            await google.colab.kernel.invokeFunction('convertToInteractive',\n",
              "                                                     [key], {});\n",
              "          if (!dataTable) return;\n",
              "\n",
              "          const docLinkHtml = 'Like what you see? Visit the ' +\n",
              "            '<a target=\"_blank\" href=https://colab.research.google.com/notebooks/data_table.ipynb>data table notebook</a>'\n",
              "            + ' to learn more about interactive tables.';\n",
              "          element.innerHTML = '';\n",
              "          dataTable['output_type'] = 'display_data';\n",
              "          await google.colab.output.renderOutput(dataTable, element);\n",
              "          const docLink = document.createElement('div');\n",
              "          docLink.innerHTML = docLinkHtml;\n",
              "          element.appendChild(docLink);\n",
              "        }\n",
              "      </script>\n",
              "    </div>\n",
              "  </div>\n",
              "  "
            ]
          },
          "metadata": {},
          "execution_count": 6
        }
      ],
      "source": [
        "from sklearn.preprocessing import StandardScaler #스탠다드 스케일링 사용 \n",
        "scaler = StandardScaler()\n",
        "bias_train = X_train[\"bias\"]\n",
        "bias_train = bias_train.reset_index()[\"bias\"]\n",
        "X_train = pd.DataFrame(scaler.fit_transform(X_train), columns = X_train.columns)\n",
        "X_train[\"bias\"] = bias_train\n",
        "X_train.head()"
      ]
    },
    {
      "cell_type": "markdown",
      "metadata": {
        "id": "xD7L7RwZLMa3"
      },
      "source": [
        "이때 scaler는 X_train에 fit 해주시고, fit한 scaler를 X_test에 적용시켜줍니다.  \n",
        "똑같이 X_test에다 fit하면 안돼요!"
      ]
    },
    {
      "cell_type": "code",
      "execution_count": 7,
      "metadata": {
        "id": "xBsUSCGGLMa3",
        "colab": {
          "base_uri": "https://localhost:8080/",
          "height": 206
        },
        "outputId": "2982f86f-be1f-4f22-82b4-1b989faf9ad2"
      },
      "outputs": [
        {
          "output_type": "execute_result",
          "data": {
            "text/plain": [
              "   bias  experience    salary\n",
              "0     1   -1.344231 -0.615642\n",
              "1     1    0.508570  0.307821\n",
              "2     1   -0.310938  0.571667\n",
              "3     1    1.363709  1.956862\n",
              "4     1   -0.987923 -0.747565"
            ],
            "text/html": [
              "\n",
              "  <div id=\"df-b417c836-9649-4d1a-b066-ec3010119114\">\n",
              "    <div class=\"colab-df-container\">\n",
              "      <div>\n",
              "<style scoped>\n",
              "    .dataframe tbody tr th:only-of-type {\n",
              "        vertical-align: middle;\n",
              "    }\n",
              "\n",
              "    .dataframe tbody tr th {\n",
              "        vertical-align: top;\n",
              "    }\n",
              "\n",
              "    .dataframe thead th {\n",
              "        text-align: right;\n",
              "    }\n",
              "</style>\n",
              "<table border=\"1\" class=\"dataframe\">\n",
              "  <thead>\n",
              "    <tr style=\"text-align: right;\">\n",
              "      <th></th>\n",
              "      <th>bias</th>\n",
              "      <th>experience</th>\n",
              "      <th>salary</th>\n",
              "    </tr>\n",
              "  </thead>\n",
              "  <tbody>\n",
              "    <tr>\n",
              "      <th>0</th>\n",
              "      <td>1</td>\n",
              "      <td>-1.344231</td>\n",
              "      <td>-0.615642</td>\n",
              "    </tr>\n",
              "    <tr>\n",
              "      <th>1</th>\n",
              "      <td>1</td>\n",
              "      <td>0.508570</td>\n",
              "      <td>0.307821</td>\n",
              "    </tr>\n",
              "    <tr>\n",
              "      <th>2</th>\n",
              "      <td>1</td>\n",
              "      <td>-0.310938</td>\n",
              "      <td>0.571667</td>\n",
              "    </tr>\n",
              "    <tr>\n",
              "      <th>3</th>\n",
              "      <td>1</td>\n",
              "      <td>1.363709</td>\n",
              "      <td>1.956862</td>\n",
              "    </tr>\n",
              "    <tr>\n",
              "      <th>4</th>\n",
              "      <td>1</td>\n",
              "      <td>-0.987923</td>\n",
              "      <td>-0.747565</td>\n",
              "    </tr>\n",
              "  </tbody>\n",
              "</table>\n",
              "</div>\n",
              "      <button class=\"colab-df-convert\" onclick=\"convertToInteractive('df-b417c836-9649-4d1a-b066-ec3010119114')\"\n",
              "              title=\"Convert this dataframe to an interactive table.\"\n",
              "              style=\"display:none;\">\n",
              "        \n",
              "  <svg xmlns=\"http://www.w3.org/2000/svg\" height=\"24px\"viewBox=\"0 0 24 24\"\n",
              "       width=\"24px\">\n",
              "    <path d=\"M0 0h24v24H0V0z\" fill=\"none\"/>\n",
              "    <path d=\"M18.56 5.44l.94 2.06.94-2.06 2.06-.94-2.06-.94-.94-2.06-.94 2.06-2.06.94zm-11 1L8.5 8.5l.94-2.06 2.06-.94-2.06-.94L8.5 2.5l-.94 2.06-2.06.94zm10 10l.94 2.06.94-2.06 2.06-.94-2.06-.94-.94-2.06-.94 2.06-2.06.94z\"/><path d=\"M17.41 7.96l-1.37-1.37c-.4-.4-.92-.59-1.43-.59-.52 0-1.04.2-1.43.59L10.3 9.45l-7.72 7.72c-.78.78-.78 2.05 0 2.83L4 21.41c.39.39.9.59 1.41.59.51 0 1.02-.2 1.41-.59l7.78-7.78 2.81-2.81c.8-.78.8-2.07 0-2.86zM5.41 20L4 18.59l7.72-7.72 1.47 1.35L5.41 20z\"/>\n",
              "  </svg>\n",
              "      </button>\n",
              "      \n",
              "  <style>\n",
              "    .colab-df-container {\n",
              "      display:flex;\n",
              "      flex-wrap:wrap;\n",
              "      gap: 12px;\n",
              "    }\n",
              "\n",
              "    .colab-df-convert {\n",
              "      background-color: #E8F0FE;\n",
              "      border: none;\n",
              "      border-radius: 50%;\n",
              "      cursor: pointer;\n",
              "      display: none;\n",
              "      fill: #1967D2;\n",
              "      height: 32px;\n",
              "      padding: 0 0 0 0;\n",
              "      width: 32px;\n",
              "    }\n",
              "\n",
              "    .colab-df-convert:hover {\n",
              "      background-color: #E2EBFA;\n",
              "      box-shadow: 0px 1px 2px rgba(60, 64, 67, 0.3), 0px 1px 3px 1px rgba(60, 64, 67, 0.15);\n",
              "      fill: #174EA6;\n",
              "    }\n",
              "\n",
              "    [theme=dark] .colab-df-convert {\n",
              "      background-color: #3B4455;\n",
              "      fill: #D2E3FC;\n",
              "    }\n",
              "\n",
              "    [theme=dark] .colab-df-convert:hover {\n",
              "      background-color: #434B5C;\n",
              "      box-shadow: 0px 1px 3px 1px rgba(0, 0, 0, 0.15);\n",
              "      filter: drop-shadow(0px 1px 2px rgba(0, 0, 0, 0.3));\n",
              "      fill: #FFFFFF;\n",
              "    }\n",
              "  </style>\n",
              "\n",
              "      <script>\n",
              "        const buttonEl =\n",
              "          document.querySelector('#df-b417c836-9649-4d1a-b066-ec3010119114 button.colab-df-convert');\n",
              "        buttonEl.style.display =\n",
              "          google.colab.kernel.accessAllowed ? 'block' : 'none';\n",
              "\n",
              "        async function convertToInteractive(key) {\n",
              "          const element = document.querySelector('#df-b417c836-9649-4d1a-b066-ec3010119114');\n",
              "          const dataTable =\n",
              "            await google.colab.kernel.invokeFunction('convertToInteractive',\n",
              "                                                     [key], {});\n",
              "          if (!dataTable) return;\n",
              "\n",
              "          const docLinkHtml = 'Like what you see? Visit the ' +\n",
              "            '<a target=\"_blank\" href=https://colab.research.google.com/notebooks/data_table.ipynb>data table notebook</a>'\n",
              "            + ' to learn more about interactive tables.';\n",
              "          element.innerHTML = '';\n",
              "          dataTable['output_type'] = 'display_data';\n",
              "          await google.colab.output.renderOutput(dataTable, element);\n",
              "          const docLink = document.createElement('div');\n",
              "          docLink.innerHTML = docLinkHtml;\n",
              "          element.appendChild(docLink);\n",
              "        }\n",
              "      </script>\n",
              "    </div>\n",
              "  </div>\n",
              "  "
            ]
          },
          "metadata": {},
          "execution_count": 7
        }
      ],
      "source": [
        "bias_test = X_test[\"bias\"]\n",
        "bias_test = bias_test.reset_index()[\"bias\"]\n",
        "X_test = pd.DataFrame(scaler.transform(X_test), columns = X_test.columns)\n",
        "X_test[\"bias\"] = bias_test\n",
        "X_test.head()"
      ]
    },
    {
      "cell_type": "code",
      "execution_count": 8,
      "metadata": {
        "id": "m9sP3nzlLMa4",
        "colab": {
          "base_uri": "https://localhost:8080/"
        },
        "outputId": "a91f061b-eff3-4d15-f854-9b2b8de4a7b0"
      },
      "outputs": [
        {
          "output_type": "execute_result",
          "data": {
            "text/plain": [
              "3"
            ]
          },
          "metadata": {},
          "execution_count": 8
        }
      ],
      "source": [
        "# parameter 개수\n",
        "N = len(X_train.loc[0])\n",
        "N"
      ]
    },
    {
      "cell_type": "code",
      "execution_count": 9,
      "metadata": {
        "id": "qz7xz9dbLMa4",
        "colab": {
          "base_uri": "https://localhost:8080/"
        },
        "outputId": "d816d326-8091-4e7f-aca8-e59703bfe69c"
      },
      "outputs": [
        {
          "output_type": "execute_result",
          "data": {
            "text/plain": [
              "array([0.4124742 , 0.66112588, 0.40243527])"
            ]
          },
          "metadata": {},
          "execution_count": 9
        }
      ],
      "source": [
        "# 초기 parameter들을 임의로 설정해줍니다.\n",
        "parameters = np.array([random.random() for i in range(N)])\n",
        "random_parameters = parameters.copy()\n",
        "parameters"
      ]
    },
    {
      "cell_type": "code",
      "source": [
        "len(parameters)"
      ],
      "metadata": {
        "colab": {
          "base_uri": "https://localhost:8080/"
        },
        "id": "B4NkiMz5qn_J",
        "outputId": "ac1920da-953e-43b8-ed93-7df3910d4209"
      },
      "execution_count": 10,
      "outputs": [
        {
          "output_type": "execute_result",
          "data": {
            "text/plain": [
              "3"
            ]
          },
          "metadata": {},
          "execution_count": 10
        }
      ]
    },
    {
      "cell_type": "markdown",
      "metadata": {
        "id": "QINz-EAKLMa4"
      },
      "source": [
        "### * LaTeX   \n",
        "\n",
        "Jupyter Notebook은 LaTeX 문법으로 수식 입력을 지원하고 있습니다.  \n",
        "LaTeX문법으로 아래의 수식을 완성해주세요  \n",
        "http://triki.net/apps/3466  \n",
        "https://jjycjnmath.tistory.com/117"
      ]
    },
    {
      "cell_type": "markdown",
      "metadata": {
        "id": "D2DsTfXuLMa5"
      },
      "source": [
        "## Dot product\n",
        "## $z = X_i \\theta$\n",
        "- 이는  로지스틱회귀함수(시그모이드함수)에서 exponential function을 취할 z값을 구하는 과정이다. "
      ]
    },
    {
      "cell_type": "code",
      "execution_count": 11,
      "metadata": {
        "id": "2y05lS6xLMa5"
      },
      "outputs": [],
      "source": [
        "def dot_product(X, parameters): #위에서 만든 파라미터값과 X데이터를 곱해주는 함수 \n",
        "  z = 0\n",
        "  for i in range(len(parameters)): #파라미터 개수만큼 \n",
        "    z += X[i] * parameters[i] #곱한 값을 모두 더해준다.사실 이 X데이터를 X_train로 대입하면 오류가 발생한다..하지만 아래에서 1열만 뽑아서 대입할려면 \n",
        "                              #이 문법을 이용해야한다,,,,  \n",
        "  return z #z값 반환 "
      ]
    },
    {
      "cell_type": "markdown",
      "metadata": {
        "id": "fOGPEhtOLMa5"
      },
      "source": [
        "## Logistic Function\n",
        "\n",
        "## $p = 1/(1+e^{-X_i \\theta})$\n",
        "- 시그모이드함수구현과정이다. "
      ]
    },
    {
      "cell_type": "code",
      "execution_count": 12,
      "metadata": {
        "id": "2awM57u5LMa5"
      },
      "outputs": [],
      "source": [
        "def logistic(X, parameters):\n",
        "    z = dot_product(X,parameters)\n",
        "    p = 1/(1+np.exp(-z))\n",
        "    return p"
      ]
    },
    {
      "cell_type": "code",
      "execution_count": 13,
      "metadata": {
        "id": "WVaZEwrdLMa5",
        "colab": {
          "base_uri": "https://localhost:8080/"
        },
        "outputId": "c32ac22b-c570-4062-8810-c7a584e3ed2d"
      },
      "outputs": [
        {
          "output_type": "execute_result",
          "data": {
            "text/plain": [
              "0.7710010434798316"
            ]
          },
          "metadata": {},
          "execution_count": 13
        }
      ],
      "source": [
        "logistic(X_train.iloc[1], parameters)"
      ]
    },
    {
      "cell_type": "markdown",
      "metadata": {
        "id": "E6cXHl8bLMa6"
      },
      "source": [
        "## Object function\n",
        "\n",
        "Object Function : 목적함수는 Gradient Descent를 통해 최적화 하고자 하는 함수입니다.  \n",
        "<br>\n",
        "선형 회귀의 목적함수\n",
        "## $l(\\theta) = \\frac{1}{2}\\Sigma(y_i - \\theta^{T}X_i)^2$  \n",
        "참고) $\\hat{y_i} = \\theta^{T}X_i$\n",
        "  \n",
        "로지스틱 회귀의 목적함수를 작성해주세요  \n",
        "(선형 회귀의 목적함수처럼 강의에 나온대로 작성해주세요. 평균을 고려하는 것은 뒤에 코드에서 수행합니다)\n",
        "## $l(p) =\\Sigma\\{y_i\\log{p(X_i)} + (1-y_i)\\log{(1-p(X_i))}\\}$"
      ]
    },
    {
      "cell_type": "code",
      "execution_count": 14,
      "metadata": {
        "id": "FnGRAur3LMa6"
      },
      "outputs": [],
      "source": [
        "def minus_log_cross_entropy_i(X, y, parameters): #크로스엔트로피 함수 구현 \n",
        "    p = logistic(X,parameters) #예측값은 위에서 구한 로지스틱함수에 대입하여 구함 \n",
        "    loss = (y*np.log(p)+(1-y)*np.log(1-p)) \n",
        "    return -loss #minus함수이므로 반환시에 마이너스 붙여서 반환 "
      ]
    },
    {
      "cell_type": "code",
      "execution_count": 15,
      "metadata": {
        "id": "C922eXYyLMa6"
      },
      "outputs": [],
      "source": [
        "def mse_i(X, y, parameters): #mse구현 함수 \n",
        "  y_hat = np.dot(X, parameters.T) #X의 값과 파라미터값을 내적곱하여 예측값구하기 \n",
        "  loss = ((y - y_hat)**2) / 2 #mse구하기 \n",
        "  return loss "
      ]
    },
    {
      "cell_type": "code",
      "execution_count": 51,
      "metadata": {
        "id": "0j-MhGkyLMa6"
      },
      "outputs": [],
      "source": [
        "def batch_loss(X_set, y_set, parameters, loss_function, n): #n:현재 배치의 데이터 수\n",
        "    loss = 0 #loss초기값 = 0\n",
        "    for i in range(X_set.shape[0]): #현재 배치의 데이터 수만큼 \n",
        "        X = X_set.iloc[i,:] #한 행씩 뜯어내기 \n",
        "        y = y_set.iloc[i] #\n",
        "        loss += loss_function(X,y,parameters) #주어진 loss_function으로 손실값 구하기 \n",
        "    loss = loss/n #loss 평균값으로 계산\n",
        "    return loss"
      ]
    },
    {
      "cell_type": "code",
      "execution_count": 33,
      "metadata": {
        "id": "uSkPS5olLMa7",
        "colab": {
          "base_uri": "https://localhost:8080/"
        },
        "outputId": "42514f63-4b64-45d4-e113-9dfaa1e5a31f"
      },
      "outputs": [
        {
          "output_type": "execute_result",
          "data": {
            "text/plain": [
              "1.0720268948925868"
            ]
          },
          "metadata": {},
          "execution_count": 33
        }
      ],
      "source": [
        "batch_loss(X_test, y_test, parameters, minus_log_cross_entropy_i, len(X_test))"
      ]
    },
    {
      "cell_type": "markdown",
      "metadata": {
        "id": "ACLi9vCyLMa7"
      },
      "source": [
        "## Gradient\n",
        "위의 선형회귀의 목적함수 $l(\\theta)$와 로지스틱회귀의 목적함수 $l(p)$의 gradient를 작성해주세요  \n",
        "(위의 목적함수를 참고해서 작성해주세요 = 평균을 고려하는 것은 뒤에 코드에서 수행합니다)"
      ]
    },
    {
      "cell_type": "markdown",
      "metadata": {
        "id": "caMA-f00LMa7"
      },
      "source": [
        "## ${\\partial\\over{\\partial \\theta_j}}l =  -(p_i-y_i)X_j$\n",
        "\n",
        "\n",
        "## ${\\partial\\over{\\partial \\theta_j}}l(p)= -\\Sigma(y_i - p_i)x_{ij}$"
      ]
    },
    {
      "cell_type": "code",
      "execution_count": 34,
      "metadata": {
        "id": "apZ0Miz5LMa7"
      },
      "outputs": [],
      "source": [
        "def get_gradient_ij(X, y, parameters, j, model):\n",
        "    if model == 'linear': #선형회귀이면 \n",
        "        y_hat = np.dot(X, parameters.T)\n",
        "        gradient = -(y_hat - y)*X[j] #mse미분한 식에 대입 \n",
        "    else: #로지스틱회귀이면 \n",
        "        p =logistic(X,parameters)\n",
        "        gradient = -(np.sum((y-p)*X[j])) #시그모이드 미분식에 대입 \n",
        "    return gradient"
      ]
    },
    {
      "cell_type": "code",
      "execution_count": 35,
      "metadata": {
        "id": "XXBe6q8gLMa7",
        "colab": {
          "base_uri": "https://localhost:8080/"
        },
        "outputId": "eab34a27-4a16-4950-86a2-7420fefdebf9"
      },
      "outputs": [
        {
          "output_type": "execute_result",
          "data": {
            "text/plain": [
              "-0.09035110595798913"
            ]
          },
          "metadata": {},
          "execution_count": 35
        }
      ],
      "source": [
        "get_gradient_ij(X_train.iloc[0,:], y_train.iloc[0], parameters, 1, 'logistic')"
      ]
    },
    {
      "cell_type": "code",
      "execution_count": 20,
      "metadata": {
        "colab": {
          "base_uri": "https://localhost:8080/",
          "height": 35
        },
        "id": "IV2ox2aMFcrI",
        "outputId": "b8f53705-6158-467c-9c05-ed7709a3794c"
      },
      "outputs": [
        {
          "output_type": "execute_result",
          "data": {
            "text/plain": [
              "'\\nfrom IPython.display import Image\\n\\nImage(\"C:/Users/rhskr/Desktop/배치알고리즘_구현.png\")\\n'"
            ],
            "application/vnd.google.colaboratory.intrinsic+json": {
              "type": "string"
            }
          },
          "metadata": {},
          "execution_count": 20
        }
      ],
      "source": [
        "'''\n",
        "from IPython.display import Image\n",
        "\n",
        "Image(\"C:/Users/rhskr/Desktop/배치알고리즘_구현.png\")\n",
        "'''"
      ]
    },
    {
      "cell_type": "markdown",
      "metadata": {
        "id": "C_V90AKoFcrJ"
      },
      "source": []
    },
    {
      "cell_type": "markdown",
      "metadata": {
        "id": "wTfzKh_nLMa7"
      },
      "source": [
        "## Batch Gradient\n",
        "하나의 배치 (X_set, y_set)에 대해 기울기를 구하는 코드를 작성해주세요"
      ]
    },
    {
      "cell_type": "code",
      "execution_count": 38,
      "metadata": {
        "id": "Qby2_X1vLMa7"
      },
      "outputs": [],
      "source": [
        "def batch_gradient(X_set, y_set, parameters, model):\n",
        "    gradients = [0 for _ in range(len(parameters))] #gradients 0으로 초기화 [0,0,0]\n",
        "    \n",
        "    for i in range(X_set.shape[0]): #X데이터의 행 개수만큼 반복 \n",
        "        X = X_set.iloc[i,:] #행한개씩 추출 \n",
        "        y = y_set.iloc[i]\n",
        "        for j in range(len(parameters)):\n",
        "            gradients[j] += get_gradient_ij(X,y,parameters,j,model) #변수에 모델에 따라 gradient계산, 업데이트 ,\n",
        "    \n",
        "    return gradients"
      ]
    },
    {
      "cell_type": "code",
      "execution_count": 41,
      "metadata": {
        "id": "rHxBS5RnLMa8",
        "colab": {
          "base_uri": "https://localhost:8080/"
        },
        "outputId": "58aa0ed7-0062-46f2-e6f4-af80749624d3"
      },
      "outputs": [
        {
          "output_type": "execute_result",
          "data": {
            "text/plain": [
              "[45.05221078281435, 11.93363948972333, 41.40313909422338]"
            ]
          },
          "metadata": {},
          "execution_count": 41
        }
      ],
      "source": [
        "gradients1 = batch_gradient(X_train, y_train, parameters, 'logistic')\n",
        "gradients1"
      ]
    },
    {
      "cell_type": "markdown",
      "metadata": {
        "id": "cQnlDboALMa8"
      },
      "source": [
        "## mini-batch\n",
        "인덱스로 미니 배치 나누기"
      ]
    },
    {
      "cell_type": "code",
      "execution_count": 42,
      "metadata": {
        "id": "LgnfT6eHLMa8"
      },
      "outputs": [],
      "source": [
        "def batch_idx(X_train, batch_size):\n",
        "    N = len(X_train)\n",
        "    nb = (N // batch_size)+1 #number of batch\n",
        "    idx = np.array([i for i in range(N)])\n",
        "    idx_list = [idx[i*batch_size:(i+1)*batch_size] for i in range(nb) if len(idx[i*batch_size:(i+1)*batch_size]) != 0]\n",
        "    return idx_list"
      ]
    },
    {
      "cell_type": "markdown",
      "metadata": {
        "id": "9S9fk1UTLMa8"
      },
      "source": [
        "batch_idx 함수에 대한 설명을 batch_size와 함께 간략하게 작성해주세요  \n",
        "### 설명: X데이터의 길이를 입력받은 batch size로 나눈값에 +1을 더해 실행횟수(nb)를 구한다. 데이터의 길이만큼 0부터 채워진 숫자행렬(idx)를 만든다. idx_list는 idx안의 값을 입력받은 batchsize만큼 잘라 그룹화한 배열을 담은 리스트이다. 길이가 0이 되지 않을때까지 담는다. 만약 idx가 [0,1,2,3,4,5]이고 배치사이즈가 2라면  idx_list는 [[0,1].[2,3],[4,5]]가 된다. "
      ]
    },
    {
      "cell_type": "markdown",
      "metadata": {
        "id": "4pMuZbkQLMa8"
      },
      "source": [
        "## Update Parameters\n",
        "기울기를 갱신하는 코드를 작성해주세요  \n",
        "(loss와 마찬가지로 기울기를 갱신할 때 배치 사이즈를 고려해 평균으로 갱신해주세요)"
      ]
    },
    {
      "cell_type": "code",
      "execution_count": 44,
      "metadata": {
        "id": "loeL51rPLMa8"
      },
      "outputs": [],
      "source": [
        "def step(parameters, gradients, learning_rate, n): #n:현재 배치의 데이터 수\n",
        "    for i in range(len(parameters)):\n",
        "        gradients[i] *= learning_rate/n #gradients는 주어진 학습률을 곱해 업데이트한다. 단, 배치사이즈를 고려해 n으로 나눈값을 곱해준다. \n",
        "    \n",
        "    parameters -= gradients\n",
        "    return parameters"
      ]
    },
    {
      "cell_type": "code",
      "execution_count": 45,
      "metadata": {
        "id": "NLB2dUVTLMa8",
        "colab": {
          "base_uri": "https://localhost:8080/"
        },
        "outputId": "d341ecc2-0f46-48c2-fbb8-8889ed3c474a"
      },
      "outputs": [
        {
          "output_type": "execute_result",
          "data": {
            "text/plain": [
              "array([0.40646231, 0.65953128, 0.39691049])"
            ]
          },
          "metadata": {},
          "execution_count": 45
        }
      ],
      "source": [
        "step(parameters, gradients1, 0.01, len(X_train)) "
      ]
    },
    {
      "cell_type": "markdown",
      "metadata": {
        "id": "RX8RJFd_LMa9"
      },
      "source": [
        "## Gradient Descent\n",
        "위에서 작성한 함수들을 조합해서 경사하강법 함수를 완성해주세요\n",
        "\n",
        "- learning_rate: 학습률  \n",
        "- tolerance: Step이 너무 작아서 더 이상의 학습이 무의미할 때 학습을 멈추는 조건  \n",
        "- batch: 기울기를 1번 갱신할 때 사용하는 데이터셋  \n",
        "- epoch: 현재 반복 횟수 \n",
        "- num_epoch: 총 반복 횟수 \n",
        "<br>\n",
        "\n",
        "BGD: 학습 한번에 모든 데이터셋을 사용하여 기울기를 업데이트함  \n",
        "SGD: 학습 한번에 임의의 1개의 데이터만 사용하여 기울기를 업데이트함  \n",
        "MGD: 학습 한번에 데이터셋의 일부만 사용하여 기울기를 업데이트함 \n",
        "<br>\n",
        "batch_size에 따른 경사하강법의 종류를 적어주세요  \n",
        "batch_size=1 -> SGD \n",
        "batch_size=k -> MGD  \n",
        "batch_size=whole -> BGD  "
      ]
    },
    {
      "cell_type": "code",
      "source": [
        "X_train.iloc[0]"
      ],
      "metadata": {
        "colab": {
          "base_uri": "https://localhost:8080/"
        },
        "id": "ADqQ6NYj_o_M",
        "outputId": "c2708ca4-3113-4e55-9238-8a9a03fae6c9"
      },
      "execution_count": 48,
      "outputs": [
        {
          "output_type": "execute_result",
          "data": {
            "text/plain": [
              "bias          1.000000\n",
              "experience    0.187893\n",
              "salary       -1.143335\n",
              "Name: 0, dtype: float64"
            ]
          },
          "metadata": {},
          "execution_count": 48
        }
      ]
    },
    {
      "cell_type": "code",
      "execution_count": 52,
      "metadata": {
        "id": "ZGbnVHbbLMa9"
      },
      "outputs": [],
      "source": [
        "def gradient_descent(X_train, y_train,learning_rate = 0.1, num_epoch = 1000, tolerance = 0.00001, model = 'logistic', batch_size = 16):\n",
        "    stopper = False \n",
        "    \n",
        "    N = len(X_train.iloc[0]) #열길이 \n",
        "    parameters = np.random.rand(N) #열길이 만큼의 파라미터 랜덤하게 설정 \n",
        "    loss_function = minus_log_cross_entropy_i if model == 'logistic' else mse_i #각 모델에 맞는 loss_function설정 \n",
        "    loss = 999\n",
        "    batch_idx_list = batch_idx(X_train, batch_size) #배치사이즈에 맞게 X_train을 나누어 각 세트를 생성 \n",
        "    \n",
        "    for epoch in range(num_epoch):\n",
        "        if stopper: #stopper가 True가 되면 멈춤 \n",
        "            break\n",
        "        for idx in batch_idx_list: #각 세트마다 실행 \n",
        "            X_batch = X_train.iloc[idx,]\n",
        "            y_batch = y_train.iloc[idx]\n",
        "            gradients = batch_gradient(X_batch, y_batch, parameters, model) #모델에 따른 gradient구하기 \n",
        "            parameters = step(parameters, gradients, learning_rate, batch_size) #학습률에 따라 gradient업데이트 \n",
        "            new_loss = batch_loss(X_batch, y_batch, parameters, loss_function, batch_size) #업데이트된 gradient로 손실 다시 계산 \n",
        "            \n",
        "            #중단 조건\n",
        "            if abs(new_loss - loss) < tolerance: #기존 손실과 새로구한 손실의 차가 tolerance보다 작아지면 멈추기 \n",
        "                stopper = True\n",
        "                break\n",
        "            loss = new_loss\n",
        "        \n",
        "        #100epoch마다 학습 상태 출력\n",
        "        if epoch%100 == 0: #출력이 길게 나오면 check point를 수정해도 됩니다.\n",
        "            print(f\"epoch: {epoch}  loss: {new_loss}  params: {parameters}  gradients: {gradients}\")\n",
        "    \n",
        "    return parameters"
      ]
    },
    {
      "cell_type": "markdown",
      "metadata": {
        "id": "3CTtc3eiLMa9"
      },
      "source": [
        "## Implement\n",
        "경사하강법 함수를 이용해 최적의 모수 찾아보세요. 학습을 진행할 때, Hyper Parameter를 바꿔가면서 학습시켜보세요."
      ]
    },
    {
      "cell_type": "markdown",
      "metadata": {
        "id": "KnUpYC7_LMa9"
      },
      "source": [
        "## Logistic Regression"
      ]
    },
    {
      "cell_type": "code",
      "execution_count": 53,
      "metadata": {
        "id": "-LS6o3aeLMa-",
        "colab": {
          "base_uri": "https://localhost:8080/"
        },
        "outputId": "899274d1-ec3f-4630-fa7d-8f2a2772553e"
      },
      "outputs": [
        {
          "output_type": "stream",
          "name": "stdout",
          "text": [
            "epoch: 0  loss: 0.4762352742340976  params: [-0.02417868  0.68959289  0.53538638]  gradients: [0.02076183388180268, 0.01973254029241096, 0.025322567969645465]\n",
            "epoch: 100  loss: 0.08220681838100412  params: [-1.48804839  3.00926332 -2.87138546]  gradients: [0.003354836483366668, 0.004764118221685121, 0.006113562546638625]\n",
            "epoch: 200  loss: 0.0707842704486157  params: [-1.68722736  3.66437919 -3.48518741]  gradients: [0.0031841085572388173, 0.0046584468463331885, 0.005579342558094495]\n",
            "epoch: 300  loss: 0.06675339749122423  params: [-1.77496747  3.9490285  -3.74927694]  gradients: [0.0031409656246797015, 0.004629084259520066, 0.005395429557614825]\n",
            "epoch: 400  loss: 0.06492381829224998  params: [-1.81891319  4.09099948 -3.88043354]  gradients: [0.0031247978132224337, 0.004617533511031685, 0.005313012392485212]\n",
            "epoch: 500  loss: 0.06400416819037406  params: [-1.84212843  4.16585897 -3.94944508]  gradients: [0.0031175168729930466, 0.004612187266162743, 0.005271862056935583]\n",
            "epoch: 600  loss: 0.06351866335409627  params: [-1.85471181  4.20639735 -3.98677535]  gradients: [0.0031139064230102137, 0.0046094944633841076, 0.0052502164429122904]\n",
            "epoch: 700  loss: 0.06325577429741157  params: [-1.86162375  4.22865377 -4.00725821]  gradients: [0.0031120194844531605, 0.004608074602805111, 0.005238519136418995]\n",
            "epoch: 800  loss: 0.06311148056325575  params: [-1.86544757  4.24096319 -4.01858302]  gradients: [0.0031110042213446697, 0.004607306828001633, 0.005232105800998393]\n",
            "epoch: 900  loss: 0.06303169213659038  params: [-1.86757124  4.24779855 -4.0248705 ]  gradients: [0.003110449060659556, 0.004606885819613974, 0.0052285616542238345]\n"
          ]
        },
        {
          "output_type": "execute_result",
          "data": {
            "text/plain": [
              "array([-1.86874448,  4.25157452, -4.02834347])"
            ]
          },
          "metadata": {},
          "execution_count": 53
        }
      ],
      "source": [
        "new_param_bgd = gradient_descent(X_train, y_train,learning_rate = 0.1, num_epoch = 1000, tolerance = 0.00001, model = 'logistic', batch_size = 16)\n",
        "new_param_bgd"
      ]
    },
    {
      "cell_type": "code",
      "execution_count": 54,
      "metadata": {
        "id": "x0H5tnauLMa-",
        "colab": {
          "base_uri": "https://localhost:8080/"
        },
        "outputId": "850efb01-d6ae-4fb2-c009-4c6cd6d9c678"
      },
      "outputs": [
        {
          "output_type": "stream",
          "name": "stdout",
          "text": [
            "epoch: 0  loss: 0.23662490068395697  params: [-0.39349108  0.15418119  0.03659795]  gradients: [0.03361159298063577, 0.03166945646001081, 0.04728343824163752]\n",
            "epoch: 100  loss: 0.06573921161036822  params: [-1.78459045  3.94122509 -3.75633214]  gradients: [0.009443044984566848, 0.013928996261249204, 0.016231098645656025]\n",
            "epoch: 200  loss: 0.06253244648062255  params: [-1.86449743  4.19631672 -3.99147374]  gradients: [0.009349465432519131, 0.013855833828685197, 0.01578661971093602]\n",
            "epoch: 300  loss: 0.06205219114091798  params: [-1.87729453  4.23708778 -4.02895281]  gradients: [0.009337339283487539, 0.01384591808048057, 0.015720723053074946]\n",
            "epoch: 400  loss: 0.06197117179945051  params: [-1.8794767   4.24403801 -4.03533905]  gradients: [0.00933534334729242, 0.013844273464353454, 0.015709624440170544]\n",
            "epoch: 500  loss: 0.06195724224060564  params: [-1.87985256  4.24523508 -4.03643891]  gradients: [0.009335001640823905, 0.01384399153355893, 0.015707716802535493]\n",
            "epoch: 600  loss: 0.06195483960239511  params: [-1.87991742  4.24544162 -4.03662867]  gradients: [0.009334942744747263, 0.013843942929304234, 0.01570738777975385]\n",
            "epoch: 700  loss: 0.06195442495312586  params: [-1.87992861  4.24547727 -4.03666142]  gradients: [0.009334932581697972, 0.013843934541872964, 0.015707330997204998]\n",
            "epoch: 800  loss: 0.06195435338574938  params: [-1.87993054  4.24548342 -4.03666708]  gradients: [0.009334930827620568, 0.013843933094246105, 0.015707321196700055]\n",
            "epoch: 900  loss: 0.061954341033203235  params: [-1.87993087  4.24548448 -4.03666805]  gradients: [0.009334930524867517, 0.013843932844385991, 0.015707319505130983]\n"
          ]
        },
        {
          "output_type": "execute_result",
          "data": {
            "text/plain": [
              "array([-1.87993093,  4.24548467, -4.03666822])"
            ]
          },
          "metadata": {},
          "execution_count": 54
        }
      ],
      "source": [
        "new_param_sgd = gradient_descent(X_train, y_train, learning_rate = 0.3, num_epoch = 1000, tolerance = 0.00001, model = 'logistic', batch_size = 16)\n",
        "new_param_sgd"
      ]
    },
    {
      "cell_type": "code",
      "execution_count": 57,
      "metadata": {
        "id": "iGfXGoJaLMa-",
        "colab": {
          "base_uri": "https://localhost:8080/"
        },
        "outputId": "17c36099-f232-456f-e5bf-e74f1b192445"
      },
      "outputs": [
        {
          "output_type": "stream",
          "name": "stdout",
          "text": [
            "epoch: 0  loss: 0.16380044255615772  params: [-0.65476382  0.73496666 -0.74371569]  gradients: [0.050846611997115314, 0.051509175947700415, 0.07676614501341193]\n",
            "epoch: 100  loss: 0.06070172416700299  params: [-1.88677221  4.19271892 -4.01235279]  gradients: [0.020267610581253277, 0.030110067023914687, 0.0342876589767558]\n",
            "epoch: 200  loss: 0.060313410102917825  params: [-1.89736468  4.22579774 -4.04268517]  gradients: [0.02024025787168611, 0.030085535102552654, 0.03416617538687054]\n",
            "epoch: 300  loss: 0.06030512681804548  params: [-1.8975923   4.22650849 -4.04333673]  gradients: [0.020239682936708803, 0.030085016643641063, 0.03416358738353579]\n",
            "epoch: 400  loss: 0.06030494731777122  params: [-1.89759723  4.22652389 -4.04335085]  gradients: [0.020239670481722247, 0.03008500541079475, 0.03416353130262431]\n",
            "epoch: 500  loss: 0.06030494342665102  params: [-1.89759734  4.22652423 -4.04335116]  gradients: [0.020239670211730943, 0.03008500516729561, 0.03416353008693015]\n",
            "epoch: 600  loss: 0.060304943342300465  params: [-1.89759734  4.22652424 -4.04335116]  gradients: [0.02023967020587816, 0.03008500516201712, 0.03416353006057671]\n",
            "epoch: 700  loss: 0.06030494334047204  params: [-1.89759734  4.22652424 -4.04335116]  gradients: [0.020239670205751254, 0.03008500516190266, 0.03416353006000542]\n",
            "epoch: 800  loss: 0.0603049433404324  params: [-1.89759734  4.22652424 -4.04335116]  gradients: [0.020239670205748506, 0.03008500516190018, 0.034163530059993036]\n",
            "epoch: 900  loss: 0.060304943340431884  params: [-1.89759734  4.22652424 -4.04335116]  gradients: [0.020239670205748454, 0.030085005161900134, 0.034163530059992855]\n"
          ]
        },
        {
          "output_type": "execute_result",
          "data": {
            "text/plain": [
              "array([-1.89759734,  4.22652424, -4.04335116])"
            ]
          },
          "metadata": {},
          "execution_count": 57
        }
      ],
      "source": [
        "new_param_mgd = gradient_descent(X_train, y_train,learning_rate = 0.65, num_epoch = 1000, tolerance = 0.00001, model = 'logistic', batch_size = 16)\n",
        "new_param_mgd"
      ]
    },
    {
      "cell_type": "markdown",
      "metadata": {
        "id": "k0oCaZ0tLMa-"
      },
      "source": [
        "### Predict Label"
      ]
    },
    {
      "cell_type": "code",
      "execution_count": 58,
      "metadata": {
        "id": "syJE3oiNLMa-"
      },
      "outputs": [],
      "source": [
        "y_predict = []\n",
        "for i in range(len(y_test)):\n",
        "    p = logistic(X_test.iloc[i,:], new_param_bgd) #최종 업데이트된 parameters과 테스트데이터의 예측값(확률값)구하기 \n",
        "    if p> 0.5 : #확률이 0.5보다 높다면 \n",
        "        y_predict.append(1) #예측리스트에 1추가(1로 예측하겠다는 뜻 )\n",
        "    else :\n",
        "        y_predict.append(0)\n",
        "y_predict_random = []\n",
        "for i in range(len(y_test)):\n",
        "    p = logistic(X_test.iloc[i,:], random_parameters) #랜덤하게 설정한 파라미터로 예측값 구하기 \n",
        "    if p> 0.5 :\n",
        "        y_predict_random.append(1) #확률이 0.5보다 높다면 1추가 \n",
        "    else :\n",
        "        y_predict_random.append(0)"
      ]
    },
    {
      "cell_type": "markdown",
      "metadata": {
        "id": "pZKpFItfLMa-"
      },
      "source": [
        "### Confusion Matrix"
      ]
    },
    {
      "cell_type": "code",
      "execution_count": 59,
      "metadata": {
        "id": "W4E1PgX5LMa-"
      },
      "outputs": [],
      "source": [
        "from sklearn.metrics import *"
      ]
    },
    {
      "cell_type": "code",
      "execution_count": 60,
      "metadata": {
        "id": "-veTwxu4LMa-",
        "colab": {
          "base_uri": "https://localhost:8080/"
        },
        "outputId": "95bc0918-1715-480c-cf79-fc47d539021e"
      },
      "outputs": [
        {
          "output_type": "execute_result",
          "data": {
            "text/plain": [
              "array([[38,  2],\n",
              "       [ 1,  9]])"
            ]
          },
          "metadata": {},
          "execution_count": 60
        }
      ],
      "source": [
        "tn, fp, fn, tp = confusion_matrix(y_test, y_predict).ravel() #실제 y값과 구한 예측값의 혼동핼영 구하기 \n",
        "confusion_matrix(y_test, y_predict)"
      ]
    },
    {
      "cell_type": "code",
      "execution_count": 62,
      "metadata": {
        "id": "h4_dW9rDLMa_",
        "colab": {
          "base_uri": "https://localhost:8080/"
        },
        "outputId": "1a4b07a7-439c-4a1e-cb6a-8cdbf253d42b"
      },
      "outputs": [
        {
          "output_type": "stream",
          "name": "stdout",
          "text": [
            "accuracy: 0.94\n"
          ]
        }
      ],
      "source": [
        "accuracy = (tp+tn) / (tp+fn+fp+tn) #정확도 공식 \n",
        "print(\"accuracy:\",accuracy) #위의 혼동행렬 값으로 정확도 구하기 "
      ]
    },
    {
      "cell_type": "markdown",
      "metadata": {
        "id": "XIgqa85aLMa_"
      },
      "source": [
        "## Linear regression\n",
        "### $y = 0.5 + 2.7x$"
      ]
    },
    {
      "cell_type": "markdown",
      "metadata": {
        "id": "qYeIg9QNLMa_"
      },
      "source": [
        "### Data"
      ]
    },
    {
      "cell_type": "code",
      "execution_count": 67,
      "metadata": {
        "id": "nv8-yhszLMa_"
      },
      "outputs": [],
      "source": [
        "raw_X = np.random.rand(150) #X의 값 랜덤하게 150개 생성 \n",
        "y = 2.7*raw_X + 0.5 + np.random.randn(150) #위의 회귀방정식에 대입하여 y값 구하기 "
      ]
    },
    {
      "cell_type": "code",
      "execution_count": 70,
      "metadata": {
        "id": "07XtxLGWLMa_"
      },
      "outputs": [],
      "source": [
        "tmp = np.array([1 for _ in range(150)])#1이 150개 담긴 배열 생성(X데이터에 상수항 결합을 위함) \n",
        "X = np.vstack((tmp, raw_X)).T #tmp배열과 raw_X배열을 새로로 결합해주고 전치해준다. \n",
        "X = pd.DataFrame(X)\n",
        "y = pd.Series(y)"
      ]
    },
    {
      "cell_type": "markdown",
      "metadata": {
        "id": "6oENC02TLMa_"
      },
      "source": [
        "### Estimation"
      ]
    },
    {
      "cell_type": "code",
      "execution_count": 71,
      "metadata": {
        "id": "fu578YrKLMa_",
        "colab": {
          "base_uri": "https://localhost:8080/"
        },
        "outputId": "6d916d90-8427-4100-c91d-83a6d4177d78"
      },
      "outputs": [
        {
          "output_type": "execute_result",
          "data": {
            "text/plain": [
              "array([0.14405291, 3.26789519])"
            ]
          },
          "metadata": {},
          "execution_count": 71
        }
      ],
      "source": [
        "#정규방정식\n",
        "theta = np.linalg.inv(np.dot(X.T,X)).dot(X.T).dot(y) #행렬식형태로 계산하여 선형회귀방정식의 계수를 구한다. \n",
        "theta"
      ]
    },
    {
      "cell_type": "code",
      "execution_count": 72,
      "metadata": {
        "id": "M74iqj4WLMa_",
        "colab": {
          "base_uri": "https://localhost:8080/"
        },
        "outputId": "c7cf964b-2329-4f8b-8964-10a76c8b50b2"
      },
      "outputs": [
        {
          "output_type": "stream",
          "name": "stdout",
          "text": [
            "epoch: 0  loss: 2415.158842009439  params: [-82.92188446 -47.44252336]  gradients: [16.920806921335075, 10.200633175815861]\n"
          ]
        },
        {
          "output_type": "stream",
          "name": "stderr",
          "text": [
            "<ipython-input-51-4a6799a7a379>:6: RuntimeWarning: overflow encountered in double_scalars\n",
            "  loss += loss_function(X,y,parameters) #주어진 loss_function으로 손실값 구하기\n",
            "<ipython-input-52-12d112818a5d>:21: RuntimeWarning: invalid value encountered in double_scalars\n",
            "  if abs(new_loss - loss) < tolerance: #기존 손실과 새로구한 손실의 차가 tolerance보다 작아지면 멈추기\n",
            "<ipython-input-15-a650869e1ce8>:3: RuntimeWarning: overflow encountered in double_scalars\n",
            "  loss = ((y - y_hat)**2) / 2 #mse구하기\n"
          ]
        },
        {
          "output_type": "stream",
          "name": "stdout",
          "text": [
            "epoch: 100  loss: inf  params: [-2.32758633e+206 -1.32061737e+206]  gradients: [4.645594984351486e+205, 2.7998365543154497e+205]\n"
          ]
        },
        {
          "output_type": "stream",
          "name": "stderr",
          "text": [
            "<ipython-input-38-37e25bedbab4>:8: RuntimeWarning: overflow encountered in double_scalars\n",
            "  gradients[j] += get_gradient_ij(X,y,parameters,j,model) #변수에 모델에 따라 gradient계산, 업데이트\n"
          ]
        },
        {
          "output_type": "stream",
          "name": "stdout",
          "text": [
            "epoch: 200  loss: inf  params: [-inf -inf]  gradients: [inf, inf]\n",
            "epoch: 300  loss: inf  params: [-inf -inf]  gradients: [inf, inf]\n",
            "epoch: 400  loss: inf  params: [-inf -inf]  gradients: [inf, inf]\n",
            "epoch: 500  loss: inf  params: [-inf -inf]  gradients: [inf, inf]\n",
            "epoch: 600  loss: inf  params: [-inf -inf]  gradients: [inf, inf]\n",
            "epoch: 700  loss: inf  params: [-inf -inf]  gradients: [inf, inf]\n",
            "epoch: 800  loss: inf  params: [-inf -inf]  gradients: [inf, inf]\n",
            "epoch: 900  loss: inf  params: [-inf -inf]  gradients: [inf, inf]\n"
          ]
        },
        {
          "output_type": "execute_result",
          "data": {
            "text/plain": [
              "array([-inf, -inf])"
            ]
          },
          "metadata": {},
          "execution_count": 72
        }
      ],
      "source": [
        "#경사하강법\n",
        "new_param = gradient_descent(X, y, learning_rate = 0.5, num_epoch = 1000, tolerance = 0.00001, model = 'linear', batch_size = 16) #model을 선형회귀로 하여 경사하강법을 이용하여 계수구하기 \n",
        "new_param"
      ]
    },
    {
      "cell_type": "code",
      "execution_count": 73,
      "metadata": {
        "id": "Ii3zBOwSLMa_"
      },
      "outputs": [],
      "source": [
        "y_hat_NE = theta.dot(X.T) #정규방정식으로 구한 파라미터로 예측값 구하기 \n",
        "y_hat_GD = new_param.dot(X.T) #경사하강법으로 구한 파라미터로 예측값 구하기 "
      ]
    },
    {
      "cell_type": "markdown",
      "metadata": {
        "id": "oCVynFSPLMbA"
      },
      "source": [
        "### Visualization\n",
        "시각화를 통해 정규방정식과 경사하강법을 통한 선형회귀를 비교해보세요  \n",
        "(밑의 코드를 실행만 시키면 됩니다. 추가 코드 x)"
      ]
    },
    {
      "cell_type": "code",
      "execution_count": 74,
      "metadata": {
        "id": "UoEACrbYLMbA",
        "colab": {
          "base_uri": "https://localhost:8080/",
          "height": 265
        },
        "outputId": "d3438c12-b1b3-480c-89bc-8c878f31e901"
      },
      "outputs": [
        {
          "output_type": "display_data",
          "data": {
            "text/plain": [
              "<Figure size 432x288 with 1 Axes>"
            ],
            "image/png": "[encoded data removed]"
          },
          "metadata": {
            "needs_background": "light"
          }
        }
      ],
      "source": [
        "import matplotlib.pyplot as plt\n",
        "plt.plot(X.iloc[:,1], y, '.k') #산점도\n",
        "plt.plot(X.iloc[:,1], y_hat_NE, '-b', label = 'NE') #정규방정식\n",
        "plt.plot(X.iloc[:,1], y_hat_GD, '-r', label = 'GD') #경사하강법\n",
        "plt.legend()\n",
        "plt.show()"
      ]
    },
    {
      "cell_type": "code",
      "execution_count": null,
      "metadata": {
        "id": "ijgIcAdGLMbA"
      },
      "outputs": [],
      "source": []
    }
  ],
  "metadata": {
    "colab": {
      "provenance": []
    },
    "kernelspec": {
      "display_name": "Python 3",
      "language": "python",
      "name": "python3"
    },
    "language_info": {
      "codemirror_mode": {
        "name": "ipython",
        "version": 3
      },
      "file_extension": ".py",
      "mimetype": "text/x-python",
      "name": "python",
      "nbconvert_exporter": "python",
      "pygments_lexer": "ipython3",
      "version": "3.8.8"
    }
  },
  "nbformat": 4,
  "nbformat_minor": 0
}